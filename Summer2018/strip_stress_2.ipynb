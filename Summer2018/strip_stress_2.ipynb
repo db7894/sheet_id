{
 "cells": [
  {
   "cell_type": "code",
   "execution_count": 1,
   "metadata": {
    "collapsed": true
   },
   "outputs": [],
   "source": [
    "import numpy as np\n",
    "from scipy.spatial.distance import cdist\n",
    "from scipy import ndimage\n",
    "from scipy import signal\n",
    "from scipy.stats import linregress\n",
    "from scipy.signal import convolve2d, gaussian, argrelextrema\n",
    "from scipy.interpolate import interp1d\n",
    "from sklearn.preprocessing import normalize\n",
    "from skimage.transform import rotate\n",
    "import matplotlib.pyplot as plt\n",
    "import matplotlib.patches as patches\n",
    "import pickle as cPickle\n",
    "import librosa\n",
    "import glob\n",
    "import re\n",
    "import sys\n",
    "import os\n",
    "import mido\n",
    "from mido import MidiFile\n",
    "import cv2\n",
    "import PIL\n",
    "from PIL import Image"
   ]
  },
  {
   "cell_type": "code",
   "execution_count": 2,
   "metadata": {
    "collapsed": true
   },
   "outputs": [],
   "source": [
    "def importImage(pngfile):\n",
    "    img = ndimage.imread(pngfile, flatten=True)\n",
    "    img = 1 - img/255.0 # make white -> 0, black -> 1\n",
    "    return img"
   ]
  },
  {
   "cell_type": "code",
   "execution_count": 3,
   "metadata": {
    "collapsed": true
   },
   "outputs": [],
   "source": [
    "def showImage(X, sz = (12,12)):\n",
    "    plt.figure(figsize=sz)\n",
    "    plt.imshow(1-X, cmap='gray')"
   ]
  },
  {
   "cell_type": "code",
   "execution_count": 4,
   "metadata": {
    "collapsed": true
   },
   "outputs": [],
   "source": [
    "def rotateToHorizontal(img, lb=-.5, ub=.5, incr=.02, topN=40):\n",
    "    bestscore = -np.inf\n",
    "    bestTheta = 0\n",
    "    for theta in np.arange(lb, ub, incr):\n",
    "        imgRot = rotate(img,theta)\n",
    "        rsums = np.sum(imgRot, axis=1)\n",
    "        rsums_sorted = sorted(rsums)[::-1]\n",
    "        curscore = np.sum(rsums_sorted[0:topN])\n",
    "        if curscore > bestscore:\n",
    "            bestscore = curscore\n",
    "            bestTheta = theta\n",
    "    result = rotate(img,bestTheta)\n",
    "    return result, bestTheta"
   ]
  },
  {
   "cell_type": "code",
   "execution_count": 5,
   "metadata": {
    "collapsed": true
   },
   "outputs": [],
   "source": [
    "def getBoundingBox(img, thresh=.01, buff=0.05):\n",
    "    r = img.shape[0]\n",
    "    c = img.shape[1]\n",
    "    \n",
    "    cmeans = np.mean(img, axis=0)\n",
    "    cmean_thresh = np.max(cmeans) * thresh\n",
    "    cidxs_above = np.argwhere(cmeans > cmean_thresh)\n",
    "    col_start = cidxs_above[0][0]\n",
    "    col_end = cidxs_above[-1][0]\n",
    "    \n",
    "    rmeans = np.mean(img, axis=1)\n",
    "    rmean_thresh = np.max(rmeans) * thresh\n",
    "    ridxs_above = np.argwhere(rmeans > rmean_thresh)\n",
    "    row_start = ridxs_above[0][0]\n",
    "    row_end = ridxs_above[-1][0]\n",
    "    \n",
    "    # add buffer to ignore clefs\n",
    "    bufflen = np.int((col_end - col_start) * buff)\n",
    "    col_start_adj = col_start + bufflen\n",
    "    \n",
    "    return (row_start, col_start_adj), col_end - col_start_adj, row_end - row_start"
   ]
  },
  {
   "cell_type": "code",
   "execution_count": 6,
   "metadata": {
    "collapsed": true
   },
   "outputs": [],
   "source": [
    "def showImageWithBB(X, loc, w, h, sz=(12,12)):\n",
    "    fig = plt.figure(figsize=sz)\n",
    "    plt.imshow(1-X, cmap='gray')\n",
    "    ax = fig.gca()\n",
    "    rect = patches.Rectangle((loc[1],loc[0]), w, h, linewidth=1,edgecolor='r',facecolor='none')\n",
    "    ax.add_patch(rect)\n",
    "    plt.show()"
   ]
  },
  {
   "cell_type": "code",
   "execution_count": 7,
   "metadata": {
    "collapsed": true
   },
   "outputs": [],
   "source": [
    "def getCropped(X, thresh=0.01):\n",
    "    ll, w, h = getBoundingBox(X, thresh=thresh)\n",
    "    return X[ll[0]:ll[0]+h,ll[1]:ll[1]+w]"
   ]
  },
  {
   "cell_type": "code",
   "execution_count": 8,
   "metadata": {
    "collapsed": true
   },
   "outputs": [],
   "source": [
    "def getStripBoundaries(X, showPlot = False, debug=False):\n",
    "    # find staves\n",
    "    filt = np.vstack((np.ones(21),np.zeros(21),-1*np.ones(21))) # emphasize horizontal lines\n",
    "    Xfilt = signal.convolve2d(X-np.mean(X), filt, mode='same')\n",
    "    rsum = np.sum(Xfilt, axis=1)\n",
    "    rsum_spectra = librosa.core.stft(rsum,n_fft=32,hop_length=1) # look for high frequency oscillations\n",
    "    spectra_max = np.max(rsum_spectra[4:10,:], axis=0)\n",
    "    spectra_max_smoothed = np.convolve(spectra_max,np.hanning(15),'same')\n",
    "    peakidxs = signal.find_peaks_cwt(spectra_max_smoothed, range(15,41,1))\n",
    "    #assert(len(peakidxs) % 2 == 0)\n",
    "    \n",
    "    if debug:\n",
    "        print(\"X filter:\")\n",
    "        plt.imshow(Xfilt)\n",
    "        print(\"rsum is: \" +  str(rsum))\n",
    "        print(\"rsum spectra: \" + str(rsum_spectra))\n",
    "        print(\"spectra max: \" + str(spectra_max))\n",
    "        print(\"num peak ids: \" + str(len(peakidxs)))\n",
    "    \n",
    "    # determine boundaries\n",
    "    numStrips = np.int(len(peakidxs))\n",
    "    boundaries = []\n",
    "    for i in range(numStrips):\n",
    "        peak1idx = peakidxs[i]\n",
    "        if i >= (numStrips - 1):\n",
    "            break\n",
    "        peak2idx = peakidxs[i+1]\n",
    "        midpt = np.int((peak1idx + peak2idx)/2.0)\n",
    "        boundaries.append(midpt)\n",
    "    boundaries.insert(0, 0)  # for first strip\n",
    "    boundaries.append(X.shape[0]-1) # for last strip\n",
    "    # we might skip some\n",
    "    if debug:\n",
    "        print(\"num boundaries: \" + str(len(boundaries)))\n",
    "    \n",
    "    # show peak picking results (for debugging)\n",
    "    if showPlot:\n",
    "        plt.plot(spectra_max_smoothed)\n",
    "        for pk in peakidxs:\n",
    "            plt.axvline(x=pk, color='r', linewidth=1)\n",
    "            \n",
    "    return boundaries"
   ]
  },
  {
   "cell_type": "code",
   "execution_count": 9,
   "metadata": {
    "collapsed": true
   },
   "outputs": [],
   "source": [
    "def visualizeBoundaries(X, bnds, savefile = None):\n",
    "    showImage(X)\n",
    "    for bnd in bnds:\n",
    "        plt.axhline(y=bnd, color='r', linewidth=1)\n",
    "    if savefile:\n",
    "        plt.savefig(savefile)"
   ]
  },
  {
   "cell_type": "code",
   "execution_count": 10,
   "metadata": {
    "collapsed": true
   },
   "outputs": [],
   "source": [
    "def getStrips(X, bnds, debug=False):\n",
    "    strips = []\n",
    "    print(\"num bounds: \" + str(len(bnds)))\n",
    "    for i in range(len(bnds)-1):\n",
    "        rstart = bnds[i]\n",
    "        rend = bnds[i+1] + 1 # include endpoint\n",
    "        chunk = X[rstart:rend,:]\n",
    "        strips.append(chunk)\n",
    "    return strips"
   ]
  },
  {
   "cell_type": "code",
   "execution_count": 11,
   "metadata": {
    "collapsed": true
   },
   "outputs": [],
   "source": [
    "def showStrips(strips):\n",
    "    for strip in strips:\n",
    "        showImage(strip)"
   ]
  },
  {
   "cell_type": "code",
   "execution_count": 12,
   "metadata": {
    "collapsed": true
   },
   "outputs": [],
   "source": [
    "def locateStaffLines(s, delta = 3, debug=False):\n",
    "    medvals = np.median(s, axis=1)\n",
    "    if debug:\n",
    "        print(\"num medvals: \" + str(len(medvals)))\n",
    "        print(\"medvals are: \" +  str(medvals))\n",
    "    for i, curVal in enumerate(medvals):\n",
    "        if i > delta and i < len(medvals)-delta:\n",
    "            if curVal != np.max(medvals[i-delta:i+delta+1]): # only keep local maxima\n",
    "                medvals[i] = 0\n",
    "    idxs_sorted_val = np.argsort(medvals)[::-1]\n",
    "    idxs_lines = sorted(idxs_sorted_val[0:10]) # going to change from [0:10] to [0:10] skipping by 2\n",
    "    idxs_lines = idxs_lines[1::2] # we want just 5, so start at the second and skip every other.\n",
    "    if debug:\n",
    "        print(\"sorted idxs val before clip: \" + str(idxs_sorted_val))\n",
    "        print(\"num sorted idxs: \" + str(len(idxs_sorted_val)))\n",
    "        print(\"idxs_lines number after clip: \" + str(len(idxs_lines)))\n",
    "        print(\"idxs_lines: \" + str(idxs_lines))\n",
    "    return np.array(idxs_lines)"
   ]
  },
  {
   "cell_type": "code",
   "execution_count": 13,
   "metadata": {
    "collapsed": true
   },
   "outputs": [],
   "source": [
    "def estimateMidiNum2PixelRowMapping(s, lineIdxs):\n",
    "    x = np.array([4, 2, 0, -2, -4]) # midi nums for staff lines, reformatted to be 0 in the middle, etc.\n",
    "    m, b, _, _, _ = linregress(x, lineIdxs)\n",
    "    return (m,b)"
   ]
  },
  {
   "cell_type": "code",
   "execution_count": 14,
   "metadata": {
    "collapsed": true
   },
   "outputs": [],
   "source": [
    "def estimatePixelRow (midinum, m, b):\n",
    "    return np.int(np.round(midinum * m + b))"
   ]
  },
  {
   "cell_type": "code",
   "execution_count": 15,
   "metadata": {
    "collapsed": true
   },
   "outputs": [],
   "source": [
    "def estimatePixelRow2MidiNumMapping(s, lineIdxs):\n",
    "    x = np.array([4, 2, 0, -2, -4]) # midi nums for staff lines\n",
    "    m, b, _, _, _ = linregress(lineIdxs, x)\n",
    "    return (m,b)"
   ]
  },
  {
   "cell_type": "code",
   "execution_count": 16,
   "metadata": {
    "collapsed": true
   },
   "outputs": [],
   "source": [
    "def getStripBoundariesNonPiano(X, showPlot = False, debug = False):\n",
    "    # find staves\n",
    "    filt = np.vstack((np.ones(21),np.zeros(21),-1*np.ones(21))) # emphasize horizontal lines\n",
    "    Xfilt = signal.convolve2d(X-np.mean(X), filt, mode='same')\n",
    "    rsum = np.sum(Xfilt, axis=1)\n",
    "    rsum_spectra = librosa.core.stft(rsum,n_fft=32,hop_length=1) # look for high frequency oscillations\n",
    "    spectra_max = np.max(rsum_spectra[4:10,:], axis=0)\n",
    "    spectra_max_smoothed = np.convolve(spectra_max,np.hanning(15),'same')\n",
    "    peakidxs = signal.find_peaks_cwt(spectra_max_smoothed, range(15,41,1))\n",
    "    #assert(len(peakidxs) % 2 == 0)\n",
    "    if debug:\n",
    "        print(\"X filter:\")\n",
    "        plt.imshow(Xfilt)\n",
    "        print(\"rsum is: \" +  str(rsum))\n",
    "        print(\"rsum spectra: \" + str(rsum_spectra))\n",
    "        print(\"spectra max: \" + str(spectra_max))\n",
    "        print(\"num peak ids: \" + str(len(peakidxs)))\n",
    "        print(\"peak ids: \" + str(peakidxs))\n",
    "    \n",
    "    # determine boundaries\n",
    "    numStrips = np.int(len(peakidxs)/2) # note the lack of -1 here\n",
    "    boundaries = []\n",
    "    for i in range(numStrips):\n",
    "        peak1idx = peakidxs[2*i]\n",
    "        peak2idx = peakidxs[2*i+1]\n",
    "        midpt = np.int((peak1idx + peak2idx)/2.0)\n",
    "        boundaries.append(midpt)\n",
    "    boundaries.insert(0, 0)  # for first strip\n",
    "    boundaries.append(X.shape[0]-1) # for last strip\n",
    "    \n",
    "    # show peak picking results (for debugging)\n",
    "    if showPlot:\n",
    "        plt.plot(spectra_max_smoothed)\n",
    "        for pk in peakidxs:\n",
    "            plt.axvline(x=pk, color='r', linewidth=1)\n",
    "            \n",
    "    return boundaries"
   ]
  },
  {
   "cell_type": "code",
   "execution_count": 17,
   "metadata": {
    "collapsed": true
   },
   "outputs": [],
   "source": [
    "pics = os.listdir('pdf/mini_dataset_png')"
   ]
  },
  {
   "cell_type": "code",
   "execution_count": 18,
   "metadata": {
    "collapsed": true
   },
   "outputs": [],
   "source": [
    "pic_names = []\n",
    "for pic in pics:\n",
    "    name = os.path.join('pdf/mini_dataset_png', pic)\n",
    "    pic_names.append(name)"
   ]
  },
  {
   "cell_type": "code",
   "execution_count": 19,
   "metadata": {
    "collapsed": true
   },
   "outputs": [],
   "source": [
    "def inspectBoundariesPre(filelist, outdir):\n",
    "    os.mkdir(outdir)\n",
    "    predfile = outdir + '/bnds.predicted.txt' # text file with boundary predictions\n",
    "    f = open(predfile,'w')\n",
    "    for i, curfile in enumerate(filelist):\n",
    "        \n",
    "        # get strip boundaries\n",
    "        I = importImage(curfile)\n",
    "        Irot, theta = rotateToHorizontal(I)\n",
    "        ll, w, h = getBoundingBox(Irot)\n",
    "        Icrop = getCropped(Irot)\n",
    "        bnds = getStripBoundaries(Icrop)\n",
    "        \n",
    "        # generate images for inspection\n",
    "        basename = os.path.splitext(os.path.basename(curfile))[0]\n",
    "        outfile = '%s/%s.png' % (outdir,basename)\n",
    "        visualizeBoundaries(Icrop, bnds, outfile)\n",
    "        \n",
    "        # write to text file\n",
    "        strOut = '%s %s\\n' % (basename, ' '.join(map(str,bnds)))\n",
    "        f.write(strOut)\n",
    "        \n",
    "    f.close()"
   ]
  },
  {
   "cell_type": "code",
   "execution_count": 20,
   "metadata": {
    "collapsed": true
   },
   "outputs": [],
   "source": [
    "def importBoundaryData(infile):\n",
    "    d = {}  # key: basename, val: list of boundaries locations\n",
    "    with open(infile,'r') as f:\n",
    "        for line in f:\n",
    "            parts = line.split()\n",
    "            basename = parts.pop(0)\n",
    "            bnds = map(int, parts)\n",
    "            d[basename] = bnds\n",
    "    return d"
   ]
  },
  {
   "cell_type": "code",
   "execution_count": null,
   "metadata": {
    "collapsed": true
   },
   "outputs": [],
   "source": [
    "for pic in pic_names:\n",
    "    I = importImage(pic)\n",
    "    Irot, theta = rotateToHorizontal(I)\n",
    "    ll, bbw, bbh = getBoundingBox(Irot, thresh=0.2)\n",
    "    print(\"showing bounding box image...\")\n",
    "    showImageWithBB(Irot, ll, bbw, bbh)\n",
    "    Icrop = getCropped(Irot)\n",
    "    #Icrop_resized = np.resize(Icrop, (800,600))\n",
    "    bnds = getStripBoundariesNonPiano(Icrop, showPlot=True, debug=True)\n",
    "    print(\"visualizing boundaries...\")\n",
    "    visualizeBoundaries(Icrop, bnds)"
   ]
  }
 ],
 "metadata": {
  "kernelspec": {
   "display_name": "Python [conda env:py36]",
   "language": "python",
   "name": "conda-env-py36-py"
  },
  "language_info": {
   "codemirror_mode": {
    "name": "ipython",
    "version": 3
   },
   "file_extension": ".py",
   "mimetype": "text/x-python",
   "name": "python",
   "nbconvert_exporter": "python",
   "pygments_lexer": "ipython3",
   "version": "3.6.4"
  }
 },
 "nbformat": 4,
 "nbformat_minor": 2
}
