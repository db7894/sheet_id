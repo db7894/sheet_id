{
 "cells": [
  {
   "cell_type": "markdown",
   "metadata": {},
   "source": [
    "TODO:\n",
    "Divide into strips w/ grand staff\n",
    "Calculate median pixel value in each row (close to 0, then very high etc)\n",
    "Use this row median graph, cut into indivdiual staffs, then go into coord system by mapping vertical position to one note (e.g. right goes C4 to B6),\n",
    "left goes from C2 to B3\n",
    "\n",
    "How can we est the location of the 5 peaks + do linear interp? Lowest peak = E4, then G4, then B4, D5, F5.\n",
    "\n",
    "Touch base with Mint so she can point to appropriate code and you can try using it after fixing the graph  to log. \n",
    "\n",
    "Use code Mint points you to in order to find a way to convert each score into individual staff lines (e.g. just RH, just LH), calculate median of each row, est location of 5 peaks, then do linear interpolation w/ built-in SKLearn/Numpy to d o a linear interp of the 5 \n",
    "\n",
    "Give  it pairs of x,y coords. So like notes 0,2,4,6,8, ... up to 20 so 21-dim vector. y-axis is which note out of 21, then x-axis is the vertical pixel position from the bottom (e.g. 35 pixels until then)--use lin interp to convert from vertical pixel position to discretized note value. Then can do a look up in a hash table or smth. \n",
    "\n",
    "1. Pull out individual strips from a page of sheet music\n",
    "2. Mint's intial code for above things--try to est conversion from vertical pixel position to discretized note value. "
   ]
  },
  {
   "cell_type": "code",
   "execution_count": null,
   "metadata": {
    "collapsed": true
   },
   "outputs": [],
   "source": [
    "import numpy as np\n",
    "from scipy.spatial.distance import cdist\n",
    "from scipy import ndimage\n",
    "from scipy import signal\n",
    "from scipy.stats import linregress\n",
    "from scipy.signal import convolve2d, gaussian, argrelextrema\n",
    "from scipy.interpolate import interp1d\n",
    "from sklearn.preprocessing import normalize\n",
    "from skimage.transform import rotate\n",
    "import matplotlib.pyplot as plt\n",
    "import matplotlib.patches as patches\n",
    "import pickle as cPickle\n",
    "import librosa\n",
    "import glob\n",
    "import re\n",
    "import sys\n",
    "import os\n",
    "import mido\n",
    "from mido import MidiFile\n",
    "import cv2\n",
    "from PIL import Image"
   ]
  }
 ],
 "metadata": {
  "kernelspec": {
   "display_name": "Python [conda env:py36]",
   "language": "python",
   "name": "conda-env-py36-py"
  },
  "language_info": {
   "codemirror_mode": {
    "name": "ipython",
    "version": 3
   },
   "file_extension": ".py",
   "mimetype": "text/x-python",
   "name": "python",
   "nbconvert_exporter": "python",
   "pygments_lexer": "ipython3",
   "version": "3.6.4"
  }
 },
 "nbformat": 4,
 "nbformat_minor": 2
}
