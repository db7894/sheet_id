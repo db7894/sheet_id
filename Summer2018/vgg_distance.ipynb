{
 "cells": [
  {
   "cell_type": "code",
   "execution_count": 1,
   "metadata": {
    "collapsed": true
   },
   "outputs": [],
   "source": [
    "%matplotlib inline"
   ]
  },
  {
   "cell_type": "code",
   "execution_count": 40,
   "metadata": {
    "collapsed": true
   },
   "outputs": [],
   "source": [
    "import matplotlib.pyplot as plt\n",
    "import numpy as np\n",
    "import pickle as cPickle\n",
    "from sklearn.decomposition import PCA\n",
    "from sklearn.metrics import accuracy_score, log_loss\n",
    "import graphviz\n",
    "from keras.models import Sequential, Model\n",
    "from keras.layers import Dense, Activation, Flatten, Dropout, BatchNormalization, Conv2D, MaxPooling2D, Concatenate, Input\n",
    "from keras.applications.vgg16 import VGG16\n",
    "from keras.preprocessing import image\n",
    "from keras.applications.vgg16 import preprocess_input"
   ]
  },
  {
   "cell_type": "code",
   "execution_count": 4,
   "metadata": {},
   "outputs": [
    {
     "name": "stdout",
     "output_type": "stream",
     "text": [
      "Downloading data from https://github.com/fchollet/deep-learning-models/releases/download/v0.1/vgg16_weights_tf_dim_ordering_tf_kernels_notop.h5\n",
      "58892288/58889256 [==============================] - 5s 0us/step\n"
     ]
    }
   ],
   "source": [
    "model = VGG16(weights='imagenet', include_top=False)"
   ]
  },
  {
   "cell_type": "code",
   "execution_count": 7,
   "metadata": {
    "collapsed": true
   },
   "outputs": [],
   "source": [
    "img_path_1 = 'pdf/model_testing/train/1/105370_page_93.png'\n",
    "img = image.load_img(img_path_1, target_size=(224, 224))\n",
    "x = image.img_to_array(img)\n",
    "x = np.expand_dims(x, axis=0)\n",
    "x = preprocess_input(x)"
   ]
  },
  {
   "cell_type": "code",
   "execution_count": 8,
   "metadata": {
    "collapsed": true
   },
   "outputs": [],
   "source": [
    "features = model.predict(x)"
   ]
  },
  {
   "cell_type": "code",
   "execution_count": 9,
   "metadata": {},
   "outputs": [
    {
     "name": "stdout",
     "output_type": "stream",
     "text": [
      "[[[[ 0.         0.         0.        ...  0.         0.\n",
      "     0.       ]\n",
      "   [ 0.         0.         0.        ...  0.         0.\n",
      "     0.       ]\n",
      "   [ 0.         0.         0.        ...  0.         0.\n",
      "     0.       ]\n",
      "   ...\n",
      "   [ 0.         0.         0.        ...  0.         0.\n",
      "     0.       ]\n",
      "   [ 0.         0.         0.        ...  0.         0.\n",
      "     0.       ]\n",
      "   [ 0.         0.         0.        ...  0.         0.\n",
      "     0.       ]]\n",
      "\n",
      "  [[ 0.         0.         0.        ...  0.         0.\n",
      "     0.       ]\n",
      "   [ 0.         2.0466108  0.        ...  0.         0.\n",
      "     0.       ]\n",
      "   [ 0.        26.7768     0.        ...  0.         0.\n",
      "     0.       ]\n",
      "   ...\n",
      "   [ 0.         0.         0.        ...  0.         0.\n",
      "     0.       ]\n",
      "   [ 0.         0.         0.        ...  0.         0.\n",
      "     0.       ]\n",
      "   [ 0.         0.         0.        ...  0.         0.\n",
      "     0.       ]]\n",
      "\n",
      "  [[ 0.         0.         0.        ...  0.         0.\n",
      "     0.       ]\n",
      "   [ 0.         0.         0.        ...  0.         0.\n",
      "     0.       ]\n",
      "   [ 0.         0.         0.        ...  0.         0.\n",
      "     0.       ]\n",
      "   ...\n",
      "   [ 0.         0.         0.        ...  0.         0.\n",
      "     0.       ]\n",
      "   [ 0.         0.         0.        ...  0.         0.\n",
      "     0.       ]\n",
      "   [ 0.         0.         0.        ...  0.         0.\n",
      "     0.       ]]\n",
      "\n",
      "  ...\n",
      "\n",
      "  [[ 0.         0.         0.        ...  0.         0.\n",
      "     0.       ]\n",
      "   [ 0.         0.         0.        ...  0.         0.\n",
      "     0.       ]\n",
      "   [ 0.         0.         0.        ...  7.528258   0.\n",
      "     0.       ]\n",
      "   ...\n",
      "   [ 0.         0.         0.        ... 18.369057   0.\n",
      "     0.       ]\n",
      "   [ 0.         0.         0.        ... 17.966124   0.\n",
      "     0.       ]\n",
      "   [ 0.         0.         0.        ...  0.         0.\n",
      "     0.       ]]\n",
      "\n",
      "  [[ 0.         0.         0.        ...  0.         0.\n",
      "     0.       ]\n",
      "   [ 0.         0.         0.        ...  0.         0.\n",
      "     0.       ]\n",
      "   [ 0.         0.         0.        ...  0.         0.\n",
      "     0.       ]\n",
      "   ...\n",
      "   [ 0.         0.         0.        ...  0.         0.\n",
      "     0.       ]\n",
      "   [ 0.         0.         0.        ...  0.         0.\n",
      "     0.       ]\n",
      "   [ 0.         0.         0.        ...  0.         0.\n",
      "     0.       ]]\n",
      "\n",
      "  [[ 0.         0.         0.        ...  0.         0.\n",
      "     0.       ]\n",
      "   [ 0.         0.         0.        ...  0.         0.\n",
      "     0.       ]\n",
      "   [ 0.         0.         0.        ...  0.         0.\n",
      "     0.       ]\n",
      "   ...\n",
      "   [ 0.         0.         0.        ...  0.         0.\n",
      "    20.598522 ]\n",
      "   [ 0.         0.         0.        ...  0.         0.\n",
      "     8.15435  ]\n",
      "   [ 0.         0.         0.        ...  0.         2.1378086\n",
      "     0.       ]]]]\n"
     ]
    }
   ],
   "source": [
    "print(features)"
   ]
  },
  {
   "cell_type": "code",
   "execution_count": 10,
   "metadata": {
    "collapsed": true
   },
   "outputs": [],
   "source": [
    "img_path_2 = 'pdf/model_testing/train/1/IMG_9133.jpg'\n",
    "img = image.load_img(img_path_2, target_size=(224, 224))\n",
    "x2 = image.img_to_array(img)\n",
    "x2 = np.expand_dims(x, axis=0)\n",
    "x2 = preprocess_input(x)"
   ]
  },
  {
   "cell_type": "code",
   "execution_count": 11,
   "metadata": {
    "collapsed": true
   },
   "outputs": [],
   "source": [
    "features_2 = model.predict(x2)"
   ]
  },
  {
   "cell_type": "code",
   "execution_count": 12,
   "metadata": {
    "collapsed": true
   },
   "outputs": [],
   "source": [
    "norm = np.linalg.norm(features_2 - features)"
   ]
  },
  {
   "cell_type": "code",
   "execution_count": 13,
   "metadata": {},
   "outputs": [
    {
     "data": {
      "text/plain": [
       "766.50604"
      ]
     },
     "execution_count": 13,
     "metadata": {},
     "output_type": "execute_result"
    }
   ],
   "source": [
    "norm"
   ]
  },
  {
   "cell_type": "code",
   "execution_count": 45,
   "metadata": {
    "collapsed": true
   },
   "outputs": [],
   "source": [
    "def predict_same():\n",
    "#     image1 = image.load_img(img_path_1, target_size=(224, 224))\n",
    "#     x = image.img_to_array(image1)\n",
    "#     x = np.expand_dims(x, axis=0)\n",
    "#     input1 = preprocess_input(x)\n",
    "    \n",
    "#     image2 = image.load_img(img_path_2, target_size=(224, 224))\n",
    "#     x2 = image.img_to_array(image2)\n",
    "#     x2 = np.expand_dims(x2, axis=0)\n",
    "#     input2 = preprocess_input(x2)\n",
    "    input1 = Input(shape=(224,224,3), name='input1')\n",
    "    input2 = Input(shape=(224,224,3), name='input2')\n",
    "    \n",
    "    vgg = VGG16(weights='imagenet', include_top=False)\n",
    "    y_1 = vgg(input1)\n",
    "    y_2 = vgg(input2)\n",
    "    \n",
    "    x = Concatenate()([y_1,y_2])\n",
    "    x = Flatten()(x)\n",
    "    out = Dense(1, activation='softmax')(x)\n",
    "    \n",
    "    model = Model(inputs=[input1, input2], outputs=out)\n",
    "    model.compile(optimizer='rmsprop',loss='binary_crossentropy',metrics=['accuracy'])\n",
    "    \n",
    "    return model"
   ]
  },
  {
   "cell_type": "code",
   "execution_count": 46,
   "metadata": {
    "collapsed": true
   },
   "outputs": [],
   "source": [
    "model = predict_same()"
   ]
  },
  {
   "cell_type": "code",
   "execution_count": 47,
   "metadata": {},
   "outputs": [
    {
     "data": {
      "text/plain": [
       "array([[1.]], dtype=float32)"
      ]
     },
     "execution_count": 47,
     "metadata": {},
     "output_type": "execute_result"
    }
   ],
   "source": [
    "model.predict([x, x2])"
   ]
  },
  {
   "cell_type": "code",
   "execution_count": 49,
   "metadata": {
    "collapsed": true
   },
   "outputs": [],
   "source": [
    "img_path_3 = 'pdf/model_testing/train/2/IMG_9134.jpg'\n",
    "img = image.load_img(img_path_2, target_size=(224, 224))\n",
    "x3 = image.img_to_array(img)\n",
    "x3 = np.expand_dims(x, axis=0)\n",
    "x3 = preprocess_input(x)"
   ]
  },
  {
   "cell_type": "code",
   "execution_count": 50,
   "metadata": {},
   "outputs": [
    {
     "data": {
      "text/plain": [
       "array([[1.]], dtype=float32)"
      ]
     },
     "execution_count": 50,
     "metadata": {},
     "output_type": "execute_result"
    }
   ],
   "source": [
    "model.predict([x,x3])"
   ]
  },
  {
   "cell_type": "code",
   "execution_count": 51,
   "metadata": {
    "collapsed": true
   },
   "outputs": [],
   "source": []
  },
  {
   "cell_type": "code",
   "execution_count": null,
   "metadata": {
    "collapsed": true
   },
   "outputs": [],
   "source": []
  }
 ],
 "metadata": {
  "kernelspec": {
   "display_name": "Python [conda env:py36]",
   "language": "python",
   "name": "conda-env-py36-py"
  },
  "language_info": {
   "codemirror_mode": {
    "name": "ipython",
    "version": 3
   },
   "file_extension": ".py",
   "mimetype": "text/x-python",
   "name": "python",
   "nbconvert_exporter": "python",
   "pygments_lexer": "ipython3",
   "version": "3.6.4"
  }
 },
 "nbformat": 4,
 "nbformat_minor": 2
}
