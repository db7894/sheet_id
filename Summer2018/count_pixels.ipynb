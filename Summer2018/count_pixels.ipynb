{
 "cells": [
  {
   "cell_type": "code",
   "execution_count": 1,
   "metadata": {
    "collapsed": true
   },
   "outputs": [],
   "source": [
    "%matplotlib inline"
   ]
  },
  {
   "cell_type": "code",
   "execution_count": 35,
   "metadata": {
    "collapsed": true
   },
   "outputs": [],
   "source": [
    "from PIL import Image\n",
    "import matplotlib.pyplot as plt\n",
    "import numpy as np\n",
    "import math"
   ]
  },
  {
   "cell_type": "code",
   "execution_count": 3,
   "metadata": {},
   "outputs": [],
   "source": [
    "img_test = Image.open(\"deep_scores/pix_annotations_png/lg-9997209-aug-beethoven--page-1.png\")"
   ]
  },
  {
   "cell_type": "code",
   "execution_count": 4,
   "metadata": {},
   "outputs": [
    {
     "data": {
      "text/plain": [
       "<matplotlib.image.AxesImage at 0x7f1ba7ff0b70>"
      ]
     },
     "execution_count": 4,
     "metadata": {},
     "output_type": "execute_result"
    },
    {
     "data": {
      "image/png": "[encoded data removed]",
      "text/plain": [
       "<Figure size 432x288 with 1 Axes>"
      ]
     },
     "metadata": {},
     "output_type": "display_data"
    }
   ],
   "source": [
    "img = np.array(img_test)\n",
    "plt.imshow(img)"
   ]
  },
  {
   "cell_type": "code",
   "execution_count": 5,
   "metadata": {},
   "outputs": [
    {
     "name": "stdout",
     "output_type": "stream",
     "text": [
      "<ImagingCore object at 0x7f1c1818d1f0>\n"
     ]
    }
   ],
   "source": [
    "print(img_test.getdata())"
   ]
  },
  {
   "cell_type": "code",
   "execution_count": 7,
   "metadata": {
    "collapsed": true
   },
   "outputs": [],
   "source": [
    "\"\"\"\n",
    "29,noteheadBlack\n",
    "30,noteheadBlackSmall\n",
    "31,noteheadHalf\n",
    "32,noteheadHalfSmall\n",
    "33,noteheadWhole\n",
    "34,noteheadWholeSmall\n",
    "35,noteheadDoubleWhole\n",
    "36,noteheadDoubleWholeSmall\n",
    "\"\"\"\n",
    "\n",
    "noteheadBlack = 29\n",
    "noteheadBlackSmall = 30\n",
    "noteheadHalf = 31\n",
    "noteheadHalfSmall = 32\n",
    "noteheadWhole = 33\n",
    "noteheadWholeSmall = 34\n",
    "noteheadDoubleWhole = 35\n",
    "noteheadDoubleWholeSmall = 36"
   ]
  },
  {
   "cell_type": "code",
   "execution_count": 12,
   "metadata": {
    "collapsed": true
   },
   "outputs": [],
   "source": [
    "numBlack = 0\n",
    "numBlackSmall = 0\n",
    "numHalf = 0\n",
    "numHalfSmall = 0\n",
    "numWhole = 0\n",
    "numWholeSmall = 0\n",
    "numDoubleWhole = 0\n",
    "numDoubleWholeSmall = 0"
   ]
  },
  {
   "cell_type": "code",
   "execution_count": 13,
   "metadata": {},
   "outputs": [],
   "source": [
    "for pixel in img_test.getdata():\n",
    "    if pixel == noteheadBlack:\n",
    "        numBlack += 1\n",
    "    elif pixel == noteheadBlackSmall:\n",
    "        numBlackSmall += 1\n",
    "    elif pixel == noteheadHalf:\n",
    "        numHalf += 1\n",
    "    elif pixel == noteheadHalfSmall:\n",
    "        numHalfSmall += 1\n",
    "    elif pixel == noteheadWhole:\n",
    "        numWhole += 1\n",
    "    elif pixel == noteheadWholeSmall:\n",
    "        numWholeSmall += 1\n",
    "    elif pixel == noteheadDoubleWhole:\n",
    "        numDoubleWhole += 1\n",
    "    elif pixel == noteheadDoubleWholeSmall:\n",
    "        numDoubleWholeSmall += 1"
   ]
  },
  {
   "cell_type": "code",
   "execution_count": 16,
   "metadata": {},
   "outputs": [
    {
     "name": "stdout",
     "output_type": "stream",
     "text": [
      "number of black note pixels: 30736\n",
      "number of small black note pixels: 0\n",
      "number of half note pixels: 407\n",
      "number of small half note pixels: 0\n",
      "number of whole note pixels: 5272\n",
      "number of small whole note pixels: 0\n",
      "number of double whole note pixels: 0\n",
      "number of small double whole note pixels: 0\n"
     ]
    }
   ],
   "source": [
    "print(\"number of black note pixels: \" + str(numBlack))\n",
    "print(\"number of small black note pixels: \" + str(numBlackSmall))\n",
    "print(\"number of half note pixels: \" + str(numHalf))\n",
    "print(\"number of small half note pixels: \" + str(numHalfSmall))\n",
    "print(\"number of whole note pixels: \" + str(numWhole))\n",
    "print(\"number of small whole note pixels: \" + str(numWholeSmall))\n",
    "print(\"number of double whole note pixels: \" + str(numDoubleWhole))\n",
    "print(\"number of small double whole note pixels: \" + str(numDoubleWholeSmall))"
   ]
  },
  {
   "cell_type": "code",
   "execution_count": 22,
   "metadata": {
    "collapsed": true
   },
   "outputs": [],
   "source": [
    "imgpix = [numBlack, numBlackSmall, numHalf, numHalfSmall, numWhole, numWholeSmall, numDoubleWhole, numDoubleWholeSmall]"
   ]
  },
  {
   "cell_type": "code",
   "execution_count": 17,
   "metadata": {
    "collapsed": true
   },
   "outputs": [],
   "source": [
    "img_2 = Image.open(\"deep_scores/pix_annotations_png/lg-99849559-aug-beethoven--page-5.png\")"
   ]
  },
  {
   "cell_type": "code",
   "execution_count": 18,
   "metadata": {
    "collapsed": true
   },
   "outputs": [],
   "source": [
    "numBlack2 = 0\n",
    "numBlackSmall2 = 0\n",
    "numHalf2 = 0\n",
    "numHalfSmall2 = 0\n",
    "numWhole2 = 0\n",
    "numWholeSmall2 = 0\n",
    "numDoubleWhole2 = 0\n",
    "numDoubleWholeSmall2 = 0"
   ]
  },
  {
   "cell_type": "code",
   "execution_count": 19,
   "metadata": {
    "collapsed": true
   },
   "outputs": [],
   "source": [
    "for pixel in img_2.getdata():\n",
    "    if pixel == noteheadBlack:\n",
    "        numBlack2 += 1\n",
    "    elif pixel == noteheadBlackSmall:\n",
    "        numBlackSmall2 += 1\n",
    "    elif pixel == noteheadHalf:\n",
    "        numHalf2 += 1\n",
    "    elif pixel == noteheadHalfSmall:\n",
    "        numHalfSmall2 += 1\n",
    "    elif pixel == noteheadWhole:\n",
    "        numWhole2 += 1\n",
    "    elif pixel == noteheadWholeSmall:\n",
    "        numWholeSmall2 += 1\n",
    "    elif pixel == noteheadDoubleWhole:\n",
    "        numDoubleWhole2 += 1\n",
    "    elif pixel == noteheadDoubleWholeSmall:\n",
    "        numDoubleWholeSmall2 += 1"
   ]
  },
  {
   "cell_type": "code",
   "execution_count": 20,
   "metadata": {},
   "outputs": [
    {
     "name": "stdout",
     "output_type": "stream",
     "text": [
      "number of black note pixels: 32897\n",
      "number of small black note pixels: 0\n",
      "number of half note pixels: 3599\n",
      "number of small half note pixels: 0\n",
      "number of whole note pixels: 0\n",
      "number of small whole note pixels: 0\n",
      "number of double whole note pixels: 0\n",
      "number of small double whole note pixels: 0\n"
     ]
    }
   ],
   "source": [
    "print(\"number of black note pixels: \" + str(numBlack2))\n",
    "print(\"number of small black note pixels: \" + str(numBlackSmall2))\n",
    "print(\"number of half note pixels: \" + str(numHalf2))\n",
    "print(\"number of small half note pixels: \" + str(numHalfSmall2))\n",
    "print(\"number of whole note pixels: \" + str(numWhole2))\n",
    "print(\"number of small whole note pixels: \" + str(numWholeSmall2))\n",
    "print(\"number of double whole note pixels: \" + str(numDoubleWhole2))\n",
    "print(\"number of small double whole note pixels: \" + str(numDoubleWholeSmall2))"
   ]
  },
  {
   "cell_type": "code",
   "execution_count": 21,
   "metadata": {
    "collapsed": true
   },
   "outputs": [],
   "source": [
    "img2pix = [numBlack2, numBlackSmall2, numHalf2, numHalfSmall2, numWhole2, numWholeSmall2, numDoubleWhole2, numDoubleWholeSmall2]"
   ]
  },
  {
   "cell_type": "code",
   "execution_count": 23,
   "metadata": {
    "collapsed": true
   },
   "outputs": [],
   "source": [
    "def createNoteValueDict():\n",
    "    noteValues = {}\n",
    "    noteValues[\"noteheadBlack\"] = 29\n",
    "    noteValues[\"noteheadBlackSmall\"] = 30\n",
    "    noteValues[\"noteheadHalf\"] = 31\n",
    "    noteValues[\"noteheadHalfSmall\"] = 32\n",
    "    noteValues[\"noteheadWhole\"] = 33\n",
    "    noteValues[\"noteheadWholeSmall\"] = 34\n",
    "    noteValues[\"noteheadDoubleWhole\"] = 35\n",
    "    noteValues[\"noteheadDoubleWholeSmall\"] = 36\n",
    "    return noteValues"
   ]
  },
  {
   "cell_type": "code",
   "execution_count": 29,
   "metadata": {
    "collapsed": true
   },
   "outputs": [],
   "source": [
    "def getNotes(image):\n",
    "    valueDict = createNoteValueDict()\n",
    "    img = Image.open(image)\n",
    "    \n",
    "    #create dict of values for image and set to 0\n",
    "    imageValues = valueDict\n",
    "    for key in imageValues.keys():\n",
    "        imageValues[key] = 0\n",
    "    \n",
    "    for pixel in img.getdata():\n",
    "        if pixel == noteheadBlack:\n",
    "            imageValues[\"noteheadBlack\"] += 1\n",
    "        elif pixel == noteheadBlackSmall:\n",
    "            imageValues[\"noteheadBlackSmall\"] += 1\n",
    "        elif pixel == noteheadHalf:\n",
    "            imageValues[\"noteheadHalf\"] += 1\n",
    "        elif pixel == noteheadHalfSmall:\n",
    "            imageValues[\"noteheadHalfSmall\"] += 1\n",
    "        elif pixel == noteheadWhole:\n",
    "            imageValues[\"noteheadWhole\"] += 1\n",
    "        elif pixel == noteheadWholeSmall:\n",
    "            imageValues[\"noteheadWholeSmall\"] += 1\n",
    "        elif pixel == noteheadDoubleWhole:\n",
    "            imageValues[\"noteheadDoubleWhole\"] += 1\n",
    "        elif pixel == noteheadDoubleWholeSmall:\n",
    "            imageValues[\"noteheadDoubleWholeSmall\"] += 1\n",
    "            \n",
    "    return imageValues"
   ]
  },
  {
   "cell_type": "code",
   "execution_count": 38,
   "metadata": {
    "collapsed": true
   },
   "outputs": [],
   "source": [
    "def naiveDistance(img_1, img_2):\n",
    "    totalDist = 0\n",
    "    img1_values = getNotes(img_1)\n",
    "    img2_values = getNotes(img_2)\n",
    "    \n",
    "    for key in img1_values.keys():\n",
    "        totalDist += (img1_values[key] - img2_values[key])\n",
    "        \n",
    "    totalDist = abs(totalDist)\n",
    "        \n",
    "    print(\"total distance between images 1 and 2: \" + str(totalDist))"
   ]
  },
  {
   "cell_type": "code",
   "execution_count": 31,
   "metadata": {
    "collapsed": true
   },
   "outputs": [],
   "source": [
    "img1 = \"deep_scores/pix_annotations_png/lg-9997209-aug-beethoven--page-1.png\"\n",
    "img2 = \"deep_scores/pix_annotations_png/lg-99849559-aug-beethoven--page-5.png\""
   ]
  },
  {
   "cell_type": "code",
   "execution_count": 39,
   "metadata": {
    "scrolled": true
   },
   "outputs": [
    {
     "name": "stdout",
     "output_type": "stream",
     "text": [
      "total distance between images 1 and 2: 81\n"
     ]
    }
   ],
   "source": [
    "naiveDistance(img1,img2)"
   ]
  },
  {
   "cell_type": "code",
   "execution_count": 40,
   "metadata": {},
   "outputs": [
    {
     "name": "stdout",
     "output_type": "stream",
     "text": [
      "total distance between images 1 and 2: 0\n"
     ]
    }
   ],
   "source": [
    "naiveDistance(img1,img1)"
   ]
  },
  {
   "cell_type": "code",
   "execution_count": 41,
   "metadata": {},
   "outputs": [
    {
     "name": "stdout",
     "output_type": "stream",
     "text": [
      "total distance between images 1 and 2: 0\n"
     ]
    }
   ],
   "source": [
    "naiveDistance(img2,img2)"
   ]
  },
  {
   "cell_type": "code",
   "execution_count": null,
   "metadata": {
    "collapsed": true
   },
   "outputs": [],
   "source": []
  }
 ],
 "metadata": {
  "kernelspec": {
   "display_name": "Python [conda env:py36]",
   "language": "python",
   "name": "conda-env-py36-py"
  },
  "language_info": {
   "codemirror_mode": {
    "name": "ipython",
    "version": 3
   },
   "file_extension": ".py",
   "mimetype": "text/x-python",
   "name": "python",
   "nbconvert_exporter": "python",
   "pygments_lexer": "ipython3",
   "version": "3.6.4"
  }
 },
 "nbformat": 4,
 "nbformat_minor": 2
}
