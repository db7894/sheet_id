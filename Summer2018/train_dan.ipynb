{
 "cells": [
  {
   "cell_type": "code",
   "execution_count": 1,
   "metadata": {
    "collapsed": true
   },
   "outputs": [],
   "source": [
    "import sys\n",
    "sys.path.insert(0, '/data1/dbashir/Project/Summer2018/SheetIdentification/sheet_id/utils/')\n",
    "sys.path.insert(0, '/data1/dbashir/Project/Summer2018/SheetIdentification/sheet_id/models/')"
   ]
  },
  {
   "cell_type": "code",
   "execution_count": 2,
   "metadata": {
    "collapsed": true
   },
   "outputs": [],
   "source": [
    "import os\n",
    "os.environ[\"CUDA_DEVICE_ORDER\"] = \"PCI_BUS_ID\"   # see issue #152\n",
    "os.environ[\"CUDA_VISIBLE_DEVICES\"] = \"\""
   ]
  },
  {
   "cell_type": "code",
   "execution_count": 3,
   "metadata": {
    "ExecuteTime": {
     "end_time": "2018-06-19T10:15:38.404792Z",
     "start_time": "2018-06-19T10:15:37.343179Z"
    }
   },
   "outputs": [
    {
     "name": "stderr",
     "output_type": "stream",
     "text": [
      "Using TensorFlow backend.\n",
      "/home/dbashir/anaconda2/envs/py36/lib/python3.6/importlib/_bootstrap.py:219: RuntimeWarning: compiletime version 3.5 of module 'tensorflow.python.framework.fast_tensor_util' does not match runtime version 3.6\n",
      "  return f(*args, **kwds)\n"
     ]
    }
   ],
   "source": [
    "from keras.optimizers import Adam\n",
    "from keras.callbacks import TensorBoard, ModelCheckpoint\n",
    "\n",
    "from FCN import FCN\n",
    "from loss_functions import softmax_sparse_crossentropy_ignoring_background, softmax_sparse_crossentropy\n",
    "from metrics import sparse_accuracy_ignoring_background, sparse_accuracy\n",
    "from dataPreprocessing import splitTrainValidation\n",
    "from dataGenerator import DataGenerator\n",
    "import cv2"
   ]
  },
  {
   "cell_type": "code",
   "execution_count": 4,
   "metadata": {
    "ExecuteTime": {
     "end_time": "2018-06-19T10:15:39.102411Z",
     "start_time": "2018-06-19T10:15:38.549045Z"
    },
    "collapsed": true
   },
   "outputs": [],
   "source": [
    "model = FCN(input_shape=(250,250,1), n_classes=124)"
   ]
  },
  {
   "cell_type": "code",
   "execution_count": 5,
   "metadata": {
    "ExecuteTime": {
     "end_time": "2018-06-19T10:15:39.395830Z",
     "start_time": "2018-06-19T10:15:39.229918Z"
    },
    "collapsed": true
   },
   "outputs": [],
   "source": [
    "loss_fn = softmax_sparse_crossentropy\n",
    "optimizer = Adam(lr=1e-4, beta_1=0.9, beta_2=0.999, \n",
    "                 epsilon=1e-8, decay=0.0, amsgrad=False)\n",
    "metrics = [sparse_accuracy]\n",
    "model.compile(loss=loss_fn, optimizer=optimizer, metrics=metrics)"
   ]
  },
  {
   "cell_type": "code",
   "execution_count": 6,
   "metadata": {
    "ExecuteTime": {
     "end_time": "2018-06-19T10:15:32.848220Z",
     "start_time": "2018-06-19T10:15:32.846046Z"
    },
    "collapsed": true
   },
   "outputs": [],
   "source": [
    "callbacks = []"
   ]
  },
  {
   "cell_type": "code",
   "execution_count": 7,
   "metadata": {
    "ExecuteTime": {
     "end_time": "2018-06-19T10:15:43.580137Z",
     "start_time": "2018-06-19T10:15:42.363189Z"
    },
    "collapsed": true
   },
   "outputs": [],
   "source": [
    "train_partition, validation_partition = splitTrainValidation('../../../deep_scores/', max_size=100, test_size=20, npy_only=False)"
   ]
  },
  {
   "cell_type": "code",
   "execution_count": 8,
   "metadata": {
    "ExecuteTime": {
     "end_time": "2018-06-19T10:15:43.746531Z",
     "start_time": "2018-06-19T10:15:43.741635Z"
    },
    "collapsed": true
   },
   "outputs": [],
   "source": [
    "params = {'dim': (250,250),\n",
    "          'batch_size': 1,\n",
    "          'n_classes': 124,\n",
    "          'n_channels': 1,\n",
    "          'shuffle': True,\n",
    "          'crop': True,\n",
    "          'crop_size': (250,250),\n",
    "          'load_npy': False}\n",
    "training_generator = DataGenerator(train_partition, **params)\n",
    "validation_generator = DataGenerator(validation_partition, **params)"
   ]
  },
  {
   "cell_type": "code",
   "execution_count": null,
   "metadata": {
    "ExecuteTime": {
     "start_time": "2018-06-19T16:18:28.763Z"
    },
    "collapsed": true
   },
   "outputs": [],
   "source": [
    "# history = model.fit_generator(generator=training_generator, epochs=2,\n",
    "#                               validation_data=validation_generator,\n",
    "#                               use_multiprocessing=True, workers=10,\n",
    "#                               callbacks=callbacks, steps_per_epoch=1)"
   ]
  },
  {
   "cell_type": "code",
   "execution_count": null,
   "metadata": {
    "collapsed": true
   },
   "outputs": [],
   "source": [
    "# model.save_weights('../checkpoints/working_fcn.h5')"
   ]
  },
  {
   "cell_type": "code",
   "execution_count": 9,
   "metadata": {
    "collapsed": true
   },
   "outputs": [],
   "source": [
    "model.load_weights('../checkpoints/working_fcn.h5')"
   ]
  },
  {
   "cell_type": "code",
   "execution_count": null,
   "metadata": {
    "ExecuteTime": {
     "end_time": "2018-06-19T16:17:10.931662Z",
     "start_time": "2018-06-19T16:16:56.070485Z"
    },
    "collapsed": true
   },
   "outputs": [],
   "source": [
    "example_img, example_annotation = training_generator[0]"
   ]
  },
  {
   "cell_type": "code",
   "execution_count": null,
   "metadata": {
    "ExecuteTime": {
     "end_time": "2018-06-19T16:17:11.597839Z",
     "start_time": "2018-06-19T16:17:10.943699Z"
    },
    "collapsed": true
   },
   "outputs": [],
   "source": [
    "model.evaluate(example_img, example_annotation)"
   ]
  },
  {
   "cell_type": "code",
   "execution_count": 5,
   "metadata": {
    "ExecuteTime": {
     "end_time": "2018-06-19T16:17:22.995299Z",
     "start_time": "2018-06-19T16:17:22.380855Z"
    },
    "collapsed": true
   },
   "outputs": [],
   "source": [
    "import matplotlib.pyplot as plt\n",
    "import numpy as np"
   ]
  },
  {
   "cell_type": "code",
   "execution_count": null,
   "metadata": {
    "ExecuteTime": {
     "end_time": "2018-06-19T16:17:19.550769Z",
     "start_time": "2018-06-19T16:17:17.700889Z"
    },
    "collapsed": true
   },
   "outputs": [],
   "source": [
    "prediction = model.predict(example_img)"
   ]
  },
  {
   "cell_type": "code",
   "execution_count": null,
   "metadata": {
    "ExecuteTime": {
     "end_time": "2018-06-19T16:17:45.310404Z",
     "start_time": "2018-06-19T16:17:45.179209Z"
    },
    "collapsed": true
   },
   "outputs": [],
   "source": [
    "prediction = np.argmax(prediction, axis=-1)"
   ]
  },
  {
   "cell_type": "code",
   "execution_count": null,
   "metadata": {
    "ExecuteTime": {
     "end_time": "2018-06-19T16:17:46.675263Z",
     "start_time": "2018-06-19T16:17:46.669518Z"
    },
    "collapsed": true
   },
   "outputs": [],
   "source": [
    "prediction.shape"
   ]
  },
  {
   "cell_type": "code",
   "execution_count": null,
   "metadata": {
    "ExecuteTime": {
     "end_time": "2018-06-19T16:17:49.850462Z",
     "start_time": "2018-06-19T16:17:49.469946Z"
    },
    "collapsed": true
   },
   "outputs": [],
   "source": [
    "plt.figure(figsize=(20,20))\n",
    "plt.subplot(1,3,1)\n",
    "plt.imshow(example_img[0,:,:,0], cmap='gray')\n",
    "plt.subplot(1,3,2)\n",
    "plt.imshow(example_annotation[0,:,:,0], cmap='gray')\n",
    "plt.subplot(1,3,3)\n",
    "plt.imshow(prediction[0,:,:], cmap='gray')"
   ]
  },
  {
   "cell_type": "code",
   "execution_count": null,
   "metadata": {
    "ExecuteTime": {
     "end_time": "2018-06-19T16:17:55.484805Z",
     "start_time": "2018-06-19T16:17:55.476035Z"
    },
    "collapsed": true
   },
   "outputs": [],
   "source": [
    "np.unique(example_annotation[0,:,:,0])"
   ]
  },
  {
   "cell_type": "code",
   "execution_count": null,
   "metadata": {
    "ExecuteTime": {
     "end_time": "2018-06-19T16:17:56.151971Z",
     "start_time": "2018-06-19T16:17:56.125331Z"
    },
    "collapsed": true
   },
   "outputs": [],
   "source": [
    "np.unique(prediction)"
   ]
  },
  {
   "cell_type": "code",
   "execution_count": 6,
   "metadata": {
    "collapsed": true
   },
   "outputs": [],
   "source": [
    "import tensorflow as tf\n",
    "from keras import backend as K"
   ]
  },
  {
   "cell_type": "code",
   "execution_count": null,
   "metadata": {
    "collapsed": true
   },
   "outputs": [],
   "source": [
    "img = tf.placeholder(tf.float32, shape=(1, None, None, 1))\n",
    "img_slides = tf.extract_image_patches(img,\n",
    "                                      [1,250,250,1], \n",
    "                                      [1,250,250,1], \n",
    "                                      [1,1,1,1], \n",
    "                                      'VALID')\n",
    "\n",
    "x = K.reshape(img_slides, [-1,250,250,1])\n",
    "y = model(x)"
   ]
  },
  {
   "cell_type": "code",
   "execution_count": 7,
   "metadata": {
    "collapsed": true
   },
   "outputs": [],
   "source": [
    "from PIL import Image\n",
    "import numpy as np\n",
    "import matplotlib.pyplot as plt\n",
    "\n",
    "#img = Image.open('../../../true_piece.png')\n",
    "image = cv2.imread('../../../true_piece.png')\n",
    "#img = cv2.resize(image)\n",
    "#plt.imshow(img)"
   ]
  },
  {
   "cell_type": "code",
   "execution_count": null,
   "metadata": {
    "collapsed": true
   },
   "outputs": [],
   "source": [
    "#image = cv2.imread('../../../true_piece.png', cv2.IMREAD_GRAYSCALE)\n",
    "image = cv2.imread('../../../deep_scores/images_png/lg-511264645693491043-aug-gonville--page-20.png', cv2.IMREAD_GRAYSCALE)\n",
    "#image = image[0:500,0:500]\n",
    "\n",
    "img_shape = image.shape\n",
    "img_reshaped = image.reshape(1, img_shape[0], img_shape[1], 1)\n",
    "fig = plt.figure(figsize=(20,20))\n",
    "image_2 = img_reshaped.reshape(img_shape[0], img_shape[1])\n",
    "plt.imshow(image_2,cmap='gray')\n",
    "plt.show()\n",
    "img_reshaped = img_reshaped.astype('float32')\n",
    "#img_reshaped = tf.cast(img_reshaped, tf.float32)\n",
    "#img_reshaped = np.array()"
   ]
  },
  {
   "cell_type": "code",
   "execution_count": null,
   "metadata": {
    "collapsed": true
   },
   "outputs": [],
   "source": [
    "img_reshaped.shape"
   ]
  },
  {
   "cell_type": "code",
   "execution_count": null,
   "metadata": {
    "collapsed": true
   },
   "outputs": [],
   "source": [
    "img_slides = tf.extract_image_patches(img_reshaped,\n",
    "                                      [1,250,250,1], \n",
    "                                      [1,250,250,1], \n",
    "                                      [1,1,1,1], \n",
    "                                      'VALID')\n",
    "\n",
    "\n",
    "x = K.reshape(img_slides, [-1,250,250,1])\n",
    "y = model(x)"
   ]
  },
  {
   "cell_type": "code",
   "execution_count": null,
   "metadata": {
    "collapsed": true
   },
   "outputs": [],
   "source": [
    "config = tf.ConfigProto()\n",
    "config.gpu_options.per_process_gpu_memory_fraction = 0.5"
   ]
  },
  {
   "cell_type": "code",
   "execution_count": null,
   "metadata": {
    "collapsed": true
   },
   "outputs": [],
   "source": [
    "with tf.Session(config=config).as_default() as sess:\n",
    "#         run_opts = tf.RunOptions(report_tensor_allocations_upon_oom = True)\n",
    "#         sess = tf_debug.TensorBoardDebugWrapperSession(sess, \"mirlab:6000\")\n",
    "        #model.load_weights('noteheadDetector/models/cnn8.h5')\n",
    "        #sess.run(y)\n",
    "        #model.load_weights('../checkpoints/working_fcn.h5')\n",
    "        model.load_weights('../checkpoints/working_fcn.h5')\n",
    "        output_vals = sess.run(y, {img: img_reshaped, K.learning_phase(): 0})"
   ]
  },
  {
   "cell_type": "code",
   "execution_count": null,
   "metadata": {
    "collapsed": true
   },
   "outputs": [],
   "source": [
    "from matplotlib.patches import Rectangle\n",
    "from matplotlib.collections import PatchCollection"
   ]
  },
  {
   "cell_type": "code",
   "execution_count": null,
   "metadata": {
    "collapsed": true
   },
   "outputs": [],
   "source": [
    "output_vals.shape"
   ]
  },
  {
   "cell_type": "code",
   "execution_count": null,
   "metadata": {
    "collapsed": true
   },
   "outputs": [],
   "source": [
    "output_vals = np.argmax(output_vals, axis=3)"
   ]
  },
  {
   "cell_type": "code",
   "execution_count": null,
   "metadata": {
    "collapsed": true
   },
   "outputs": [],
   "source": [
    "output_vals.shape"
   ]
  },
  {
   "cell_type": "code",
   "execution_count": null,
   "metadata": {
    "collapsed": true
   },
   "outputs": [],
   "source": [
    "for x in range(output_vals.shape[0]):\n",
    "    plt.imshow(output_vals[x], cmap='gray')\n",
    "    plt.show()"
   ]
  },
  {
   "cell_type": "markdown",
   "metadata": {},
   "source": [
    "Now combine arrays to get a full image"
   ]
  },
  {
   "cell_type": "code",
   "execution_count": null,
   "metadata": {
    "collapsed": true
   },
   "outputs": [],
   "source": [
    "output_vals.shape"
   ]
  },
  {
   "cell_type": "code",
   "execution_count": null,
   "metadata": {
    "collapsed": true
   },
   "outputs": [],
   "source": [
    "valList = []\n",
    "#rowSize = 6\n",
    "for x in range(output_vals.shape[0]):\n",
    "    #print(output_vals[x].shape)\n",
    "    valList.append(output_vals[x])"
   ]
  },
  {
   "cell_type": "code",
   "execution_count": null,
   "metadata": {
    "collapsed": true
   },
   "outputs": [],
   "source": [
    "valList[0:250][0:250]"
   ]
  },
  {
   "cell_type": "code",
   "execution_count": null,
   "metadata": {
    "collapsed": true
   },
   "outputs": [],
   "source": [
    "valList = np.zeros((3750,2500))\n",
    "rowCount = 0\n",
    "col = 0\n",
    "row = 0\n",
    "rowSize = 10 #11 patches per row\n",
    "for x in range(0,output_vals.shape[0]):\n",
    "    if rowCount < rowSize:\n",
    "        valList[row:row+250,col:col+250] = output_vals[x]\n",
    "        rowCount += 1\n",
    "        col += 250\n",
    "    else:\n",
    "        col = 0\n",
    "        row += 250\n",
    "        rowCount = 0\n",
    "        #print(valList[row:row+250,col:col+250].shape)\n",
    "        valList[row:row+250,col:col+250] = output_vals[x]\n",
    "        rowCount += 1\n",
    "        col += 250\n",
    "#     #print(output_vals[x].shape)\n",
    "#     #valList.append(output_vals[x])"
   ]
  },
  {
   "cell_type": "code",
   "execution_count": null,
   "metadata": {
    "collapsed": true
   },
   "outputs": [],
   "source": [
    "valList"
   ]
  },
  {
   "cell_type": "code",
   "execution_count": null,
   "metadata": {
    "collapsed": true
   },
   "outputs": [],
   "source": [
    "valList.shape"
   ]
  },
  {
   "cell_type": "code",
   "execution_count": null,
   "metadata": {
    "collapsed": true,
    "scrolled": false
   },
   "outputs": [],
   "source": [
    "fig = plt.figure(figsize=(20,20))\n",
    "plt.imshow(valList, cmap='gray')"
   ]
  },
  {
   "cell_type": "code",
   "execution_count": null,
   "metadata": {
    "collapsed": true
   },
   "outputs": [],
   "source": [
    "img.shape"
   ]
  },
  {
   "cell_type": "code",
   "execution_count": null,
   "metadata": {
    "collapsed": true
   },
   "outputs": [],
   "source": [
    "fig = plt.figure(figsize=(20,20))\n",
    "plt.subplot(121)\n",
    "plt.imshow(valList,cmap='gray')\n",
    "plt.subplot(122)\n",
    "image = cv2.imread('../../../deep_scores/images_png/lg-511264645693491043-aug-gonville--page-20.png', cv2.IMREAD_GRAYSCALE)\n",
    "#image = image[0:500,0:500]\n",
    "\n",
    "img_shape = image.shape\n",
    "img_reshaped = image.reshape(1, img_shape[0], img_shape[1], 1)\n",
    "#fig = plt.figure(figsize=(20,20))\n",
    "image_2 = img_reshaped.reshape(img_shape[0], img_shape[1])\n",
    "plt.imshow(image_2,cmap='gray')\n",
    "plt.show()"
   ]
  },
  {
   "cell_type": "code",
   "execution_count": null,
   "metadata": {
    "collapsed": true
   },
   "outputs": [],
   "source": [
    "img.shape"
   ]
  },
  {
   "cell_type": "code",
   "execution_count": null,
   "metadata": {
    "collapsed": true
   },
   "outputs": [],
   "source": [
    "image = cv2.imread('../../../deep_scores/images_png/lg-511264645693491043-aug-gonville--page-20.png', cv2.IMREAD_GRAYSCALE)\n",
    "#image = image[0:500,0:500]\n",
    "\n",
    "img_shape = image.shape\n",
    "img_reshaped = image.reshape(1, img_shape[0], img_shape[1], 1)\n",
    "fig = plt.figure(figsize=(20,20))\n",
    "image_2 = img_reshaped.reshape(img_shape[0], img_shape[1])\n",
    "plt.imshow(image_2,cmap='gray')\n",
    "plt.show()"
   ]
  },
  {
   "cell_type": "markdown",
   "metadata": {},
   "source": [
    "code for stitching image in functions:"
   ]
  },
  {
   "cell_type": "code",
   "execution_count": 8,
   "metadata": {
    "collapsed": true
   },
   "outputs": [],
   "source": [
    "import numpy as np\n",
    "import matplotlib.pyplot as plt"
   ]
  },
  {
   "cell_type": "code",
   "execution_count": 9,
   "metadata": {},
   "outputs": [
    {
     "data": {
      "text/plain": [
       "(None, 250, 250, 1)"
      ]
     },
     "execution_count": 9,
     "metadata": {},
     "output_type": "execute_result"
    }
   ],
   "source": [
    "model.input_shape"
   ]
  },
  {
   "cell_type": "code",
   "execution_count": 23,
   "metadata": {
    "collapsed": true
   },
   "outputs": [],
   "source": [
    "def run_model(image, model, model_weight_path):\n",
    "    #model shape is a tuple\n",
    "    #model = FCN(input_shape=(250,250,1), n_classes=124)\n",
    "    shape = (model.input_shape[1], model.input_shape[2])\n",
    "    model.load_weights('../checkpoints/working_fcn.h5')\n",
    "    img = tf.placeholder(tf.float32, shape=(1, None, None, 1))\n",
    "    img_slides = tf.extract_image_patches(img,\n",
    "                                          [1,shape[0],shape[1],1], \n",
    "                                          [1,shape[0],shape[1],1], \n",
    "                                          [1,1,1,1], \n",
    "                                          'VALID')\n",
    "\n",
    "    x = K.reshape(img_slides, [-1,250,250,1])\n",
    "    y = model(x)\n",
    "    \n",
    "    img_slides = tf.extract_image_patches(image,\n",
    "                                          [1,shape[0],shape[1],1], \n",
    "                                          [1,shape[0],shape[1],1], \n",
    "                                          [1,1,1,1], \n",
    "                                          'VALID')\n",
    "\n",
    "\n",
    "    x = K.reshape(img_slides, [-1,shape[0],shape[1],1])\n",
    "    y = model(x)\n",
    "\n",
    "    config = tf.ConfigProto()\n",
    "    config.gpu_options.per_process_gpu_memory_fraction = 0.5\n",
    "\n",
    "    with tf.Session(config=config).as_default() as sess:\n",
    "            model.load_weights(model_weight_path)\n",
    "            output_vals = sess.run(y, {img: image, K.learning_phase(): 0})\n",
    "            \n",
    "    output_vals = np.argmax(output_vals, axis=3)\n",
    "    return output_vals,shape"
   ]
  },
  {
   "cell_type": "code",
   "execution_count": 17,
   "metadata": {
    "collapsed": true
   },
   "outputs": [],
   "source": [
    "def stich_preds(output_vals,model_shape):\n",
    "    #now model shape is of form (250,250)\n",
    "    valList = np.zeros((3750,2500))\n",
    "    rowCount = 0\n",
    "    col = 0\n",
    "    row = 0\n",
    "    rowSize = 10 #11 patches per row\n",
    "    for x in range(0,output_vals.shape[0]):\n",
    "        if rowCount < rowSize:\n",
    "            valList[row:row+model_shape[0],col:col+model_shape[1]] = output_vals[x]\n",
    "            rowCount += 1\n",
    "            col += model_shape[1]\n",
    "        else:\n",
    "            col = 0\n",
    "            row += model_shape[0]\n",
    "            rowCount = 0\n",
    "            valList[row:row+model_shape[0],col:col+model_shape[1]] = output_vals[x]\n",
    "            rowCount += 1\n",
    "            col += model_shape[1]\n",
    "            \n",
    "    return valList"
   ]
  },
  {
   "cell_type": "code",
   "execution_count": 18,
   "metadata": {
    "collapsed": true
   },
   "outputs": [],
   "source": [
    "def show_stitched_orig(orig_image, stitched_image):\n",
    "    fig = plt.figure(figsize=(20,20))\n",
    "    plt.subplot(121)\n",
    "    plt.imshow(orig_image,cmap='gray')\n",
    "    plt.subplot(122)\n",
    "\n",
    "    plt.imshow(stitched_image,cmap='gray')\n",
    "    plt.show()"
   ]
  },
  {
   "cell_type": "code",
   "execution_count": 19,
   "metadata": {
    "collapsed": true
   },
   "outputs": [],
   "source": [
    "def stitchImagePreds(image_path, model, model_weight_path):\n",
    "    image = cv2.imread(image_path, cv2.IMREAD_GRAYSCALE)\n",
    "    model.load_weights(model_weight_path)\n",
    "\n",
    "    img_shape = image.shape\n",
    "    img_reshaped = image.reshape(1, img_shape[0], img_shape[1], 1)\n",
    "    img_reshaped = img_reshaped.astype('float32')\n",
    "    \n",
    "    output_vals,model_shape = run_model(img_reshaped,model,model_weight_path)\n",
    "    \n",
    "    stitched_image = stich_preds(output_vals,model_shape)\n",
    "    \n",
    "    show_stitched_orig(image, stitched_image)"
   ]
  },
  {
   "cell_type": "code",
   "execution_count": 20,
   "metadata": {
    "collapsed": true
   },
   "outputs": [],
   "source": [
    "model = FCN(input_shape=(250,250,1), n_classes=124)\n",
    "model.load_weights('../checkpoints/working_fcn.h5')\n",
    "path = '../../../deep_scores/images_png/lg-511264645693491043-aug-gonville--page-20.png'\n",
    "model_weight_path = '../checkpoints/working_fcn.h5'"
   ]
  },
  {
   "cell_type": "code",
   "execution_count": 24,
   "metadata": {},
   "outputs": [
    {
     "data": {
      "image/png": "[encoded data removed]",
      "text/plain": [
       "<Figure size 1440x1440 with 2 Axes>"
      ]
     },
     "metadata": {},
     "output_type": "display_data"
    }
   ],
   "source": [
    "stitchImagePreds(path, model, model_weight_path)"
   ]
  },
  {
   "cell_type": "code",
   "execution_count": 31,
   "metadata": {},
   "outputs": [
    {
     "data": {
      "text/plain": [
       "<matplotlib.image.AxesImage at 0x7fc9008fb400>"
      ]
     },
     "execution_count": 31,
     "metadata": {},
     "output_type": "execute_result"
    },
    {
     "data": {
      "image/png": "[encoded data removed]",
      "text/plain": [
       "<Figure size 432x288 with 1 Axes>"
      ]
     },
     "metadata": {},
     "output_type": "display_data"
    }
   ],
   "source": [
    "image = cv2.imread(path, cv2.IMREAD_GRAYSCALE)\n",
    "plt.imshow(image, cmap='gray')"
   ]
  },
  {
   "cell_type": "markdown",
   "metadata": {},
   "source": [
    "# Compare"
   ]
  },
  {
   "cell_type": "code",
   "execution_count": null,
   "metadata": {
    "collapsed": true
   },
   "outputs": [],
   "source": [
    "from PIL import Image\n",
    "import matplotlib.pyplot as plt\n",
    "import numpy as np\n",
    "import math"
   ]
  },
  {
   "cell_type": "code",
   "execution_count": null,
   "metadata": {
    "collapsed": true
   },
   "outputs": [],
   "source": [
    "img2pix = [numBlack2, numBlackSmall2, numHalf2, numHalfSmall2, numWhole2, numWholeSmall2, numDoubleWhole2, numDoubleWholeSmall2]"
   ]
  },
  {
   "cell_type": "code",
   "execution_count": null,
   "metadata": {
    "collapsed": true
   },
   "outputs": [],
   "source": [
    "def createNoteValueDict():\n",
    "    noteValues = {}\n",
    "    noteValues[\"noteheadBlack\"] = 29\n",
    "    noteValues[\"noteheadBlackSmall\"] = 30\n",
    "    noteValues[\"noteheadHalf\"] = 31\n",
    "    noteValues[\"noteheadHalfSmall\"] = 32\n",
    "    noteValues[\"noteheadWhole\"] = 33\n",
    "    noteValues[\"noteheadWholeSmall\"] = 34\n",
    "    noteValues[\"noteheadDoubleWhole\"] = 35\n",
    "    noteValues[\"noteheadDoubleWholeSmall\"] = 36\n",
    "    return noteValues"
   ]
  },
  {
   "cell_type": "code",
   "execution_count": null,
   "metadata": {
    "collapsed": true
   },
   "outputs": [],
   "source": [
    "def getNotes(image):\n",
    "    valueDict = createNoteValueDict()\n",
    "    img = Image.open(image)\n",
    "    \n",
    "    #create dict of values for image and set to 0\n",
    "    imageValues = valueDict\n",
    "    for key in imageValues.keys():\n",
    "        imageValues[key] = 0\n",
    "    \n",
    "    for pixel in img.getdata():\n",
    "        if pixel == noteheadBlack:\n",
    "            imageValues[\"noteheadBlack\"] += 1\n",
    "        elif pixel == noteheadBlackSmall:\n",
    "            imageValues[\"noteheadBlackSmall\"] += 1\n",
    "        elif pixel == noteheadHalf:\n",
    "            imageValues[\"noteheadHalf\"] += 1\n",
    "        elif pixel == noteheadHalfSmall:\n",
    "            imageValues[\"noteheadHalfSmall\"] += 1\n",
    "        elif pixel == noteheadWhole:\n",
    "            imageValues[\"noteheadWhole\"] += 1\n",
    "        elif pixel == noteheadWholeSmall:\n",
    "            imageValues[\"noteheadWholeSmall\"] += 1\n",
    "        elif pixel == noteheadDoubleWhole:\n",
    "            imageValues[\"noteheadDoubleWhole\"] += 1\n",
    "        elif pixel == noteheadDoubleWholeSmall:\n",
    "            imageValues[\"noteheadDoubleWholeSmall\"] += 1\n",
    "            \n",
    "    return imageValues"
   ]
  },
  {
   "cell_type": "code",
   "execution_count": null,
   "metadata": {
    "collapsed": true
   },
   "outputs": [],
   "source": [
    "def naiveDistance(img_1, img_2):\n",
    "    totalDist = 0\n",
    "    img1_values = getNotes(img_1)\n",
    "    img2_values = getNotes(img_2)\n",
    "    \n",
    "    for key in img1_values.keys():\n",
    "        totalDist += (img1_values[key] - img2_values[key])\n",
    "        \n",
    "    totalDist = abs(totalDist)\n",
    "        \n",
    "    print(\"total distance between images 1 and 2: \" + str(totalDist))"
   ]
  },
  {
   "cell_type": "markdown",
   "metadata": {},
   "source": [
    "add stuff to go through database and get distances"
   ]
  },
  {
   "cell_type": "code",
   "execution_count": null,
   "metadata": {
    "collapsed": true
   },
   "outputs": [],
   "source": []
  }
 ],
 "metadata": {
  "kernelspec": {
   "display_name": "Python [conda env:py36]",
   "language": "python",
   "name": "conda-env-py36-py"
  },
  "language_info": {
   "codemirror_mode": {
    "name": "ipython",
    "version": 3
   },
   "file_extension": ".py",
   "mimetype": "text/x-python",
   "name": "python",
   "nbconvert_exporter": "python",
   "pygments_lexer": "ipython3",
   "version": "3.6.4"
  },
  "latex_envs": {
   "LaTeX_envs_menu_present": true,
   "autoclose": false,
   "autocomplete": true,
   "bibliofile": "biblio.bib",
   "cite_by": "apalike",
   "current_citInitial": 1,
   "eqLabelWithNumbers": true,
   "eqNumInitial": 1,
   "hotkeys": {
    "equation": "Ctrl-E",
    "itemize": "Ctrl-I"
   },
   "labels_anchors": false,
   "latex_user_defs": false,
   "report_style_numbering": false,
   "user_envs_cfg": false
  },
  "toc": {
   "nav_menu": {},
   "number_sections": true,
   "sideBar": true,
   "skip_h1_title": false,
   "title_cell": "Table of Contents",
   "title_sidebar": "Contents",
   "toc_cell": false,
   "toc_position": {},
   "toc_section_display": true,
   "toc_window_display": false
  },
  "varInspector": {
   "cols": {
    "lenName": 16,
    "lenType": 16,
    "lenVar": 40
   },
   "kernels_config": {
    "python": {
     "delete_cmd_postfix": "",
     "delete_cmd_prefix": "del ",
     "library": "var_list.py",
     "varRefreshCmd": "print(var_dic_list())"
    },
    "r": {
     "delete_cmd_postfix": ") ",
     "delete_cmd_prefix": "rm(",
     "library": "var_list.r",
     "varRefreshCmd": "cat(var_dic_list()) "
    }
   },
   "position": {
    "height": "519px",
    "left": "1154px",
    "right": "52px",
    "top": "111px",
    "width": "714px"
   },
   "types_to_exclude": [
    "module",
    "function",
    "builtin_function_or_method",
    "instance",
    "_Feature"
   ],
   "window_display": false
  }
 },
 "nbformat": 4,
 "nbformat_minor": 2
}
