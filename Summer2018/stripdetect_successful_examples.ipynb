{
 "cells": [
  {
   "cell_type": "markdown",
   "metadata": {},
   "source": [
    "Here we'll pick out examples where we successfully segment images and pick out strips so we can get nice ~sxy~ examples."
   ]
  },
  {
   "cell_type": "code",
   "execution_count": 1,
   "metadata": {},
   "outputs": [
    {
     "name": "stderr",
     "output_type": "stream",
     "text": [
      "Using TensorFlow backend.\n",
      "/home/dbashir/anaconda2/envs/py36/lib/python3.6/importlib/_bootstrap.py:219: RuntimeWarning: compiletime version 3.5 of module 'tensorflow.python.framework.fast_tensor_util' does not match runtime version 3.6\n",
      "  return f(*args, **kwds)\n"
     ]
    }
   ],
   "source": [
    "import sys\n",
    "sys.path.append('SheetIdentification')\n",
    "sys.path.append('SheetIdentification/sheet_id')\n",
    "sys.path.append('SheetIdentification/sheet_id/models')\n",
    "sys.path.append('SheetIdentification/sheet_id/utils')\n",
    "from DWD import DWD\n",
    "from dwd_utils import generateFullpagePrediction, inferBoundingBoxes\n",
    "from base_utils import visualizeBoundingBoxes\n",
    "import numpy as np\n",
    "import cv2\n",
    "import matplotlib.pyplot as plt"
   ]
  },
  {
   "cell_type": "code",
   "execution_count": 2,
   "metadata": {
    "collapsed": true
   },
   "outputs": [],
   "source": [
    "import numpy as np\n",
    "from scipy.spatial.distance import cdist\n",
    "from scipy import ndimage\n",
    "from scipy import signal\n",
    "from scipy.stats import linregress\n",
    "from scipy.signal import convolve2d, gaussian, argrelextrema\n",
    "from scipy.interpolate import interp1d\n",
    "from sklearn.preprocessing import normalize\n",
    "from skimage.transform import rotate\n",
    "import matplotlib.pyplot as plt\n",
    "import matplotlib.patches as patches\n",
    "import pickle as cPickle\n",
    "import librosa\n",
    "import glob\n",
    "import re\n",
    "import sys\n",
    "import os\n",
    "import mido\n",
    "from mido import MidiFile\n",
    "import cv2\n",
    "from PIL import Image"
   ]
  },
  {
   "cell_type": "code",
   "execution_count": 3,
   "metadata": {
    "collapsed": true
   },
   "outputs": [],
   "source": [
    "model = DWD(input_shape=(500,500,1), n_classes=124)\n",
    "model.load_weights('dwd-finetune-100000.h5')"
   ]
  },
  {
   "cell_type": "code",
   "execution_count": 4,
   "metadata": {
    "collapsed": true
   },
   "outputs": [],
   "source": [
    "def importImage(pngfile):\n",
    "    img = ndimage.imread(pngfile, flatten=True)\n",
    "    img = 1 - img/255.0 # make white -> 0, black -> 1\n",
    "    return img"
   ]
  },
  {
   "cell_type": "code",
   "execution_count": 5,
   "metadata": {
    "collapsed": true
   },
   "outputs": [],
   "source": [
    "def showImage(X, sz = (12,12)):\n",
    "    plt.figure(figsize=sz)\n",
    "    plt.imshow(1-X, cmap='gray')"
   ]
  },
  {
   "cell_type": "code",
   "execution_count": 6,
   "metadata": {
    "collapsed": true
   },
   "outputs": [],
   "source": [
    "def rotateToHorizontal(img, lb=-.5, ub=.5, incr=.02, topN=40):\n",
    "    bestscore = -np.inf\n",
    "    bestTheta = 0\n",
    "    for theta in np.arange(lb, ub, incr):\n",
    "        imgRot = rotate(img,theta)\n",
    "        rsums = np.sum(imgRot, axis=1)\n",
    "        rsums_sorted = sorted(rsums)[::-1]\n",
    "        curscore = np.sum(rsums_sorted[0:topN])\n",
    "        if curscore > bestscore:\n",
    "            bestscore = curscore\n",
    "            bestTheta = theta\n",
    "    result = rotate(img,bestTheta)\n",
    "    return result, bestTheta"
   ]
  },
  {
   "cell_type": "code",
   "execution_count": 7,
   "metadata": {
    "collapsed": true
   },
   "outputs": [],
   "source": [
    "def getBoundingBox(img, thresh=.01, buff=0.05):\n",
    "    r = img.shape[0]\n",
    "    c = img.shape[1]\n",
    "    \n",
    "    cmeans = np.mean(img, axis=0)\n",
    "    cmean_thresh = np.max(cmeans) * thresh\n",
    "    cidxs_above = np.argwhere(cmeans > cmean_thresh)\n",
    "    col_start = cidxs_above[0][0]\n",
    "    col_end = cidxs_above[-1][0]\n",
    "    \n",
    "    rmeans = np.mean(img, axis=1)\n",
    "    rmean_thresh = np.max(rmeans) * thresh\n",
    "    ridxs_above = np.argwhere(rmeans > rmean_thresh)\n",
    "    row_start = ridxs_above[0][0]\n",
    "    row_end = ridxs_above[-1][0]\n",
    "    \n",
    "    # add buffer to ignore clefs\n",
    "    bufflen = np.int((col_end - col_start) * buff)\n",
    "    col_start_adj = col_start + bufflen\n",
    "    \n",
    "    return (row_start, col_start_adj), col_end - col_start_adj, row_end - row_start"
   ]
  },
  {
   "cell_type": "code",
   "execution_count": 8,
   "metadata": {
    "collapsed": true
   },
   "outputs": [],
   "source": [
    "def showImageWithBB(X, loc, w, h, sz=(12,12)):\n",
    "    fig = plt.figure(figsize=sz)\n",
    "    plt.imshow(1-X, cmap='gray')\n",
    "    ax = fig.gca()\n",
    "    rect = patches.Rectangle((loc[1],loc[0]), w, h, linewidth=1,edgecolor='r',facecolor='none')\n",
    "    ax.add_patch(rect)\n",
    "    plt.show()"
   ]
  },
  {
   "cell_type": "code",
   "execution_count": 9,
   "metadata": {
    "collapsed": true
   },
   "outputs": [],
   "source": [
    "def getCropped(X, thresh=0.01):\n",
    "    ll, w, h = getBoundingBox(X, thresh=thresh)\n",
    "    return X[ll[0]:ll[0]+h,ll[1]:ll[1]+w]"
   ]
  },
  {
   "cell_type": "code",
   "execution_count": 10,
   "metadata": {
    "collapsed": true
   },
   "outputs": [],
   "source": [
    "def getStripBoundaries(X, showPlot = False):\n",
    "    # find staves\n",
    "    filt = np.vstack((np.ones(21),np.zeros(21),-1*np.ones(21))) # emphasize horizontal lines\n",
    "    Xfilt = signal.convolve2d(X-np.mean(X), filt, mode='same')\n",
    "    rsum = np.sum(Xfilt, axis=1)\n",
    "    rsum_spectra = librosa.core.stft(rsum,n_fft=32,hop_length=1) # look for high frequency oscillations\n",
    "    spectra_max = np.max(rsum_spectra[4:10,:], axis=0)\n",
    "    spectra_max_smoothed = np.convolve(spectra_max,np.hanning(15),'same')\n",
    "    peakidxs = signal.find_peaks_cwt(spectra_max_smoothed, range(15,41,1))\n",
    "    #assert(len(peakidxs) % 2 == 0)\n",
    "    \n",
    "    # determine boundaries\n",
    "    numStrips = np.int(len(peakidxs))\n",
    "    boundaries = []\n",
    "    for i in range(numStrips):\n",
    "        peak1idx = peakidxs[i]\n",
    "        if i >= (numStrips - 1):\n",
    "            break\n",
    "        peak2idx = peakidxs[i+1]\n",
    "        midpt = np.int((peak1idx + peak2idx)/2.0)\n",
    "        boundaries.append(midpt)\n",
    "    boundaries.insert(0, 0)  # for first strip\n",
    "    boundaries.append(X.shape[0]-1) # for last strip\n",
    "    \n",
    "    # show peak picking results (for debugging)\n",
    "    if showPlot:\n",
    "        plt.plot(spectra_max_smoothed)\n",
    "        for pk in peakidxs:\n",
    "            plt.axvline(x=pk, color='r', linewidth=1)\n",
    "            \n",
    "    return boundaries"
   ]
  },
  {
   "cell_type": "code",
   "execution_count": 11,
   "metadata": {
    "collapsed": true
   },
   "outputs": [],
   "source": [
    "def visualizeBoundaries(X, bnds, savefile = None):\n",
    "    showImage(X)\n",
    "    for bnd in bnds:\n",
    "        plt.axhline(y=bnd, color='r', linewidth=1)\n",
    "    if savefile:\n",
    "        plt.savefig(savefile)"
   ]
  },
  {
   "cell_type": "code",
   "execution_count": 12,
   "metadata": {
    "collapsed": true
   },
   "outputs": [],
   "source": [
    "def getStrips(X, bnds):\n",
    "    strips = []\n",
    "    for i in range(len(bnds)-1):\n",
    "        rstart = bnds[i]\n",
    "        rend = bnds[i+1] + 1 # include endpoint\n",
    "        chunk = X[rstart:rend,:]\n",
    "        strips.append(chunk)\n",
    "    return strips"
   ]
  },
  {
   "cell_type": "code",
   "execution_count": 13,
   "metadata": {
    "collapsed": true
   },
   "outputs": [],
   "source": [
    "def showStrips(strips):\n",
    "    for strip in strips:\n",
    "        showImage(strip)"
   ]
  },
  {
   "cell_type": "code",
   "execution_count": 14,
   "metadata": {
    "collapsed": true
   },
   "outputs": [],
   "source": [
    "def locateStaffLines(s, delta = 3, debug=False):\n",
    "    medvals = np.median(s, axis=1)\n",
    "    if debug:\n",
    "        print(\"num medvals: \" + str(len(medvals)))\n",
    "        print(\"medvals are: \" +  str(medvals))\n",
    "    for i, curVal in enumerate(medvals):\n",
    "        if i > delta and i < len(medvals)-delta:\n",
    "            if curVal != np.max(medvals[i-delta:i+delta+1]): # only keep local maxima\n",
    "                medvals[i] = 0\n",
    "    idxs_sorted_val = np.argsort(medvals)[::-1]\n",
    "    idxs_lines = sorted(idxs_sorted_val[0:10]) # going to change from [0:10] to [0:10] skipping by 2\n",
    "    idxs_lines = idxs_lines[1::2] # we want just 5, so start at the second and skip every other.\n",
    "    if debug:\n",
    "        print(\"sorted idxs val before clip: \" + str(idxs_sorted_val))\n",
    "        print(\"num sorted idxs: \" + str(len(idxs_sorted_val)))\n",
    "        print(\"idxs_lines number after clip: \" + str(len(idxs_lines)))\n",
    "        print(\"idxs_lines: \" + str(idxs_lines))\n",
    "    return np.array(idxs_lines)"
   ]
  },
  {
   "cell_type": "code",
   "execution_count": 15,
   "metadata": {
    "collapsed": true
   },
   "outputs": [],
   "source": [
    "def estimateMidiNum2PixelRowMapping(s, lineIdxs):\n",
    "    x = np.array([4, 2, 0, -2, -4]) # midi nums for staff lines, reformatted to be 0 in the middle, etc.\n",
    "    m, b, _, _, _ = linregress(x, lineIdxs)\n",
    "    return (m,b)"
   ]
  },
  {
   "cell_type": "code",
   "execution_count": 16,
   "metadata": {
    "collapsed": true
   },
   "outputs": [],
   "source": [
    "def estimatePixelRow (midinum, m, b):\n",
    "    return np.int(np.round(midinum * m + b))"
   ]
  },
  {
   "cell_type": "code",
   "execution_count": 17,
   "metadata": {
    "collapsed": true
   },
   "outputs": [],
   "source": [
    "def estimatePixelRow2MidiNumMapping(s, lineIdxs):\n",
    "    x = np.array([4, 2, 0, -2, -4]) # midi nums for staff lines\n",
    "    m, b, _, _, _ = linregress(lineIdxs, x)\n",
    "    return (m,b)"
   ]
  },
  {
   "cell_type": "code",
   "execution_count": 18,
   "metadata": {
    "collapsed": true
   },
   "outputs": [],
   "source": [
    "def getStripBoundariesNonPiano(X, showPlot = False):\n",
    "    # find staves\n",
    "    filt = np.vstack((np.ones(21),np.zeros(21),-1*np.ones(21))) # emphasize horizontal lines\n",
    "    Xfilt = signal.convolve2d(X-np.mean(X), filt, mode='same')\n",
    "    rsum = np.sum(Xfilt, axis=1)\n",
    "    rsum_spectra = librosa.core.stft(rsum,n_fft=32,hop_length=1) # look for high frequency oscillations\n",
    "    spectra_max = np.max(rsum_spectra[4:10,:], axis=0)\n",
    "    spectra_max_smoothed = np.convolve(spectra_max,np.hanning(15),'same')\n",
    "    peakidxs = signal.find_peaks_cwt(spectra_max_smoothed, range(15,41,1))\n",
    "    #assert(len(peakidxs) % 2 == 0)\n",
    "    \n",
    "    # determine boundaries\n",
    "    numStrips = np.int(len(peakidxs)/2) # note the lack of -1 here\n",
    "    boundaries = []\n",
    "    for i in range(numStrips):\n",
    "        peak1idx = peakidxs[2*i]\n",
    "        peak2idx = peakidxs[2*i+1]\n",
    "        midpt = np.int((peak1idx + peak2idx)/2.0)\n",
    "        boundaries.append(midpt)\n",
    "    boundaries.insert(0, 0)  # for first strip\n",
    "    boundaries.append(X.shape[0]-1) # for last strip\n",
    "    \n",
    "    # show peak picking results (for debugging)\n",
    "    if showPlot:\n",
    "        plt.plot(spectra_max_smoothed)\n",
    "        for pk in peakidxs:\n",
    "            plt.axvline(x=pk, color='r', linewidth=1)\n",
    "            \n",
    "    return boundaries"
   ]
  },
  {
   "cell_type": "code",
   "execution_count": 19,
   "metadata": {
    "collapsed": true
   },
   "outputs": [],
   "source": [
    "from matplotlib.collections import PatchCollection\n",
    "from matplotlib.patches import Rectangle\n",
    "def visualizeBoundingBoxes(img, boxes, figsize=(20, 20)):\n",
    "    \"\"\"\n",
    "    Visualize bounding boxes on the provided image\n",
    "    \"\"\"\n",
    "    _, ax = plt.subplots(1, 1, figsize=figsize)\n",
    "    ax.imshow(img, cmap='gray')\n",
    "    patches = []\n",
    "    for box in boxes:\n",
    "        patches.append(Rectangle((box[0], box[1]), box[2]-box[0], box[3]-box[1]))\n",
    "    pc = PatchCollection(patches, facecolor='None', edgecolor='r')\n",
    "    ax.add_collection(pc)"
   ]
  },
  {
   "cell_type": "code",
   "execution_count": 22,
   "metadata": {
    "collapsed": true
   },
   "outputs": [],
   "source": [
    "def getStrips(image, thresh, debug=False):\n",
    "    I = importImage(image)\n",
    "    Irot, theta = rotateToHorizontal(I)\n",
    "    Icrop = getCropped(Irot, thresh=thresh)\n",
    "    bnds = getStripBoundariesNonPiano(Icrop)\n",
    "    if debug:\n",
    "        ll, w, h = getBoundingBox(Irot, thresh=thresh)\n",
    "        showImageWithBB(Irot, ll, bbw, bbh)\n",
    "        visualizeBoundaries(Icrop, bnds)\n",
    "    strips = getStrips(Icrop, bnds)\n",
    "    #TODO: figure out how to find first strip\n",
    "    return strips"
   ]
  },
  {
   "cell_type": "code",
   "execution_count": 21,
   "metadata": {
    "collapsed": true
   },
   "outputs": [],
   "source": [
    "def get_lines_bboxes(strip, debug=False):\n",
    "    lines = locateStaffLines(strip)\n",
    "    inv_s = (255*(1-strip)).astype(int)\n",
    "    energy_map, class_map, bbox_map = generateFullpagePrediction(model, inv_s)\n",
    "    boxes, scores = inferBoundingBoxes(energy_map, class_map, bbox_map, non_max_suppression_factor=0.25)\n",
    "    if debug:\n",
    "        print(\"boxes: \" + str(boxes))\n",
    "        print(\"energy map: \" + str(energy_map))\n",
    "    return (inv_s,boxes,lines)\n",
    "    # you'd do smth like (inv_s, boxes, lines = get_lines_bboxes)"
   ]
  },
  {
   "cell_type": "code",
   "execution_count": 23,
   "metadata": {
    "collapsed": true
   },
   "outputs": [],
   "source": [
    "def visualize_output(s, inv_s, lines, boxes):\n",
    "    visualizeBoundingBoxes(inv_s, boxes)\n",
    "    for line in lines:\n",
    "        plt.axhline(y=line, color='r', linewidth=1)\n",
    "    plt.show()\n",
    "    \n",
    "    value_array = []\n",
    "    y_vals = []\n",
    "    notes = []\n",
    "    for box in boxes:\n",
    "        x1 = box[0]\n",
    "        x2 = box[2]\n",
    "        y1 = box[1]\n",
    "        y2 = box[3]\n",
    "        x_val = (x1+x2)/2\n",
    "        y_val = (y1+y2)/2\n",
    "        value_array.append((x_val, y_val))\n",
    "        y_vals.append(y_val)\n",
    "    for y_val in y_vals:\n",
    "        m, b = estimatePixelRow2MidiNumMapping(s, lines[0:5])\n",
    "        estNote = estimatePixelRow(y_val, m, b)\n",
    "        notes.append(estNote)\n",
    "    print('notes at location x: ')\n",
    "    print(notes)"
   ]
  },
  {
   "cell_type": "code",
   "execution_count": 24,
   "metadata": {
    "collapsed": true
   },
   "outputs": [],
   "source": [
    "pics = os.listdir('pdf/mini_dataset_png')"
   ]
  },
  {
   "cell_type": "code",
   "execution_count": 25,
   "metadata": {
    "collapsed": true
   },
   "outputs": [],
   "source": [
    "pic_names = []\n",
    "for pic in pics:\n",
    "    name = os.path.join('pdf/mini_dataset_png', pic)\n",
    "    pic_names.append(name)"
   ]
  },
  {
   "cell_type": "code",
   "execution_count": null,
   "metadata": {},
   "outputs": [
    {
     "name": "stderr",
     "output_type": "stream",
     "text": [
      "/home/dbashir/anaconda2/envs/py36/lib/python3.6/site-packages/ipykernel/__main__.py:2: DeprecationWarning: `imread` is deprecated!\n",
      "`imread` is deprecated in SciPy 1.0.0.\n",
      "Use ``matplotlib.pyplot.imread`` instead.\n",
      "  from ipykernel import kernelapp as app\n"
     ]
    }
   ],
   "source": [
    "pic = pic_names[0]\n",
    "I = importImage(pic)\n",
    "Irot, theta = rotateToHorizontal(I)\n",
    "Icrop = getCropped(Irot, thresh=0.2) # with default thresh\n",
    "bnds = getStripBoundariesNonPiano(Icrop)\n",
    "bnds_piano = getStripBoundaries(Icrop, debug=True)"
   ]
  },
  {
   "cell_type": "code",
   "execution_count": null,
   "metadata": {
    "collapsed": true
   },
   "outputs": [],
   "source": [
    "visualizeBoundaries(Icrop, bnds)"
   ]
  },
  {
   "cell_type": "code",
   "execution_count": null,
   "metadata": {
    "collapsed": true
   },
   "outputs": [],
   "source": []
  }
 ],
 "metadata": {
  "kernelspec": {
   "display_name": "Python [conda env:py36]",
   "language": "python",
   "name": "conda-env-py36-py"
  },
  "language_info": {
   "codemirror_mode": {
    "name": "ipython",
    "version": 3
   },
   "file_extension": ".py",
   "mimetype": "text/x-python",
   "name": "python",
   "nbconvert_exporter": "python",
   "pygments_lexer": "ipython3",
   "version": "3.6.4"
  }
 },
 "nbformat": 4,
 "nbformat_minor": 2
}
