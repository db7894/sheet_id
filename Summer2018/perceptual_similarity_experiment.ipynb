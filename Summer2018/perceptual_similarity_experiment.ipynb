{
 "cells": [
  {
   "cell_type": "markdown",
   "metadata": {},
   "source": [
    "From: https://github.com/richzhang/PerceptualSimilarity"
   ]
  },
  {
   "cell_type": "code",
   "execution_count": 1,
   "metadata": {
    "collapsed": true
   },
   "outputs": [],
   "source": [
    "import os, sys\n",
    "import numpy as np\n",
    "import scipy.misc\n",
    "import matplotlib.pyplot as plt\n",
    "from skimage.measure import structural_similarity as ssim\n",
    "import cv2\n",
    "#from skimage.transform import rotate\n",
    "from PIL import Image\n",
    "import imagehash\n",
    "#import argparse\n",
    "#import shelve\n",
    "import glob\n",
    "\n",
    "import torch\n",
    "from PerceptualSimilarity.util import util\n",
    "from PerceptualSimilarity.models import dist_model as dm\n",
    "from IPython import embed"
   ]
  },
  {
   "cell_type": "code",
   "execution_count": 2,
   "metadata": {
    "collapsed": true
   },
   "outputs": [],
   "source": [
    "use_gpu = True         # Whether to use GPU\n",
    "spatial = False         # Return a spatial map of perceptual distance.\n",
    "                       # Optional args spatial_shape and spatial_order control output shape and resampling filter: see DistModel.initialize() for details."
   ]
  },
  {
   "cell_type": "code",
   "execution_count": 3,
   "metadata": {
    "collapsed": true
   },
   "outputs": [],
   "source": [
    "## Initializing the model\n",
    "model = dm.DistModel()"
   ]
  },
  {
   "cell_type": "code",
   "execution_count": 4,
   "metadata": {},
   "outputs": [],
   "source": [
    "# Linearly calibrated models\n",
    "#model.initialize(model='net-lin',net='squeeze',use_gpu=use_gpu,spatial=spatial)\n",
    "model.initialize(model='net-lin',net='alex',use_gpu=use_gpu,spatial=spatial)\n",
    "#model.initialize(model='net-lin',net='vgg',use_gpu=use_gpu,spatial=spatial)"
   ]
  },
  {
   "cell_type": "code",
   "execution_count": 5,
   "metadata": {},
   "outputs": [
    {
     "name": "stdout",
     "output_type": "stream",
     "text": [
      "Model [net-lin [alex]] initialized\n"
     ]
    }
   ],
   "source": [
    "# Low-level metrics\n",
    "# model.initialize(model='l2',colorspace='Lab')\n",
    "# model.initialize(model='ssim',colorspace='RGB')\n",
    "print('Model [%s] initialized'%model.name())"
   ]
  },
  {
   "cell_type": "code",
   "execution_count": 6,
   "metadata": {
    "collapsed": true
   },
   "outputs": [],
   "source": [
    "pdf = os.path.join(os.getcwd(), 'pdf')\n",
    "CELLPHONE_IMG_PATH = os.path.join(pdf, 'minidataset_cell')\n",
    "DB_PATH            = os.path.join(pdf, 'mini_dataset_png')"
   ]
  },
  {
   "cell_type": "code",
   "execution_count": 7,
   "metadata": {
    "collapsed": true
   },
   "outputs": [],
   "source": [
    "png_paths = glob.glob(os.path.join(DB_PATH, '*.png'))"
   ]
  },
  {
   "cell_type": "code",
   "execution_count": 65,
   "metadata": {
    "collapsed": true
   },
   "outputs": [],
   "source": [
    "db = {}"
   ]
  },
  {
   "cell_type": "code",
   "execution_count": 66,
   "metadata": {
    "collapsed": true
   },
   "outputs": [],
   "source": [
    "testImgPath = os.path.join(CELLPHONE_IMG_PATH, 'IMG_9150.jpg') #this is where you choose the query image"
   ]
  },
  {
   "cell_type": "code",
   "execution_count": 67,
   "metadata": {
    "collapsed": true
   },
   "outputs": [],
   "source": [
    "ex_ref = util.im2tensor(util.load_image(testImgPath))"
   ]
  },
  {
   "cell_type": "code",
   "execution_count": 68,
   "metadata": {},
   "outputs": [
    {
     "data": {
      "text/plain": [
       "torch.Size([1, 3, 4032, 3024])"
      ]
     },
     "execution_count": 68,
     "metadata": {},
     "output_type": "execute_result"
    }
   ],
   "source": [
    "ex_ref.shape"
   ]
  },
  {
   "cell_type": "code",
   "execution_count": 69,
   "metadata": {},
   "outputs": [],
   "source": [
    "for i in range(len(png_paths)):\n",
    "    imagePath = png_paths[i]\n",
    "    image = util.im2tensor(util.load_image(imagePath))\n",
    "    \n",
    "    image = image.resize_(ex_ref.shape)\n",
    "    \n",
    "    #print(image.shape)\n",
    "    \n",
    "    distance = model.forward(ex_ref, image)\n",
    "    \n",
    "    filename = imagePath[imagePath.rfind(\"/\") + 1:]\n",
    "    \n",
    "    db[filename] = distance"
   ]
  },
  {
   "cell_type": "code",
   "execution_count": 70,
   "metadata": {},
   "outputs": [
    {
     "data": {
      "text/plain": [
       "['305764_page_88.png',\n",
       " '53399_page_2.png',\n",
       " '51212_page_385.png',\n",
       " '57895_page_2.png',\n",
       " '02235_page_77.png',\n",
       " '490343_page_9.png',\n",
       " '320363_page_291.png',\n",
       " '278240_page_201.png',\n",
       " '433671_page_7.png',\n",
       " '293281_page_253.png',\n",
       " '03031_page_19.png',\n",
       " '24577_page_142.png',\n",
       " '378078_page_75.png',\n",
       " '517401_page_154.png',\n",
       " '24547_page_66.png',\n",
       " '276011_page_23.png',\n",
       " '106106_page_41.png',\n",
       " '114900_page_4.png',\n",
       " '482211_page_1.png',\n",
       " '88879_page_355.png',\n",
       " '241869_page_42.png',\n",
       " '279776_page_18.png',\n",
       " '27113_page_16.png',\n",
       " '15562_page_57.png',\n",
       " '340340_page_96.png',\n",
       " '333433_page_30.png',\n",
       " '01685_page_24.png',\n",
       " '16314_page_29.png',\n",
       " '25315_page_2.png',\n",
       " '314961_page_4.png',\n",
       " '512324_page_30.png',\n",
       " '02331_page_69.png',\n",
       " '65711_page_23.png',\n",
       " '03366_page_36.png',\n",
       " '253851_page_2.png',\n",
       " '166951_page_33.png',\n",
       " '517025_page_594.png',\n",
       " '27475_page_7.png',\n",
       " '113413_page_1.png',\n",
       " '295562_page_85.png',\n",
       " '50754_page_1.png',\n",
       " '98290_page_46.png',\n",
       " '440770_page_289.png',\n",
       " '172491_page_2.png',\n",
       " '247445_page_68.png',\n",
       " '114608_page_248.png',\n",
       " '28595_page_19.png',\n",
       " '44543_page_7.png',\n",
       " '370600_page_1.png',\n",
       " '109207_page_1.png',\n",
       " '19459_page_3.png',\n",
       " '01938_page_1.png',\n",
       " '22228_page_36.png',\n",
       " '136341_page_51.png',\n",
       " '01749_page_1.png',\n",
       " '106405_page_137.png',\n",
       " '01380_page_5.png',\n",
       " '44964_page_329.png',\n",
       " '62251_page_32.png',\n",
       " '73024_page_190.png',\n",
       " '411476_page_103.png',\n",
       " '323254_page_8.png',\n",
       " '492192_page_21.png',\n",
       " '139615_page_38.png',\n",
       " '03333_page_17.png',\n",
       " '406692_page_2.png',\n",
       " '35927_page_30.png',\n",
       " '98624_page_37.png',\n",
       " '279665_page_271.png',\n",
       " '415756_page_27.png',\n",
       " '146002_page_3.png',\n",
       " '110319_page_23.png',\n",
       " '516512_page_2.png',\n",
       " '445860_page_100.png',\n",
       " '20018_page_3.png',\n",
       " '114583_page_42.png',\n",
       " '371085_page_36.png',\n",
       " '423347_page_17.png',\n",
       " '334598_page_28.png',\n",
       " '105117_page_27.png',\n",
       " '43676_page_271.png',\n",
       " '346695_page_10.png',\n",
       " '238622_page_16.png',\n",
       " '143211_page_95.png',\n",
       " '20579_page_64.png',\n",
       " '02908_page_24.png',\n",
       " '519233_page_63.png',\n",
       " '270880_page_63.png',\n",
       " '368980_page_1.png',\n",
       " '330636_page_115.png',\n",
       " '128147_page_77.png',\n",
       " '63473_page_83.png',\n",
       " '209693_page_3.png',\n",
       " '02267_page_2.png',\n",
       " '281748_page_5.png',\n",
       " '322323_page_103.png',\n",
       " '54136_page_56.png',\n",
       " '69747_page_12.png',\n",
       " '440143_page_27.png',\n",
       " '10719_page_3.png',\n",
       " '27230_page_4.png',\n",
       " '109508_page_151.png',\n",
       " '331259_page_26.png',\n",
       " '458322_page_23.png',\n",
       " '21725_page_191.png',\n",
       " '51265_page_52.png',\n",
       " '30036_page_75.png',\n",
       " '289284_page_12.png',\n",
       " '42556_page_5.png',\n",
       " '141079_page_469.png',\n",
       " '332234_page_2.png',\n",
       " '63015_page_38.png',\n",
       " '388502_page_1.png',\n",
       " '51427_page_4.png',\n",
       " '34787_page_11.png',\n",
       " '49157_page_1.png',\n",
       " '412274_page_386.png',\n",
       " '108781_page_39.png',\n",
       " '411010_page_38.png',\n",
       " '517755_page_347.png',\n",
       " '03684_page_48.png',\n",
       " '52189_page_6.png',\n",
       " '62575_page_80.png',\n",
       " '514870_page_183.png',\n",
       " '47447_page_6.png',\n",
       " '515927_page_100.png',\n",
       " '134103_page_4.png',\n",
       " '57857_page_22.png',\n",
       " '428455_page_49.png',\n",
       " '218668_page_32.png',\n",
       " '55127_page_2.png',\n",
       " '322323_page_89.png',\n",
       " '203699_page_15.png',\n",
       " '88639_page_6.png',\n",
       " '367455_page_1.png',\n",
       " '33060_page_107.png',\n",
       " '08851_page_46.png',\n",
       " '518271_page_5.png',\n",
       " '335945_page_113.png',\n",
       " '01106_page_45.png',\n",
       " '100913_page_38.png',\n",
       " '136304_page_325.png',\n",
       " '136276_page_108.png',\n",
       " '43238_page_23.png',\n",
       " '495875_page_11.png',\n",
       " '251051_page_103.png',\n",
       " '279665_page_680.png',\n",
       " '429093_page_40.png',\n",
       " '251579_page_24.png',\n",
       " '107692_page_8.png',\n",
       " '44964_page_72.png',\n",
       " '50532_page_1.png',\n",
       " '105370_page_93.png',\n",
       " '269148_page_9.png',\n",
       " '428031_page_3.png',\n",
       " '19110_page_5.png',\n",
       " '109509_page_7.png',\n",
       " '513452_page_139.png',\n",
       " '380009_page_35.png',\n",
       " '383482_page_4.png',\n",
       " '412274_page_40.png',\n",
       " '335127_page_13.png',\n",
       " '62185_page_34.png',\n",
       " '80125_page_14.png',\n",
       " '437849_page_3.png',\n",
       " '53021_page_40.png',\n",
       " '279985_page_53.png',\n",
       " '112888_page_187.png',\n",
       " '58926_page_33.png',\n",
       " '234233_page_19.png',\n",
       " '263108_page_23.png',\n",
       " '279915_page_22.png',\n",
       " '30533_page_104.png',\n",
       " '303258_page_144.png',\n",
       " '441732_page_59.png',\n",
       " '101480_page_10.png',\n",
       " '06028_page_50.png',\n",
       " '28870_page_6.png',\n",
       " '84124_page_22.png',\n",
       " '63999_page_192.png',\n",
       " '18971_page_107.png',\n",
       " '25492_page_15.png',\n",
       " '340364_page_18.png',\n",
       " '48143_page_22.png',\n",
       " '515498_page_614.png',\n",
       " '12100_page_30.png',\n",
       " '517380_page_316.png',\n",
       " '56618_page_46.png',\n",
       " '152912_page_182.png',\n",
       " '514286_page_110.png',\n",
       " '136271_page_49.png',\n",
       " '75838_page_1.png',\n",
       " '29864_page_4.png',\n",
       " '49332_page_9.png',\n",
       " '191419_page_23.png',\n",
       " '517423_page_110.png',\n",
       " '278240_page_123.png',\n",
       " '26024_page_46.png',\n",
       " '330635_page_67.png',\n",
       " '43615_page_22.png',\n",
       " '42626_page_7.png',\n",
       " '21896_page_64.png',\n",
       " '517023_page_108.png',\n",
       " '41636_page_169.png',\n",
       " '51740_page_8.png',\n",
       " '98904_page_102.png',\n",
       " '01923_page_10.png',\n",
       " '61784_page_40.png',\n",
       " '06563_page_14.png',\n",
       " '516486_page_56.png']"
      ]
     },
     "execution_count": 70,
     "metadata": {},
     "output_type": "execute_result"
    }
   ],
   "source": [
    "db.keys() #should give filenames of what showed up in the database"
   ]
  },
  {
   "cell_type": "code",
   "execution_count": 71,
   "metadata": {},
   "outputs": [
    {
     "data": {
      "text/plain": [
       "0.35600573"
      ]
     },
     "execution_count": 71,
     "metadata": {},
     "output_type": "execute_result"
    }
   ],
   "source": [
    "db['209693_page_3.png'][0] #see what ground truth's score is"
   ]
  },
  {
   "cell_type": "code",
   "execution_count": 72,
   "metadata": {
    "collapsed": true
   },
   "outputs": [],
   "source": [
    "scoreList = []"
   ]
  },
  {
   "cell_type": "code",
   "execution_count": 73,
   "metadata": {
    "collapsed": true
   },
   "outputs": [],
   "source": [
    "for key in db.keys():\n",
    "    val = db[key]\n",
    "    score = val[0]\n",
    "    scoreList.append([key,score])"
   ]
  },
  {
   "cell_type": "code",
   "execution_count": 74,
   "metadata": {
    "collapsed": true
   },
   "outputs": [],
   "source": [
    "scoreList = sorted(scoreList,key=lambda l:l[1], reverse=True)"
   ]
  },
  {
   "cell_type": "code",
   "execution_count": 75,
   "metadata": {},
   "outputs": [
    {
     "name": "stdout",
     "output_type": "stream",
     "text": [
      "[['06028_page_50.png', 0.52358383], ['88639_page_6.png', 0.51095271], ['02267_page_2.png', 0.50848877], ['01380_page_5.png', 0.50188613], ['20018_page_3.png', 0.49163902], ['57857_page_22.png', 0.48587799], ['19459_page_3.png', 0.47107407], ['263108_page_23.png', 0.46450797], ['24547_page_66.png', 0.46306384], ['29864_page_4.png', 0.4387939], ['293281_page_253.png', 0.43617347], ['428455_page_49.png', 0.4296149], ['383482_page_4.png', 0.42750442], ['24577_page_142.png', 0.42371345], ['429093_page_40.png', 0.41194147], ['18971_page_107.png', 0.40585676], ['281748_page_5.png', 0.40515947], ['320363_page_291.png', 0.39642605], ['54136_page_56.png', 0.39614606], ['371085_page_36.png', 0.39350164], ['61784_page_40.png', 0.39287293], ['191419_page_23.png', 0.39197004], ['105117_page_27.png', 0.38968572], ['106106_page_41.png', 0.3888638], ['62251_page_32.png', 0.38885745], ['335945_page_113.png', 0.38813251], ['49157_page_1.png', 0.38804728], ['203699_page_15.png', 0.38735312], ['234233_page_19.png', 0.38556114], ['412274_page_386.png', 0.38544229], ['412274_page_40.png', 0.38519454], ['62185_page_34.png', 0.38507241], ['01685_page_24.png', 0.38229299], ['517401_page_154.png', 0.38148862], ['03684_page_48.png', 0.38126466], ['53021_page_40.png', 0.37980536], ['270880_page_63.png', 0.37949643], ['340340_page_96.png', 0.37924972], ['411010_page_38.png', 0.37876922], ['33060_page_107.png', 0.37732926], ['03031_page_19.png', 0.37683165], ['55127_page_2.png', 0.37648359], ['15562_page_57.png', 0.37612545], ['42626_page_7.png', 0.37602127], ['52189_page_6.png', 0.37600482], ['251051_page_103.png', 0.37582242], ['108781_page_39.png', 0.3758215], ['172491_page_2.png', 0.37564996], ['109207_page_1.png', 0.37560609], ['289284_page_12.png', 0.37539876], ['84124_page_22.png', 0.37498254], ['109509_page_7.png', 0.37471914], ['80125_page_14.png', 0.37436339], ['517023_page_108.png', 0.37395853], ['47447_page_6.png', 0.37377086], ['516486_page_56.png', 0.37355658], ['35927_page_30.png', 0.3732819], ['63015_page_38.png', 0.37217629], ['43615_page_22.png', 0.37095749], ['114583_page_42.png', 0.37086052]]\n"
     ]
    }
   ],
   "source": [
    "print(scoreList[0:60])"
   ]
  },
  {
   "cell_type": "markdown",
   "metadata": {},
   "source": [
    "Now we'll try the other way, modifying the original image to the shape of the new thing"
   ]
  },
  {
   "cell_type": "code",
   "execution_count": 12,
   "metadata": {
    "collapsed": true
   },
   "outputs": [],
   "source": [
    "db2 = {}"
   ]
  },
  {
   "cell_type": "code",
   "execution_count": 13,
   "metadata": {},
   "outputs": [
    {
     "ename": "RuntimeError",
     "evalue": "cuda runtime error (2) : out of memory at /pytorch/aten/src/THC/generic/THCStorage.cu:58",
     "output_type": "error",
     "traceback": [
      "\u001b[0;31m---------------------------------------------------------------------------\u001b[0m",
      "\u001b[0;31mRuntimeError\u001b[0m                              Traceback (most recent call last)",
      "\u001b[0;32m<ipython-input-13-03cfd7e99b3b>\u001b[0m in \u001b[0;36m<module>\u001b[0;34m()\u001b[0m\n\u001b[1;32m      9\u001b[0m     \u001b[0;31m#print(image.shape)\u001b[0m\u001b[0;34m\u001b[0m\u001b[0;34m\u001b[0m\u001b[0m\n\u001b[1;32m     10\u001b[0m \u001b[0;34m\u001b[0m\u001b[0m\n\u001b[0;32m---> 11\u001b[0;31m     \u001b[0mdistance\u001b[0m \u001b[0;34m=\u001b[0m \u001b[0mmodel\u001b[0m\u001b[0;34m.\u001b[0m\u001b[0mforward\u001b[0m\u001b[0;34m(\u001b[0m\u001b[0mboi\u001b[0m\u001b[0;34m,\u001b[0m \u001b[0mimage\u001b[0m\u001b[0;34m)\u001b[0m\u001b[0;34m\u001b[0m\u001b[0m\n\u001b[0m\u001b[1;32m     12\u001b[0m \u001b[0;34m\u001b[0m\u001b[0m\n\u001b[1;32m     13\u001b[0m     \u001b[0mfilename\u001b[0m \u001b[0;34m=\u001b[0m \u001b[0mimagePath\u001b[0m\u001b[0;34m[\u001b[0m\u001b[0mimagePath\u001b[0m\u001b[0;34m.\u001b[0m\u001b[0mrfind\u001b[0m\u001b[0;34m(\u001b[0m\u001b[0;34m\"/\"\u001b[0m\u001b[0;34m)\u001b[0m \u001b[0;34m+\u001b[0m \u001b[0;36m1\u001b[0m\u001b[0;34m:\u001b[0m\u001b[0;34m]\u001b[0m\u001b[0;34m\u001b[0m\u001b[0m\n",
      "\u001b[0;32m/data1/dbashir/Project/Summer 2018/PerceptualSimilarity/models/dist_model.pyc\u001b[0m in \u001b[0;36mforward\u001b[0;34m(self, in0, in1, retNumpy)\u001b[0m\n\u001b[1;32m    102\u001b[0m         \u001b[0mself\u001b[0m\u001b[0;34m.\u001b[0m\u001b[0mvar_p0\u001b[0m \u001b[0;34m=\u001b[0m \u001b[0mVariable\u001b[0m\u001b[0;34m(\u001b[0m\u001b[0mself\u001b[0m\u001b[0;34m.\u001b[0m\u001b[0minput_p0\u001b[0m\u001b[0;34m,\u001b[0m\u001b[0mrequires_grad\u001b[0m\u001b[0;34m=\u001b[0m\u001b[0mTrue\u001b[0m\u001b[0;34m)\u001b[0m\u001b[0;34m\u001b[0m\u001b[0m\n\u001b[1;32m    103\u001b[0m \u001b[0;34m\u001b[0m\u001b[0m\n\u001b[0;32m--> 104\u001b[0;31m         \u001b[0mself\u001b[0m\u001b[0;34m.\u001b[0m\u001b[0md0\u001b[0m \u001b[0;34m=\u001b[0m \u001b[0mself\u001b[0m\u001b[0;34m.\u001b[0m\u001b[0mforward_pair\u001b[0m\u001b[0;34m(\u001b[0m\u001b[0mself\u001b[0m\u001b[0;34m.\u001b[0m\u001b[0mvar_ref\u001b[0m\u001b[0;34m,\u001b[0m \u001b[0mself\u001b[0m\u001b[0;34m.\u001b[0m\u001b[0mvar_p0\u001b[0m\u001b[0;34m)\u001b[0m\u001b[0;34m\u001b[0m\u001b[0m\n\u001b[0m\u001b[1;32m    105\u001b[0m         \u001b[0mself\u001b[0m\u001b[0;34m.\u001b[0m\u001b[0mloss_total\u001b[0m \u001b[0;34m=\u001b[0m \u001b[0mself\u001b[0m\u001b[0;34m.\u001b[0m\u001b[0md0\u001b[0m\u001b[0;34m\u001b[0m\u001b[0m\n\u001b[1;32m    106\u001b[0m \u001b[0;34m\u001b[0m\u001b[0m\n",
      "\u001b[0;32m/data1/dbashir/Project/Summer 2018/PerceptualSimilarity/models/dist_model.pyc\u001b[0m in \u001b[0;36mforward_pair\u001b[0;34m(self, in1, in2, retPerLayer)\u001b[0m\n\u001b[1;32m     81\u001b[0m             \u001b[0;32mreturn\u001b[0m \u001b[0mself\u001b[0m\u001b[0;34m.\u001b[0m\u001b[0mnet\u001b[0m\u001b[0;34m.\u001b[0m\u001b[0mforward\u001b[0m\u001b[0;34m(\u001b[0m\u001b[0min1\u001b[0m\u001b[0;34m,\u001b[0m\u001b[0min2\u001b[0m\u001b[0;34m,\u001b[0m \u001b[0mretPerLayer\u001b[0m\u001b[0;34m=\u001b[0m\u001b[0mTrue\u001b[0m\u001b[0;34m)\u001b[0m\u001b[0;34m\u001b[0m\u001b[0m\n\u001b[1;32m     82\u001b[0m         \u001b[0;32melse\u001b[0m\u001b[0;34m:\u001b[0m\u001b[0;34m\u001b[0m\u001b[0m\n\u001b[0;32m---> 83\u001b[0;31m             \u001b[0;32mreturn\u001b[0m \u001b[0mself\u001b[0m\u001b[0;34m.\u001b[0m\u001b[0mnet\u001b[0m\u001b[0;34m.\u001b[0m\u001b[0mforward\u001b[0m\u001b[0;34m(\u001b[0m\u001b[0min1\u001b[0m\u001b[0;34m,\u001b[0m\u001b[0min2\u001b[0m\u001b[0;34m)\u001b[0m\u001b[0;34m\u001b[0m\u001b[0m\n\u001b[0m\u001b[1;32m     84\u001b[0m \u001b[0;34m\u001b[0m\u001b[0m\n\u001b[1;32m     85\u001b[0m     \u001b[0;32mdef\u001b[0m \u001b[0mforward\u001b[0m\u001b[0;34m(\u001b[0m\u001b[0mself\u001b[0m\u001b[0;34m,\u001b[0m \u001b[0min0\u001b[0m\u001b[0;34m,\u001b[0m \u001b[0min1\u001b[0m\u001b[0;34m,\u001b[0m \u001b[0mretNumpy\u001b[0m\u001b[0;34m=\u001b[0m\u001b[0mTrue\u001b[0m\u001b[0;34m)\u001b[0m\u001b[0;34m:\u001b[0m\u001b[0;34m\u001b[0m\u001b[0m\n",
      "\u001b[0;32m/data1/dbashir/Project/Summer 2018/PerceptualSimilarity/models/networks_basic.pyc\u001b[0m in \u001b[0;36mforward\u001b[0;34m(self, in0, in1)\u001b[0m\n\u001b[1;32m    137\u001b[0m             \u001b[0mfeats0\u001b[0m\u001b[0;34m[\u001b[0m\u001b[0mkk\u001b[0m\u001b[0;34m]\u001b[0m \u001b[0;34m=\u001b[0m \u001b[0mutil\u001b[0m\u001b[0;34m.\u001b[0m\u001b[0mnormalize_tensor\u001b[0m\u001b[0;34m(\u001b[0m\u001b[0mouts0\u001b[0m\u001b[0;34m[\u001b[0m\u001b[0mkk\u001b[0m\u001b[0;34m]\u001b[0m\u001b[0;34m)\u001b[0m\u001b[0;34m\u001b[0m\u001b[0m\n\u001b[1;32m    138\u001b[0m             \u001b[0mfeats1\u001b[0m\u001b[0;34m[\u001b[0m\u001b[0mkk\u001b[0m\u001b[0;34m]\u001b[0m \u001b[0;34m=\u001b[0m \u001b[0mutil\u001b[0m\u001b[0;34m.\u001b[0m\u001b[0mnormalize_tensor\u001b[0m\u001b[0;34m(\u001b[0m\u001b[0mouts1\u001b[0m\u001b[0;34m[\u001b[0m\u001b[0mkk\u001b[0m\u001b[0;34m]\u001b[0m\u001b[0;34m)\u001b[0m\u001b[0;34m\u001b[0m\u001b[0m\n\u001b[0;32m--> 139\u001b[0;31m             \u001b[0mdiffs\u001b[0m\u001b[0;34m[\u001b[0m\u001b[0mkk\u001b[0m\u001b[0;34m]\u001b[0m \u001b[0;34m=\u001b[0m \u001b[0;34m(\u001b[0m\u001b[0mfeats0\u001b[0m\u001b[0;34m[\u001b[0m\u001b[0mkk\u001b[0m\u001b[0;34m]\u001b[0m\u001b[0;34m-\u001b[0m\u001b[0mfeats1\u001b[0m\u001b[0;34m[\u001b[0m\u001b[0mkk\u001b[0m\u001b[0;34m]\u001b[0m\u001b[0;34m)\u001b[0m\u001b[0;34m**\u001b[0m\u001b[0;36m2\u001b[0m\u001b[0;34m\u001b[0m\u001b[0m\n\u001b[0m\u001b[1;32m    140\u001b[0m \u001b[0;34m\u001b[0m\u001b[0m\n\u001b[1;32m    141\u001b[0m         \u001b[0;32mif\u001b[0m \u001b[0mself\u001b[0m\u001b[0;34m.\u001b[0m\u001b[0mspatial\u001b[0m\u001b[0;34m:\u001b[0m\u001b[0;34m\u001b[0m\u001b[0m\n",
      "\u001b[0;31mRuntimeError\u001b[0m: cuda runtime error (2) : out of memory at /pytorch/aten/src/THC/generic/THCStorage.cu:58"
     ]
    }
   ],
   "source": [
    "for i in range(len(png_paths)):\n",
    "    imagePath = png_paths[i]\n",
    "    image = util.im2tensor(util.load_image(imagePath))\n",
    "    \n",
    "    boi = ex_ref\n",
    "    \n",
    "    boi = boi.resize_(image.shape)\n",
    "    \n",
    "    #print(image.shape)\n",
    "    \n",
    "    distance = model.forward(boi, image)\n",
    "    \n",
    "    filename = imagePath[imagePath.rfind(\"/\") + 1:]\n",
    "    \n",
    "    db2[filename] = distance"
   ]
  },
  {
   "cell_type": "code",
   "execution_count": null,
   "metadata": {
    "collapsed": true
   },
   "outputs": [],
   "source": [
    "db2['107692_page_8'][0]"
   ]
  },
  {
   "cell_type": "code",
   "execution_count": null,
   "metadata": {
    "collapsed": true
   },
   "outputs": [],
   "source": []
  },
  {
   "cell_type": "code",
   "execution_count": null,
   "metadata": {
    "collapsed": true
   },
   "outputs": [],
   "source": []
  },
  {
   "cell_type": "code",
   "execution_count": 2,
   "metadata": {
    "collapsed": true
   },
   "outputs": [],
   "source": []
  },
  {
   "cell_type": "code",
   "execution_count": 4,
   "metadata": {
    "collapsed": true
   },
   "outputs": [],
   "source": []
  },
  {
   "cell_type": "code",
   "execution_count": 11,
   "metadata": {
    "collapsed": true
   },
   "outputs": [],
   "source": []
  },
  {
   "cell_type": "code",
   "execution_count": 29,
   "metadata": {},
   "outputs": [
    {
     "data": {
      "text/plain": [
       "0.48306529568056483"
      ]
     },
     "execution_count": 29,
     "metadata": {},
     "output_type": "execute_result"
    }
   ],
   "source": [
    "db['61784_page_40.png']"
   ]
  },
  {
   "cell_type": "code",
   "execution_count": 30,
   "metadata": {
    "collapsed": true
   },
   "outputs": [],
   "source": [
    "lookupTable = []\n",
    "similar_candidates = []\n",
    "#score_names = []"
   ]
  },
  {
   "cell_type": "code",
   "execution_count": 31,
   "metadata": {
    "collapsed": true
   },
   "outputs": [],
   "source": [
    "for key in db.keys():\n",
    "    if db[key] > 0.5:\n",
    "        #lookupTable.append([key,db[key]])\n",
    "        similar_candidates.append([key,db[key]])\n",
    "        #score_names.append(db[key][0])"
   ]
  },
  {
   "cell_type": "code",
   "execution_count": 32,
   "metadata": {},
   "outputs": [
    {
     "name": "stdout",
     "output_type": "stream",
     "text": [
      "[['51212_page_385.png', 0.57772791977410498], ['88879_page_355.png', 0.50027010653499848], ['113413_page_1.png', 0.55664568208284038], ['109207_page_1.png', 0.54480797238550938], ['136341_page_51.png', 0.51216233267770839], ['146002_page_3.png', 0.53819045973017965], ['368980_page_1.png', 0.50095314671740332], ['54136_page_56.png', 0.53136800691571051], ['51265_page_52.png', 0.52285237613106261], ['51427_page_4.png', 0.51795235219421798], ['412274_page_386.png', 0.52641978771276066], ['88639_page_6.png', 0.50625401471355935], ['33060_page_107.png', 0.51675352287205789], ['136276_page_108.png', 0.52688949130002805], ['251051_page_103.png', 0.5019956240792085], ['19110_page_5.png', 0.50112751870762295], ['513452_page_139.png', 0.56739394916579444], ['412274_page_40.png', 0.58145918468852009], ['335127_page_13.png', 0.508645368605258], ['62185_page_34.png', 0.51798229275676555], ['53021_page_40.png', 0.52446429361859404], ['112888_page_187.png', 0.52588662251459506], ['06028_page_50.png', 0.56764238060480576], ['29864_page_4.png', 0.57679942708445264], ['191419_page_23.png', 0.52599518371322185]]\n"
     ]
    }
   ],
   "source": [
    "print(similar_candidates)"
   ]
  },
  {
   "cell_type": "code",
   "execution_count": 35,
   "metadata": {
    "collapsed": true
   },
   "outputs": [],
   "source": [
    "similar_candidates = sorted(similar_candidates,key=lambda l:l[1], reverse=True)"
   ]
  },
  {
   "cell_type": "code",
   "execution_count": 36,
   "metadata": {},
   "outputs": [
    {
     "name": "stdout",
     "output_type": "stream",
     "text": [
      "[['412274_page_40.png', 0.58145918468852009], ['51212_page_385.png', 0.57772791977410498], ['29864_page_4.png', 0.57679942708445264], ['06028_page_50.png', 0.56764238060480576], ['513452_page_139.png', 0.56739394916579444], ['113413_page_1.png', 0.55664568208284038], ['109207_page_1.png', 0.54480797238550938], ['146002_page_3.png', 0.53819045973017965], ['54136_page_56.png', 0.53136800691571051], ['136276_page_108.png', 0.52688949130002805], ['412274_page_386.png', 0.52641978771276066], ['191419_page_23.png', 0.52599518371322185], ['112888_page_187.png', 0.52588662251459506], ['53021_page_40.png', 0.52446429361859404], ['51265_page_52.png', 0.52285237613106261], ['62185_page_34.png', 0.51798229275676555], ['51427_page_4.png', 0.51795235219421798], ['33060_page_107.png', 0.51675352287205789], ['136341_page_51.png', 0.51216233267770839], ['335127_page_13.png', 0.508645368605258], ['88639_page_6.png', 0.50625401471355935], ['251051_page_103.png', 0.5019956240792085], ['19110_page_5.png', 0.50112751870762295], ['368980_page_1.png', 0.50095314671740332], ['88879_page_355.png', 0.50027010653499848]]\n"
     ]
    }
   ],
   "source": [
    "print(similar_candidates)"
   ]
  },
  {
   "cell_type": "code",
   "execution_count": 37,
   "metadata": {
    "collapsed": true
   },
   "outputs": [],
   "source": [
    "top_7 = similar_candidates[0:6]"
   ]
  },
  {
   "cell_type": "code",
   "execution_count": 38,
   "metadata": {},
   "outputs": [
    {
     "name": "stdout",
     "output_type": "stream",
     "text": [
      "[['412274_page_40.png', 0.58145918468852009], ['51212_page_385.png', 0.57772791977410498], ['29864_page_4.png', 0.57679942708445264], ['06028_page_50.png', 0.56764238060480576], ['513452_page_139.png', 0.56739394916579444], ['113413_page_1.png', 0.55664568208284038]]\n"
     ]
    }
   ],
   "source": [
    "print(top_7)"
   ]
  },
  {
   "cell_type": "markdown",
   "metadata": {},
   "source": [
    "Real match is 107692_page_8. Let's see what its score was."
   ]
  },
  {
   "cell_type": "code",
   "execution_count": 40,
   "metadata": {},
   "outputs": [
    {
     "data": {
      "text/plain": [
       "0.40735924524979994"
      ]
     },
     "execution_count": 40,
     "metadata": {},
     "output_type": "execute_result"
    }
   ],
   "source": [
    "db['107692_page_8.png']"
   ]
  },
  {
   "cell_type": "code",
   "execution_count": 41,
   "metadata": {},
   "outputs": [
    {
     "name": "stdout",
     "output_type": "stream",
     "text": [
      "25\n"
     ]
    }
   ],
   "source": [
    "print(len(similar_candidates))"
   ]
  },
  {
   "cell_type": "code",
   "execution_count": null,
   "metadata": {
    "collapsed": true
   },
   "outputs": [],
   "source": []
  }
 ],
 "metadata": {
  "kernelspec": {
   "display_name": "Python [conda env:anaconda2]",
   "language": "python",
   "name": "conda-env-anaconda2-py"
  },
  "language_info": {
   "codemirror_mode": {
    "name": "ipython",
    "version": 2
   },
   "file_extension": ".py",
   "mimetype": "text/x-python",
   "name": "python",
   "nbconvert_exporter": "python",
   "pygments_lexer": "ipython2",
   "version": "2.7.14"
  }
 },
 "nbformat": 4,
 "nbformat_minor": 2
}
