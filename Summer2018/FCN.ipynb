{
 "cells": [
  {
   "cell_type": "code",
   "execution_count": 1,
   "metadata": {
    "ExecuteTime": {
     "end_time": "2018-06-14T00:22:12.637616Z",
     "start_time": "2018-06-14T00:22:11.442446Z"
    }
   },
   "outputs": [
    {
     "name": "stderr",
     "output_type": "stream",
     "text": [
      "Using TensorFlow backend.\n",
      "/home/dbashir/anaconda2/envs/py36/lib/python3.6/importlib/_bootstrap.py:219: RuntimeWarning: compiletime version 3.5 of module 'tensorflow.python.framework.fast_tensor_util' does not match runtime version 3.6\n",
      "  return f(*args, **kwds)\n"
     ]
    }
   ],
   "source": [
    "import keras\n",
    "import tensorflow as tf\n",
    "import keras.backend as K\n",
    "from keras.models import Model\n",
    "from keras.layers import Input, Flatten, Activation, Reshape, Dropout, Lambda\n",
    "from keras.layers.convolutional import Conv2D, MaxPooling2D, ZeroPadding2D, Conv2DTranspose\n",
    "from keras.regularizers import l2\n",
    "from keras.layers.merge import add, concatenate\n",
    "from keras.engine.topology import Layer\n",
    "from keras.engine import InputSpec\n",
    "from keras.utils import conv_utils\n",
    "from keras.utils.np_utils import to_categorical\n",
    "\n",
    "import numpy as np\n",
    "import scipy.misc as misc\n",
    "import os\n",
    "import glob\n",
    "from random import shuffle, randint\n",
    "\n",
    "import matplotlib.pyplot as plt"
   ]
  },
  {
   "cell_type": "code",
   "execution_count": 2,
   "metadata": {
    "ExecuteTime": {
     "end_time": "2018-06-14T00:22:12.643586Z",
     "start_time": "2018-06-14T00:22:12.640510Z"
    },
    "code_folding": [
     0
    ],
    "collapsed": true
   },
   "outputs": [],
   "source": [
    "def resize_images(x, size, method='bilinear'):\n",
    "    new_size = tf.convert_to_tensor(size, dtype=tf.int32)\n",
    "    resized = tf.image.resize_images(x, new_size)\n",
    "    return resized"
   ]
  },
  {
   "cell_type": "code",
   "execution_count": 3,
   "metadata": {
    "ExecuteTime": {
     "end_time": "2018-06-14T00:22:12.873529Z",
     "start_time": "2018-06-14T00:22:12.644791Z"
    },
    "code_folding": [
     0,
     35
    ],
    "collapsed": true
   },
   "outputs": [],
   "source": [
    "class BilinearUpSampling2D(Layer):\n",
    "    \"\"\"Upsampling2D with bilinear interpolation.\"\"\"\n",
    "\n",
    "    def __init__(self, target_shape=None, data_format=None, **kwargs):\n",
    "        if data_format is None:\n",
    "            data_format = K.image_data_format()\n",
    "        assert data_format in {\n",
    "            'channels_last', 'channels_first'}\n",
    "        self.data_format = data_format\n",
    "        self.input_spec = [InputSpec(ndim=4)]\n",
    "        self.target_shape = target_shape\n",
    "        if self.data_format == 'channels_first':\n",
    "            self.target_size = (target_shape[2], target_shape[3])\n",
    "        elif self.data_format == 'channels_last':\n",
    "            self.target_size = (target_shape[1], target_shape[2])\n",
    "        super(BilinearUpSampling2D, self).__init__(**kwargs)\n",
    "\n",
    "    def compute_output_shape(self, input_shape):\n",
    "        if self.data_format == 'channels_last':\n",
    "            return (input_shape[0], self.target_size[0],\n",
    "                    self.target_size[1], input_shape[3])\n",
    "        else:\n",
    "            return (input_shape[0], input_shape[1],\n",
    "                    self.target_size[0], self.target_size[1])\n",
    "\n",
    "    def call(self, inputs):\n",
    "        return resize_images(inputs, size=self.target_size,\n",
    "                             method='bilinear')\n",
    "\n",
    "    def get_config(self):\n",
    "        config = {'target_shape': self.target_shape,\n",
    "                'data_format': self.data_format}\n",
    "        base_config = super(BilinearUpSampling2D, self).get_config()\n",
    "        return dict(list(base_config.items()) + list(config.items()))\n",
    "\n",
    "class CroppingLike2D(Layer):\n",
    "    def __init__(self, target_shape, offset=None, data_format=None,\n",
    "                 **kwargs):\n",
    "        \"\"\"Crop to target.\n",
    "        If only one `offset` is set, then all dimensions are offset by this amount.\n",
    "        \"\"\"\n",
    "        super(CroppingLike2D, self).__init__(**kwargs)\n",
    "        self.data_format = conv_utils.normalize_data_format(data_format)\n",
    "        self.target_shape = target_shape\n",
    "        if offset is None or offset == 'centered':\n",
    "            self.offset = 'centered'\n",
    "        elif isinstance(offset, int):\n",
    "            self.offset = (offset, offset)\n",
    "        elif hasattr(offset, '__len__'):\n",
    "            if len(offset) != 2:\n",
    "                raise ValueError('`offset` should have two elements. '\n",
    "                                 'Found: ' + str(offset))\n",
    "            self.offset = offset\n",
    "        self.input_spec = InputSpec(ndim=4)\n",
    "\n",
    "    def compute_output_shape(self, input_shape):\n",
    "        if self.data_format == 'channels_first':\n",
    "            return (input_shape[0],\n",
    "                    input_shape[1],\n",
    "                    self.target_shape[2],\n",
    "                    self.target_shape[3])\n",
    "        else:\n",
    "            return (input_shape[0],\n",
    "                    self.target_shape[1],\n",
    "                    self.target_shape[2],\n",
    "                    input_shape[3])\n",
    "\n",
    "    def call(self, inputs):\n",
    "        input_shape = K.int_shape(inputs)\n",
    "        if self.data_format == 'channels_first':\n",
    "            input_height = input_shape[2]\n",
    "            input_width = input_shape[3]\n",
    "            target_height = self.target_shape[2]\n",
    "            target_width = self.target_shape[3]\n",
    "            if target_height > input_height or target_width > input_width:\n",
    "                raise ValueError('The Tensor to be cropped need to be smaller'\n",
    "                                 'or equal to the target Tensor.')\n",
    "\n",
    "            if self.offset == 'centered':\n",
    "                self.offset = [int((input_height - target_height) / 2),\n",
    "                               int((input_width - target_width) / 2)]\n",
    "\n",
    "            if self.offset[0] + target_height > input_height:\n",
    "                raise ValueError('Height index out of range: '\n",
    "                                 + str(self.offset[0] + target_height))\n",
    "            if self.offset[1] + target_width > input_width:\n",
    "                raise ValueError('Width index out of range:'\n",
    "                                 + str(self.offset[1] + target_width))\n",
    "\n",
    "            return inputs[:,\n",
    "                          :,\n",
    "                          self.offset[0]:self.offset[0] + target_height,\n",
    "                          self.offset[1]:self.offset[1] + target_width]\n",
    "        elif self.data_format == 'channels_last':\n",
    "            input_height = input_shape[1]\n",
    "            input_width = input_shape[2]\n",
    "            target_height = self.target_shape[1]\n",
    "            target_width = self.target_shape[2]\n",
    "            if target_height > input_height or target_width > input_width:\n",
    "                raise ValueError('The Tensor to be cropped need to be smaller'\n",
    "                                 'or equal to the target Tensor.')\n",
    "\n",
    "            if self.offset == 'centered':\n",
    "                self.offset = [int((input_height - target_height) / 2),\n",
    "                               int((input_width - target_width) / 2)]\n",
    "\n",
    "            if self.offset[0] + target_height > input_height:\n",
    "                raise ValueError('Height index out of range: '\n",
    "                                 + str(self.offset[0] + target_height))\n",
    "            if self.offset[1] + target_width > input_width:\n",
    "                raise ValueError('Width index out of range:'\n",
    "                                 + str(self.offset[1] + target_width))\n",
    "            output = inputs[:,\n",
    "                            self.offset[0]:self.offset[0] + target_height,\n",
    "                            self.offset[1]:self.offset[1] + target_width,\n",
    "                            :]\n",
    "            return output\n",
    "\n",
    "    def get_config(self):\n",
    "        config = {'target_shape': self.target_shape,\n",
    "                  'offset': self.offset,\n",
    "                  'data_format': self.data_format}\n",
    "        base_config = super(CroppingLike2D, self).get_config()\n",
    "        return dict(list(base_config.items()) + list(config.items()))"
   ]
  },
  {
   "cell_type": "code",
   "execution_count": 4,
   "metadata": {
    "ExecuteTime": {
     "end_time": "2018-06-14T00:22:13.017151Z",
     "start_time": "2018-06-14T00:22:12.874948Z"
    },
    "code_folding": [
     86
    ],
    "collapsed": true
   },
   "outputs": [],
   "source": [
    "def vgg_conv(filters, convs, padding=False, weight_decay=0.,\n",
    "             block_name='blockx'):\n",
    "    def f(x):\n",
    "        for i in range(convs):\n",
    "            if block_name == 'block1' and i == 0:\n",
    "                if padding is True:\n",
    "                    x = ZeroPadding2D(padding=(100, 100))(x)\n",
    "                x = Conv2D(filters, (3,3), activation='relu', padding='same',\n",
    "                           kernel_initializer='he_normal',\n",
    "                           kernel_regularizer=l2(weight_decay),\n",
    "                           name='{}_conv{}'.format(block_name, int(i+1)))(x)\n",
    "            else:\n",
    "                x = Conv2D(filters, (3,3), activation='relu', padding='same',\n",
    "                           kernel_initializer='he_normal',\n",
    "                           kernel_regularizer=l2(weight_decay),\n",
    "                           name='{}_conv{}'.format(block_name, int(i+1)))(x)\n",
    "        pool = MaxPooling2D((2,2), strides=(2,2), padding='same',\n",
    "                            name='{}_pool'.format(block_name))(x)\n",
    "        dropout = Dropout(0.85)(pool)\n",
    "        return dropout\n",
    "    return f\n",
    "\n",
    "def vgg_fc(filters, weight_decay=0., block_name='block5'):\n",
    "    def f(x):\n",
    "        fc6 = Conv2D(filters=4096, kernel_size=(3, 3),\n",
    "                     activation='relu', padding='same',\n",
    "                     dilation_rate=(2, 2),\n",
    "                     kernel_initializer='he_normal',\n",
    "                     kernel_regularizer=l2(weight_decay),\n",
    "                     name='{}_fc6'.format(block_name))(x)\n",
    "        drop6 = Dropout(0.85)(fc6)\n",
    "        return drop6\n",
    "    return f\n",
    "\n",
    "def vgg_deconv(classes, scale=1, kernel_size=(4, 4), strides=(2, 2), target_shape=None,\n",
    "               crop_offset='centered', weight_decay=0., block_name='featx'):\n",
    "    def f(x, y):\n",
    "        def scaling(xx, ss=1):\n",
    "            return xx * ss\n",
    "        scaled = Lambda(scaling, arguments={'ss': scale},\n",
    "                        name='scale_{}'.format(block_name))(x)\n",
    "        if y is None:\n",
    "            upscore = Conv2DTranspose(filters=classes, kernel_size=kernel_size,\n",
    "                                      strides=strides, padding='same',\n",
    "                                      kernel_initializer='he_normal',\n",
    "                                      kernel_regularizer=l2(weight_decay),\n",
    "                                      use_bias=True,\n",
    "                                      name='upscore_{}'.format(block_name))(scaled)\n",
    "            upsample = BilinearUpSampling2D(target_shape=target_shape,\n",
    "                                            name='upsample_{}'.format(block_name))(upscore)\n",
    "        else:\n",
    "            crop = CroppingLike2D(target_shape=K.int_shape(y),\n",
    "                                 name='crop_{}'.format(block_name))(scaled)\n",
    "            merge = concatenate([y, crop])\n",
    "    \n",
    "            fuse1 = Conv2D(filters=2*classes, kernel_size=(1,1), \n",
    "                           activation='relu', name='upscore_{}_fuse_1'.format(block_name))(merge)\n",
    "            fuse2 = Conv2D(filters=classes, kernel_size=(1,1), \n",
    "                           activation='relu', name='upscore_{}_fuse_2'.format(block_name))(fuse1)\n",
    "            upscore = Conv2DTranspose(filters=classes, kernel_size=kernel_size,\n",
    "                                      strides=strides, padding='same',\n",
    "                                      kernel_initializer='he_normal',\n",
    "                                      kernel_regularizer=l2(weight_decay),\n",
    "                                      use_bias=True,\n",
    "                                      name='upscore_{}'.format(block_name))(fuse2)\n",
    "            upsample = BilinearUpSampling2D(target_shape=target_shape,\n",
    "                                            name='upsample_{}'.format(block_name))(upscore)\n",
    "        return upsample\n",
    "    return f\n",
    "\n",
    "def vgg_upsampling(classes, target_shape=None, scale=1, weight_decay=0., block_name='featx'):\n",
    "    def f(x, y):\n",
    "        score = Conv2D(filters=classes, kernel_size=(1, 1),\n",
    "                       activation='linear',\n",
    "                       padding='valid',\n",
    "                       kernel_initializer='he_normal',\n",
    "                       kernel_regularizer=l2(weight_decay),\n",
    "                       name='score_{}'.format(block_name))(x)\n",
    "        if y is not None:\n",
    "            def scaling(xx, ss=1):\n",
    "                return xx * ss\n",
    "            scaled = Lambda(scaling, arguments={'ss': scale},\n",
    "                            name='scale_{}'.format(block_name))(score)\n",
    "            score = add([y, scaled])\n",
    "        upscore = BilinearUpSampling2D(\n",
    "            target_shape=target_shape,\n",
    "            name='upscore_{}'.format(block_name))(score)\n",
    "        return upscore\n",
    "    return f\n",
    "\n",
    "def vgg_score(crop_offset='centered'):\n",
    "    def f(x, y):\n",
    "        score = CroppingLike2D(target_shape=K.int_shape(\n",
    "            x), offset=crop_offset, name='score')(y)\n",
    "        return score\n",
    "    return f"
   ]
  },
  {
   "cell_type": "markdown",
   "metadata": {},
   "source": [
    "# Encoder"
   ]
  },
  {
   "cell_type": "code",
   "execution_count": 5,
   "metadata": {
    "ExecuteTime": {
     "end_time": "2018-06-14T00:22:13.079984Z",
     "start_time": "2018-06-14T00:22:13.022933Z"
    },
    "code_folding": [
     0
    ],
    "collapsed": true
   },
   "outputs": [],
   "source": [
    "class Encoder(Model):\n",
    "    def __init__(self, inputs, blocks, \n",
    "                 weights=None, trainable=True,\n",
    "                 name='encoder'):\n",
    "        inverse_pyramid = []\n",
    "        \n",
    "        conv_blocks = blocks[:-1]\n",
    "        for i, block in enumerate(conv_blocks):\n",
    "            if i == 0:\n",
    "                x = block(inputs)\n",
    "                inverse_pyramid.append(x)\n",
    "            elif i < len(conv_blocks) - 1:\n",
    "                x = block(x)\n",
    "                inverse_pyramid.append(x)\n",
    "            else:\n",
    "                x = block(x)\n",
    "        \n",
    "        # fully convolutional block\n",
    "        fc_block = blocks[-1]\n",
    "        y = fc_block(x)\n",
    "        inverse_pyramid.append(y)\n",
    "        \n",
    "        # Reverse the pyramid features\n",
    "        outputs = list(reversed(inverse_pyramid))\n",
    "        \n",
    "        self.inputs = inputs\n",
    "        self.outputs = outputs"
   ]
  },
  {
   "cell_type": "markdown",
   "metadata": {},
   "source": [
    "# Decoder"
   ]
  },
  {
   "cell_type": "code",
   "execution_count": 6,
   "metadata": {
    "ExecuteTime": {
     "end_time": "2018-06-14T00:22:13.163535Z",
     "start_time": "2018-06-14T00:22:13.086761Z"
    },
    "code_folding": [],
    "collapsed": true
   },
   "outputs": [],
   "source": [
    "def Decoder(pyramid, blocks):\n",
    "    if len(blocks) != len(pyramid):\n",
    "        raise ValueError('`blocks` needs to match the length of'\n",
    "                         '`pyramid`.')\n",
    "    \n",
    "    decoded = None\n",
    "    for feat, blk in zip(pyramid, blocks):\n",
    "        decoded = blk(feat, decoded)\n",
    "    return decoded"
   ]
  },
  {
   "cell_type": "markdown",
   "metadata": {},
   "source": [
    "# FCN"
   ]
  },
  {
   "cell_type": "code",
   "execution_count": 7,
   "metadata": {
    "ExecuteTime": {
     "end_time": "2018-06-14T00:22:13.288998Z",
     "start_time": "2018-06-14T00:22:13.279240Z"
    },
    "collapsed": true
   },
   "outputs": [],
   "source": [
    "inputs = Input(shape=(250, 250, 1))"
   ]
  },
  {
   "cell_type": "code",
   "execution_count": 8,
   "metadata": {
    "ExecuteTime": {
     "end_time": "2018-06-14T00:22:13.332505Z",
     "start_time": "2018-06-14T00:22:13.313563Z"
    },
    "collapsed": true
   },
   "outputs": [],
   "source": [
    "blocks = [vgg_conv(64, 1, block_name='block1'),\n",
    "          vgg_conv(128, 1, block_name='block2'),\n",
    "          vgg_conv(256, 1, block_name='block3'),\n",
    "          vgg_conv(512, 1, block_name='block4'),\n",
    "          vgg_conv(512, 1, block_name='block5'),\n",
    "          vgg_fc(4096)]"
   ]
  },
  {
   "cell_type": "code",
   "execution_count": 9,
   "metadata": {
    "ExecuteTime": {
     "end_time": "2018-06-14T00:22:13.636238Z",
     "start_time": "2018-06-14T00:22:13.337383Z"
    },
    "collapsed": true
   },
   "outputs": [],
   "source": [
    "encoder = Encoder(inputs, blocks)"
   ]
  },
  {
   "cell_type": "code",
   "execution_count": 10,
   "metadata": {
    "ExecuteTime": {
     "end_time": "2018-06-14T00:22:13.641274Z",
     "start_time": "2018-06-14T00:22:13.638032Z"
    },
    "collapsed": true
   },
   "outputs": [],
   "source": [
    "feat_pyramid = encoder.outputs   # A feature pyramid with 5 scales\n",
    "feat_pyramid = feat_pyramid[:5]  # Select only the top three scale of the pyramid\n",
    "feat_pyramid.append(inputs)      # Add image to the bottom of the pyramid"
   ]
  },
  {
   "cell_type": "code",
   "execution_count": 11,
   "metadata": {
    "ExecuteTime": {
     "end_time": "2018-06-14T00:22:13.875285Z",
     "start_time": "2018-06-14T00:22:13.644616Z"
    },
    "collapsed": true
   },
   "outputs": [],
   "source": [
    "decode_blocks = [\n",
    "    vgg_deconv(classes=512, target_shape=(None, 16, 16, None), kernel_size=(4,4), strides=(2,2), block_name='feat1'),\n",
    "    vgg_deconv(classes=256, target_shape=(None, 32, 32, None), kernel_size=(4,4), strides=(2,2), block_name='feat2'),\n",
    "    vgg_deconv(classes=128, target_shape=(None, 63, 63, None), kernel_size=(4,4), strides=(2,2), block_name='feat3'),\n",
    "    vgg_deconv(classes=124, target_shape=(None, 125, 125, None), kernel_size=(4,4), strides=(2,2), block_name='feat4'),\n",
    "    vgg_deconv(classes=124, target_shape=(None, 250, 250, None), kernel_size=(16,16), strides=(2,2), block_name='feat5'),\n",
    "]\n",
    "\n",
    "outputs = Decoder(pyramid=feat_pyramid[:-1], blocks=decode_blocks)"
   ]
  },
  {
   "cell_type": "code",
   "execution_count": 12,
   "metadata": {
    "ExecuteTime": {
     "end_time": "2018-06-14T00:22:13.878927Z",
     "start_time": "2018-06-14T00:22:13.876785Z"
    },
    "collapsed": true
   },
   "outputs": [],
   "source": [
    "# outputs = Activation('softmax')(outputs)"
   ]
  },
  {
   "cell_type": "code",
   "execution_count": 13,
   "metadata": {
    "ExecuteTime": {
     "end_time": "2018-06-14T00:22:13.934190Z",
     "start_time": "2018-06-14T00:22:13.880103Z"
    },
    "collapsed": true
   },
   "outputs": [],
   "source": [
    "model = Model(inputs=inputs, outputs=outputs)"
   ]
  },
  {
   "cell_type": "code",
   "execution_count": 14,
   "metadata": {
    "ExecuteTime": {
     "end_time": "2018-06-14T00:22:14.090845Z",
     "start_time": "2018-06-14T00:22:13.936060Z"
    },
    "collapsed": true
   },
   "outputs": [],
   "source": [
    "adam = keras.optimizers.Adam(lr=1e-4, beta_1=0.9, beta_2=0.999, epsilon=1e-8, decay=0.0, amsgrad=False)\n",
    "from tensorflow.python.ops import array_ops\n",
    "\n",
    "def customLoss(target, output):\n",
    "    targets = tf.squeeze(K.cast(target, 'int64'), squeeze_dims=[3])\n",
    "    res = tf.nn.sparse_softmax_cross_entropy_with_logits(labels=targets, logits=output)\n",
    "    return tf.reduce_mean(res)\n",
    "\n",
    "model.compile(optimizer=adam,\n",
    "              loss=customLoss,\n",
    "              metrics=['accuracy'])"
   ]
  },
  {
   "cell_type": "code",
   "execution_count": 15,
   "metadata": {
    "ExecuteTime": {
     "end_time": "2018-06-14T00:22:14.094773Z",
     "start_time": "2018-06-14T00:22:14.092446Z"
    }
   },
   "outputs": [
    {
     "data": {
      "image/svg+xml": [
       "<svg height=\"3375pt\" viewBox=\"0.00 0.00 1402.00 3375.00\" width=\"1402pt\" xmlns=\"http://www.w3.org/2000/svg\" xmlns:xlink=\"http://www.w3.org/1999/xlink\">\n",
       "<g class=\"graph\" id=\"graph0\" transform=\"scale(1 1) rotate(0) translate(4 3371)\">\n",
       "<title>G</title>\n",
       "<polygon fill=\"#ffffff\" points=\"-4,4 -4,-3371 1398,-3371 1398,4 -4,4\" stroke=\"transparent\"/>\n",
       "<!-- 140287940513408 -->\n",
       "<g class=\"node\" id=\"node1\">\n",
       "<title>140287940513408</title>\n",
       "<polygon fill=\"none\" points=\"880.5,-3320.5 880.5,-3366.5 1185.5,-3366.5 1185.5,-3320.5 880.5,-3320.5\" stroke=\"#000000\"/>\n",
       "<text fill=\"#000000\" font-family=\"Times,serif\" font-size=\"14.00\" text-anchor=\"middle\" x=\"943\" y=\"-3339.8\">input_1: InputLayer</text>\n",
       "<polyline fill=\"none\" points=\"1005.5,-3320.5 1005.5,-3366.5 \" stroke=\"#000000\"/>\n",
       "<text fill=\"#000000\" font-family=\"Times,serif\" font-size=\"14.00\" text-anchor=\"middle\" x=\"1033\" y=\"-3351.3\">input:</text>\n",
       "<polyline fill=\"none\" points=\"1005.5,-3343.5 1060.5,-3343.5 \" stroke=\"#000000\"/>\n",
       "<text fill=\"#000000\" font-family=\"Times,serif\" font-size=\"14.00\" text-anchor=\"middle\" x=\"1033\" y=\"-3328.3\">output:</text>\n",
       "<polyline fill=\"none\" points=\"1060.5,-3320.5 1060.5,-3366.5 \" stroke=\"#000000\"/>\n",
       "<text fill=\"#000000\" font-family=\"Times,serif\" font-size=\"14.00\" text-anchor=\"middle\" x=\"1123\" y=\"-3351.3\">(None, 250, 250, 1)</text>\n",
       "<polyline fill=\"none\" points=\"1060.5,-3343.5 1185.5,-3343.5 \" stroke=\"#000000\"/>\n",
       "<text fill=\"#000000\" font-family=\"Times,serif\" font-size=\"14.00\" text-anchor=\"middle\" x=\"1123\" y=\"-3328.3\">(None, 250, 250, 1)</text>\n",
       "</g>\n",
       "<!-- 140287940510328 -->\n",
       "<g class=\"node\" id=\"node2\">\n",
       "<title>140287940510328</title>\n",
       "<polygon fill=\"none\" points=\"867,-3237.5 867,-3283.5 1199,-3283.5 1199,-3237.5 867,-3237.5\" stroke=\"#000000\"/>\n",
       "<text fill=\"#000000\" font-family=\"Times,serif\" font-size=\"14.00\" text-anchor=\"middle\" x=\"940\" y=\"-3256.8\">block1_conv1: Conv2D</text>\n",
       "<polyline fill=\"none\" points=\"1013,-3237.5 1013,-3283.5 \" stroke=\"#000000\"/>\n",
       "<text fill=\"#000000\" font-family=\"Times,serif\" font-size=\"14.00\" text-anchor=\"middle\" x=\"1040.5\" y=\"-3268.3\">input:</text>\n",
       "<polyline fill=\"none\" points=\"1013,-3260.5 1068,-3260.5 \" stroke=\"#000000\"/>\n",
       "<text fill=\"#000000\" font-family=\"Times,serif\" font-size=\"14.00\" text-anchor=\"middle\" x=\"1040.5\" y=\"-3245.3\">output:</text>\n",
       "<polyline fill=\"none\" points=\"1068,-3237.5 1068,-3283.5 \" stroke=\"#000000\"/>\n",
       "<text fill=\"#000000\" font-family=\"Times,serif\" font-size=\"14.00\" text-anchor=\"middle\" x=\"1133.5\" y=\"-3268.3\">(None, 250, 250, 1)</text>\n",
       "<polyline fill=\"none\" points=\"1068,-3260.5 1199,-3260.5 \" stroke=\"#000000\"/>\n",
       "<text fill=\"#000000\" font-family=\"Times,serif\" font-size=\"14.00\" text-anchor=\"middle\" x=\"1133.5\" y=\"-3245.3\">(None, 250, 250, 64)</text>\n",
       "</g>\n",
       "<!-- 140287940513408&#45;&gt;140287940510328 -->\n",
       "<g class=\"edge\" id=\"edge1\">\n",
       "<title>140287940513408-&gt;140287940510328</title>\n",
       "<path d=\"M1033,-3320.3799C1033,-3312.1745 1033,-3302.7679 1033,-3293.8786\" fill=\"none\" stroke=\"#000000\"/>\n",
       "<polygon fill=\"#000000\" points=\"1036.5001,-3293.784 1033,-3283.784 1029.5001,-3293.784 1036.5001,-3293.784\" stroke=\"#000000\"/>\n",
       "</g>\n",
       "<!-- 140287940511728 -->\n",
       "<g class=\"node\" id=\"node3\">\n",
       "<title>140287940511728</title>\n",
       "<polygon fill=\"none\" points=\"852,-3154.5 852,-3200.5 1214,-3200.5 1214,-3154.5 852,-3154.5\" stroke=\"#000000\"/>\n",
       "<text fill=\"#000000\" font-family=\"Times,serif\" font-size=\"14.00\" text-anchor=\"middle\" x=\"940\" y=\"-3173.8\">block1_pool: MaxPooling2D</text>\n",
       "<polyline fill=\"none\" points=\"1028,-3154.5 1028,-3200.5 \" stroke=\"#000000\"/>\n",
       "<text fill=\"#000000\" font-family=\"Times,serif\" font-size=\"14.00\" text-anchor=\"middle\" x=\"1055.5\" y=\"-3185.3\">input:</text>\n",
       "<polyline fill=\"none\" points=\"1028,-3177.5 1083,-3177.5 \" stroke=\"#000000\"/>\n",
       "<text fill=\"#000000\" font-family=\"Times,serif\" font-size=\"14.00\" text-anchor=\"middle\" x=\"1055.5\" y=\"-3162.3\">output:</text>\n",
       "<polyline fill=\"none\" points=\"1083,-3154.5 1083,-3200.5 \" stroke=\"#000000\"/>\n",
       "<text fill=\"#000000\" font-family=\"Times,serif\" font-size=\"14.00\" text-anchor=\"middle\" x=\"1148.5\" y=\"-3185.3\">(None, 250, 250, 64)</text>\n",
       "<polyline fill=\"none\" points=\"1083,-3177.5 1214,-3177.5 \" stroke=\"#000000\"/>\n",
       "<text fill=\"#000000\" font-family=\"Times,serif\" font-size=\"14.00\" text-anchor=\"middle\" x=\"1148.5\" y=\"-3162.3\">(None, 125, 125, 64)</text>\n",
       "</g>\n",
       "<!-- 140287940510328&#45;&gt;140287940511728 -->\n",
       "<g class=\"edge\" id=\"edge2\">\n",
       "<title>140287940510328-&gt;140287940511728</title>\n",
       "<path d=\"M1033,-3237.3799C1033,-3229.1745 1033,-3219.7679 1033,-3210.8786\" fill=\"none\" stroke=\"#000000\"/>\n",
       "<polygon fill=\"#000000\" points=\"1036.5001,-3210.784 1033,-3200.784 1029.5001,-3210.784 1036.5001,-3210.784\" stroke=\"#000000\"/>\n",
       "</g>\n",
       "<!-- 140287940992640 -->\n",
       "<g class=\"node\" id=\"node4\">\n",
       "<title>140287940992640</title>\n",
       "<polygon fill=\"none\" points=\"877.5,-3071.5 877.5,-3117.5 1188.5,-3117.5 1188.5,-3071.5 877.5,-3071.5\" stroke=\"#000000\"/>\n",
       "<text fill=\"#000000\" font-family=\"Times,serif\" font-size=\"14.00\" text-anchor=\"middle\" x=\"940\" y=\"-3090.8\">dropout_1: Dropout</text>\n",
       "<polyline fill=\"none\" points=\"1002.5,-3071.5 1002.5,-3117.5 \" stroke=\"#000000\"/>\n",
       "<text fill=\"#000000\" font-family=\"Times,serif\" font-size=\"14.00\" text-anchor=\"middle\" x=\"1030\" y=\"-3102.3\">input:</text>\n",
       "<polyline fill=\"none\" points=\"1002.5,-3094.5 1057.5,-3094.5 \" stroke=\"#000000\"/>\n",
       "<text fill=\"#000000\" font-family=\"Times,serif\" font-size=\"14.00\" text-anchor=\"middle\" x=\"1030\" y=\"-3079.3\">output:</text>\n",
       "<polyline fill=\"none\" points=\"1057.5,-3071.5 1057.5,-3117.5 \" stroke=\"#000000\"/>\n",
       "<text fill=\"#000000\" font-family=\"Times,serif\" font-size=\"14.00\" text-anchor=\"middle\" x=\"1123\" y=\"-3102.3\">(None, 125, 125, 64)</text>\n",
       "<polyline fill=\"none\" points=\"1057.5,-3094.5 1188.5,-3094.5 \" stroke=\"#000000\"/>\n",
       "<text fill=\"#000000\" font-family=\"Times,serif\" font-size=\"14.00\" text-anchor=\"middle\" x=\"1123\" y=\"-3079.3\">(None, 125, 125, 64)</text>\n",
       "</g>\n",
       "<!-- 140287940511728&#45;&gt;140287940992640 -->\n",
       "<g class=\"edge\" id=\"edge3\">\n",
       "<title>140287940511728-&gt;140287940992640</title>\n",
       "<path d=\"M1033,-3154.3799C1033,-3146.1745 1033,-3136.7679 1033,-3127.8786\" fill=\"none\" stroke=\"#000000\"/>\n",
       "<polygon fill=\"#000000\" points=\"1036.5001,-3127.784 1033,-3117.784 1029.5001,-3127.784 1036.5001,-3127.784\" stroke=\"#000000\"/>\n",
       "</g>\n",
       "<!-- 140287940692568 -->\n",
       "<g class=\"node\" id=\"node5\">\n",
       "<title>140287940692568</title>\n",
       "<polygon fill=\"none\" points=\"764.5,-2988.5 764.5,-3034.5 1103.5,-3034.5 1103.5,-2988.5 764.5,-2988.5\" stroke=\"#000000\"/>\n",
       "<text fill=\"#000000\" font-family=\"Times,serif\" font-size=\"14.00\" text-anchor=\"middle\" x=\"837.5\" y=\"-3007.8\">block2_conv1: Conv2D</text>\n",
       "<polyline fill=\"none\" points=\"910.5,-2988.5 910.5,-3034.5 \" stroke=\"#000000\"/>\n",
       "<text fill=\"#000000\" font-family=\"Times,serif\" font-size=\"14.00\" text-anchor=\"middle\" x=\"938\" y=\"-3019.3\">input:</text>\n",
       "<polyline fill=\"none\" points=\"910.5,-3011.5 965.5,-3011.5 \" stroke=\"#000000\"/>\n",
       "<text fill=\"#000000\" font-family=\"Times,serif\" font-size=\"14.00\" text-anchor=\"middle\" x=\"938\" y=\"-2996.3\">output:</text>\n",
       "<polyline fill=\"none\" points=\"965.5,-2988.5 965.5,-3034.5 \" stroke=\"#000000\"/>\n",
       "<text fill=\"#000000\" font-family=\"Times,serif\" font-size=\"14.00\" text-anchor=\"middle\" x=\"1034.5\" y=\"-3019.3\">(None, 125, 125, 64)</text>\n",
       "<polyline fill=\"none\" points=\"965.5,-3011.5 1103.5,-3011.5 \" stroke=\"#000000\"/>\n",
       "<text fill=\"#000000\" font-family=\"Times,serif\" font-size=\"14.00\" text-anchor=\"middle\" x=\"1034.5\" y=\"-2996.3\">(None, 125, 125, 128)</text>\n",
       "</g>\n",
       "<!-- 140287940992640&#45;&gt;140287940692568 -->\n",
       "<g class=\"edge\" id=\"edge4\">\n",
       "<title>140287940992640-&gt;140287940692568</title>\n",
       "<path d=\"M1005.423,-3071.3799C994.3593,-3062.1043 981.4646,-3051.2936 969.7001,-3041.4304\" fill=\"none\" stroke=\"#000000\"/>\n",
       "<polygon fill=\"#000000\" points=\"971.6843,-3038.5266 961.7725,-3034.784 967.187,-3043.8908 971.6843,-3038.5266\" stroke=\"#000000\"/>\n",
       "</g>\n",
       "<!-- 140287935526896 -->\n",
       "<g class=\"node\" id=\"node42\">\n",
       "<title>140287935526896</title>\n",
       "<polygon fill=\"none\" points=\"1056,-2905.5 1056,-2951.5 1372,-2951.5 1372,-2905.5 1056,-2905.5\" stroke=\"#000000\"/>\n",
       "<text fill=\"#000000\" font-family=\"Times,serif\" font-size=\"14.00\" text-anchor=\"middle\" x=\"1121\" y=\"-2924.8\">scale_feat5: Lambda</text>\n",
       "<polyline fill=\"none\" points=\"1186,-2905.5 1186,-2951.5 \" stroke=\"#000000\"/>\n",
       "<text fill=\"#000000\" font-family=\"Times,serif\" font-size=\"14.00\" text-anchor=\"middle\" x=\"1213.5\" y=\"-2936.3\">input:</text>\n",
       "<polyline fill=\"none\" points=\"1186,-2928.5 1241,-2928.5 \" stroke=\"#000000\"/>\n",
       "<text fill=\"#000000\" font-family=\"Times,serif\" font-size=\"14.00\" text-anchor=\"middle\" x=\"1213.5\" y=\"-2913.3\">output:</text>\n",
       "<polyline fill=\"none\" points=\"1241,-2905.5 1241,-2951.5 \" stroke=\"#000000\"/>\n",
       "<text fill=\"#000000\" font-family=\"Times,serif\" font-size=\"14.00\" text-anchor=\"middle\" x=\"1306.5\" y=\"-2936.3\">(None, 125, 125, 64)</text>\n",
       "<polyline fill=\"none\" points=\"1241,-2928.5 1372,-2928.5 \" stroke=\"#000000\"/>\n",
       "<text fill=\"#000000\" font-family=\"Times,serif\" font-size=\"14.00\" text-anchor=\"middle\" x=\"1306.5\" y=\"-2913.3\">(None, 125, 125, 64)</text>\n",
       "</g>\n",
       "<!-- 140287940992640&#45;&gt;140287935526896 -->\n",
       "<g class=\"edge\" id=\"edge44\">\n",
       "<title>140287940992640-&gt;140287935526896</title>\n",
       "<path d=\"M1066.6957,-3071.4134C1081.3731,-3060.8627 1098.4983,-3047.8658 1113,-3035 1139.8231,-3011.2027 1167.6751,-2981.3883 1187.3202,-2959.3621\" fill=\"none\" stroke=\"#000000\"/>\n",
       "<polygon fill=\"#000000\" points=\"1190.1616,-2961.4327 1194.1694,-2951.6251 1184.9203,-2956.7927 1190.1616,-2961.4327\" stroke=\"#000000\"/>\n",
       "</g>\n",
       "<!-- 140291230742232 -->\n",
       "<g class=\"node\" id=\"node6\">\n",
       "<title>140291230742232</title>\n",
       "<polygon fill=\"none\" points=\"668.5,-2905.5 668.5,-2951.5 1037.5,-2951.5 1037.5,-2905.5 668.5,-2905.5\" stroke=\"#000000\"/>\n",
       "<text fill=\"#000000\" font-family=\"Times,serif\" font-size=\"14.00\" text-anchor=\"middle\" x=\"756.5\" y=\"-2924.8\">block2_pool: MaxPooling2D</text>\n",
       "<polyline fill=\"none\" points=\"844.5,-2905.5 844.5,-2951.5 \" stroke=\"#000000\"/>\n",
       "<text fill=\"#000000\" font-family=\"Times,serif\" font-size=\"14.00\" text-anchor=\"middle\" x=\"872\" y=\"-2936.3\">input:</text>\n",
       "<polyline fill=\"none\" points=\"844.5,-2928.5 899.5,-2928.5 \" stroke=\"#000000\"/>\n",
       "<text fill=\"#000000\" font-family=\"Times,serif\" font-size=\"14.00\" text-anchor=\"middle\" x=\"872\" y=\"-2913.3\">output:</text>\n",
       "<polyline fill=\"none\" points=\"899.5,-2905.5 899.5,-2951.5 \" stroke=\"#000000\"/>\n",
       "<text fill=\"#000000\" font-family=\"Times,serif\" font-size=\"14.00\" text-anchor=\"middle\" x=\"968.5\" y=\"-2936.3\">(None, 125, 125, 128)</text>\n",
       "<polyline fill=\"none\" points=\"899.5,-2928.5 1037.5,-2928.5 \" stroke=\"#000000\"/>\n",
       "<text fill=\"#000000\" font-family=\"Times,serif\" font-size=\"14.00\" text-anchor=\"middle\" x=\"968.5\" y=\"-2913.3\">(None, 63, 63, 128)</text>\n",
       "</g>\n",
       "<!-- 140287940692568&#45;&gt;140291230742232 -->\n",
       "<g class=\"edge\" id=\"edge5\">\n",
       "<title>140287940692568-&gt;140291230742232</title>\n",
       "<path d=\"M911.437,-2988.3799C902.559,-2979.2827 892.2399,-2968.7088 882.7655,-2959.0005\" fill=\"none\" stroke=\"#000000\"/>\n",
       "<polygon fill=\"#000000\" points=\"885.2122,-2956.4963 875.7229,-2951.784 880.2024,-2961.3853 885.2122,-2956.4963\" stroke=\"#000000\"/>\n",
       "</g>\n",
       "<!-- 140287940091576 -->\n",
       "<g class=\"node\" id=\"node7\">\n",
       "<title>140287940091576</title>\n",
       "<polygon fill=\"none\" points=\"700.5,-2822.5 700.5,-2868.5 1005.5,-2868.5 1005.5,-2822.5 700.5,-2822.5\" stroke=\"#000000\"/>\n",
       "<text fill=\"#000000\" font-family=\"Times,serif\" font-size=\"14.00\" text-anchor=\"middle\" x=\"763\" y=\"-2841.8\">dropout_2: Dropout</text>\n",
       "<polyline fill=\"none\" points=\"825.5,-2822.5 825.5,-2868.5 \" stroke=\"#000000\"/>\n",
       "<text fill=\"#000000\" font-family=\"Times,serif\" font-size=\"14.00\" text-anchor=\"middle\" x=\"853\" y=\"-2853.3\">input:</text>\n",
       "<polyline fill=\"none\" points=\"825.5,-2845.5 880.5,-2845.5 \" stroke=\"#000000\"/>\n",
       "<text fill=\"#000000\" font-family=\"Times,serif\" font-size=\"14.00\" text-anchor=\"middle\" x=\"853\" y=\"-2830.3\">output:</text>\n",
       "<polyline fill=\"none\" points=\"880.5,-2822.5 880.5,-2868.5 \" stroke=\"#000000\"/>\n",
       "<text fill=\"#000000\" font-family=\"Times,serif\" font-size=\"14.00\" text-anchor=\"middle\" x=\"943\" y=\"-2853.3\">(None, 63, 63, 128)</text>\n",
       "<polyline fill=\"none\" points=\"880.5,-2845.5 1005.5,-2845.5 \" stroke=\"#000000\"/>\n",
       "<text fill=\"#000000\" font-family=\"Times,serif\" font-size=\"14.00\" text-anchor=\"middle\" x=\"943\" y=\"-2830.3\">(None, 63, 63, 128)</text>\n",
       "</g>\n",
       "<!-- 140291230742232&#45;&gt;140287940091576 -->\n",
       "<g class=\"edge\" id=\"edge6\">\n",
       "<title>140291230742232-&gt;140287940091576</title>\n",
       "<path d=\"M853,-2905.3799C853,-2897.1745 853,-2887.7679 853,-2878.8786\" fill=\"none\" stroke=\"#000000\"/>\n",
       "<polygon fill=\"#000000\" points=\"856.5001,-2878.784 853,-2868.784 849.5001,-2878.784 856.5001,-2878.784\" stroke=\"#000000\"/>\n",
       "</g>\n",
       "<!-- 140287940168840 -->\n",
       "<g class=\"node\" id=\"node8\">\n",
       "<title>140287940168840</title>\n",
       "<polygon fill=\"none\" points=\"507,-2739.5 507,-2785.5 833,-2785.5 833,-2739.5 507,-2739.5\" stroke=\"#000000\"/>\n",
       "<text fill=\"#000000\" font-family=\"Times,serif\" font-size=\"14.00\" text-anchor=\"middle\" x=\"580\" y=\"-2758.8\">block3_conv1: Conv2D</text>\n",
       "<polyline fill=\"none\" points=\"653,-2739.5 653,-2785.5 \" stroke=\"#000000\"/>\n",
       "<text fill=\"#000000\" font-family=\"Times,serif\" font-size=\"14.00\" text-anchor=\"middle\" x=\"680.5\" y=\"-2770.3\">input:</text>\n",
       "<polyline fill=\"none\" points=\"653,-2762.5 708,-2762.5 \" stroke=\"#000000\"/>\n",
       "<text fill=\"#000000\" font-family=\"Times,serif\" font-size=\"14.00\" text-anchor=\"middle\" x=\"680.5\" y=\"-2747.3\">output:</text>\n",
       "<polyline fill=\"none\" points=\"708,-2739.5 708,-2785.5 \" stroke=\"#000000\"/>\n",
       "<text fill=\"#000000\" font-family=\"Times,serif\" font-size=\"14.00\" text-anchor=\"middle\" x=\"770.5\" y=\"-2770.3\">(None, 63, 63, 128)</text>\n",
       "<polyline fill=\"none\" points=\"708,-2762.5 833,-2762.5 \" stroke=\"#000000\"/>\n",
       "<text fill=\"#000000\" font-family=\"Times,serif\" font-size=\"14.00\" text-anchor=\"middle\" x=\"770.5\" y=\"-2747.3\">(None, 63, 63, 256)</text>\n",
       "</g>\n",
       "<!-- 140287940091576&#45;&gt;140287940168840 -->\n",
       "<g class=\"edge\" id=\"edge7\">\n",
       "<title>140287940091576-&gt;140287940168840</title>\n",
       "<path d=\"M802.0243,-2822.3799C779.8089,-2812.304 753.5995,-2800.4167 730.4128,-2789.9003\" fill=\"none\" stroke=\"#000000\"/>\n",
       "<polygon fill=\"#000000\" points=\"731.5722,-2786.5831 721.0194,-2785.6399 728.6808,-2792.958 731.5722,-2786.5831\" stroke=\"#000000\"/>\n",
       "</g>\n",
       "<!-- 140287936750760 -->\n",
       "<g class=\"node\" id=\"node35\">\n",
       "<title>140287936750760</title>\n",
       "<polygon fill=\"none\" points=\"825,-2656.5 825,-2702.5 1135,-2702.5 1135,-2656.5 825,-2656.5\" stroke=\"#000000\"/>\n",
       "<text fill=\"#000000\" font-family=\"Times,serif\" font-size=\"14.00\" text-anchor=\"middle\" x=\"890\" y=\"-2675.8\">scale_feat4: Lambda</text>\n",
       "<polyline fill=\"none\" points=\"955,-2656.5 955,-2702.5 \" stroke=\"#000000\"/>\n",
       "<text fill=\"#000000\" font-family=\"Times,serif\" font-size=\"14.00\" text-anchor=\"middle\" x=\"982.5\" y=\"-2687.3\">input:</text>\n",
       "<polyline fill=\"none\" points=\"955,-2679.5 1010,-2679.5 \" stroke=\"#000000\"/>\n",
       "<text fill=\"#000000\" font-family=\"Times,serif\" font-size=\"14.00\" text-anchor=\"middle\" x=\"982.5\" y=\"-2664.3\">output:</text>\n",
       "<polyline fill=\"none\" points=\"1010,-2656.5 1010,-2702.5 \" stroke=\"#000000\"/>\n",
       "<text fill=\"#000000\" font-family=\"Times,serif\" font-size=\"14.00\" text-anchor=\"middle\" x=\"1072.5\" y=\"-2687.3\">(None, 63, 63, 128)</text>\n",
       "<polyline fill=\"none\" points=\"1010,-2679.5 1135,-2679.5 \" stroke=\"#000000\"/>\n",
       "<text fill=\"#000000\" font-family=\"Times,serif\" font-size=\"14.00\" text-anchor=\"middle\" x=\"1072.5\" y=\"-2664.3\">(None, 63, 63, 128)</text>\n",
       "</g>\n",
       "<!-- 140287940091576&#45;&gt;140287936750760 -->\n",
       "<g class=\"edge\" id=\"edge36\">\n",
       "<title>140287940091576-&gt;140287936750760</title>\n",
       "<path d=\"M870.6588,-2822.4184C892.8696,-2793.387 931.102,-2743.4139 955.9633,-2710.9181\" fill=\"none\" stroke=\"#000000\"/>\n",
       "<polygon fill=\"#000000\" points=\"958.9904,-2712.7215 962.2869,-2702.6525 953.4308,-2708.4681 958.9904,-2712.7215\" stroke=\"#000000\"/>\n",
       "</g>\n",
       "<!-- 140287939732592 -->\n",
       "<g class=\"node\" id=\"node9\">\n",
       "<title>140287939732592</title>\n",
       "<polygon fill=\"none\" points=\"451,-2656.5 451,-2702.5 807,-2702.5 807,-2656.5 451,-2656.5\" stroke=\"#000000\"/>\n",
       "<text fill=\"#000000\" font-family=\"Times,serif\" font-size=\"14.00\" text-anchor=\"middle\" x=\"539\" y=\"-2675.8\">block3_pool: MaxPooling2D</text>\n",
       "<polyline fill=\"none\" points=\"627,-2656.5 627,-2702.5 \" stroke=\"#000000\"/>\n",
       "<text fill=\"#000000\" font-family=\"Times,serif\" font-size=\"14.00\" text-anchor=\"middle\" x=\"654.5\" y=\"-2687.3\">input:</text>\n",
       "<polyline fill=\"none\" points=\"627,-2679.5 682,-2679.5 \" stroke=\"#000000\"/>\n",
       "<text fill=\"#000000\" font-family=\"Times,serif\" font-size=\"14.00\" text-anchor=\"middle\" x=\"654.5\" y=\"-2664.3\">output:</text>\n",
       "<polyline fill=\"none\" points=\"682,-2656.5 682,-2702.5 \" stroke=\"#000000\"/>\n",
       "<text fill=\"#000000\" font-family=\"Times,serif\" font-size=\"14.00\" text-anchor=\"middle\" x=\"744.5\" y=\"-2687.3\">(None, 63, 63, 256)</text>\n",
       "<polyline fill=\"none\" points=\"682,-2679.5 807,-2679.5 \" stroke=\"#000000\"/>\n",
       "<text fill=\"#000000\" font-family=\"Times,serif\" font-size=\"14.00\" text-anchor=\"middle\" x=\"744.5\" y=\"-2664.3\">(None, 32, 32, 256)</text>\n",
       "</g>\n",
       "<!-- 140287940168840&#45;&gt;140287939732592 -->\n",
       "<g class=\"edge\" id=\"edge8\">\n",
       "<title>140287940168840-&gt;140287939732592</title>\n",
       "<path d=\"M658.5792,-2739.3799C654.3938,-2730.907 649.5757,-2721.1531 645.0595,-2712.0107\" fill=\"none\" stroke=\"#000000\"/>\n",
       "<polygon fill=\"#000000\" points=\"648.0687,-2710.1997 640.5017,-2702.784 641.7926,-2713.2999 648.0687,-2710.1997\" stroke=\"#000000\"/>\n",
       "</g>\n",
       "<!-- 140287939944176 -->\n",
       "<g class=\"node\" id=\"node10\">\n",
       "<title>140287939944176</title>\n",
       "<polygon fill=\"none\" points=\"476.5,-2573.5 476.5,-2619.5 781.5,-2619.5 781.5,-2573.5 476.5,-2573.5\" stroke=\"#000000\"/>\n",
       "<text fill=\"#000000\" font-family=\"Times,serif\" font-size=\"14.00\" text-anchor=\"middle\" x=\"539\" y=\"-2592.8\">dropout_3: Dropout</text>\n",
       "<polyline fill=\"none\" points=\"601.5,-2573.5 601.5,-2619.5 \" stroke=\"#000000\"/>\n",
       "<text fill=\"#000000\" font-family=\"Times,serif\" font-size=\"14.00\" text-anchor=\"middle\" x=\"629\" y=\"-2604.3\">input:</text>\n",
       "<polyline fill=\"none\" points=\"601.5,-2596.5 656.5,-2596.5 \" stroke=\"#000000\"/>\n",
       "<text fill=\"#000000\" font-family=\"Times,serif\" font-size=\"14.00\" text-anchor=\"middle\" x=\"629\" y=\"-2581.3\">output:</text>\n",
       "<polyline fill=\"none\" points=\"656.5,-2573.5 656.5,-2619.5 \" stroke=\"#000000\"/>\n",
       "<text fill=\"#000000\" font-family=\"Times,serif\" font-size=\"14.00\" text-anchor=\"middle\" x=\"719\" y=\"-2604.3\">(None, 32, 32, 256)</text>\n",
       "<polyline fill=\"none\" points=\"656.5,-2596.5 781.5,-2596.5 \" stroke=\"#000000\"/>\n",
       "<text fill=\"#000000\" font-family=\"Times,serif\" font-size=\"14.00\" text-anchor=\"middle\" x=\"719\" y=\"-2581.3\">(None, 32, 32, 256)</text>\n",
       "</g>\n",
       "<!-- 140287939732592&#45;&gt;140287939944176 -->\n",
       "<g class=\"edge\" id=\"edge9\">\n",
       "<title>140287939732592-&gt;140287939944176</title>\n",
       "<path d=\"M629,-2656.3799C629,-2648.1745 629,-2638.7679 629,-2629.8786\" fill=\"none\" stroke=\"#000000\"/>\n",
       "<polygon fill=\"#000000\" points=\"632.5001,-2629.784 629,-2619.784 625.5001,-2629.784 632.5001,-2629.784\" stroke=\"#000000\"/>\n",
       "</g>\n",
       "<!-- 140287939482624 -->\n",
       "<g class=\"node\" id=\"node11\">\n",
       "<title>140287939482624</title>\n",
       "<polygon fill=\"none\" points=\"272,-2490.5 272,-2536.5 598,-2536.5 598,-2490.5 272,-2490.5\" stroke=\"#000000\"/>\n",
       "<text fill=\"#000000\" font-family=\"Times,serif\" font-size=\"14.00\" text-anchor=\"middle\" x=\"345\" y=\"-2509.8\">block4_conv1: Conv2D</text>\n",
       "<polyline fill=\"none\" points=\"418,-2490.5 418,-2536.5 \" stroke=\"#000000\"/>\n",
       "<text fill=\"#000000\" font-family=\"Times,serif\" font-size=\"14.00\" text-anchor=\"middle\" x=\"445.5\" y=\"-2521.3\">input:</text>\n",
       "<polyline fill=\"none\" points=\"418,-2513.5 473,-2513.5 \" stroke=\"#000000\"/>\n",
       "<text fill=\"#000000\" font-family=\"Times,serif\" font-size=\"14.00\" text-anchor=\"middle\" x=\"445.5\" y=\"-2498.3\">output:</text>\n",
       "<polyline fill=\"none\" points=\"473,-2490.5 473,-2536.5 \" stroke=\"#000000\"/>\n",
       "<text fill=\"#000000\" font-family=\"Times,serif\" font-size=\"14.00\" text-anchor=\"middle\" x=\"535.5\" y=\"-2521.3\">(None, 32, 32, 256)</text>\n",
       "<polyline fill=\"none\" points=\"473,-2513.5 598,-2513.5 \" stroke=\"#000000\"/>\n",
       "<text fill=\"#000000\" font-family=\"Times,serif\" font-size=\"14.00\" text-anchor=\"middle\" x=\"535.5\" y=\"-2498.3\">(None, 32, 32, 512)</text>\n",
       "</g>\n",
       "<!-- 140287939944176&#45;&gt;140287939482624 -->\n",
       "<g class=\"edge\" id=\"edge10\">\n",
       "<title>140287939944176-&gt;140287939482624</title>\n",
       "<path d=\"M575.2178,-2573.4901C551.354,-2563.2803 523.1035,-2551.1938 498.2358,-2540.5545\" fill=\"none\" stroke=\"#000000\"/>\n",
       "<polygon fill=\"#000000\" points=\"499.4575,-2537.2703 488.8868,-2536.5547 496.704,-2543.7061 499.4575,-2537.2703\" stroke=\"#000000\"/>\n",
       "</g>\n",
       "<!-- 140287937540952 -->\n",
       "<g class=\"node\" id=\"node28\">\n",
       "<title>140287937540952</title>\n",
       "<polygon fill=\"none\" points=\"591,-2407.5 591,-2453.5 901,-2453.5 901,-2407.5 591,-2407.5\" stroke=\"#000000\"/>\n",
       "<text fill=\"#000000\" font-family=\"Times,serif\" font-size=\"14.00\" text-anchor=\"middle\" x=\"656\" y=\"-2426.8\">scale_feat3: Lambda</text>\n",
       "<polyline fill=\"none\" points=\"721,-2407.5 721,-2453.5 \" stroke=\"#000000\"/>\n",
       "<text fill=\"#000000\" font-family=\"Times,serif\" font-size=\"14.00\" text-anchor=\"middle\" x=\"748.5\" y=\"-2438.3\">input:</text>\n",
       "<polyline fill=\"none\" points=\"721,-2430.5 776,-2430.5 \" stroke=\"#000000\"/>\n",
       "<text fill=\"#000000\" font-family=\"Times,serif\" font-size=\"14.00\" text-anchor=\"middle\" x=\"748.5\" y=\"-2415.3\">output:</text>\n",
       "<polyline fill=\"none\" points=\"776,-2407.5 776,-2453.5 \" stroke=\"#000000\"/>\n",
       "<text fill=\"#000000\" font-family=\"Times,serif\" font-size=\"14.00\" text-anchor=\"middle\" x=\"838.5\" y=\"-2438.3\">(None, 32, 32, 256)</text>\n",
       "<polyline fill=\"none\" points=\"776,-2430.5 901,-2430.5 \" stroke=\"#000000\"/>\n",
       "<text fill=\"#000000\" font-family=\"Times,serif\" font-size=\"14.00\" text-anchor=\"middle\" x=\"838.5\" y=\"-2415.3\">(None, 32, 32, 256)</text>\n",
       "</g>\n",
       "<!-- 140287939944176&#45;&gt;140287937540952 -->\n",
       "<g class=\"edge\" id=\"edge28\">\n",
       "<title>140287939944176-&gt;140287937540952</title>\n",
       "<path d=\"M645.2683,-2573.4184C665.7302,-2544.387 700.9522,-2494.4139 723.8559,-2461.9181\" fill=\"none\" stroke=\"#000000\"/>\n",
       "<polygon fill=\"#000000\" points=\"726.7814,-2463.8427 729.6816,-2453.6525 721.0597,-2459.8099 726.7814,-2463.8427\" stroke=\"#000000\"/>\n",
       "</g>\n",
       "<!-- 140287939572904 -->\n",
       "<g class=\"node\" id=\"node12\">\n",
       "<title>140287939572904</title>\n",
       "<polygon fill=\"none\" points=\"217,-2407.5 217,-2453.5 573,-2453.5 573,-2407.5 217,-2407.5\" stroke=\"#000000\"/>\n",
       "<text fill=\"#000000\" font-family=\"Times,serif\" font-size=\"14.00\" text-anchor=\"middle\" x=\"305\" y=\"-2426.8\">block4_pool: MaxPooling2D</text>\n",
       "<polyline fill=\"none\" points=\"393,-2407.5 393,-2453.5 \" stroke=\"#000000\"/>\n",
       "<text fill=\"#000000\" font-family=\"Times,serif\" font-size=\"14.00\" text-anchor=\"middle\" x=\"420.5\" y=\"-2438.3\">input:</text>\n",
       "<polyline fill=\"none\" points=\"393,-2430.5 448,-2430.5 \" stroke=\"#000000\"/>\n",
       "<text fill=\"#000000\" font-family=\"Times,serif\" font-size=\"14.00\" text-anchor=\"middle\" x=\"420.5\" y=\"-2415.3\">output:</text>\n",
       "<polyline fill=\"none\" points=\"448,-2407.5 448,-2453.5 \" stroke=\"#000000\"/>\n",
       "<text fill=\"#000000\" font-family=\"Times,serif\" font-size=\"14.00\" text-anchor=\"middle\" x=\"510.5\" y=\"-2438.3\">(None, 32, 32, 512)</text>\n",
       "<polyline fill=\"none\" points=\"448,-2430.5 573,-2430.5 \" stroke=\"#000000\"/>\n",
       "<text fill=\"#000000\" font-family=\"Times,serif\" font-size=\"14.00\" text-anchor=\"middle\" x=\"510.5\" y=\"-2415.3\">(None, 16, 16, 512)</text>\n",
       "</g>\n",
       "<!-- 140287939482624&#45;&gt;140287939572904 -->\n",
       "<g class=\"edge\" id=\"edge11\">\n",
       "<title>140287939482624-&gt;140287939572904</title>\n",
       "<path d=\"M423.8578,-2490.3799C419.7744,-2481.907 415.0738,-2472.1531 410.6678,-2463.0107\" fill=\"none\" stroke=\"#000000\"/>\n",
       "<polygon fill=\"#000000\" points=\"413.7156,-2461.2729 406.2212,-2453.784 407.4097,-2464.312 413.7156,-2461.2729\" stroke=\"#000000\"/>\n",
       "</g>\n",
       "<!-- 140287939252008 -->\n",
       "<g class=\"node\" id=\"node13\">\n",
       "<title>140287939252008</title>\n",
       "<polygon fill=\"none\" points=\"242.5,-2324.5 242.5,-2370.5 547.5,-2370.5 547.5,-2324.5 242.5,-2324.5\" stroke=\"#000000\"/>\n",
       "<text fill=\"#000000\" font-family=\"Times,serif\" font-size=\"14.00\" text-anchor=\"middle\" x=\"305\" y=\"-2343.8\">dropout_4: Dropout</text>\n",
       "<polyline fill=\"none\" points=\"367.5,-2324.5 367.5,-2370.5 \" stroke=\"#000000\"/>\n",
       "<text fill=\"#000000\" font-family=\"Times,serif\" font-size=\"14.00\" text-anchor=\"middle\" x=\"395\" y=\"-2355.3\">input:</text>\n",
       "<polyline fill=\"none\" points=\"367.5,-2347.5 422.5,-2347.5 \" stroke=\"#000000\"/>\n",
       "<text fill=\"#000000\" font-family=\"Times,serif\" font-size=\"14.00\" text-anchor=\"middle\" x=\"395\" y=\"-2332.3\">output:</text>\n",
       "<polyline fill=\"none\" points=\"422.5,-2324.5 422.5,-2370.5 \" stroke=\"#000000\"/>\n",
       "<text fill=\"#000000\" font-family=\"Times,serif\" font-size=\"14.00\" text-anchor=\"middle\" x=\"485\" y=\"-2355.3\">(None, 16, 16, 512)</text>\n",
       "<polyline fill=\"none\" points=\"422.5,-2347.5 547.5,-2347.5 \" stroke=\"#000000\"/>\n",
       "<text fill=\"#000000\" font-family=\"Times,serif\" font-size=\"14.00\" text-anchor=\"middle\" x=\"485\" y=\"-2332.3\">(None, 16, 16, 512)</text>\n",
       "</g>\n",
       "<!-- 140287939572904&#45;&gt;140287939252008 -->\n",
       "<g class=\"edge\" id=\"edge12\">\n",
       "<title>140287939572904-&gt;140287939252008</title>\n",
       "<path d=\"M395,-2407.3799C395,-2399.1745 395,-2389.7679 395,-2380.8786\" fill=\"none\" stroke=\"#000000\"/>\n",
       "<polygon fill=\"#000000\" points=\"398.5001,-2380.784 395,-2370.784 391.5001,-2380.784 398.5001,-2380.784\" stroke=\"#000000\"/>\n",
       "</g>\n",
       "<!-- 140287939331128 -->\n",
       "<g class=\"node\" id=\"node14\">\n",
       "<title>140287939331128</title>\n",
       "<polygon fill=\"none\" points=\"55,-2241.5 55,-2287.5 381,-2287.5 381,-2241.5 55,-2241.5\" stroke=\"#000000\"/>\n",
       "<text fill=\"#000000\" font-family=\"Times,serif\" font-size=\"14.00\" text-anchor=\"middle\" x=\"128\" y=\"-2260.8\">block5_conv1: Conv2D</text>\n",
       "<polyline fill=\"none\" points=\"201,-2241.5 201,-2287.5 \" stroke=\"#000000\"/>\n",
       "<text fill=\"#000000\" font-family=\"Times,serif\" font-size=\"14.00\" text-anchor=\"middle\" x=\"228.5\" y=\"-2272.3\">input:</text>\n",
       "<polyline fill=\"none\" points=\"201,-2264.5 256,-2264.5 \" stroke=\"#000000\"/>\n",
       "<text fill=\"#000000\" font-family=\"Times,serif\" font-size=\"14.00\" text-anchor=\"middle\" x=\"228.5\" y=\"-2249.3\">output:</text>\n",
       "<polyline fill=\"none\" points=\"256,-2241.5 256,-2287.5 \" stroke=\"#000000\"/>\n",
       "<text fill=\"#000000\" font-family=\"Times,serif\" font-size=\"14.00\" text-anchor=\"middle\" x=\"318.5\" y=\"-2272.3\">(None, 16, 16, 512)</text>\n",
       "<polyline fill=\"none\" points=\"256,-2264.5 381,-2264.5 \" stroke=\"#000000\"/>\n",
       "<text fill=\"#000000\" font-family=\"Times,serif\" font-size=\"14.00\" text-anchor=\"middle\" x=\"318.5\" y=\"-2249.3\">(None, 16, 16, 512)</text>\n",
       "</g>\n",
       "<!-- 140287939252008&#45;&gt;140287939331128 -->\n",
       "<g class=\"edge\" id=\"edge13\">\n",
       "<title>140287939252008-&gt;140287939331128</title>\n",
       "<path d=\"M345.6956,-2324.3799C324.2086,-2314.304 298.8586,-2302.4167 276.432,-2291.9003\" fill=\"none\" stroke=\"#000000\"/>\n",
       "<polygon fill=\"#000000\" points=\"277.8866,-2288.7168 267.3466,-2287.6399 274.9146,-2295.0545 277.8866,-2288.7168\" stroke=\"#000000\"/>\n",
       "</g>\n",
       "<!-- 140287937865040 -->\n",
       "<g class=\"node\" id=\"node21\">\n",
       "<title>140287937865040</title>\n",
       "<polygon fill=\"none\" points=\"374,-2158.5 374,-2204.5 684,-2204.5 684,-2158.5 374,-2158.5\" stroke=\"#000000\"/>\n",
       "<text fill=\"#000000\" font-family=\"Times,serif\" font-size=\"14.00\" text-anchor=\"middle\" x=\"439\" y=\"-2177.8\">scale_feat2: Lambda</text>\n",
       "<polyline fill=\"none\" points=\"504,-2158.5 504,-2204.5 \" stroke=\"#000000\"/>\n",
       "<text fill=\"#000000\" font-family=\"Times,serif\" font-size=\"14.00\" text-anchor=\"middle\" x=\"531.5\" y=\"-2189.3\">input:</text>\n",
       "<polyline fill=\"none\" points=\"504,-2181.5 559,-2181.5 \" stroke=\"#000000\"/>\n",
       "<text fill=\"#000000\" font-family=\"Times,serif\" font-size=\"14.00\" text-anchor=\"middle\" x=\"531.5\" y=\"-2166.3\">output:</text>\n",
       "<polyline fill=\"none\" points=\"559,-2158.5 559,-2204.5 \" stroke=\"#000000\"/>\n",
       "<text fill=\"#000000\" font-family=\"Times,serif\" font-size=\"14.00\" text-anchor=\"middle\" x=\"621.5\" y=\"-2189.3\">(None, 16, 16, 512)</text>\n",
       "<polyline fill=\"none\" points=\"559,-2181.5 684,-2181.5 \" stroke=\"#000000\"/>\n",
       "<text fill=\"#000000\" font-family=\"Times,serif\" font-size=\"14.00\" text-anchor=\"middle\" x=\"621.5\" y=\"-2166.3\">(None, 16, 16, 512)</text>\n",
       "</g>\n",
       "<!-- 140287939252008&#45;&gt;140287937865040 -->\n",
       "<g class=\"edge\" id=\"edge20\">\n",
       "<title>140287939252008-&gt;140287937865040</title>\n",
       "<path d=\"M413.6321,-2324.4184C437.1668,-2295.2635 477.7504,-2244.9882 503.9725,-2212.5042\" fill=\"none\" stroke=\"#000000\"/>\n",
       "<polygon fill=\"#000000\" points=\"506.7528,-2214.6322 510.3106,-2204.6525 501.306,-2210.2353 506.7528,-2214.6322\" stroke=\"#000000\"/>\n",
       "</g>\n",
       "<!-- 140287939413216 -->\n",
       "<g class=\"node\" id=\"node15\">\n",
       "<title>140287939413216</title>\n",
       "<polygon fill=\"none\" points=\"0,-2158.5 0,-2204.5 356,-2204.5 356,-2158.5 0,-2158.5\" stroke=\"#000000\"/>\n",
       "<text fill=\"#000000\" font-family=\"Times,serif\" font-size=\"14.00\" text-anchor=\"middle\" x=\"88\" y=\"-2177.8\">block5_pool: MaxPooling2D</text>\n",
       "<polyline fill=\"none\" points=\"176,-2158.5 176,-2204.5 \" stroke=\"#000000\"/>\n",
       "<text fill=\"#000000\" font-family=\"Times,serif\" font-size=\"14.00\" text-anchor=\"middle\" x=\"203.5\" y=\"-2189.3\">input:</text>\n",
       "<polyline fill=\"none\" points=\"176,-2181.5 231,-2181.5 \" stroke=\"#000000\"/>\n",
       "<text fill=\"#000000\" font-family=\"Times,serif\" font-size=\"14.00\" text-anchor=\"middle\" x=\"203.5\" y=\"-2166.3\">output:</text>\n",
       "<polyline fill=\"none\" points=\"231,-2158.5 231,-2204.5 \" stroke=\"#000000\"/>\n",
       "<text fill=\"#000000\" font-family=\"Times,serif\" font-size=\"14.00\" text-anchor=\"middle\" x=\"293.5\" y=\"-2189.3\">(None, 16, 16, 512)</text>\n",
       "<polyline fill=\"none\" points=\"231,-2181.5 356,-2181.5 \" stroke=\"#000000\"/>\n",
       "<text fill=\"#000000\" font-family=\"Times,serif\" font-size=\"14.00\" text-anchor=\"middle\" x=\"293.5\" y=\"-2166.3\">(None, 8, 8, 512)</text>\n",
       "</g>\n",
       "<!-- 140287939331128&#45;&gt;140287939413216 -->\n",
       "<g class=\"edge\" id=\"edge14\">\n",
       "<title>140287939331128-&gt;140287939413216</title>\n",
       "<path d=\"M206.8578,-2241.3799C202.7744,-2232.907 198.0738,-2223.1531 193.6678,-2214.0107\" fill=\"none\" stroke=\"#000000\"/>\n",
       "<polygon fill=\"#000000\" points=\"196.7156,-2212.2729 189.2212,-2204.784 190.4097,-2215.312 196.7156,-2212.2729\" stroke=\"#000000\"/>\n",
       "</g>\n",
       "<!-- 140287939168072 -->\n",
       "<g class=\"node\" id=\"node16\">\n",
       "<title>140287939168072</title>\n",
       "<polygon fill=\"none\" points=\"37.5,-2075.5 37.5,-2121.5 328.5,-2121.5 328.5,-2075.5 37.5,-2075.5\" stroke=\"#000000\"/>\n",
       "<text fill=\"#000000\" font-family=\"Times,serif\" font-size=\"14.00\" text-anchor=\"middle\" x=\"100\" y=\"-2094.8\">dropout_5: Dropout</text>\n",
       "<polyline fill=\"none\" points=\"162.5,-2075.5 162.5,-2121.5 \" stroke=\"#000000\"/>\n",
       "<text fill=\"#000000\" font-family=\"Times,serif\" font-size=\"14.00\" text-anchor=\"middle\" x=\"190\" y=\"-2106.3\">input:</text>\n",
       "<polyline fill=\"none\" points=\"162.5,-2098.5 217.5,-2098.5 \" stroke=\"#000000\"/>\n",
       "<text fill=\"#000000\" font-family=\"Times,serif\" font-size=\"14.00\" text-anchor=\"middle\" x=\"190\" y=\"-2083.3\">output:</text>\n",
       "<polyline fill=\"none\" points=\"217.5,-2075.5 217.5,-2121.5 \" stroke=\"#000000\"/>\n",
       "<text fill=\"#000000\" font-family=\"Times,serif\" font-size=\"14.00\" text-anchor=\"middle\" x=\"273\" y=\"-2106.3\">(None, 8, 8, 512)</text>\n",
       "<polyline fill=\"none\" points=\"217.5,-2098.5 328.5,-2098.5 \" stroke=\"#000000\"/>\n",
       "<text fill=\"#000000\" font-family=\"Times,serif\" font-size=\"14.00\" text-anchor=\"middle\" x=\"273\" y=\"-2083.3\">(None, 8, 8, 512)</text>\n",
       "</g>\n",
       "<!-- 140287939413216&#45;&gt;140287939168072 -->\n",
       "<g class=\"edge\" id=\"edge15\">\n",
       "<title>140287939413216-&gt;140287939168072</title>\n",
       "<path d=\"M179.3928,-2158.3799C179.8871,-2150.1745 180.4537,-2140.7679 180.9892,-2131.8786\" fill=\"none\" stroke=\"#000000\"/>\n",
       "<polygon fill=\"#000000\" points=\"184.4896,-2131.9764 181.5973,-2121.784 177.5023,-2131.5554 184.4896,-2131.9764\" stroke=\"#000000\"/>\n",
       "</g>\n",
       "<!-- 140287939166840 -->\n",
       "<g class=\"node\" id=\"node17\">\n",
       "<title>140287939166840</title>\n",
       "<polygon fill=\"none\" points=\"36,-1992.5 36,-2038.5 340,-2038.5 340,-1992.5 36,-1992.5\" stroke=\"#000000\"/>\n",
       "<text fill=\"#000000\" font-family=\"Times,serif\" font-size=\"14.00\" text-anchor=\"middle\" x=\"101.5\" y=\"-2011.8\">block5_fc6: Conv2D</text>\n",
       "<polyline fill=\"none\" points=\"167,-1992.5 167,-2038.5 \" stroke=\"#000000\"/>\n",
       "<text fill=\"#000000\" font-family=\"Times,serif\" font-size=\"14.00\" text-anchor=\"middle\" x=\"194.5\" y=\"-2023.3\">input:</text>\n",
       "<polyline fill=\"none\" points=\"167,-2015.5 222,-2015.5 \" stroke=\"#000000\"/>\n",
       "<text fill=\"#000000\" font-family=\"Times,serif\" font-size=\"14.00\" text-anchor=\"middle\" x=\"194.5\" y=\"-2000.3\">output:</text>\n",
       "<polyline fill=\"none\" points=\"222,-1992.5 222,-2038.5 \" stroke=\"#000000\"/>\n",
       "<text fill=\"#000000\" font-family=\"Times,serif\" font-size=\"14.00\" text-anchor=\"middle\" x=\"281\" y=\"-2023.3\">(None, 8, 8, 512)</text>\n",
       "<polyline fill=\"none\" points=\"222,-2015.5 340,-2015.5 \" stroke=\"#000000\"/>\n",
       "<text fill=\"#000000\" font-family=\"Times,serif\" font-size=\"14.00\" text-anchor=\"middle\" x=\"281\" y=\"-2000.3\">(None, 8, 8, 4096)</text>\n",
       "</g>\n",
       "<!-- 140287939168072&#45;&gt;140287939166840 -->\n",
       "<g class=\"edge\" id=\"edge16\">\n",
       "<title>140287939168072-&gt;140287939166840</title>\n",
       "<path d=\"M184.3928,-2075.3799C184.8871,-2067.1745 185.4537,-2057.7679 185.9892,-2048.8786\" fill=\"none\" stroke=\"#000000\"/>\n",
       "<polygon fill=\"#000000\" points=\"189.4896,-2048.9764 186.5973,-2038.784 182.5023,-2048.5554 189.4896,-2048.9764\" stroke=\"#000000\"/>\n",
       "</g>\n",
       "<!-- 140287938734456 -->\n",
       "<g class=\"node\" id=\"node18\">\n",
       "<title>140287938734456</title>\n",
       "<polygon fill=\"none\" points=\"48,-1909.5 48,-1955.5 346,-1955.5 346,-1909.5 48,-1909.5\" stroke=\"#000000\"/>\n",
       "<text fill=\"#000000\" font-family=\"Times,serif\" font-size=\"14.00\" text-anchor=\"middle\" x=\"110.5\" y=\"-1928.8\">dropout_6: Dropout</text>\n",
       "<polyline fill=\"none\" points=\"173,-1909.5 173,-1955.5 \" stroke=\"#000000\"/>\n",
       "<text fill=\"#000000\" font-family=\"Times,serif\" font-size=\"14.00\" text-anchor=\"middle\" x=\"200.5\" y=\"-1940.3\">input:</text>\n",
       "<polyline fill=\"none\" points=\"173,-1932.5 228,-1932.5 \" stroke=\"#000000\"/>\n",
       "<text fill=\"#000000\" font-family=\"Times,serif\" font-size=\"14.00\" text-anchor=\"middle\" x=\"200.5\" y=\"-1917.3\">output:</text>\n",
       "<polyline fill=\"none\" points=\"228,-1909.5 228,-1955.5 \" stroke=\"#000000\"/>\n",
       "<text fill=\"#000000\" font-family=\"Times,serif\" font-size=\"14.00\" text-anchor=\"middle\" x=\"287\" y=\"-1940.3\">(None, 8, 8, 4096)</text>\n",
       "<polyline fill=\"none\" points=\"228,-1932.5 346,-1932.5 \" stroke=\"#000000\"/>\n",
       "<text fill=\"#000000\" font-family=\"Times,serif\" font-size=\"14.00\" text-anchor=\"middle\" x=\"287\" y=\"-1917.3\">(None, 8, 8, 4096)</text>\n",
       "</g>\n",
       "<!-- 140287939166840&#45;&gt;140287938734456 -->\n",
       "<g class=\"edge\" id=\"edge17\">\n",
       "<title>140287939166840-&gt;140287938734456</title>\n",
       "<path d=\"M190.507,-1992.3799C191.3967,-1984.1745 192.4167,-1974.7679 193.3806,-1965.8786\" fill=\"none\" stroke=\"#000000\"/>\n",
       "<polygon fill=\"#000000\" points=\"196.8767,-1966.1031 194.4752,-1955.784 189.9175,-1965.3484 196.8767,-1966.1031\" stroke=\"#000000\"/>\n",
       "</g>\n",
       "<!-- 140287940517056 -->\n",
       "<g class=\"node\" id=\"node19\">\n",
       "<title>140287940517056</title>\n",
       "<polygon fill=\"none\" points=\"63.5,-1826.5 63.5,-1872.5 366.5,-1872.5 366.5,-1826.5 63.5,-1826.5\" stroke=\"#000000\"/>\n",
       "<text fill=\"#000000\" font-family=\"Times,serif\" font-size=\"14.00\" text-anchor=\"middle\" x=\"128.5\" y=\"-1845.8\">scale_feat1: Lambda</text>\n",
       "<polyline fill=\"none\" points=\"193.5,-1826.5 193.5,-1872.5 \" stroke=\"#000000\"/>\n",
       "<text fill=\"#000000\" font-family=\"Times,serif\" font-size=\"14.00\" text-anchor=\"middle\" x=\"221\" y=\"-1857.3\">input:</text>\n",
       "<polyline fill=\"none\" points=\"193.5,-1849.5 248.5,-1849.5 \" stroke=\"#000000\"/>\n",
       "<text fill=\"#000000\" font-family=\"Times,serif\" font-size=\"14.00\" text-anchor=\"middle\" x=\"221\" y=\"-1834.3\">output:</text>\n",
       "<polyline fill=\"none\" points=\"248.5,-1826.5 248.5,-1872.5 \" stroke=\"#000000\"/>\n",
       "<text fill=\"#000000\" font-family=\"Times,serif\" font-size=\"14.00\" text-anchor=\"middle\" x=\"307.5\" y=\"-1857.3\">(None, 8, 8, 4096)</text>\n",
       "<polyline fill=\"none\" points=\"248.5,-1849.5 366.5,-1849.5 \" stroke=\"#000000\"/>\n",
       "<text fill=\"#000000\" font-family=\"Times,serif\" font-size=\"14.00\" text-anchor=\"middle\" x=\"307.5\" y=\"-1834.3\">(None, 8, 8, 4096)</text>\n",
       "</g>\n",
       "<!-- 140287938734456&#45;&gt;140287940517056 -->\n",
       "<g class=\"edge\" id=\"edge18\">\n",
       "<title>140287938734456-&gt;140287940517056</title>\n",
       "<path d=\"M202.014,-1909.3799C203.8128,-1901.0854 205.8778,-1891.5633 207.8241,-1882.5889\" fill=\"none\" stroke=\"#000000\"/>\n",
       "<polygon fill=\"#000000\" points=\"211.2515,-1883.2987 209.9505,-1872.784 204.4105,-1881.815 211.2515,-1883.2987\" stroke=\"#000000\"/>\n",
       "</g>\n",
       "<!-- 140287940517224 -->\n",
       "<g class=\"node\" id=\"node20\">\n",
       "<title>140287940517224</title>\n",
       "<polygon fill=\"none\" points=\"61.5,-1743.5 61.5,-1789.5 442.5,-1789.5 442.5,-1743.5 61.5,-1743.5\" stroke=\"#000000\"/>\n",
       "<text fill=\"#000000\" font-family=\"Times,serif\" font-size=\"14.00\" text-anchor=\"middle\" x=\"162\" y=\"-1762.8\">upscore_feat1: Conv2DTranspose</text>\n",
       "<polyline fill=\"none\" points=\"262.5,-1743.5 262.5,-1789.5 \" stroke=\"#000000\"/>\n",
       "<text fill=\"#000000\" font-family=\"Times,serif\" font-size=\"14.00\" text-anchor=\"middle\" x=\"290\" y=\"-1774.3\">input:</text>\n",
       "<polyline fill=\"none\" points=\"262.5,-1766.5 317.5,-1766.5 \" stroke=\"#000000\"/>\n",
       "<text fill=\"#000000\" font-family=\"Times,serif\" font-size=\"14.00\" text-anchor=\"middle\" x=\"290\" y=\"-1751.3\">output:</text>\n",
       "<polyline fill=\"none\" points=\"317.5,-1743.5 317.5,-1789.5 \" stroke=\"#000000\"/>\n",
       "<text fill=\"#000000\" font-family=\"Times,serif\" font-size=\"14.00\" text-anchor=\"middle\" x=\"380\" y=\"-1774.3\">(None, 8, 8, 4096)</text>\n",
       "<polyline fill=\"none\" points=\"317.5,-1766.5 442.5,-1766.5 \" stroke=\"#000000\"/>\n",
       "<text fill=\"#000000\" font-family=\"Times,serif\" font-size=\"14.00\" text-anchor=\"middle\" x=\"380\" y=\"-1751.3\">(None, 16, 16, 512)</text>\n",
       "</g>\n",
       "<!-- 140287940517056&#45;&gt;140287940517224 -->\n",
       "<g class=\"edge\" id=\"edge19\">\n",
       "<title>140287940517056-&gt;140287940517224</title>\n",
       "<path d=\"M225.3066,-1826.3799C229.0836,-1817.907 233.4317,-1808.1531 237.5073,-1799.0107\" fill=\"none\" stroke=\"#000000\"/>\n",
       "<polygon fill=\"#000000\" points=\"240.7455,-1800.3427 241.6204,-1789.784 234.352,-1797.4925 240.7455,-1800.3427\" stroke=\"#000000\"/>\n",
       "</g>\n",
       "<!-- 140287937864648 -->\n",
       "<g class=\"node\" id=\"node22\">\n",
       "<title>140287937864648</title>\n",
       "<polygon fill=\"none\" points=\"46.5,-1660.5 46.5,-1706.5 465.5,-1706.5 465.5,-1660.5 46.5,-1660.5\" stroke=\"#000000\"/>\n",
       "<text fill=\"#000000\" font-family=\"Times,serif\" font-size=\"14.00\" text-anchor=\"middle\" x=\"166\" y=\"-1679.8\">upsample_feat1: BilinearUpSampling2D</text>\n",
       "<polyline fill=\"none\" points=\"285.5,-1660.5 285.5,-1706.5 \" stroke=\"#000000\"/>\n",
       "<text fill=\"#000000\" font-family=\"Times,serif\" font-size=\"14.00\" text-anchor=\"middle\" x=\"313\" y=\"-1691.3\">input:</text>\n",
       "<polyline fill=\"none\" points=\"285.5,-1683.5 340.5,-1683.5 \" stroke=\"#000000\"/>\n",
       "<text fill=\"#000000\" font-family=\"Times,serif\" font-size=\"14.00\" text-anchor=\"middle\" x=\"313\" y=\"-1668.3\">output:</text>\n",
       "<polyline fill=\"none\" points=\"340.5,-1660.5 340.5,-1706.5 \" stroke=\"#000000\"/>\n",
       "<text fill=\"#000000\" font-family=\"Times,serif\" font-size=\"14.00\" text-anchor=\"middle\" x=\"403\" y=\"-1691.3\">(None, 16, 16, 512)</text>\n",
       "<polyline fill=\"none\" points=\"340.5,-1683.5 465.5,-1683.5 \" stroke=\"#000000\"/>\n",
       "<text fill=\"#000000\" font-family=\"Times,serif\" font-size=\"14.00\" text-anchor=\"middle\" x=\"403\" y=\"-1668.3\">(None, 16, 16, 512)</text>\n",
       "</g>\n",
       "<!-- 140287940517224&#45;&gt;140287937864648 -->\n",
       "<g class=\"edge\" id=\"edge21\">\n",
       "<title>140287940517224-&gt;140287937864648</title>\n",
       "<path d=\"M253.1142,-1743.3799C253.5097,-1735.1745 253.963,-1725.7679 254.3914,-1716.8786\" fill=\"none\" stroke=\"#000000\"/>\n",
       "<polygon fill=\"#000000\" points=\"257.8924,-1716.9409 254.8779,-1706.784 250.9005,-1716.6039 257.8924,-1716.9409\" stroke=\"#000000\"/>\n",
       "</g>\n",
       "<!-- 140287937866944 -->\n",
       "<g class=\"node\" id=\"node23\">\n",
       "<title>140287937866944</title>\n",
       "<polygon fill=\"none\" points=\"349,-2075.5 349,-2121.5 703,-2121.5 703,-2075.5 349,-2075.5\" stroke=\"#000000\"/>\n",
       "<text fill=\"#000000\" font-family=\"Times,serif\" font-size=\"14.00\" text-anchor=\"middle\" x=\"436\" y=\"-2094.8\">crop_feat2: CroppingLike2D</text>\n",
       "<polyline fill=\"none\" points=\"523,-2075.5 523,-2121.5 \" stroke=\"#000000\"/>\n",
       "<text fill=\"#000000\" font-family=\"Times,serif\" font-size=\"14.00\" text-anchor=\"middle\" x=\"550.5\" y=\"-2106.3\">input:</text>\n",
       "<polyline fill=\"none\" points=\"523,-2098.5 578,-2098.5 \" stroke=\"#000000\"/>\n",
       "<text fill=\"#000000\" font-family=\"Times,serif\" font-size=\"14.00\" text-anchor=\"middle\" x=\"550.5\" y=\"-2083.3\">output:</text>\n",
       "<polyline fill=\"none\" points=\"578,-2075.5 578,-2121.5 \" stroke=\"#000000\"/>\n",
       "<text fill=\"#000000\" font-family=\"Times,serif\" font-size=\"14.00\" text-anchor=\"middle\" x=\"640.5\" y=\"-2106.3\">(None, 16, 16, 512)</text>\n",
       "<polyline fill=\"none\" points=\"578,-2098.5 703,-2098.5 \" stroke=\"#000000\"/>\n",
       "<text fill=\"#000000\" font-family=\"Times,serif\" font-size=\"14.00\" text-anchor=\"middle\" x=\"640.5\" y=\"-2083.3\">(None, 16, 16, 512)</text>\n",
       "</g>\n",
       "<!-- 140287937865040&#45;&gt;140287937866944 -->\n",
       "<g class=\"edge\" id=\"edge22\">\n",
       "<title>140287937865040-&gt;140287937866944</title>\n",
       "<path d=\"M528.1643,-2158.3799C527.8678,-2150.1745 527.5278,-2140.7679 527.2065,-2131.8786\" fill=\"none\" stroke=\"#000000\"/>\n",
       "<polygon fill=\"#000000\" points=\"530.7006,-2131.651 526.8416,-2121.784 523.7052,-2131.9039 530.7006,-2131.651\" stroke=\"#000000\"/>\n",
       "</g>\n",
       "<!-- 140287937624776 -->\n",
       "<g class=\"node\" id=\"node24\">\n",
       "<title>140287937624776</title>\n",
       "<polygon fill=\"none\" points=\"246,-1577.5 246,-1623.5 718,-1623.5 718,-1577.5 246,-1577.5\" stroke=\"#000000\"/>\n",
       "<text fill=\"#000000\" font-family=\"Times,serif\" font-size=\"14.00\" text-anchor=\"middle\" x=\"330\" y=\"-1596.8\">concatenate_1: Concatenate</text>\n",
       "<polyline fill=\"none\" points=\"414,-1577.5 414,-1623.5 \" stroke=\"#000000\"/>\n",
       "<text fill=\"#000000\" font-family=\"Times,serif\" font-size=\"14.00\" text-anchor=\"middle\" x=\"441.5\" y=\"-1608.3\">input:</text>\n",
       "<polyline fill=\"none\" points=\"414,-1600.5 469,-1600.5 \" stroke=\"#000000\"/>\n",
       "<text fill=\"#000000\" font-family=\"Times,serif\" font-size=\"14.00\" text-anchor=\"middle\" x=\"441.5\" y=\"-1585.3\">output:</text>\n",
       "<polyline fill=\"none\" points=\"469,-1577.5 469,-1623.5 \" stroke=\"#000000\"/>\n",
       "<text fill=\"#000000\" font-family=\"Times,serif\" font-size=\"14.00\" text-anchor=\"middle\" x=\"593.5\" y=\"-1608.3\">[(None, 16, 16, 512), (None, 16, 16, 512)]</text>\n",
       "<polyline fill=\"none\" points=\"469,-1600.5 718,-1600.5 \" stroke=\"#000000\"/>\n",
       "<text fill=\"#000000\" font-family=\"Times,serif\" font-size=\"14.00\" text-anchor=\"middle\" x=\"593.5\" y=\"-1585.3\">(None, 16, 16, 1024)</text>\n",
       "</g>\n",
       "<!-- 140287937864648&#45;&gt;140287937624776 -->\n",
       "<g class=\"edge\" id=\"edge23\">\n",
       "<title>140287937864648-&gt;140287937624776</title>\n",
       "<path d=\"M318.6535,-1660.4901C346.821,-1650.1454 380.2347,-1637.874 409.4801,-1627.1334\" fill=\"none\" stroke=\"#000000\"/>\n",
       "<polygon fill=\"#000000\" points=\"411.0443,-1630.2876 419.2246,-1623.5547 408.631,-1623.7167 411.0443,-1630.2876\" stroke=\"#000000\"/>\n",
       "</g>\n",
       "<!-- 140287937866944&#45;&gt;140287937624776 -->\n",
       "<g class=\"edge\" id=\"edge24\">\n",
       "<title>140287937866944-&gt;140287937624776</title>\n",
       "<path d=\"M519.3468,-2075.3557C510.785,-2043.4786 497,-1984.1367 497,-1932.5 497,-1932.5 497,-1932.5 497,-1766.5 497,-1720.2835 491.1615,-1667.1219 486.7696,-1633.67\" fill=\"none\" stroke=\"#000000\"/>\n",
       "<polygon fill=\"#000000\" points=\"490.2081,-1632.9783 485.4037,-1623.5354 483.2708,-1633.9133 490.2081,-1632.9783\" stroke=\"#000000\"/>\n",
       "</g>\n",
       "<!-- 140287937625336 -->\n",
       "<g class=\"node\" id=\"node25\">\n",
       "<title>140287937625336</title>\n",
       "<polygon fill=\"none\" points=\"297,-1494.5 297,-1540.5 671,-1540.5 671,-1494.5 297,-1494.5\" stroke=\"#000000\"/>\n",
       "<text fill=\"#000000\" font-family=\"Times,serif\" font-size=\"14.00\" text-anchor=\"middle\" x=\"391\" y=\"-1513.8\">upscore_feat2_fuse_1: Conv2D</text>\n",
       "<polyline fill=\"none\" points=\"485,-1494.5 485,-1540.5 \" stroke=\"#000000\"/>\n",
       "<text fill=\"#000000\" font-family=\"Times,serif\" font-size=\"14.00\" text-anchor=\"middle\" x=\"512.5\" y=\"-1525.3\">input:</text>\n",
       "<polyline fill=\"none\" points=\"485,-1517.5 540,-1517.5 \" stroke=\"#000000\"/>\n",
       "<text fill=\"#000000\" font-family=\"Times,serif\" font-size=\"14.00\" text-anchor=\"middle\" x=\"512.5\" y=\"-1502.3\">output:</text>\n",
       "<polyline fill=\"none\" points=\"540,-1494.5 540,-1540.5 \" stroke=\"#000000\"/>\n",
       "<text fill=\"#000000\" font-family=\"Times,serif\" font-size=\"14.00\" text-anchor=\"middle\" x=\"605.5\" y=\"-1525.3\">(None, 16, 16, 1024)</text>\n",
       "<polyline fill=\"none\" points=\"540,-1517.5 671,-1517.5 \" stroke=\"#000000\"/>\n",
       "<text fill=\"#000000\" font-family=\"Times,serif\" font-size=\"14.00\" text-anchor=\"middle\" x=\"605.5\" y=\"-1502.3\">(None, 16, 16, 512)</text>\n",
       "</g>\n",
       "<!-- 140287937624776&#45;&gt;140287937625336 -->\n",
       "<g class=\"edge\" id=\"edge25\">\n",
       "<title>140287937624776-&gt;140287937625336</title>\n",
       "<path d=\"M482.5571,-1577.3799C482.7548,-1569.1745 482.9815,-1559.7679 483.1957,-1550.8786\" fill=\"none\" stroke=\"#000000\"/>\n",
       "<polygon fill=\"#000000\" points=\"486.6969,-1550.8655 483.4389,-1540.784 479.699,-1550.6968 486.6969,-1550.8655\" stroke=\"#000000\"/>\n",
       "</g>\n",
       "<!-- 140287937715168 -->\n",
       "<g class=\"node\" id=\"node26\">\n",
       "<title>140287937715168</title>\n",
       "<polygon fill=\"none\" points=\"313,-1411.5 313,-1457.5 681,-1457.5 681,-1411.5 313,-1411.5\" stroke=\"#000000\"/>\n",
       "<text fill=\"#000000\" font-family=\"Times,serif\" font-size=\"14.00\" text-anchor=\"middle\" x=\"407\" y=\"-1430.8\">upscore_feat2_fuse_2: Conv2D</text>\n",
       "<polyline fill=\"none\" points=\"501,-1411.5 501,-1457.5 \" stroke=\"#000000\"/>\n",
       "<text fill=\"#000000\" font-family=\"Times,serif\" font-size=\"14.00\" text-anchor=\"middle\" x=\"528.5\" y=\"-1442.3\">input:</text>\n",
       "<polyline fill=\"none\" points=\"501,-1434.5 556,-1434.5 \" stroke=\"#000000\"/>\n",
       "<text fill=\"#000000\" font-family=\"Times,serif\" font-size=\"14.00\" text-anchor=\"middle\" x=\"528.5\" y=\"-1419.3\">output:</text>\n",
       "<polyline fill=\"none\" points=\"556,-1411.5 556,-1457.5 \" stroke=\"#000000\"/>\n",
       "<text fill=\"#000000\" font-family=\"Times,serif\" font-size=\"14.00\" text-anchor=\"middle\" x=\"618.5\" y=\"-1442.3\">(None, 16, 16, 512)</text>\n",
       "<polyline fill=\"none\" points=\"556,-1434.5 681,-1434.5 \" stroke=\"#000000\"/>\n",
       "<text fill=\"#000000\" font-family=\"Times,serif\" font-size=\"14.00\" text-anchor=\"middle\" x=\"618.5\" y=\"-1419.3\">(None, 16, 16, 256)</text>\n",
       "</g>\n",
       "<!-- 140287937625336&#45;&gt;140287937715168 -->\n",
       "<g class=\"edge\" id=\"edge26\">\n",
       "<title>140287937625336-&gt;140287937715168</title>\n",
       "<path d=\"M487.6212,-1494.3799C488.9064,-1486.1745 490.3797,-1476.7679 491.772,-1467.8786\" fill=\"none\" stroke=\"#000000\"/>\n",
       "<polygon fill=\"#000000\" points=\"495.2635,-1468.2052 493.3531,-1457.784 488.3478,-1467.1219 495.2635,-1468.2052\" stroke=\"#000000\"/>\n",
       "</g>\n",
       "<!-- 140287937373464 -->\n",
       "<g class=\"node\" id=\"node27\">\n",
       "<title>140287937373464</title>\n",
       "<polygon fill=\"none\" points=\"313.5,-1328.5 313.5,-1374.5 694.5,-1374.5 694.5,-1328.5 313.5,-1328.5\" stroke=\"#000000\"/>\n",
       "<text fill=\"#000000\" font-family=\"Times,serif\" font-size=\"14.00\" text-anchor=\"middle\" x=\"414\" y=\"-1347.8\">upscore_feat2: Conv2DTranspose</text>\n",
       "<polyline fill=\"none\" points=\"514.5,-1328.5 514.5,-1374.5 \" stroke=\"#000000\"/>\n",
       "<text fill=\"#000000\" font-family=\"Times,serif\" font-size=\"14.00\" text-anchor=\"middle\" x=\"542\" y=\"-1359.3\">input:</text>\n",
       "<polyline fill=\"none\" points=\"514.5,-1351.5 569.5,-1351.5 \" stroke=\"#000000\"/>\n",
       "<text fill=\"#000000\" font-family=\"Times,serif\" font-size=\"14.00\" text-anchor=\"middle\" x=\"542\" y=\"-1336.3\">output:</text>\n",
       "<polyline fill=\"none\" points=\"569.5,-1328.5 569.5,-1374.5 \" stroke=\"#000000\"/>\n",
       "<text fill=\"#000000\" font-family=\"Times,serif\" font-size=\"14.00\" text-anchor=\"middle\" x=\"632\" y=\"-1359.3\">(None, 16, 16, 256)</text>\n",
       "<polyline fill=\"none\" points=\"569.5,-1351.5 694.5,-1351.5 \" stroke=\"#000000\"/>\n",
       "<text fill=\"#000000\" font-family=\"Times,serif\" font-size=\"14.00\" text-anchor=\"middle\" x=\"632\" y=\"-1336.3\">(None, 32, 32, 256)</text>\n",
       "</g>\n",
       "<!-- 140287937715168&#45;&gt;140287937373464 -->\n",
       "<g class=\"edge\" id=\"edge27\">\n",
       "<title>140287937715168-&gt;140287937373464</title>\n",
       "<path d=\"M498.9499,-1411.3799C499.6419,-1403.1745 500.4352,-1393.7679 501.1849,-1384.8786\" fill=\"none\" stroke=\"#000000\"/>\n",
       "<polygon fill=\"#000000\" points=\"504.6834,-1385.0428 502.0363,-1374.784 497.7082,-1384.4545 504.6834,-1385.0428\" stroke=\"#000000\"/>\n",
       "</g>\n",
       "<!-- 140287937109912 -->\n",
       "<g class=\"node\" id=\"node29\">\n",
       "<title>140287937109912</title>\n",
       "<polygon fill=\"none\" points=\"297.5,-1245.5 297.5,-1291.5 716.5,-1291.5 716.5,-1245.5 297.5,-1245.5\" stroke=\"#000000\"/>\n",
       "<text fill=\"#000000\" font-family=\"Times,serif\" font-size=\"14.00\" text-anchor=\"middle\" x=\"417\" y=\"-1264.8\">upsample_feat2: BilinearUpSampling2D</text>\n",
       "<polyline fill=\"none\" points=\"536.5,-1245.5 536.5,-1291.5 \" stroke=\"#000000\"/>\n",
       "<text fill=\"#000000\" font-family=\"Times,serif\" font-size=\"14.00\" text-anchor=\"middle\" x=\"564\" y=\"-1276.3\">input:</text>\n",
       "<polyline fill=\"none\" points=\"536.5,-1268.5 591.5,-1268.5 \" stroke=\"#000000\"/>\n",
       "<text fill=\"#000000\" font-family=\"Times,serif\" font-size=\"14.00\" text-anchor=\"middle\" x=\"564\" y=\"-1253.3\">output:</text>\n",
       "<polyline fill=\"none\" points=\"591.5,-1245.5 591.5,-1291.5 \" stroke=\"#000000\"/>\n",
       "<text fill=\"#000000\" font-family=\"Times,serif\" font-size=\"14.00\" text-anchor=\"middle\" x=\"654\" y=\"-1276.3\">(None, 32, 32, 256)</text>\n",
       "<polyline fill=\"none\" points=\"591.5,-1268.5 716.5,-1268.5 \" stroke=\"#000000\"/>\n",
       "<text fill=\"#000000\" font-family=\"Times,serif\" font-size=\"14.00\" text-anchor=\"middle\" x=\"654\" y=\"-1253.3\">(None, 32, 32, 256)</text>\n",
       "</g>\n",
       "<!-- 140287937373464&#45;&gt;140287937109912 -->\n",
       "<g class=\"edge\" id=\"edge29\">\n",
       "<title>140287937373464-&gt;140287937109912</title>\n",
       "<path d=\"M504.8357,-1328.3799C505.1322,-1320.1745 505.4722,-1310.7679 505.7935,-1301.8786\" fill=\"none\" stroke=\"#000000\"/>\n",
       "<polygon fill=\"#000000\" points=\"509.2948,-1301.9039 506.1584,-1291.784 502.2994,-1301.651 509.2948,-1301.9039\" stroke=\"#000000\"/>\n",
       "</g>\n",
       "<!-- 140287937541288 -->\n",
       "<g class=\"node\" id=\"node30\">\n",
       "<title>140287937541288</title>\n",
       "<polygon fill=\"none\" points=\"569,-2324.5 569,-2370.5 923,-2370.5 923,-2324.5 569,-2324.5\" stroke=\"#000000\"/>\n",
       "<text fill=\"#000000\" font-family=\"Times,serif\" font-size=\"14.00\" text-anchor=\"middle\" x=\"656\" y=\"-2343.8\">crop_feat3: CroppingLike2D</text>\n",
       "<polyline fill=\"none\" points=\"743,-2324.5 743,-2370.5 \" stroke=\"#000000\"/>\n",
       "<text fill=\"#000000\" font-family=\"Times,serif\" font-size=\"14.00\" text-anchor=\"middle\" x=\"770.5\" y=\"-2355.3\">input:</text>\n",
       "<polyline fill=\"none\" points=\"743,-2347.5 798,-2347.5 \" stroke=\"#000000\"/>\n",
       "<text fill=\"#000000\" font-family=\"Times,serif\" font-size=\"14.00\" text-anchor=\"middle\" x=\"770.5\" y=\"-2332.3\">output:</text>\n",
       "<polyline fill=\"none\" points=\"798,-2324.5 798,-2370.5 \" stroke=\"#000000\"/>\n",
       "<text fill=\"#000000\" font-family=\"Times,serif\" font-size=\"14.00\" text-anchor=\"middle\" x=\"860.5\" y=\"-2355.3\">(None, 32, 32, 256)</text>\n",
       "<polyline fill=\"none\" points=\"798,-2347.5 923,-2347.5 \" stroke=\"#000000\"/>\n",
       "<text fill=\"#000000\" font-family=\"Times,serif\" font-size=\"14.00\" text-anchor=\"middle\" x=\"860.5\" y=\"-2332.3\">(None, 32, 32, 256)</text>\n",
       "</g>\n",
       "<!-- 140287937540952&#45;&gt;140287937541288 -->\n",
       "<g class=\"edge\" id=\"edge30\">\n",
       "<title>140287937540952-&gt;140287937541288</title>\n",
       "<path d=\"M746,-2407.3799C746,-2399.1745 746,-2389.7679 746,-2380.8786\" fill=\"none\" stroke=\"#000000\"/>\n",
       "<polygon fill=\"#000000\" points=\"749.5001,-2380.784 746,-2370.784 742.5001,-2380.784 749.5001,-2380.784\" stroke=\"#000000\"/>\n",
       "</g>\n",
       "<!-- 140287937321896 -->\n",
       "<g class=\"node\" id=\"node31\">\n",
       "<title>140287937321896</title>\n",
       "<polygon fill=\"none\" points=\"480,-1162.5 480,-1208.5 952,-1208.5 952,-1162.5 480,-1162.5\" stroke=\"#000000\"/>\n",
       "<text fill=\"#000000\" font-family=\"Times,serif\" font-size=\"14.00\" text-anchor=\"middle\" x=\"564\" y=\"-1181.8\">concatenate_2: Concatenate</text>\n",
       "<polyline fill=\"none\" points=\"648,-1162.5 648,-1208.5 \" stroke=\"#000000\"/>\n",
       "<text fill=\"#000000\" font-family=\"Times,serif\" font-size=\"14.00\" text-anchor=\"middle\" x=\"675.5\" y=\"-1193.3\">input:</text>\n",
       "<polyline fill=\"none\" points=\"648,-1185.5 703,-1185.5 \" stroke=\"#000000\"/>\n",
       "<text fill=\"#000000\" font-family=\"Times,serif\" font-size=\"14.00\" text-anchor=\"middle\" x=\"675.5\" y=\"-1170.3\">output:</text>\n",
       "<polyline fill=\"none\" points=\"703,-1162.5 703,-1208.5 \" stroke=\"#000000\"/>\n",
       "<text fill=\"#000000\" font-family=\"Times,serif\" font-size=\"14.00\" text-anchor=\"middle\" x=\"827.5\" y=\"-1193.3\">[(None, 32, 32, 256), (None, 32, 32, 256)]</text>\n",
       "<polyline fill=\"none\" points=\"703,-1185.5 952,-1185.5 \" stroke=\"#000000\"/>\n",
       "<text fill=\"#000000\" font-family=\"Times,serif\" font-size=\"14.00\" text-anchor=\"middle\" x=\"827.5\" y=\"-1170.3\">(None, 32, 32, 512)</text>\n",
       "</g>\n",
       "<!-- 140287937109912&#45;&gt;140287937321896 -->\n",
       "<g class=\"edge\" id=\"edge31\">\n",
       "<title>140287937109912-&gt;140287937321896</title>\n",
       "<path d=\"M564.9406,-1245.4901C590.8761,-1235.1904 621.621,-1222.9806 648.5821,-1212.2736\" fill=\"none\" stroke=\"#000000\"/>\n",
       "<polygon fill=\"#000000\" points=\"649.9446,-1215.4985 657.9467,-1208.5547 647.3609,-1208.9927 649.9446,-1215.4985\" stroke=\"#000000\"/>\n",
       "</g>\n",
       "<!-- 140287937541288&#45;&gt;140287937321896 -->\n",
       "<g class=\"edge\" id=\"edge32\">\n",
       "<title>140287937541288-&gt;140287937321896</title>\n",
       "<path d=\"M746,-2324.4052C746,-2292.3381 746,-2232.5104 746,-2181.5 746,-2181.5 746,-2181.5 746,-1351.5 746,-1304.6557 734.2881,-1251.5438 725.4999,-1218.2844\" fill=\"none\" stroke=\"#000000\"/>\n",
       "<polygon fill=\"#000000\" points=\"728.877,-1217.3648 722.8826,-1208.6288 722.1208,-1219.1962 728.877,-1217.3648\" stroke=\"#000000\"/>\n",
       "</g>\n",
       "<!-- 140287937322456 -->\n",
       "<g class=\"node\" id=\"node32\">\n",
       "<title>140287937322456</title>\n",
       "<polygon fill=\"none\" points=\"534,-1079.5 534,-1125.5 902,-1125.5 902,-1079.5 534,-1079.5\" stroke=\"#000000\"/>\n",
       "<text fill=\"#000000\" font-family=\"Times,serif\" font-size=\"14.00\" text-anchor=\"middle\" x=\"628\" y=\"-1098.8\">upscore_feat3_fuse_1: Conv2D</text>\n",
       "<polyline fill=\"none\" points=\"722,-1079.5 722,-1125.5 \" stroke=\"#000000\"/>\n",
       "<text fill=\"#000000\" font-family=\"Times,serif\" font-size=\"14.00\" text-anchor=\"middle\" x=\"749.5\" y=\"-1110.3\">input:</text>\n",
       "<polyline fill=\"none\" points=\"722,-1102.5 777,-1102.5 \" stroke=\"#000000\"/>\n",
       "<text fill=\"#000000\" font-family=\"Times,serif\" font-size=\"14.00\" text-anchor=\"middle\" x=\"749.5\" y=\"-1087.3\">output:</text>\n",
       "<polyline fill=\"none\" points=\"777,-1079.5 777,-1125.5 \" stroke=\"#000000\"/>\n",
       "<text fill=\"#000000\" font-family=\"Times,serif\" font-size=\"14.00\" text-anchor=\"middle\" x=\"839.5\" y=\"-1110.3\">(None, 32, 32, 512)</text>\n",
       "<polyline fill=\"none\" points=\"777,-1102.5 902,-1102.5 \" stroke=\"#000000\"/>\n",
       "<text fill=\"#000000\" font-family=\"Times,serif\" font-size=\"14.00\" text-anchor=\"middle\" x=\"839.5\" y=\"-1087.3\">(None, 32, 32, 256)</text>\n",
       "</g>\n",
       "<!-- 140287937321896&#45;&gt;140287937322456 -->\n",
       "<g class=\"edge\" id=\"edge33\">\n",
       "<title>140287937321896-&gt;140287937322456</title>\n",
       "<path d=\"M716.5571,-1162.3799C716.7548,-1154.1745 716.9815,-1144.7679 717.1957,-1135.8786\" fill=\"none\" stroke=\"#000000\"/>\n",
       "<polygon fill=\"#000000\" points=\"720.6969,-1135.8655 717.4389,-1125.784 713.699,-1135.6968 720.6969,-1135.8655\" stroke=\"#000000\"/>\n",
       "</g>\n",
       "<!-- 140287936904328 -->\n",
       "<g class=\"node\" id=\"node33\">\n",
       "<title>140287936904328</title>\n",
       "<polygon fill=\"none\" points=\"547,-996.5 547,-1042.5 915,-1042.5 915,-996.5 547,-996.5\" stroke=\"#000000\"/>\n",
       "<text fill=\"#000000\" font-family=\"Times,serif\" font-size=\"14.00\" text-anchor=\"middle\" x=\"641\" y=\"-1015.8\">upscore_feat3_fuse_2: Conv2D</text>\n",
       "<polyline fill=\"none\" points=\"735,-996.5 735,-1042.5 \" stroke=\"#000000\"/>\n",
       "<text fill=\"#000000\" font-family=\"Times,serif\" font-size=\"14.00\" text-anchor=\"middle\" x=\"762.5\" y=\"-1027.3\">input:</text>\n",
       "<polyline fill=\"none\" points=\"735,-1019.5 790,-1019.5 \" stroke=\"#000000\"/>\n",
       "<text fill=\"#000000\" font-family=\"Times,serif\" font-size=\"14.00\" text-anchor=\"middle\" x=\"762.5\" y=\"-1004.3\">output:</text>\n",
       "<polyline fill=\"none\" points=\"790,-996.5 790,-1042.5 \" stroke=\"#000000\"/>\n",
       "<text fill=\"#000000\" font-family=\"Times,serif\" font-size=\"14.00\" text-anchor=\"middle\" x=\"852.5\" y=\"-1027.3\">(None, 32, 32, 256)</text>\n",
       "<polyline fill=\"none\" points=\"790,-1019.5 915,-1019.5 \" stroke=\"#000000\"/>\n",
       "<text fill=\"#000000\" font-family=\"Times,serif\" font-size=\"14.00\" text-anchor=\"middle\" x=\"852.5\" y=\"-1004.3\">(None, 32, 32, 128)</text>\n",
       "</g>\n",
       "<!-- 140287937322456&#45;&gt;140287936904328 -->\n",
       "<g class=\"edge\" id=\"edge34\">\n",
       "<title>140287937322456-&gt;140287936904328</title>\n",
       "<path d=\"M721.6212,-1079.3799C722.9064,-1071.1745 724.3797,-1061.7679 725.772,-1052.8786\" fill=\"none\" stroke=\"#000000\"/>\n",
       "<polygon fill=\"#000000\" points=\"729.2635,-1053.2052 727.3531,-1042.784 722.3478,-1052.1219 729.2635,-1053.2052\" stroke=\"#000000\"/>\n",
       "</g>\n",
       "<!-- 140287936558472 -->\n",
       "<g class=\"node\" id=\"node34\">\n",
       "<title>140287936558472</title>\n",
       "<polygon fill=\"none\" points=\"547.5,-913.5 547.5,-959.5 928.5,-959.5 928.5,-913.5 547.5,-913.5\" stroke=\"#000000\"/>\n",
       "<text fill=\"#000000\" font-family=\"Times,serif\" font-size=\"14.00\" text-anchor=\"middle\" x=\"648\" y=\"-932.8\">upscore_feat3: Conv2DTranspose</text>\n",
       "<polyline fill=\"none\" points=\"748.5,-913.5 748.5,-959.5 \" stroke=\"#000000\"/>\n",
       "<text fill=\"#000000\" font-family=\"Times,serif\" font-size=\"14.00\" text-anchor=\"middle\" x=\"776\" y=\"-944.3\">input:</text>\n",
       "<polyline fill=\"none\" points=\"748.5,-936.5 803.5,-936.5 \" stroke=\"#000000\"/>\n",
       "<text fill=\"#000000\" font-family=\"Times,serif\" font-size=\"14.00\" text-anchor=\"middle\" x=\"776\" y=\"-921.3\">output:</text>\n",
       "<polyline fill=\"none\" points=\"803.5,-913.5 803.5,-959.5 \" stroke=\"#000000\"/>\n",
       "<text fill=\"#000000\" font-family=\"Times,serif\" font-size=\"14.00\" text-anchor=\"middle\" x=\"866\" y=\"-944.3\">(None, 32, 32, 128)</text>\n",
       "<polyline fill=\"none\" points=\"803.5,-936.5 928.5,-936.5 \" stroke=\"#000000\"/>\n",
       "<text fill=\"#000000\" font-family=\"Times,serif\" font-size=\"14.00\" text-anchor=\"middle\" x=\"866\" y=\"-921.3\">(None, 64, 64, 128)</text>\n",
       "</g>\n",
       "<!-- 140287936904328&#45;&gt;140287936558472 -->\n",
       "<g class=\"edge\" id=\"edge35\">\n",
       "<title>140287936904328-&gt;140287936558472</title>\n",
       "<path d=\"M732.9499,-996.3799C733.6419,-988.1745 734.4352,-978.7679 735.1849,-969.8786\" fill=\"none\" stroke=\"#000000\"/>\n",
       "<polygon fill=\"#000000\" points=\"738.6834,-970.0428 736.0363,-959.784 731.7082,-969.4545 738.6834,-970.0428\" stroke=\"#000000\"/>\n",
       "</g>\n",
       "<!-- 140287936750592 -->\n",
       "<g class=\"node\" id=\"node36\">\n",
       "<title>140287936750592</title>\n",
       "<polygon fill=\"none\" points=\"531.5,-830.5 531.5,-876.5 950.5,-876.5 950.5,-830.5 531.5,-830.5\" stroke=\"#000000\"/>\n",
       "<text fill=\"#000000\" font-family=\"Times,serif\" font-size=\"14.00\" text-anchor=\"middle\" x=\"651\" y=\"-849.8\">upsample_feat3: BilinearUpSampling2D</text>\n",
       "<polyline fill=\"none\" points=\"770.5,-830.5 770.5,-876.5 \" stroke=\"#000000\"/>\n",
       "<text fill=\"#000000\" font-family=\"Times,serif\" font-size=\"14.00\" text-anchor=\"middle\" x=\"798\" y=\"-861.3\">input:</text>\n",
       "<polyline fill=\"none\" points=\"770.5,-853.5 825.5,-853.5 \" stroke=\"#000000\"/>\n",
       "<text fill=\"#000000\" font-family=\"Times,serif\" font-size=\"14.00\" text-anchor=\"middle\" x=\"798\" y=\"-838.3\">output:</text>\n",
       "<polyline fill=\"none\" points=\"825.5,-830.5 825.5,-876.5 \" stroke=\"#000000\"/>\n",
       "<text fill=\"#000000\" font-family=\"Times,serif\" font-size=\"14.00\" text-anchor=\"middle\" x=\"888\" y=\"-861.3\">(None, 64, 64, 128)</text>\n",
       "<polyline fill=\"none\" points=\"825.5,-853.5 950.5,-853.5 \" stroke=\"#000000\"/>\n",
       "<text fill=\"#000000\" font-family=\"Times,serif\" font-size=\"14.00\" text-anchor=\"middle\" x=\"888\" y=\"-838.3\">(None, 63, 63, 128)</text>\n",
       "</g>\n",
       "<!-- 140287936558472&#45;&gt;140287936750592 -->\n",
       "<g class=\"edge\" id=\"edge37\">\n",
       "<title>140287936558472-&gt;140287936750592</title>\n",
       "<path d=\"M738.8357,-913.3799C739.1322,-905.1745 739.4722,-895.7679 739.7935,-886.8786\" fill=\"none\" stroke=\"#000000\"/>\n",
       "<polygon fill=\"#000000\" points=\"743.2948,-886.9039 740.1584,-876.784 736.2994,-886.651 743.2948,-886.9039\" stroke=\"#000000\"/>\n",
       "</g>\n",
       "<!-- 140287936753392 -->\n",
       "<g class=\"node\" id=\"node37\">\n",
       "<title>140287936753392</title>\n",
       "<polygon fill=\"none\" points=\"803,-2573.5 803,-2619.5 1157,-2619.5 1157,-2573.5 803,-2573.5\" stroke=\"#000000\"/>\n",
       "<text fill=\"#000000\" font-family=\"Times,serif\" font-size=\"14.00\" text-anchor=\"middle\" x=\"890\" y=\"-2592.8\">crop_feat4: CroppingLike2D</text>\n",
       "<polyline fill=\"none\" points=\"977,-2573.5 977,-2619.5 \" stroke=\"#000000\"/>\n",
       "<text fill=\"#000000\" font-family=\"Times,serif\" font-size=\"14.00\" text-anchor=\"middle\" x=\"1004.5\" y=\"-2604.3\">input:</text>\n",
       "<polyline fill=\"none\" points=\"977,-2596.5 1032,-2596.5 \" stroke=\"#000000\"/>\n",
       "<text fill=\"#000000\" font-family=\"Times,serif\" font-size=\"14.00\" text-anchor=\"middle\" x=\"1004.5\" y=\"-2581.3\">output:</text>\n",
       "<polyline fill=\"none\" points=\"1032,-2573.5 1032,-2619.5 \" stroke=\"#000000\"/>\n",
       "<text fill=\"#000000\" font-family=\"Times,serif\" font-size=\"14.00\" text-anchor=\"middle\" x=\"1094.5\" y=\"-2604.3\">(None, 63, 63, 128)</text>\n",
       "<polyline fill=\"none\" points=\"1032,-2596.5 1157,-2596.5 \" stroke=\"#000000\"/>\n",
       "<text fill=\"#000000\" font-family=\"Times,serif\" font-size=\"14.00\" text-anchor=\"middle\" x=\"1094.5\" y=\"-2581.3\">(None, 63, 63, 128)</text>\n",
       "</g>\n",
       "<!-- 140287936750760&#45;&gt;140287936753392 -->\n",
       "<g class=\"edge\" id=\"edge38\">\n",
       "<title>140287936750760-&gt;140287936753392</title>\n",
       "<path d=\"M980,-2656.3799C980,-2648.1745 980,-2638.7679 980,-2629.8786\" fill=\"none\" stroke=\"#000000\"/>\n",
       "<polygon fill=\"#000000\" points=\"983.5001,-2629.784 980,-2619.784 976.5001,-2629.784 983.5001,-2629.784\" stroke=\"#000000\"/>\n",
       "</g>\n",
       "<!-- 140287936531592 -->\n",
       "<g class=\"node\" id=\"node38\">\n",
       "<title>140287936531592</title>\n",
       "<polygon fill=\"none\" points=\"714,-747.5 714,-793.5 1186,-793.5 1186,-747.5 714,-747.5\" stroke=\"#000000\"/>\n",
       "<text fill=\"#000000\" font-family=\"Times,serif\" font-size=\"14.00\" text-anchor=\"middle\" x=\"798\" y=\"-766.8\">concatenate_3: Concatenate</text>\n",
       "<polyline fill=\"none\" points=\"882,-747.5 882,-793.5 \" stroke=\"#000000\"/>\n",
       "<text fill=\"#000000\" font-family=\"Times,serif\" font-size=\"14.00\" text-anchor=\"middle\" x=\"909.5\" y=\"-778.3\">input:</text>\n",
       "<polyline fill=\"none\" points=\"882,-770.5 937,-770.5 \" stroke=\"#000000\"/>\n",
       "<text fill=\"#000000\" font-family=\"Times,serif\" font-size=\"14.00\" text-anchor=\"middle\" x=\"909.5\" y=\"-755.3\">output:</text>\n",
       "<polyline fill=\"none\" points=\"937,-747.5 937,-793.5 \" stroke=\"#000000\"/>\n",
       "<text fill=\"#000000\" font-family=\"Times,serif\" font-size=\"14.00\" text-anchor=\"middle\" x=\"1061.5\" y=\"-778.3\">[(None, 63, 63, 128), (None, 63, 63, 128)]</text>\n",
       "<polyline fill=\"none\" points=\"937,-770.5 1186,-770.5 \" stroke=\"#000000\"/>\n",
       "<text fill=\"#000000\" font-family=\"Times,serif\" font-size=\"14.00\" text-anchor=\"middle\" x=\"1061.5\" y=\"-755.3\">(None, 63, 63, 256)</text>\n",
       "</g>\n",
       "<!-- 140287936750592&#45;&gt;140287936531592 -->\n",
       "<g class=\"edge\" id=\"edge39\">\n",
       "<title>140287936750592-&gt;140287936531592</title>\n",
       "<path d=\"M798.9406,-830.4901C824.8761,-820.1904 855.621,-807.9806 882.5821,-797.2736\" fill=\"none\" stroke=\"#000000\"/>\n",
       "<polygon fill=\"#000000\" points=\"883.9446,-800.4985 891.9467,-793.5547 881.3609,-793.9927 883.9446,-800.4985\" stroke=\"#000000\"/>\n",
       "</g>\n",
       "<!-- 140287936753392&#45;&gt;140287936531592 -->\n",
       "<g class=\"edge\" id=\"edge40\">\n",
       "<title>140287936753392-&gt;140287936531592</title>\n",
       "<path d=\"M980,-2573.4052C980,-2541.3381 980,-2481.5104 980,-2430.5 980,-2430.5 980,-2430.5 980,-936.5 980,-889.6557 968.2881,-836.5438 959.4999,-803.2844\" fill=\"none\" stroke=\"#000000\"/>\n",
       "<polygon fill=\"#000000\" points=\"962.877,-802.3648 956.8826,-793.6288 956.1208,-804.1962 962.877,-802.3648\" stroke=\"#000000\"/>\n",
       "</g>\n",
       "<!-- 140287936532152 -->\n",
       "<g class=\"node\" id=\"node39\">\n",
       "<title>140287936532152</title>\n",
       "<polygon fill=\"none\" points=\"768,-664.5 768,-710.5 1136,-710.5 1136,-664.5 768,-664.5\" stroke=\"#000000\"/>\n",
       "<text fill=\"#000000\" font-family=\"Times,serif\" font-size=\"14.00\" text-anchor=\"middle\" x=\"862\" y=\"-683.8\">upscore_feat4_fuse_1: Conv2D</text>\n",
       "<polyline fill=\"none\" points=\"956,-664.5 956,-710.5 \" stroke=\"#000000\"/>\n",
       "<text fill=\"#000000\" font-family=\"Times,serif\" font-size=\"14.00\" text-anchor=\"middle\" x=\"983.5\" y=\"-695.3\">input:</text>\n",
       "<polyline fill=\"none\" points=\"956,-687.5 1011,-687.5 \" stroke=\"#000000\"/>\n",
       "<text fill=\"#000000\" font-family=\"Times,serif\" font-size=\"14.00\" text-anchor=\"middle\" x=\"983.5\" y=\"-672.3\">output:</text>\n",
       "<polyline fill=\"none\" points=\"1011,-664.5 1011,-710.5 \" stroke=\"#000000\"/>\n",
       "<text fill=\"#000000\" font-family=\"Times,serif\" font-size=\"14.00\" text-anchor=\"middle\" x=\"1073.5\" y=\"-695.3\">(None, 63, 63, 256)</text>\n",
       "<polyline fill=\"none\" points=\"1011,-687.5 1136,-687.5 \" stroke=\"#000000\"/>\n",
       "<text fill=\"#000000\" font-family=\"Times,serif\" font-size=\"14.00\" text-anchor=\"middle\" x=\"1073.5\" y=\"-672.3\">(None, 63, 63, 248)</text>\n",
       "</g>\n",
       "<!-- 140287936531592&#45;&gt;140287936532152 -->\n",
       "<g class=\"edge\" id=\"edge41\">\n",
       "<title>140287936531592-&gt;140287936532152</title>\n",
       "<path d=\"M950.5571,-747.3799C950.7548,-739.1745 950.9815,-729.7679 951.1957,-720.8786\" fill=\"none\" stroke=\"#000000\"/>\n",
       "<polygon fill=\"#000000\" points=\"954.6969,-720.8655 951.4389,-710.784 947.699,-720.6968 954.6969,-720.8655\" stroke=\"#000000\"/>\n",
       "</g>\n",
       "<!-- 140287936114024 -->\n",
       "<g class=\"node\" id=\"node40\">\n",
       "<title>140287936114024</title>\n",
       "<polygon fill=\"none\" points=\"778,-581.5 778,-627.5 1146,-627.5 1146,-581.5 778,-581.5\" stroke=\"#000000\"/>\n",
       "<text fill=\"#000000\" font-family=\"Times,serif\" font-size=\"14.00\" text-anchor=\"middle\" x=\"872\" y=\"-600.8\">upscore_feat4_fuse_2: Conv2D</text>\n",
       "<polyline fill=\"none\" points=\"966,-581.5 966,-627.5 \" stroke=\"#000000\"/>\n",
       "<text fill=\"#000000\" font-family=\"Times,serif\" font-size=\"14.00\" text-anchor=\"middle\" x=\"993.5\" y=\"-612.3\">input:</text>\n",
       "<polyline fill=\"none\" points=\"966,-604.5 1021,-604.5 \" stroke=\"#000000\"/>\n",
       "<text fill=\"#000000\" font-family=\"Times,serif\" font-size=\"14.00\" text-anchor=\"middle\" x=\"993.5\" y=\"-589.3\">output:</text>\n",
       "<polyline fill=\"none\" points=\"1021,-581.5 1021,-627.5 \" stroke=\"#000000\"/>\n",
       "<text fill=\"#000000\" font-family=\"Times,serif\" font-size=\"14.00\" text-anchor=\"middle\" x=\"1083.5\" y=\"-612.3\">(None, 63, 63, 248)</text>\n",
       "<polyline fill=\"none\" points=\"1021,-604.5 1146,-604.5 \" stroke=\"#000000\"/>\n",
       "<text fill=\"#000000\" font-family=\"Times,serif\" font-size=\"14.00\" text-anchor=\"middle\" x=\"1083.5\" y=\"-589.3\">(None, 63, 63, 124)</text>\n",
       "</g>\n",
       "<!-- 140287936532152&#45;&gt;140287936114024 -->\n",
       "<g class=\"edge\" id=\"edge42\">\n",
       "<title>140287936532152-&gt;140287936114024</title>\n",
       "<path d=\"M954.7856,-664.3799C955.7742,-656.1745 956.9075,-646.7679 957.9785,-637.8786\" fill=\"none\" stroke=\"#000000\"/>\n",
       "<polygon fill=\"#000000\" points=\"961.4733,-638.1309 959.1947,-627.784 954.5236,-637.2935 961.4733,-638.1309\" stroke=\"#000000\"/>\n",
       "</g>\n",
       "<!-- 140287935772432 -->\n",
       "<g class=\"node\" id=\"node41\">\n",
       "<title>140287935772432</title>\n",
       "<polygon fill=\"none\" points=\"770,-498.5 770,-544.5 1164,-544.5 1164,-498.5 770,-498.5\" stroke=\"#000000\"/>\n",
       "<text fill=\"#000000\" font-family=\"Times,serif\" font-size=\"14.00\" text-anchor=\"middle\" x=\"870.5\" y=\"-517.8\">upscore_feat4: Conv2DTranspose</text>\n",
       "<polyline fill=\"none\" points=\"971,-498.5 971,-544.5 \" stroke=\"#000000\"/>\n",
       "<text fill=\"#000000\" font-family=\"Times,serif\" font-size=\"14.00\" text-anchor=\"middle\" x=\"998.5\" y=\"-529.3\">input:</text>\n",
       "<polyline fill=\"none\" points=\"971,-521.5 1026,-521.5 \" stroke=\"#000000\"/>\n",
       "<text fill=\"#000000\" font-family=\"Times,serif\" font-size=\"14.00\" text-anchor=\"middle\" x=\"998.5\" y=\"-506.3\">output:</text>\n",
       "<polyline fill=\"none\" points=\"1026,-498.5 1026,-544.5 \" stroke=\"#000000\"/>\n",
       "<text fill=\"#000000\" font-family=\"Times,serif\" font-size=\"14.00\" text-anchor=\"middle\" x=\"1095\" y=\"-529.3\">(None, 63, 63, 124)</text>\n",
       "<polyline fill=\"none\" points=\"1026,-521.5 1164,-521.5 \" stroke=\"#000000\"/>\n",
       "<text fill=\"#000000\" font-family=\"Times,serif\" font-size=\"14.00\" text-anchor=\"middle\" x=\"1095\" y=\"-506.3\">(None, 126, 126, 124)</text>\n",
       "</g>\n",
       "<!-- 140287936114024&#45;&gt;140287935772432 -->\n",
       "<g class=\"edge\" id=\"edge43\">\n",
       "<title>140287936114024-&gt;140287935772432</title>\n",
       "<path d=\"M963.3928,-581.3799C963.8871,-573.1745 964.4537,-563.7679 964.9892,-554.8786\" fill=\"none\" stroke=\"#000000\"/>\n",
       "<polygon fill=\"#000000\" points=\"968.4896,-554.9764 965.5973,-544.784 961.5023,-554.5554 968.4896,-554.9764\" stroke=\"#000000\"/>\n",
       "</g>\n",
       "<!-- 140287935960344 -->\n",
       "<g class=\"node\" id=\"node43\">\n",
       "<title>140287935960344</title>\n",
       "<polygon fill=\"none\" points=\"753,-415.5 753,-461.5 1185,-461.5 1185,-415.5 753,-415.5\" stroke=\"#000000\"/>\n",
       "<text fill=\"#000000\" font-family=\"Times,serif\" font-size=\"14.00\" text-anchor=\"middle\" x=\"872.5\" y=\"-434.8\">upsample_feat4: BilinearUpSampling2D</text>\n",
       "<polyline fill=\"none\" points=\"992,-415.5 992,-461.5 \" stroke=\"#000000\"/>\n",
       "<text fill=\"#000000\" font-family=\"Times,serif\" font-size=\"14.00\" text-anchor=\"middle\" x=\"1019.5\" y=\"-446.3\">input:</text>\n",
       "<polyline fill=\"none\" points=\"992,-438.5 1047,-438.5 \" stroke=\"#000000\"/>\n",
       "<text fill=\"#000000\" font-family=\"Times,serif\" font-size=\"14.00\" text-anchor=\"middle\" x=\"1019.5\" y=\"-423.3\">output:</text>\n",
       "<polyline fill=\"none\" points=\"1047,-415.5 1047,-461.5 \" stroke=\"#000000\"/>\n",
       "<text fill=\"#000000\" font-family=\"Times,serif\" font-size=\"14.00\" text-anchor=\"middle\" x=\"1116\" y=\"-446.3\">(None, 126, 126, 124)</text>\n",
       "<polyline fill=\"none\" points=\"1047,-438.5 1185,-438.5 \" stroke=\"#000000\"/>\n",
       "<text fill=\"#000000\" font-family=\"Times,serif\" font-size=\"14.00\" text-anchor=\"middle\" x=\"1116\" y=\"-423.3\">(None, 125, 125, 124)</text>\n",
       "</g>\n",
       "<!-- 140287935772432&#45;&gt;140287935960344 -->\n",
       "<g class=\"edge\" id=\"edge45\">\n",
       "<title>140287935772432-&gt;140287935960344</title>\n",
       "<path d=\"M967.5571,-498.3799C967.7548,-490.1745 967.9815,-480.7679 968.1957,-471.8786\" fill=\"none\" stroke=\"#000000\"/>\n",
       "<polygon fill=\"#000000\" points=\"971.6969,-471.8655 968.4389,-461.784 964.699,-471.6968 971.6969,-471.8655\" stroke=\"#000000\"/>\n",
       "</g>\n",
       "<!-- 140287935960512 -->\n",
       "<g class=\"node\" id=\"node44\">\n",
       "<title>140287935960512</title>\n",
       "<polygon fill=\"none\" points=\"1034,-2822.5 1034,-2868.5 1394,-2868.5 1394,-2822.5 1034,-2822.5\" stroke=\"#000000\"/>\n",
       "<text fill=\"#000000\" font-family=\"Times,serif\" font-size=\"14.00\" text-anchor=\"middle\" x=\"1121\" y=\"-2841.8\">crop_feat5: CroppingLike2D</text>\n",
       "<polyline fill=\"none\" points=\"1208,-2822.5 1208,-2868.5 \" stroke=\"#000000\"/>\n",
       "<text fill=\"#000000\" font-family=\"Times,serif\" font-size=\"14.00\" text-anchor=\"middle\" x=\"1235.5\" y=\"-2853.3\">input:</text>\n",
       "<polyline fill=\"none\" points=\"1208,-2845.5 1263,-2845.5 \" stroke=\"#000000\"/>\n",
       "<text fill=\"#000000\" font-family=\"Times,serif\" font-size=\"14.00\" text-anchor=\"middle\" x=\"1235.5\" y=\"-2830.3\">output:</text>\n",
       "<polyline fill=\"none\" points=\"1263,-2822.5 1263,-2868.5 \" stroke=\"#000000\"/>\n",
       "<text fill=\"#000000\" font-family=\"Times,serif\" font-size=\"14.00\" text-anchor=\"middle\" x=\"1328.5\" y=\"-2853.3\">(None, 125, 125, 64)</text>\n",
       "<polyline fill=\"none\" points=\"1263,-2845.5 1394,-2845.5 \" stroke=\"#000000\"/>\n",
       "<text fill=\"#000000\" font-family=\"Times,serif\" font-size=\"14.00\" text-anchor=\"middle\" x=\"1328.5\" y=\"-2830.3\">(None, 125, 125, 64)</text>\n",
       "</g>\n",
       "<!-- 140287935526896&#45;&gt;140287935960512 -->\n",
       "<g class=\"edge\" id=\"edge46\">\n",
       "<title>140287935526896-&gt;140287935960512</title>\n",
       "<path d=\"M1214,-2905.3799C1214,-2897.1745 1214,-2887.7679 1214,-2878.8786\" fill=\"none\" stroke=\"#000000\"/>\n",
       "<polygon fill=\"#000000\" points=\"1217.5001,-2878.784 1214,-2868.784 1210.5001,-2878.784 1217.5001,-2878.784\" stroke=\"#000000\"/>\n",
       "</g>\n",
       "<!-- 140287935733152 -->\n",
       "<g class=\"node\" id=\"node45\">\n",
       "<title>140287935733152</title>\n",
       "<polygon fill=\"none\" points=\"845,-332.5 845,-378.5 1337,-378.5 1337,-332.5 845,-332.5\" stroke=\"#000000\"/>\n",
       "<text fill=\"#000000\" font-family=\"Times,serif\" font-size=\"14.00\" text-anchor=\"middle\" x=\"929\" y=\"-351.8\">concatenate_4: Concatenate</text>\n",
       "<polyline fill=\"none\" points=\"1013,-332.5 1013,-378.5 \" stroke=\"#000000\"/>\n",
       "<text fill=\"#000000\" font-family=\"Times,serif\" font-size=\"14.00\" text-anchor=\"middle\" x=\"1040.5\" y=\"-363.3\">input:</text>\n",
       "<polyline fill=\"none\" points=\"1013,-355.5 1068,-355.5 \" stroke=\"#000000\"/>\n",
       "<text fill=\"#000000\" font-family=\"Times,serif\" font-size=\"14.00\" text-anchor=\"middle\" x=\"1040.5\" y=\"-340.3\">output:</text>\n",
       "<polyline fill=\"none\" points=\"1068,-332.5 1068,-378.5 \" stroke=\"#000000\"/>\n",
       "<text fill=\"#000000\" font-family=\"Times,serif\" font-size=\"14.00\" text-anchor=\"middle\" x=\"1202.5\" y=\"-363.3\">[(None, 125, 125, 124), (None, 125, 125, 64)]</text>\n",
       "<polyline fill=\"none\" points=\"1068,-355.5 1337,-355.5 \" stroke=\"#000000\"/>\n",
       "<text fill=\"#000000\" font-family=\"Times,serif\" font-size=\"14.00\" text-anchor=\"middle\" x=\"1202.5\" y=\"-340.3\">(None, 125, 125, 188)</text>\n",
       "</g>\n",
       "<!-- 140287935960344&#45;&gt;140287935733152 -->\n",
       "<g class=\"edge\" id=\"edge47\">\n",
       "<title>140287935960344-&gt;140287935733152</title>\n",
       "<path d=\"M1002.9838,-415.3799C1017.0111,-405.8367 1033.4269,-394.6686 1048.2569,-384.5793\" fill=\"none\" stroke=\"#000000\"/>\n",
       "<polygon fill=\"#000000\" points=\"1050.476,-387.3028 1056.7753,-378.784 1046.5385,-381.5152 1050.476,-387.3028\" stroke=\"#000000\"/>\n",
       "</g>\n",
       "<!-- 140287935960512&#45;&gt;140287935733152 -->\n",
       "<g class=\"edge\" id=\"edge48\">\n",
       "<title>140287935960512-&gt;140287935733152</title>\n",
       "<path d=\"M1214,-2822.4052C1214,-2790.3381 1214,-2730.5104 1214,-2679.5 1214,-2679.5 1214,-2679.5 1214,-521.5 1214,-473.3393 1221.8377,-454.3004 1194,-415 1185.0405,-402.3512 1172.4804,-392.0047 1159.2013,-383.6978\" fill=\"none\" stroke=\"#000000\"/>\n",
       "<polygon fill=\"#000000\" points=\"1160.7972,-380.5761 1150.4019,-378.5298 1157.2522,-386.6121 1160.7972,-380.5761\" stroke=\"#000000\"/>\n",
       "</g>\n",
       "<!-- 140287935733712 -->\n",
       "<g class=\"node\" id=\"node46\">\n",
       "<title>140287935733712</title>\n",
       "<polygon fill=\"none\" points=\"900.5,-249.5 900.5,-295.5 1281.5,-295.5 1281.5,-249.5 900.5,-249.5\" stroke=\"#000000\"/>\n",
       "<text fill=\"#000000\" font-family=\"Times,serif\" font-size=\"14.00\" text-anchor=\"middle\" x=\"994.5\" y=\"-268.8\">upscore_feat5_fuse_1: Conv2D</text>\n",
       "<polyline fill=\"none\" points=\"1088.5,-249.5 1088.5,-295.5 \" stroke=\"#000000\"/>\n",
       "<text fill=\"#000000\" font-family=\"Times,serif\" font-size=\"14.00\" text-anchor=\"middle\" x=\"1116\" y=\"-280.3\">input:</text>\n",
       "<polyline fill=\"none\" points=\"1088.5,-272.5 1143.5,-272.5 \" stroke=\"#000000\"/>\n",
       "<text fill=\"#000000\" font-family=\"Times,serif\" font-size=\"14.00\" text-anchor=\"middle\" x=\"1116\" y=\"-257.3\">output:</text>\n",
       "<polyline fill=\"none\" points=\"1143.5,-249.5 1143.5,-295.5 \" stroke=\"#000000\"/>\n",
       "<text fill=\"#000000\" font-family=\"Times,serif\" font-size=\"14.00\" text-anchor=\"middle\" x=\"1212.5\" y=\"-280.3\">(None, 125, 125, 188)</text>\n",
       "<polyline fill=\"none\" points=\"1143.5,-272.5 1281.5,-272.5 \" stroke=\"#000000\"/>\n",
       "<text fill=\"#000000\" font-family=\"Times,serif\" font-size=\"14.00\" text-anchor=\"middle\" x=\"1212.5\" y=\"-257.3\">(None, 125, 125, 248)</text>\n",
       "</g>\n",
       "<!-- 140287935733152&#45;&gt;140287935733712 -->\n",
       "<g class=\"edge\" id=\"edge49\">\n",
       "<title>140287935733152-&gt;140287935733712</title>\n",
       "<path d=\"M1091,-332.3799C1091,-324.1745 1091,-314.7679 1091,-305.8786\" fill=\"none\" stroke=\"#000000\"/>\n",
       "<polygon fill=\"#000000\" points=\"1094.5001,-305.784 1091,-295.784 1087.5001,-305.784 1094.5001,-305.784\" stroke=\"#000000\"/>\n",
       "</g>\n",
       "<!-- 140287935319680 -->\n",
       "<g class=\"node\" id=\"node47\">\n",
       "<title>140287935319680</title>\n",
       "<polygon fill=\"none\" points=\"900.5,-166.5 900.5,-212.5 1281.5,-212.5 1281.5,-166.5 900.5,-166.5\" stroke=\"#000000\"/>\n",
       "<text fill=\"#000000\" font-family=\"Times,serif\" font-size=\"14.00\" text-anchor=\"middle\" x=\"994.5\" y=\"-185.8\">upscore_feat5_fuse_2: Conv2D</text>\n",
       "<polyline fill=\"none\" points=\"1088.5,-166.5 1088.5,-212.5 \" stroke=\"#000000\"/>\n",
       "<text fill=\"#000000\" font-family=\"Times,serif\" font-size=\"14.00\" text-anchor=\"middle\" x=\"1116\" y=\"-197.3\">input:</text>\n",
       "<polyline fill=\"none\" points=\"1088.5,-189.5 1143.5,-189.5 \" stroke=\"#000000\"/>\n",
       "<text fill=\"#000000\" font-family=\"Times,serif\" font-size=\"14.00\" text-anchor=\"middle\" x=\"1116\" y=\"-174.3\">output:</text>\n",
       "<polyline fill=\"none\" points=\"1143.5,-166.5 1143.5,-212.5 \" stroke=\"#000000\"/>\n",
       "<text fill=\"#000000\" font-family=\"Times,serif\" font-size=\"14.00\" text-anchor=\"middle\" x=\"1212.5\" y=\"-197.3\">(None, 125, 125, 248)</text>\n",
       "<polyline fill=\"none\" points=\"1143.5,-189.5 1281.5,-189.5 \" stroke=\"#000000\"/>\n",
       "<text fill=\"#000000\" font-family=\"Times,serif\" font-size=\"14.00\" text-anchor=\"middle\" x=\"1212.5\" y=\"-174.3\">(None, 125, 125, 124)</text>\n",
       "</g>\n",
       "<!-- 140287935733712&#45;&gt;140287935319680 -->\n",
       "<g class=\"edge\" id=\"edge50\">\n",
       "<title>140287935733712-&gt;140287935319680</title>\n",
       "<path d=\"M1091,-249.3799C1091,-241.1745 1091,-231.7679 1091,-222.8786\" fill=\"none\" stroke=\"#000000\"/>\n",
       "<polygon fill=\"#000000\" points=\"1094.5001,-222.784 1091,-212.784 1087.5001,-222.784 1094.5001,-222.784\" stroke=\"#000000\"/>\n",
       "</g>\n",
       "<!-- 140287935502376 -->\n",
       "<g class=\"node\" id=\"node48\">\n",
       "<title>140287935502376</title>\n",
       "<polygon fill=\"none\" points=\"894,-83.5 894,-129.5 1288,-129.5 1288,-83.5 894,-83.5\" stroke=\"#000000\"/>\n",
       "<text fill=\"#000000\" font-family=\"Times,serif\" font-size=\"14.00\" text-anchor=\"middle\" x=\"994.5\" y=\"-102.8\">upscore_feat5: Conv2DTranspose</text>\n",
       "<polyline fill=\"none\" points=\"1095,-83.5 1095,-129.5 \" stroke=\"#000000\"/>\n",
       "<text fill=\"#000000\" font-family=\"Times,serif\" font-size=\"14.00\" text-anchor=\"middle\" x=\"1122.5\" y=\"-114.3\">input:</text>\n",
       "<polyline fill=\"none\" points=\"1095,-106.5 1150,-106.5 \" stroke=\"#000000\"/>\n",
       "<text fill=\"#000000\" font-family=\"Times,serif\" font-size=\"14.00\" text-anchor=\"middle\" x=\"1122.5\" y=\"-91.3\">output:</text>\n",
       "<polyline fill=\"none\" points=\"1150,-83.5 1150,-129.5 \" stroke=\"#000000\"/>\n",
       "<text fill=\"#000000\" font-family=\"Times,serif\" font-size=\"14.00\" text-anchor=\"middle\" x=\"1219\" y=\"-114.3\">(None, 125, 125, 124)</text>\n",
       "<polyline fill=\"none\" points=\"1150,-106.5 1288,-106.5 \" stroke=\"#000000\"/>\n",
       "<text fill=\"#000000\" font-family=\"Times,serif\" font-size=\"14.00\" text-anchor=\"middle\" x=\"1219\" y=\"-91.3\">(None, 250, 250, 124)</text>\n",
       "</g>\n",
       "<!-- 140287935319680&#45;&gt;140287935502376 -->\n",
       "<g class=\"edge\" id=\"edge51\">\n",
       "<title>140287935319680-&gt;140287935502376</title>\n",
       "<path d=\"M1091,-166.3799C1091,-158.1745 1091,-148.7679 1091,-139.8786\" fill=\"none\" stroke=\"#000000\"/>\n",
       "<polygon fill=\"#000000\" points=\"1094.5001,-139.784 1091,-129.784 1087.5001,-139.784 1094.5001,-139.784\" stroke=\"#000000\"/>\n",
       "</g>\n",
       "<!-- 140287935170488 -->\n",
       "<g class=\"node\" id=\"node49\">\n",
       "<title>140287935170488</title>\n",
       "<polygon fill=\"none\" points=\"875,-.5 875,-46.5 1307,-46.5 1307,-.5 875,-.5\" stroke=\"#000000\"/>\n",
       "<text fill=\"#000000\" font-family=\"Times,serif\" font-size=\"14.00\" text-anchor=\"middle\" x=\"994.5\" y=\"-19.8\">upsample_feat5: BilinearUpSampling2D</text>\n",
       "<polyline fill=\"none\" points=\"1114,-.5 1114,-46.5 \" stroke=\"#000000\"/>\n",
       "<text fill=\"#000000\" font-family=\"Times,serif\" font-size=\"14.00\" text-anchor=\"middle\" x=\"1141.5\" y=\"-31.3\">input:</text>\n",
       "<polyline fill=\"none\" points=\"1114,-23.5 1169,-23.5 \" stroke=\"#000000\"/>\n",
       "<text fill=\"#000000\" font-family=\"Times,serif\" font-size=\"14.00\" text-anchor=\"middle\" x=\"1141.5\" y=\"-8.3\">output:</text>\n",
       "<polyline fill=\"none\" points=\"1169,-.5 1169,-46.5 \" stroke=\"#000000\"/>\n",
       "<text fill=\"#000000\" font-family=\"Times,serif\" font-size=\"14.00\" text-anchor=\"middle\" x=\"1238\" y=\"-31.3\">(None, 250, 250, 124)</text>\n",
       "<polyline fill=\"none\" points=\"1169,-23.5 1307,-23.5 \" stroke=\"#000000\"/>\n",
       "<text fill=\"#000000\" font-family=\"Times,serif\" font-size=\"14.00\" text-anchor=\"middle\" x=\"1238\" y=\"-8.3\">(None, 250, 250, 124)</text>\n",
       "</g>\n",
       "<!-- 140287935502376&#45;&gt;140287935170488 -->\n",
       "<g class=\"edge\" id=\"edge52\">\n",
       "<title>140287935502376-&gt;140287935170488</title>\n",
       "<path d=\"M1091,-83.3799C1091,-75.1745 1091,-65.7679 1091,-56.8786\" fill=\"none\" stroke=\"#000000\"/>\n",
       "<polygon fill=\"#000000\" points=\"1094.5001,-56.784 1091,-46.784 1087.5001,-56.784 1094.5001,-56.784\" stroke=\"#000000\"/>\n",
       "</g>\n",
       "</g>\n",
       "</svg>"
      ],
      "text/plain": [
       "<IPython.core.display.SVG object>"
      ]
     },
     "execution_count": 15,
     "metadata": {},
     "output_type": "execute_result"
    }
   ],
   "source": [
    "from IPython.display import SVG\n",
    "from keras.utils.vis_utils import model_to_dot\n",
    "\n",
    "SVG(model_to_dot(model, show_shapes=True).create(prog='dot', format='svg'))"
   ]
  },
  {
   "cell_type": "markdown",
   "metadata": {},
   "source": [
    "# Training "
   ]
  },
  {
   "cell_type": "markdown",
   "metadata": {},
   "source": [
    "## Load data"
   ]
  },
  {
   "cell_type": "code",
   "execution_count": 16,
   "metadata": {
    "ExecuteTime": {
     "end_time": "2018-06-14T00:22:14.451654Z",
     "start_time": "2018-06-14T00:22:14.096296Z"
    },
    "code_folding": [
     0
    ],
    "collapsed": true
   },
   "outputs": [],
   "source": [
    "class seg_dataset_reader:\n",
    "    path = \"\"\n",
    "    class_mappings = \"\"\n",
    "    files = []\n",
    "    images = []\n",
    "    annotations = []\n",
    "    test_images = []\n",
    "    test_annotations = []\n",
    "    batch_offset = 0\n",
    "    epochs_completed = 0\n",
    "\n",
    "    def __init__(self, deepscores_path, max_pages=40, crop=True, crop_size=[1000,1000], test_size=20):\n",
    "        \"\"\"\n",
    "        Initialize a file reader for the DeepScores classification data\n",
    "        :param records_list: path to the dataset\n",
    "        sample record: {'image': f, 'annotation': annotation_file, 'filename': filename}\n",
    "        \"\"\"\n",
    "        print(\"Initializing DeepScores Classification Batch Dataset Reader...\")\n",
    "        self.path = deepscores_path\n",
    "        self.max_pages = max_pages\n",
    "        self.crop = crop\n",
    "        self.crop_size = crop_size\n",
    "        self.test_size = test_size\n",
    "\n",
    "        images_list = []\n",
    "        images_glob = os.path.join(self.path, \"images_png\", '*.' + 'png')\n",
    "        images_list.extend(glob.glob(images_glob))\n",
    "\n",
    "        #shuffle image list\n",
    "        shuffle(images_list)\n",
    "\n",
    "        if max_pages is None:\n",
    "            max_pages = len(images_list)\n",
    "            import sys\n",
    "            sys.exit(1)\n",
    "\n",
    "        if max_pages > len(images_list):\n",
    "            print(\"Not enough data, only \" + str(len(images_list)) + \" available\")\n",
    "\n",
    "        if test_size >= max_pages:\n",
    "            print(\"Test set too big (\"+str(test_size)+\"), max_pages is: \"+str(max_pages))\n",
    "            import sys\n",
    "            sys.exit(1)\n",
    "\n",
    "        print(\"Splitting dataset, train: \"+str(max_pages-test_size)+\" images, test: \"+str(test_size)+ \" images\")\n",
    "        test_image_list = images_list[0:test_size]\n",
    "        train_image_list = images_list[test_size:max_pages]\n",
    "\n",
    "        # test_annotation_list = [image_file.replace(\"/images_png/\", \"/pix_annotations_png/\") for image_file in test_image_list]\n",
    "        # train_annotation_list = [image_file.replace(\"/images_png/\", \"/pix_annotations_png/\") for image_file in train_image_list]\n",
    "\n",
    "        self._read_images(test_image_list,train_image_list)\n",
    "\n",
    "    def _read_images(self,test_image_list,train_image_list):\n",
    "\n",
    "        dat_train = [self._transform(filename) for filename in train_image_list]\n",
    "        for dat in dat_train:\n",
    "            self.images.append(dat[0])\n",
    "            self.annotations.append(dat[1])\n",
    "        self.images = np.array(self.images)\n",
    "        self.images = np.expand_dims(self.images, -1)\n",
    "\n",
    "        self.annotations = np.array(self.annotations)\n",
    "        self.annotations = np.expand_dims(self.annotations, -1)\n",
    "\n",
    "        print(\"Training set done\")\n",
    "        dat_test = [self._transform(filename) for filename in test_image_list]\n",
    "        for dat in dat_test:\n",
    "            self.test_images.append(dat[0])\n",
    "            self.test_annotations.append(dat[1])\n",
    "        self.test_images = np.array(self.test_images)\n",
    "        self.test_images = np.expand_dims(self.test_images, -1)\n",
    "\n",
    "        self.test_annotations = np.array(self.test_annotations)\n",
    "        self.test_annotations = np.expand_dims(self.test_annotations, -1)\n",
    "        print(\"Test set done\")\n",
    "\n",
    "\n",
    "    def _transform(self, filename):\n",
    "        image = misc.imread(filename)\n",
    "        annotation = misc.imread(filename.replace(\"/images_png/\", \"/pix_annotations_png/\"))\n",
    "        print(\"im working!\" + str(randint(0,10)))\n",
    "        if not image.shape[0:2] == annotation.shape[0:2]:\n",
    "            print(\"input and annotation have different sizes!\")\n",
    "            import sys\n",
    "            import pdb\n",
    "            pdb.set_trace()\n",
    "            sys.exit(1)\n",
    "\n",
    "        if image.shape[-1] != 1:\n",
    "            # take mean over color channels, image BW anyways --> fix in dataset creation\n",
    "            image = np.mean(image, -1)\n",
    "\n",
    "        if self.crop:\n",
    "            coord_0 = randint(0, (image.shape[0] - self.crop_size[0]))\n",
    "            coord_1 = randint(0, (image.shape[1] - self.crop_size[1]))\n",
    "\n",
    "            image = image[coord_0:(coord_0+self.crop_size[0]),coord_1:(coord_1+self.crop_size[1])]\n",
    "            annotation = annotation[coord_0:(coord_0 + self.crop_size[0]), coord_1:(coord_1 + self.crop_size[1])]\n",
    "\n",
    "        return [image, annotation]\n",
    "\n",
    "    # from PIL import Image\n",
    "    # im = Image.fromarray(image)\n",
    "    # im.show()\n",
    "    # im = Image.fromarray(annotation)\n",
    "    # im.show()\n",
    "\n",
    "\n",
    "    def get_records(self):\n",
    "        return self.images, self.annotations\n",
    "\n",
    "    def reset_batch_offset(self, offset=0):\n",
    "        self.batch_offset = offset\n",
    "\n",
    "    def get_test_records(self):\n",
    "        return self.test_images, self.test_annotations\n",
    "\n",
    "    def next_batch(self, batch_size):\n",
    "        start = self.batch_offset\n",
    "        self.batch_offset += batch_size\n",
    "        if self.batch_offset > self.images.shape[0]:\n",
    "            # Finished epoch\n",
    "            self.epochs_completed += 1\n",
    "            #             print(\"****************** Epochs completed: \" + str(self.epochs_completed) + \"******************\")\n",
    "            # Shuffle the data\n",
    "            perm = np.arange(self.images.shape[0])\n",
    "            np.random.shuffle(perm)\n",
    "            self.images = self.images[perm]\n",
    "            self.annotations = self.annotations[perm]\n",
    "            # Start next epoch\n",
    "            start = 0\n",
    "            self.batch_offset = batch_size\n",
    "\n",
    "        end = self.batch_offset\n",
    "        return self.images[start:end], self.annotations[start:end]\n",
    "\n",
    "    def get_random_batch(self, batch_size):\n",
    "        indexes = np.random.randint(0, self.images.shape[0], size=[batch_size]).tolist()\n",
    "        return self.images[indexes], self.annotations[indexes]"
   ]
  },
  {
   "cell_type": "code",
   "execution_count": 17,
   "metadata": {
    "ExecuteTime": {
     "end_time": "2018-06-14T00:22:31.810466Z",
     "start_time": "2018-06-14T00:22:14.452876Z"
    },
    "scrolled": true
   },
   "outputs": [
    {
     "name": "stdout",
     "output_type": "stream",
     "text": [
      "Initializing DeepScores Classification Batch Dataset Reader...\n",
      "Splitting dataset, train: 20 images, test: 20 images\n"
     ]
    },
    {
     "name": "stderr",
     "output_type": "stream",
     "text": [
      "/home/dbashir/anaconda2/envs/py36/lib/python3.6/site-packages/ipykernel/__main__.py:80: DeprecationWarning: `imread` is deprecated!\n",
      "`imread` is deprecated in SciPy 1.0.0, and will be removed in 1.2.0.\n",
      "Use ``imageio.imread`` instead.\n",
      "/home/dbashir/anaconda2/envs/py36/lib/python3.6/site-packages/ipykernel/__main__.py:81: DeprecationWarning: `imread` is deprecated!\n",
      "`imread` is deprecated in SciPy 1.0.0, and will be removed in 1.2.0.\n",
      "Use ``imageio.imread`` instead.\n"
     ]
    },
    {
     "name": "stdout",
     "output_type": "stream",
     "text": [
      "im working!1\n",
      "im working!10\n",
      "im working!3\n",
      "im working!5\n",
      "im working!3\n",
      "im working!9\n",
      "im working!9\n",
      "im working!6\n",
      "im working!7\n",
      "im working!5\n",
      "im working!10\n",
      "im working!2\n",
      "im working!3\n",
      "im working!3\n",
      "im working!8\n",
      "im working!1\n",
      "im working!6\n",
      "im working!7\n",
      "im working!3\n",
      "im working!1\n",
      "Training set done\n",
      "im working!7\n",
      "im working!8\n",
      "im working!8\n",
      "im working!5\n",
      "im working!0\n",
      "im working!3\n",
      "im working!5\n",
      "im working!4\n",
      "im working!4\n",
      "im working!2\n",
      "im working!4\n",
      "im working!1\n",
      "im working!9\n",
      "im working!0\n",
      "im working!9\n",
      "im working!8\n",
      "im working!1\n",
      "im working!8\n",
      "im working!7\n",
      "im working!6\n",
      "Test set done\n"
     ]
    }
   ],
   "source": [
    "data_reader = seg_dataset_reader('/data1/dbashir/Project/Summer 2018/deep_scores/',\n",
    "                                 crop=True, crop_size=[250,250])"
   ]
  },
  {
   "cell_type": "code",
   "execution_count": 18,
   "metadata": {
    "ExecuteTime": {
     "end_time": "2018-06-14T00:22:31.813413Z",
     "start_time": "2018-06-14T00:22:31.811584Z"
    },
    "collapsed": true
   },
   "outputs": [],
   "source": [
    "NUM_ITERATION = 5000\n",
    "PRINT_EVERY_ITR = 100\n",
    "SAVE_EVERY_ITR = 1000"
   ]
  },
  {
   "cell_type": "code",
   "execution_count": 19,
   "metadata": {
    "ExecuteTime": {
     "end_time": "2018-06-14T00:22:31.865158Z",
     "start_time": "2018-06-14T00:22:31.814421Z"
    },
    "collapsed": true
   },
   "outputs": [],
   "source": [
    "hist = {\n",
    "    'acc': [],\n",
    "    'loss': [],\n",
    "    'val_acc': [],\n",
    "    'val_loss': [],\n",
    "}"
   ]
  },
  {
   "cell_type": "code",
   "execution_count": 20,
   "metadata": {
    "ExecuteTime": {
     "end_time": "2018-06-14T01:14:43.818228Z",
     "start_time": "2018-06-14T00:22:31.866768Z"
    }
   },
   "outputs": [
    {
     "name": "stdout",
     "output_type": "stream",
     "text": [
      "Finish Iteration 0\n",
      "Save model to model-checkpoint-iteration-0.h5\n"
     ]
    },
    {
     "ename": "KeyboardInterrupt",
     "evalue": "",
     "output_type": "error",
     "traceback": [
      "\u001b[0;31m---------------------------------------------------------------------------\u001b[0m",
      "\u001b[0;31mKeyboardInterrupt\u001b[0m                         Traceback (most recent call last)",
      "\u001b[0;32m<ipython-input-20-013afe0f5a6c>\u001b[0m in \u001b[0;36m<module>\u001b[0;34m()\u001b[0m\n\u001b[1;32m      2\u001b[0m     \u001b[0mtrain_img\u001b[0m\u001b[0;34m,\u001b[0m \u001b[0mtrain_annotation\u001b[0m \u001b[0;34m=\u001b[0m \u001b[0mdata_reader\u001b[0m\u001b[0;34m.\u001b[0m\u001b[0mnext_batch\u001b[0m\u001b[0;34m(\u001b[0m\u001b[0;36m20\u001b[0m\u001b[0;34m)\u001b[0m\u001b[0;34m\u001b[0m\u001b[0m\n\u001b[1;32m      3\u001b[0m     \u001b[0mval_img\u001b[0m\u001b[0;34m,\u001b[0m \u001b[0mval_annotation\u001b[0m \u001b[0;34m=\u001b[0m \u001b[0mdata_reader\u001b[0m\u001b[0;34m.\u001b[0m\u001b[0mget_test_records\u001b[0m\u001b[0;34m(\u001b[0m\u001b[0;34m)\u001b[0m\u001b[0;34m\u001b[0m\u001b[0m\n\u001b[0;32m----> 4\u001b[0;31m     \u001b[0mhistory\u001b[0m \u001b[0;34m=\u001b[0m \u001b[0mmodel\u001b[0m\u001b[0;34m.\u001b[0m\u001b[0mfit\u001b[0m\u001b[0;34m(\u001b[0m\u001b[0mx\u001b[0m\u001b[0;34m=\u001b[0m\u001b[0mtrain_img\u001b[0m\u001b[0;34m,\u001b[0m \u001b[0my\u001b[0m\u001b[0;34m=\u001b[0m\u001b[0mtrain_annotation\u001b[0m\u001b[0;34m,\u001b[0m \u001b[0mverbose\u001b[0m\u001b[0;34m=\u001b[0m\u001b[0;32mFalse\u001b[0m\u001b[0;34m,\u001b[0m \u001b[0mvalidation_data\u001b[0m\u001b[0;34m=\u001b[0m\u001b[0;34m(\u001b[0m\u001b[0mval_img\u001b[0m\u001b[0;34m,\u001b[0m \u001b[0mval_annotation\u001b[0m\u001b[0;34m)\u001b[0m\u001b[0;34m)\u001b[0m\u001b[0;34m\u001b[0m\u001b[0m\n\u001b[0m\u001b[1;32m      5\u001b[0m     \u001b[0;32mfor\u001b[0m \u001b[0mkey\u001b[0m \u001b[0;32min\u001b[0m \u001b[0mhistory\u001b[0m\u001b[0;34m.\u001b[0m\u001b[0mhistory\u001b[0m\u001b[0;34m:\u001b[0m\u001b[0;34m\u001b[0m\u001b[0m\n\u001b[1;32m      6\u001b[0m         \u001b[0mvalue\u001b[0m \u001b[0;34m=\u001b[0m \u001b[0mhistory\u001b[0m\u001b[0;34m.\u001b[0m\u001b[0mhistory\u001b[0m\u001b[0;34m[\u001b[0m\u001b[0mkey\u001b[0m\u001b[0;34m]\u001b[0m\u001b[0;34m\u001b[0m\u001b[0m\n",
      "\u001b[0;32m~/anaconda2/envs/py36/lib/python3.6/site-packages/keras/engine/training.py\u001b[0m in \u001b[0;36mfit\u001b[0;34m(self, x, y, batch_size, epochs, verbose, callbacks, validation_split, validation_data, shuffle, class_weight, sample_weight, initial_epoch, steps_per_epoch, validation_steps, **kwargs)\u001b[0m\n\u001b[1;32m   1667\u001b[0m                               \u001b[0minitial_epoch\u001b[0m\u001b[0;34m=\u001b[0m\u001b[0minitial_epoch\u001b[0m\u001b[0;34m,\u001b[0m\u001b[0;34m\u001b[0m\u001b[0m\n\u001b[1;32m   1668\u001b[0m                               \u001b[0msteps_per_epoch\u001b[0m\u001b[0;34m=\u001b[0m\u001b[0msteps_per_epoch\u001b[0m\u001b[0;34m,\u001b[0m\u001b[0;34m\u001b[0m\u001b[0m\n\u001b[0;32m-> 1669\u001b[0;31m                               validation_steps=validation_steps)\n\u001b[0m\u001b[1;32m   1670\u001b[0m \u001b[0;34m\u001b[0m\u001b[0m\n\u001b[1;32m   1671\u001b[0m     def evaluate(self, x=None, y=None,\n",
      "\u001b[0;32m~/anaconda2/envs/py36/lib/python3.6/site-packages/keras/engine/training.py\u001b[0m in \u001b[0;36m_fit_loop\u001b[0;34m(self, f, ins, out_labels, batch_size, epochs, verbose, callbacks, val_f, val_ins, shuffle, callback_metrics, initial_epoch, steps_per_epoch, validation_steps)\u001b[0m\n\u001b[1;32m   1204\u001b[0m                         \u001b[0mins_batch\u001b[0m\u001b[0;34m[\u001b[0m\u001b[0mi\u001b[0m\u001b[0;34m]\u001b[0m \u001b[0;34m=\u001b[0m \u001b[0mins_batch\u001b[0m\u001b[0;34m[\u001b[0m\u001b[0mi\u001b[0m\u001b[0;34m]\u001b[0m\u001b[0;34m.\u001b[0m\u001b[0mtoarray\u001b[0m\u001b[0;34m(\u001b[0m\u001b[0;34m)\u001b[0m\u001b[0;34m\u001b[0m\u001b[0m\n\u001b[1;32m   1205\u001b[0m \u001b[0;34m\u001b[0m\u001b[0m\n\u001b[0;32m-> 1206\u001b[0;31m                     \u001b[0mouts\u001b[0m \u001b[0;34m=\u001b[0m \u001b[0mf\u001b[0m\u001b[0;34m(\u001b[0m\u001b[0mins_batch\u001b[0m\u001b[0;34m)\u001b[0m\u001b[0;34m\u001b[0m\u001b[0m\n\u001b[0m\u001b[1;32m   1207\u001b[0m                     \u001b[0;32mif\u001b[0m \u001b[0;32mnot\u001b[0m \u001b[0misinstance\u001b[0m\u001b[0;34m(\u001b[0m\u001b[0mouts\u001b[0m\u001b[0;34m,\u001b[0m \u001b[0mlist\u001b[0m\u001b[0;34m)\u001b[0m\u001b[0;34m:\u001b[0m\u001b[0;34m\u001b[0m\u001b[0m\n\u001b[1;32m   1208\u001b[0m                         \u001b[0mouts\u001b[0m \u001b[0;34m=\u001b[0m \u001b[0;34m[\u001b[0m\u001b[0mouts\u001b[0m\u001b[0;34m]\u001b[0m\u001b[0;34m\u001b[0m\u001b[0m\n",
      "\u001b[0;32m~/anaconda2/envs/py36/lib/python3.6/site-packages/keras/backend/tensorflow_backend.py\u001b[0m in \u001b[0;36m__call__\u001b[0;34m(self, inputs)\u001b[0m\n\u001b[1;32m   2473\u001b[0m         \u001b[0msession\u001b[0m \u001b[0;34m=\u001b[0m \u001b[0mget_session\u001b[0m\u001b[0;34m(\u001b[0m\u001b[0;34m)\u001b[0m\u001b[0;34m\u001b[0m\u001b[0m\n\u001b[1;32m   2474\u001b[0m         updated = session.run(fetches=fetches, feed_dict=feed_dict,\n\u001b[0;32m-> 2475\u001b[0;31m                               **self.session_kwargs)\n\u001b[0m\u001b[1;32m   2476\u001b[0m         \u001b[0;32mreturn\u001b[0m \u001b[0mupdated\u001b[0m\u001b[0;34m[\u001b[0m\u001b[0;34m:\u001b[0m\u001b[0mlen\u001b[0m\u001b[0;34m(\u001b[0m\u001b[0mself\u001b[0m\u001b[0;34m.\u001b[0m\u001b[0moutputs\u001b[0m\u001b[0;34m)\u001b[0m\u001b[0;34m]\u001b[0m\u001b[0;34m\u001b[0m\u001b[0m\n\u001b[1;32m   2477\u001b[0m \u001b[0;34m\u001b[0m\u001b[0m\n",
      "\u001b[0;32m~/anaconda2/envs/py36/lib/python3.6/site-packages/tensorflow/python/client/session.py\u001b[0m in \u001b[0;36mrun\u001b[0;34m(self, fetches, feed_dict, options, run_metadata)\u001b[0m\n\u001b[1;32m    887\u001b[0m     \u001b[0;32mtry\u001b[0m\u001b[0;34m:\u001b[0m\u001b[0;34m\u001b[0m\u001b[0m\n\u001b[1;32m    888\u001b[0m       result = self._run(None, fetches, feed_dict, options_ptr,\n\u001b[0;32m--> 889\u001b[0;31m                          run_metadata_ptr)\n\u001b[0m\u001b[1;32m    890\u001b[0m       \u001b[0;32mif\u001b[0m \u001b[0mrun_metadata\u001b[0m\u001b[0;34m:\u001b[0m\u001b[0;34m\u001b[0m\u001b[0m\n\u001b[1;32m    891\u001b[0m         \u001b[0mproto_data\u001b[0m \u001b[0;34m=\u001b[0m \u001b[0mtf_session\u001b[0m\u001b[0;34m.\u001b[0m\u001b[0mTF_GetBuffer\u001b[0m\u001b[0;34m(\u001b[0m\u001b[0mrun_metadata_ptr\u001b[0m\u001b[0;34m)\u001b[0m\u001b[0;34m\u001b[0m\u001b[0m\n",
      "\u001b[0;32m~/anaconda2/envs/py36/lib/python3.6/site-packages/tensorflow/python/client/session.py\u001b[0m in \u001b[0;36m_run\u001b[0;34m(self, handle, fetches, feed_dict, options, run_metadata)\u001b[0m\n\u001b[1;32m   1118\u001b[0m     \u001b[0;32mif\u001b[0m \u001b[0mfinal_fetches\u001b[0m \u001b[0;32mor\u001b[0m \u001b[0mfinal_targets\u001b[0m \u001b[0;32mor\u001b[0m \u001b[0;34m(\u001b[0m\u001b[0mhandle\u001b[0m \u001b[0;32mand\u001b[0m \u001b[0mfeed_dict_tensor\u001b[0m\u001b[0;34m)\u001b[0m\u001b[0;34m:\u001b[0m\u001b[0;34m\u001b[0m\u001b[0m\n\u001b[1;32m   1119\u001b[0m       results = self._do_run(handle, final_targets, final_fetches,\n\u001b[0;32m-> 1120\u001b[0;31m                              feed_dict_tensor, options, run_metadata)\n\u001b[0m\u001b[1;32m   1121\u001b[0m     \u001b[0;32melse\u001b[0m\u001b[0;34m:\u001b[0m\u001b[0;34m\u001b[0m\u001b[0m\n\u001b[1;32m   1122\u001b[0m       \u001b[0mresults\u001b[0m \u001b[0;34m=\u001b[0m \u001b[0;34m[\u001b[0m\u001b[0;34m]\u001b[0m\u001b[0;34m\u001b[0m\u001b[0m\n",
      "\u001b[0;32m~/anaconda2/envs/py36/lib/python3.6/site-packages/tensorflow/python/client/session.py\u001b[0m in \u001b[0;36m_do_run\u001b[0;34m(self, handle, target_list, fetch_list, feed_dict, options, run_metadata)\u001b[0m\n\u001b[1;32m   1315\u001b[0m     \u001b[0;32mif\u001b[0m \u001b[0mhandle\u001b[0m \u001b[0;32mis\u001b[0m \u001b[0;32mNone\u001b[0m\u001b[0;34m:\u001b[0m\u001b[0;34m\u001b[0m\u001b[0m\n\u001b[1;32m   1316\u001b[0m       return self._do_call(_run_fn, self._session, feeds, fetches, targets,\n\u001b[0;32m-> 1317\u001b[0;31m                            options, run_metadata)\n\u001b[0m\u001b[1;32m   1318\u001b[0m     \u001b[0;32melse\u001b[0m\u001b[0;34m:\u001b[0m\u001b[0;34m\u001b[0m\u001b[0m\n\u001b[1;32m   1319\u001b[0m       \u001b[0;32mreturn\u001b[0m \u001b[0mself\u001b[0m\u001b[0;34m.\u001b[0m\u001b[0m_do_call\u001b[0m\u001b[0;34m(\u001b[0m\u001b[0m_prun_fn\u001b[0m\u001b[0;34m,\u001b[0m \u001b[0mself\u001b[0m\u001b[0;34m.\u001b[0m\u001b[0m_session\u001b[0m\u001b[0;34m,\u001b[0m \u001b[0mhandle\u001b[0m\u001b[0;34m,\u001b[0m \u001b[0mfeeds\u001b[0m\u001b[0;34m,\u001b[0m \u001b[0mfetches\u001b[0m\u001b[0;34m)\u001b[0m\u001b[0;34m\u001b[0m\u001b[0m\n",
      "\u001b[0;32m~/anaconda2/envs/py36/lib/python3.6/site-packages/tensorflow/python/client/session.py\u001b[0m in \u001b[0;36m_do_call\u001b[0;34m(self, fn, *args)\u001b[0m\n\u001b[1;32m   1321\u001b[0m   \u001b[0;32mdef\u001b[0m \u001b[0m_do_call\u001b[0m\u001b[0;34m(\u001b[0m\u001b[0mself\u001b[0m\u001b[0;34m,\u001b[0m \u001b[0mfn\u001b[0m\u001b[0;34m,\u001b[0m \u001b[0;34m*\u001b[0m\u001b[0margs\u001b[0m\u001b[0;34m)\u001b[0m\u001b[0;34m:\u001b[0m\u001b[0;34m\u001b[0m\u001b[0m\n\u001b[1;32m   1322\u001b[0m     \u001b[0;32mtry\u001b[0m\u001b[0;34m:\u001b[0m\u001b[0;34m\u001b[0m\u001b[0m\n\u001b[0;32m-> 1323\u001b[0;31m       \u001b[0;32mreturn\u001b[0m \u001b[0mfn\u001b[0m\u001b[0;34m(\u001b[0m\u001b[0;34m*\u001b[0m\u001b[0margs\u001b[0m\u001b[0;34m)\u001b[0m\u001b[0;34m\u001b[0m\u001b[0m\n\u001b[0m\u001b[1;32m   1324\u001b[0m     \u001b[0;32mexcept\u001b[0m \u001b[0merrors\u001b[0m\u001b[0;34m.\u001b[0m\u001b[0mOpError\u001b[0m \u001b[0;32mas\u001b[0m \u001b[0me\u001b[0m\u001b[0;34m:\u001b[0m\u001b[0;34m\u001b[0m\u001b[0m\n\u001b[1;32m   1325\u001b[0m       \u001b[0mmessage\u001b[0m \u001b[0;34m=\u001b[0m \u001b[0mcompat\u001b[0m\u001b[0;34m.\u001b[0m\u001b[0mas_text\u001b[0m\u001b[0;34m(\u001b[0m\u001b[0me\u001b[0m\u001b[0;34m.\u001b[0m\u001b[0mmessage\u001b[0m\u001b[0;34m)\u001b[0m\u001b[0;34m\u001b[0m\u001b[0m\n",
      "\u001b[0;32m~/anaconda2/envs/py36/lib/python3.6/site-packages/tensorflow/python/client/session.py\u001b[0m in \u001b[0;36m_run_fn\u001b[0;34m(session, feed_dict, fetch_list, target_list, options, run_metadata)\u001b[0m\n\u001b[1;32m   1300\u001b[0m           return tf_session.TF_Run(session, options,\n\u001b[1;32m   1301\u001b[0m                                    \u001b[0mfeed_dict\u001b[0m\u001b[0;34m,\u001b[0m \u001b[0mfetch_list\u001b[0m\u001b[0;34m,\u001b[0m \u001b[0mtarget_list\u001b[0m\u001b[0;34m,\u001b[0m\u001b[0;34m\u001b[0m\u001b[0m\n\u001b[0;32m-> 1302\u001b[0;31m                                    status, run_metadata)\n\u001b[0m\u001b[1;32m   1303\u001b[0m \u001b[0;34m\u001b[0m\u001b[0m\n\u001b[1;32m   1304\u001b[0m     \u001b[0;32mdef\u001b[0m \u001b[0m_prun_fn\u001b[0m\u001b[0;34m(\u001b[0m\u001b[0msession\u001b[0m\u001b[0;34m,\u001b[0m \u001b[0mhandle\u001b[0m\u001b[0;34m,\u001b[0m \u001b[0mfeed_dict\u001b[0m\u001b[0;34m,\u001b[0m \u001b[0mfetch_list\u001b[0m\u001b[0;34m)\u001b[0m\u001b[0;34m:\u001b[0m\u001b[0;34m\u001b[0m\u001b[0m\n",
      "\u001b[0;31mKeyboardInterrupt\u001b[0m: "
     ]
    }
   ],
   "source": [
    "for itr in range(NUM_ITERATION):\n",
    "    train_img, train_annotation = data_reader.next_batch(20)\n",
    "    val_img, val_annotation = data_reader.get_test_records()\n",
    "    history = model.fit(x=train_img, y=train_annotation, verbose=False, validation_data=(val_img, val_annotation))\n",
    "    for key in history.history:\n",
    "        value = history.history[key]\n",
    "        hist[key].append(value)\n",
    "        \n",
    "    if itr % PRINT_EVERY_ITR == 0:\n",
    "        print(\"Finish Iteration {:}\".format(itr))\n",
    "        \n",
    "    if itr % SAVE_EVERY_ITR == 0:\n",
    "        outputFile = 'model-checkpoint-iteration-{:}.h5'.format(itr)\n",
    "        print(\"Save model to {:}\".format(outputFile))\n",
    "        model.save(outputFile)"
   ]
  },
  {
   "cell_type": "code",
   "execution_count": null,
   "metadata": {
    "ExecuteTime": {
     "end_time": "2018-06-14T16:41:26.013438Z",
     "start_time": "2018-06-14T16:41:25.364784Z"
    },
    "collapsed": true
   },
   "outputs": [],
   "source": [
    "plt.figure(figsize=(20,6))\n",
    "plt.subplot(1,2,1)\n",
    "plt.plot(hist['loss'], label='training')\n",
    "plt.plot(hist['val_loss'], label='validation')\n",
    "plt.title('Loss')\n",
    "plt.legend()\n",
    "plt.yscale('log')\n",
    "plt.xlabel('Epochs')\n",
    "\n",
    "plt.subplot(1,2,2)\n",
    "plt.plot(hist['acc'], label='training')\n",
    "plt.plot(hist['val_acc'], label='validation')\n",
    "plt.title('Accuracy')\n",
    "plt.legend()\n",
    "plt.xlabel('Epochs')\n",
    "\n",
    "plt.show()"
   ]
  },
  {
   "cell_type": "markdown",
   "metadata": {},
   "source": [
    "## Test data"
   ]
  },
  {
   "cell_type": "code",
   "execution_count": 24,
   "metadata": {
    "ExecuteTime": {
     "end_time": "2018-06-14T01:14:44.174431Z",
     "start_time": "2018-06-14T01:14:44.130125Z"
    },
    "collapsed": true
   },
   "outputs": [],
   "source": [
    "test_img, test_annotation = data_reader.get_test_records()"
   ]
  },
  {
   "cell_type": "code",
   "execution_count": 25,
   "metadata": {
    "ExecuteTime": {
     "end_time": "2018-06-14T01:14:44.877468Z",
     "start_time": "2018-06-14T01:14:44.176100Z"
    },
    "collapsed": true
   },
   "outputs": [],
   "source": [
    "prediction = np.argmax(model.predict(test_img), axis=-1) # get the argmax of 124 classes"
   ]
  },
  {
   "cell_type": "code",
   "execution_count": 26,
   "metadata": {
    "ExecuteTime": {
     "end_time": "2018-06-14T01:14:44.880448Z",
     "start_time": "2018-06-14T01:14:44.878681Z"
    },
    "collapsed": true
   },
   "outputs": [],
   "source": [
    "img_id = 10"
   ]
  },
  {
   "cell_type": "code",
   "execution_count": 27,
   "metadata": {
    "ExecuteTime": {
     "end_time": "2018-06-14T01:14:45.205973Z",
     "start_time": "2018-06-14T01:14:44.881908Z"
    }
   },
   "outputs": [
    {
     "data": {
      "text/plain": [
       "Text(0.5,1,'Semantic Prediction')"
      ]
     },
     "execution_count": 27,
     "metadata": {},
     "output_type": "execute_result"
    },
    {
     "data": {
      "image/png": "[encoded data removed]",
      "text/plain": [
       "<Figure size 864x1440 with 3 Axes>"
      ]
     },
     "metadata": {},
     "output_type": "display_data"
    }
   ],
   "source": [
    "plt.figure(figsize=(12,20))\n",
    "plt.subplot(1,3,1)\n",
    "plt.imshow(test_img[img_id,:,:,0], cmap='gray')\n",
    "plt.title(\"Input image\")\n",
    "plt.subplot(1,3,2)\n",
    "plt.imshow(test_annotation[img_id,:,:,0], cmap='gray')\n",
    "plt.title(\"Ground Truth annotation\")\n",
    "plt.subplot(1,3,3)\n",
    "plt.imshow(prediction[img_id,:,:], cmap='gray')\n",
    "plt.title(\"Semantic Prediction\")"
   ]
  },
  {
   "cell_type": "code",
   "execution_count": 28,
   "metadata": {
    "ExecuteTime": {
     "end_time": "2018-06-14T01:14:45.232422Z",
     "start_time": "2018-06-14T01:14:45.207333Z"
    }
   },
   "outputs": [
    {
     "data": {
      "text/plain": [
       "array([  0,   2,   4,   7,   9,  12,  20,  23,  30,  33,  38,  45,  46,\n",
       "        47,  51,  57,  61,  62,  68,  75,  81,  84,  98,  99, 102, 105,\n",
       "       107, 113, 119, 121])"
      ]
     },
     "execution_count": 28,
     "metadata": {},
     "output_type": "execute_result"
    }
   ],
   "source": [
    "np.unique(prediction)"
   ]
  },
  {
   "cell_type": "code",
   "execution_count": 29,
   "metadata": {
    "ExecuteTime": {
     "end_time": "2018-06-14T01:14:45.270082Z",
     "start_time": "2018-06-14T01:14:45.233898Z"
    }
   },
   "outputs": [
    {
     "data": {
      "text/plain": [
       "array([0, 4], dtype=uint8)"
      ]
     },
     "execution_count": 29,
     "metadata": {},
     "output_type": "execute_result"
    }
   ],
   "source": [
    "np.unique(test_annotation[img_id,:,:,0])"
   ]
  },
  {
   "cell_type": "code",
   "execution_count": 30,
   "metadata": {
    "ExecuteTime": {
     "end_time": "2018-06-14T01:14:45.317833Z",
     "start_time": "2018-06-14T01:14:45.271847Z"
    },
    "collapsed": true
   },
   "outputs": [],
   "source": [
    "tmp = np.zeros_like(prediction[img_id,:,:])"
   ]
  },
  {
   "cell_type": "code",
   "execution_count": 31,
   "metadata": {
    "ExecuteTime": {
     "end_time": "2018-06-14T01:14:45.413768Z",
     "start_time": "2018-06-14T01:14:45.319678Z"
    },
    "collapsed": true
   },
   "outputs": [],
   "source": [
    "for i in range(tmp.shape[0]):\n",
    "    for j in range(tmp.shape[1]):\n",
    "        if prediction[img_id,i,j] == 29:\n",
    "            tmp[i,j] = 100\n",
    "        else:\n",
    "            tmp[i,j] = 0"
   ]
  },
  {
   "cell_type": "code",
   "execution_count": 32,
   "metadata": {
    "ExecuteTime": {
     "end_time": "2018-06-14T01:14:45.551934Z",
     "start_time": "2018-06-14T01:14:45.414977Z"
    },
    "scrolled": false
   },
   "outputs": [
    {
     "data": {
      "text/plain": [
       "<matplotlib.image.AxesImage at 0x7fa8a226f668>"
      ]
     },
     "execution_count": 32,
     "metadata": {},
     "output_type": "execute_result"
    },
    {
     "data": {
      "image/png": "[encoded data removed]",
      "text/plain": [
       "<Figure size 432x288 with 1 Axes>"
      ]
     },
     "metadata": {},
     "output_type": "display_data"
    }
   ],
   "source": [
    "plt.imshow(tmp)"
   ]
  },
  {
   "cell_type": "markdown",
   "metadata": {},
   "source": [
    "# Test model"
   ]
  },
  {
   "cell_type": "markdown",
   "metadata": {},
   "source": [
    "## Train data"
   ]
  },
  {
   "cell_type": "code",
   "execution_count": 33,
   "metadata": {
    "ExecuteTime": {
     "end_time": "2018-06-14T16:38:50.653547Z",
     "start_time": "2018-06-14T16:38:50.646559Z"
    },
    "collapsed": true
   },
   "outputs": [],
   "source": [
    "train_img, train_annotation = data_reader.next_batch(20)"
   ]
  },
  {
   "cell_type": "code",
   "execution_count": 34,
   "metadata": {
    "ExecuteTime": {
     "end_time": "2018-06-14T16:38:51.120707Z",
     "start_time": "2018-06-14T16:38:50.789725Z"
    },
    "collapsed": true
   },
   "outputs": [],
   "source": [
    "prediction = np.argmax(model.predict(train_img), axis=-1) # get the argmax of 124 classes"
   ]
  },
  {
   "cell_type": "code",
   "execution_count": 60,
   "metadata": {
    "ExecuteTime": {
     "end_time": "2018-06-14T16:38:55.566968Z",
     "start_time": "2018-06-14T16:38:55.563167Z"
    },
    "collapsed": true
   },
   "outputs": [],
   "source": [
    "img_id = 17"
   ]
  },
  {
   "cell_type": "code",
   "execution_count": 61,
   "metadata": {
    "ExecuteTime": {
     "end_time": "2018-06-14T16:38:57.127136Z",
     "start_time": "2018-06-14T16:38:56.829534Z"
    }
   },
   "outputs": [
    {
     "data": {
      "text/plain": [
       "Text(0.5,1,'Semantic Prediction')"
      ]
     },
     "execution_count": 61,
     "metadata": {},
     "output_type": "execute_result"
    },
    {
     "data": {
      "image/png": "[encoded data removed]",
      "text/plain": [
       "<Figure size 864x1440 with 3 Axes>"
      ]
     },
     "metadata": {},
     "output_type": "display_data"
    }
   ],
   "source": [
    "plt.figure(figsize=(12,20))\n",
    "plt.subplot(1,3,1)\n",
    "plt.imshow(train_img[img_id,:,:,0], cmap='gray')\n",
    "plt.title(\"Input image\")\n",
    "plt.subplot(1,3,2)\n",
    "plt.imshow(train_annotation[img_id,:,:,0], cmap='gray')\n",
    "plt.title(\"Ground Truth annotation\")\n",
    "plt.subplot(1,3,3)\n",
    "plt.imshow(prediction[img_id,:,:], cmap='gray')\n",
    "plt.title(\"Semantic Prediction\")"
   ]
  },
  {
   "cell_type": "code",
   "execution_count": 37,
   "metadata": {
    "ExecuteTime": {
     "end_time": "2018-06-14T16:39:07.011469Z",
     "start_time": "2018-06-14T16:39:06.984886Z"
    }
   },
   "outputs": [
    {
     "data": {
      "text/plain": [
       "array([  0,   4,   7,   8,   9,  10,  12,  20,  30,  33,  35,  38,  45,\n",
       "        46,  47,  56,  57,  61,  62,  68,  75,  81,  84,  87,  90,  97,\n",
       "        98, 102, 107, 113, 119, 121])"
      ]
     },
     "execution_count": 37,
     "metadata": {},
     "output_type": "execute_result"
    }
   ],
   "source": [
    "np.unique(prediction)"
   ]
  },
  {
   "cell_type": "code",
   "execution_count": 38,
   "metadata": {
    "ExecuteTime": {
     "end_time": "2018-06-14T16:39:13.190089Z",
     "start_time": "2018-06-14T16:39:13.182842Z"
    }
   },
   "outputs": [
    {
     "data": {
      "text/plain": [
       "array([0], dtype=uint8)"
      ]
     },
     "execution_count": 38,
     "metadata": {},
     "output_type": "execute_result"
    }
   ],
   "source": [
    "np.unique(train_annotation[img_id,:,:,0])"
   ]
  },
  {
   "cell_type": "code",
   "execution_count": 39,
   "metadata": {
    "ExecuteTime": {
     "end_time": "2018-06-14T16:39:21.538499Z",
     "start_time": "2018-06-14T16:39:21.534142Z"
    },
    "collapsed": true
   },
   "outputs": [],
   "source": [
    "tmp = np.zeros_like(prediction[img_id,:,:])"
   ]
  },
  {
   "cell_type": "code",
   "execution_count": 40,
   "metadata": {
    "ExecuteTime": {
     "end_time": "2018-06-14T16:39:34.519294Z",
     "start_time": "2018-06-14T16:39:34.481408Z"
    },
    "collapsed": true
   },
   "outputs": [],
   "source": [
    "for i in range(tmp.shape[0]):\n",
    "    for j in range(tmp.shape[1]):\n",
    "        if prediction[img_id,i,j] == 37:\n",
    "            tmp[i,j] = 100\n",
    "        else:\n",
    "            tmp[i,j] = 0"
   ]
  },
  {
   "cell_type": "code",
   "execution_count": 41,
   "metadata": {
    "ExecuteTime": {
     "end_time": "2018-06-14T16:39:35.128944Z",
     "start_time": "2018-06-14T16:39:35.024300Z"
    },
    "scrolled": false
   },
   "outputs": [
    {
     "data": {
      "text/plain": [
       "<matplotlib.image.AxesImage at 0x7fa8b5a98320>"
      ]
     },
     "execution_count": 41,
     "metadata": {},
     "output_type": "execute_result"
    },
    {
     "data": {
      "image/png": "[encoded data removed]",
      "text/plain": [
       "<Figure size 432x288 with 1 Axes>"
      ]
     },
     "metadata": {},
     "output_type": "display_data"
    }
   ],
   "source": [
    "plt.imshow(tmp)"
   ]
  },
  {
   "cell_type": "markdown",
   "metadata": {},
   "source": [
    "## Test data"
   ]
  },
  {
   "cell_type": "code",
   "execution_count": null,
   "metadata": {
    "ExecuteTime": {
     "end_time": "2018-06-14T16:39:47.062459Z",
     "start_time": "2018-06-14T16:39:47.058474Z"
    },
    "collapsed": true
   },
   "outputs": [],
   "source": [
    "test_img, test_annotation = data_reader.get_test_records()"
   ]
  },
  {
   "cell_type": "code",
   "execution_count": null,
   "metadata": {
    "ExecuteTime": {
     "end_time": "2018-06-14T16:39:47.418683Z",
     "start_time": "2018-06-14T16:39:47.065428Z"
    },
    "collapsed": true
   },
   "outputs": [],
   "source": [
    "prediction = np.argmax(model.predict(test_img), axis=-1) # get the argmax of 124 classes"
   ]
  },
  {
   "cell_type": "code",
   "execution_count": null,
   "metadata": {
    "ExecuteTime": {
     "end_time": "2018-06-14T16:40:02.835995Z",
     "start_time": "2018-06-14T16:40:02.832240Z"
    },
    "collapsed": true
   },
   "outputs": [],
   "source": [
    "img_id = 0"
   ]
  },
  {
   "cell_type": "code",
   "execution_count": null,
   "metadata": {
    "ExecuteTime": {
     "end_time": "2018-06-14T16:40:03.262814Z",
     "start_time": "2018-06-14T16:40:02.992993Z"
    },
    "collapsed": true
   },
   "outputs": [],
   "source": [
    "plt.figure(figsize=(12,20))\n",
    "plt.subplot(1,3,1)\n",
    "plt.imshow(test_img[img_id,:,:,0], cmap='gray')\n",
    "plt.title(\"Input image\")\n",
    "plt.subplot(1,3,2)\n",
    "plt.imshow(test_annotation[img_id,:,:,0], cmap='gray')\n",
    "plt.title(\"Ground Truth annotation\")\n",
    "plt.subplot(1,3,3)\n",
    "plt.imshow(prediction[img_id,:,:], cmap='gray')\n",
    "plt.title(\"Semantic Prediction\")"
   ]
  },
  {
   "cell_type": "code",
   "execution_count": null,
   "metadata": {
    "ExecuteTime": {
     "end_time": "2018-06-14T16:40:09.550356Z",
     "start_time": "2018-06-14T16:40:09.524458Z"
    },
    "collapsed": true
   },
   "outputs": [],
   "source": [
    "np.unique(prediction)"
   ]
  },
  {
   "cell_type": "code",
   "execution_count": null,
   "metadata": {
    "ExecuteTime": {
     "end_time": "2018-06-14T16:39:48.175282Z",
     "start_time": "2018-06-14T16:39:48.172340Z"
    },
    "collapsed": true
   },
   "outputs": [],
   "source": [
    "np.unique(test_annotation[img_id,:,:,0])"
   ]
  },
  {
   "cell_type": "code",
   "execution_count": null,
   "metadata": {
    "ExecuteTime": {
     "end_time": "2018-06-14T16:39:48.258704Z",
     "start_time": "2018-06-14T16:39:48.255669Z"
    },
    "collapsed": true
   },
   "outputs": [],
   "source": [
    "tmp = np.zeros_like(prediction[img_id,:,:])"
   ]
  },
  {
   "cell_type": "code",
   "execution_count": null,
   "metadata": {
    "ExecuteTime": {
     "end_time": "2018-06-14T01:14:47.557237Z",
     "start_time": "2018-06-14T01:14:47.461130Z"
    },
    "collapsed": true
   },
   "outputs": [],
   "source": [
    "for i in range(tmp.shape[0]):\n",
    "    for j in range(tmp.shape[1]):\n",
    "        if prediction[img_id,i,j] == 29:\n",
    "            tmp[i,j] = 100\n",
    "        else:\n",
    "            tmp[i,j] = 0"
   ]
  },
  {
   "cell_type": "code",
   "execution_count": null,
   "metadata": {
    "ExecuteTime": {
     "end_time": "2018-06-14T01:14:47.664096Z",
     "start_time": "2018-06-14T01:14:47.558358Z"
    },
    "collapsed": true,
    "scrolled": false
   },
   "outputs": [],
   "source": [
    "plt.imshow(tmp)"
   ]
  },
  {
   "cell_type": "markdown",
   "metadata": {},
   "source": [
    "## Test on our own images"
   ]
  },
  {
   "cell_type": "code",
   "execution_count": 83,
   "metadata": {
    "collapsed": true
   },
   "outputs": [],
   "source": [
    "import cv2\n",
    "test_img = cv2.imread('png_to_annotate/30473_page_2.png',0)\n",
    "test_annot = cv2.imread('annot_png/correct_annotation_1.png',0)"
   ]
  },
  {
   "cell_type": "code",
   "execution_count": 84,
   "metadata": {
    "collapsed": true
   },
   "outputs": [],
   "source": [
    "test_img = cv2.resize(test_img,(250,250))\n",
    "test_annot = cv2.resize(test_annot,(250,250))"
   ]
  },
  {
   "cell_type": "code",
   "execution_count": 85,
   "metadata": {
    "collapsed": true
   },
   "outputs": [],
   "source": [
    "(x,y) = test_img.shape\n",
    "test_img = np.expand_dims(test_img, axis=2)\n",
    "(a,b) = test_annot.shape\n",
    "test_annot = np.expand_dims(test_annot, axis=2)"
   ]
  },
  {
   "cell_type": "code",
   "execution_count": 86,
   "metadata": {},
   "outputs": [
    {
     "data": {
      "text/plain": [
       "(250, 250, 1)"
      ]
     },
     "execution_count": 86,
     "metadata": {},
     "output_type": "execute_result"
    }
   ],
   "source": [
    "test_img.shape"
   ]
  },
  {
   "cell_type": "code",
   "execution_count": 87,
   "metadata": {
    "collapsed": true
   },
   "outputs": [],
   "source": [
    "test_img = np.expand_dims(test_img, axis=0)\n",
    "test_annot = np.expand_dims(test_annot, axis=0)"
   ]
  },
  {
   "cell_type": "code",
   "execution_count": 97,
   "metadata": {
    "collapsed": true
   },
   "outputs": [],
   "source": [
    "prediction = np.argmax(model.predict(test_img), axis=-1) # get the argmax of 124 classes"
   ]
  },
  {
   "cell_type": "code",
   "execution_count": 98,
   "metadata": {
    "collapsed": true
   },
   "outputs": [],
   "source": [
    "img_id = 0"
   ]
  },
  {
   "cell_type": "code",
   "execution_count": 100,
   "metadata": {},
   "outputs": [
    {
     "data": {
      "text/plain": [
       "Text(0.5,1,'Semantic Prediction')"
      ]
     },
     "execution_count": 100,
     "metadata": {},
     "output_type": "execute_result"
    },
    {
     "data": {
      "image/png": "[encoded data removed]",
      "text/plain": [
       "<Figure size 1728x2880 with 3 Axes>"
      ]
     },
     "metadata": {},
     "output_type": "display_data"
    }
   ],
   "source": [
    "plt.figure(figsize=(24,40))\n",
    "plt.subplot(1,3,1)\n",
    "plt.imshow(test_img[img_id,:,:,0][100:200,100:200], cmap='gray')\n",
    "plt.title(\"Input image\")\n",
    "plt.subplot(1,3,2)\n",
    "plt.imshow(test_annot[img_id,:,:,0][100:200,100:200], cmap='gray')\n",
    "plt.title(\"Ground Truth annotation\")\n",
    "plt.subplot(1,3,3)\n",
    "plt.imshow(prediction[img_id,:,:][100:200,100:200], cmap='gray')\n",
    "plt.title(\"Semantic Prediction\")"
   ]
  },
  {
   "cell_type": "markdown",
   "metadata": {},
   "source": [
    "## Finetune"
   ]
  },
  {
   "cell_type": "code",
   "execution_count": 101,
   "metadata": {
    "collapsed": true
   },
   "outputs": [],
   "source": [
    "from keras.preprocessing.image import ImageDataGenerator\n",
    "\n",
    "datagen = ImageDataGenerator(\n",
    "    featurewise_center=True,\n",
    "    featurewise_std_normalization=True,\n",
    "    rotation_range=20,\n",
    "    width_shift_range=0.2,\n",
    "    height_shift_range=0.2,\n",
    "    horizontal_flip=True)"
   ]
  },
  {
   "cell_type": "code",
   "execution_count": 103,
   "metadata": {},
   "outputs": [
    {
     "data": {
      "text/plain": [
       "'/data1/dbashir/Project/Summer 2018'"
      ]
     },
     "execution_count": 103,
     "metadata": {},
     "output_type": "execute_result"
    }
   ],
   "source": [
    "os.getcwd()"
   ]
  },
  {
   "cell_type": "code",
   "execution_count": 104,
   "metadata": {},
   "outputs": [
    {
     "name": "stdout",
     "output_type": "stream",
     "text": [
      "Found 8 images belonging to 4 classes.\n",
      "Found 4 images belonging to 2 classes.\n"
     ]
    }
   ],
   "source": [
    "x_train = datagen.flow_from_directory('train_img/',target_size=(250, 250),\n",
    "        batch_size=2)\n",
    "x_valid = datagen.flow_from_directory('valid_img/',target_size=(250, 250),\n",
    "        batch_size=2)"
   ]
  },
  {
   "cell_type": "code",
   "execution_count": null,
   "metadata": {
    "collapsed": true
   },
   "outputs": [],
   "source": [
    "model.fit(train_data, x_train,\n",
    "          batch_size=1,\n",
    "          nb_epoch=5,\n",
    "          shuffle=True,\n",
    "          verbose=1,\n",
    "          validation_data=(X_valid, Y_valid),\n",
    "          )"
   ]
  },
  {
   "cell_type": "code",
   "execution_count": 171,
   "metadata": {
    "collapsed": true
   },
   "outputs": [],
   "source": [
    "class seg_dataset_reader:\n",
    "    path = \"\"\n",
    "    class_mappings = \"\"\n",
    "    files = []\n",
    "    images = []\n",
    "    annotations = []\n",
    "    test_images = []\n",
    "    test_annotations = []\n",
    "    batch_offset = 0\n",
    "    epochs_completed = 0\n",
    "\n",
    "    def __init__(self, deepscores_path, max_pages=6, crop=True, crop_size=[1000,1000], test_size=2):\n",
    "        \"\"\"\n",
    "        Initialize a file reader for the DeepScores classification data\n",
    "        :param records_list: path to the dataset\n",
    "        sample record: {'image': f, 'annotation': annotation_file, 'filename': filename}\n",
    "        \"\"\"\n",
    "        print(\"Initializing DeepScores Classification Batch Dataset Reader...\")\n",
    "        self.path = deepscores_path\n",
    "        self.max_pages = max_pages\n",
    "        self.crop = crop\n",
    "        self.crop_size = crop_size\n",
    "        self.test_size = test_size\n",
    "\n",
    "        images_list = []\n",
    "        images_glob = os.path.join(self.path, \"img_png\", '*.' + 'png')\n",
    "        images_list.extend(glob.glob(images_glob))\n",
    "\n",
    "        #shuffle image list\n",
    "        shuffle(images_list)\n",
    "\n",
    "        if max_pages is None:\n",
    "            max_pages = len(images_list)\n",
    "            import sys\n",
    "            sys.exit(1)\n",
    "\n",
    "        if max_pages > len(images_list):\n",
    "            print(\"Not enough data, only \" + str(len(images_list)) + \" available\")\n",
    "\n",
    "        if test_size >= max_pages:\n",
    "            print(\"Test set too big (\"+str(test_size)+\"), max_pages is: \"+str(max_pages))\n",
    "            import sys\n",
    "            sys.exit(1)\n",
    "\n",
    "        print(\"Splitting dataset, train: \"+str(max_pages-test_size)+\" images, test: \"+str(test_size)+ \" images\")\n",
    "        test_image_list = images_list[0:test_size]\n",
    "        train_image_list = images_list[test_size:max_pages]\n",
    "\n",
    "        # test_annotation_list = [image_file.replace(\"/images_png/\", \"/pix_annotations_png/\") for image_file in test_image_list]\n",
    "        # train_annotation_list = [image_file.replace(\"/images_png/\", \"/pix_annotations_png/\") for image_file in train_image_list]\n",
    "\n",
    "        self._read_images(test_image_list,train_image_list)\n",
    "\n",
    "    def _read_images(self,test_image_list,train_image_list):\n",
    "\n",
    "        dat_train = [self._transform(filename) for filename in train_image_list]\n",
    "        for dat in dat_train:\n",
    "            self.images.append(dat[0])\n",
    "            self.annotations.append(dat[1])\n",
    "            \n",
    "        #below commented out by Daniel\n",
    "        \n",
    "        self.images = np.array(self.images)\n",
    "        print(\"size before expand: \" + str(self.images.shape))\n",
    "        self.images = np.expand_dims(self.images, -1)\n",
    "        print(\"after expand: \" + str(self.images.shape))\n",
    "\n",
    "        self.annotations = np.array(self.annotations)\n",
    "        print(\"annot size before expand: \" + str(self.annotations.shape))\n",
    "        self.annotations = np.expand_dims(self.annotations, -1)\n",
    "        print(\"annot after expand: \" + str(self.annotations.shape))\n",
    "\n",
    "        print(\"Training set done\")\n",
    "        dat_test = [self._transform(filename) for filename in test_image_list]\n",
    "        for dat in dat_test:\n",
    "            self.test_images.append(dat[0])\n",
    "            self.test_annotations.append(dat[1])\n",
    "        self.test_images = np.array(self.test_images)\n",
    "        self.test_images = np.expand_dims(self.test_images, -1)\n",
    "\n",
    "        self.test_annotations = np.array(self.test_annotations)\n",
    "        self.test_annotations = np.expand_dims(self.test_annotations, -1)\n",
    "        print(\"Test set done\")\n",
    "\n",
    "\n",
    "    def _transform(self, filename):\n",
    "        print(\"file name is : \" + filename)\n",
    "        image = misc.imread(filename)\n",
    "        annotation = misc.imread(filename.replace(\"/img_png/\", \"/annot_png/\"))\n",
    "        print(\"im working!\" + str(randint(0,10)))\n",
    "        if not image.shape[0:2] == annotation.shape[0:2]:\n",
    "            print(\"input and annotation have different sizes!\")\n",
    "            import sys\n",
    "            import pdb\n",
    "            pdb.set_trace()\n",
    "            sys.exit(1)\n",
    "\n",
    "#         if image.shape[-1] != 1:\n",
    "#             # take mean over color channels, image BW anyways --> fix in dataset creation\n",
    "#             image = np.mean(image, -1)\n",
    "#         if image.shape[-1] != 1:\n",
    "#             image = np.expand_dims(image, axis=2)\n",
    "            \n",
    "#         #added by me\n",
    "#         if annotation.shape[-1] != 1:\n",
    "#             annotation = np.expand_dims(annotation, axis=2)\n",
    "\n",
    "        if self.crop:\n",
    "            print(\"image shape is: \" + str(image.shape))\n",
    "            coord_0 = randint(0, (image.shape[0] - self.crop_size[0]))\n",
    "            coord_1 = randint(0, (image.shape[1] - self.crop_size[1]))\n",
    "\n",
    "            image = image[coord_0:(coord_0+self.crop_size[0]),coord_1:(coord_1+self.crop_size[1])]\n",
    "            annotation = annotation[coord_0:(coord_0 + self.crop_size[0]), coord_1:(coord_1 + self.crop_size[1])]\n",
    "\n",
    "        return [image, annotation]\n",
    "\n",
    "    # from PIL import Image\n",
    "    # im = Image.fromarray(image)\n",
    "    # im.show()\n",
    "    # im = Image.fromarray(annotation)\n",
    "    # im.show()\n",
    "\n",
    "\n",
    "    def get_records(self):\n",
    "        return self.images, self.annotations\n",
    "\n",
    "    def reset_batch_offset(self, offset=0):\n",
    "        self.batch_offset = offset\n",
    "\n",
    "    def get_test_records(self):\n",
    "        return self.test_images, self.test_annotations\n",
    "\n",
    "    def next_batch(self, batch_size):\n",
    "        start = self.batch_offset\n",
    "        self.batch_offset += batch_size\n",
    "        if self.batch_offset > self.images.shape[0]:\n",
    "            # Finished epoch\n",
    "            self.epochs_completed += 1\n",
    "            #             print(\"****************** Epochs completed: \" + str(self.epochs_completed) + \"******************\")\n",
    "            # Shuffle the data\n",
    "            perm = np.arange(self.images.shape[0])\n",
    "            np.random.shuffle(perm)\n",
    "            self.images = self.images[perm]\n",
    "            self.annotations = self.annotations[perm]\n",
    "            # Start next epoch\n",
    "            start = 0\n",
    "            self.batch_offset = batch_size\n",
    "\n",
    "        end = self.batch_offset\n",
    "        return self.images[start:end], self.annotations[start:end]\n",
    "\n",
    "    def get_random_batch(self, batch_size):\n",
    "        indexes = np.random.randint(0, self.images.shape[0], size=[batch_size]).tolist()\n",
    "        return self.images[indexes], self.annotations[indexes]"
   ]
  },
  {
   "cell_type": "code",
   "execution_count": 172,
   "metadata": {},
   "outputs": [
    {
     "name": "stdout",
     "output_type": "stream",
     "text": [
      "Initializing DeepScores Classification Batch Dataset Reader...\n",
      "Splitting dataset, train: 4 images, test: 2 images\n",
      "file name is : /data1/dbashir/Project/Summer 2018/img_png/1.png\n",
      "im working!10\n",
      "image shape is: (842, 595)\n",
      "file name is : /data1/dbashir/Project/Summer 2018/img_png/6.png\n",
      "im working!6\n",
      "image shape is: (864, 648)\n",
      "file name is : /data1/dbashir/Project/Summer 2018/img_png/2.png\n",
      "im working!2\n",
      "image shape is: (792, 595)\n",
      "file name is : /data1/dbashir/Project/Summer 2018/img_png/5.png\n",
      "im working!4\n",
      "image shape is: (792, 612)\n",
      "size before expand: (4, 250, 250)\n",
      "after expand: (4, 250, 250, 1)\n",
      "annot size before expand: (4, 250, 250)\n",
      "annot after expand: (4, 250, 250, 1)\n",
      "Training set done\n",
      "file name is : /data1/dbashir/Project/Summer 2018/img_png/3.png\n",
      "im working!6\n",
      "image shape is: (842, 595)\n",
      "file name is : /data1/dbashir/Project/Summer 2018/img_png/4.png\n",
      "im working!2\n",
      "image shape is: (792, 612)\n",
      "Test set done\n"
     ]
    },
    {
     "name": "stderr",
     "output_type": "stream",
     "text": [
      "/home/dbashir/anaconda2/envs/py36/lib/python3.6/site-packages/ipykernel/__main__.py:88: DeprecationWarning: `imread` is deprecated!\n",
      "`imread` is deprecated in SciPy 1.0.0, and will be removed in 1.2.0.\n",
      "Use ``imageio.imread`` instead.\n",
      "/home/dbashir/anaconda2/envs/py36/lib/python3.6/site-packages/ipykernel/__main__.py:89: DeprecationWarning: `imread` is deprecated!\n",
      "`imread` is deprecated in SciPy 1.0.0, and will be removed in 1.2.0.\n",
      "Use ``imageio.imread`` instead.\n"
     ]
    }
   ],
   "source": [
    "data_reader = seg_dataset_reader('/data1/dbashir/Project/Summer 2018/',\n",
    "                                 crop=True, crop_size=[250,250])"
   ]
  },
  {
   "cell_type": "code",
   "execution_count": 197,
   "metadata": {
    "collapsed": true
   },
   "outputs": [],
   "source": [
    "NUM_ITERATION = 2000\n",
    "PRINT_EVERY_ITR = 100"
   ]
  },
  {
   "cell_type": "code",
   "execution_count": 198,
   "metadata": {},
   "outputs": [
    {
     "name": "stdout",
     "output_type": "stream",
     "text": [
      "Finish Iteration 0\n",
      "Finish Iteration 100\n",
      "Finish Iteration 200\n",
      "Finish Iteration 300\n",
      "Finish Iteration 400\n",
      "Finish Iteration 500\n",
      "Finish Iteration 600\n",
      "Finish Iteration 700\n",
      "Finish Iteration 800\n",
      "Finish Iteration 900\n",
      "Finish Iteration 1000\n",
      "Finish Iteration 1100\n",
      "Finish Iteration 1200\n",
      "Finish Iteration 1300\n",
      "Finish Iteration 1400\n",
      "Finish Iteration 1500\n",
      "Finish Iteration 1600\n",
      "Finish Iteration 1700\n",
      "Finish Iteration 1800\n",
      "Finish Iteration 1900\n",
      "Finish Iteration 2000\n",
      "Finish Iteration 2100\n",
      "Finish Iteration 2200\n",
      "Finish Iteration 2300\n",
      "Finish Iteration 2400\n",
      "Finish Iteration 2500\n",
      "Finish Iteration 2600\n",
      "Finish Iteration 2700\n",
      "Finish Iteration 2800\n",
      "Finish Iteration 2900\n",
      "Finish Iteration 3000\n",
      "Finish Iteration 3100\n",
      "Finish Iteration 3200\n",
      "Finish Iteration 3300\n",
      "Finish Iteration 3400\n",
      "Finish Iteration 3500\n",
      "Finish Iteration 3600\n",
      "Finish Iteration 3700\n",
      "Finish Iteration 3800\n",
      "Finish Iteration 3900\n",
      "Finish Iteration 4000\n",
      "Finish Iteration 4100\n",
      "Finish Iteration 4200\n",
      "Finish Iteration 4300\n",
      "Finish Iteration 4400\n",
      "Finish Iteration 4500\n",
      "Finish Iteration 4600\n",
      "Finish Iteration 4700\n",
      "Finish Iteration 4800\n",
      "Finish Iteration 4900\n",
      "Finish Iteration 5000\n",
      "Finish Iteration 5100\n",
      "Finish Iteration 5200\n",
      "Finish Iteration 5300\n",
      "Finish Iteration 5400\n",
      "Finish Iteration 5500\n",
      "Finish Iteration 5600\n",
      "Finish Iteration 5700\n",
      "Finish Iteration 5800\n",
      "Finish Iteration 5900\n"
     ]
    }
   ],
   "source": [
    "for itr in range(NUM_ITERATION):\n",
    "    train_img, train_annotation = data_reader.next_batch(1)\n",
    "    val_img, val_annotation = data_reader.get_test_records()\n",
    "    history = model.fit(x=train_img, y=train_annotation, verbose=False, validation_data=(val_img, val_annotation))\n",
    "    for key in history.history:\n",
    "        value = history.history[key]\n",
    "        hist[key].append(value)\n",
    "        \n",
    "    if itr % PRINT_EVERY_ITR == 0:\n",
    "        print(\"Finish Iteration {:}\".format(itr))"
   ]
  },
  {
   "cell_type": "code",
   "execution_count": 199,
   "metadata": {},
   "outputs": [
    {
     "data": {
      "image/png": "[encoded data removed]",
      "text/plain": [
       "<Figure size 1440x432 with 2 Axes>"
      ]
     },
     "metadata": {},
     "output_type": "display_data"
    }
   ],
   "source": [
    "plt.figure(figsize=(20,6))\n",
    "plt.subplot(1,2,1)\n",
    "plt.plot(hist['loss'], label='training')\n",
    "plt.plot(hist['val_loss'], label='validation')\n",
    "plt.title('Loss')\n",
    "plt.legend()\n",
    "plt.yscale('log')\n",
    "plt.xlabel('Epochs')\n",
    "\n",
    "plt.subplot(1,2,2)\n",
    "plt.plot(hist['acc'], label='training')\n",
    "plt.plot(hist['val_acc'], label='validation')\n",
    "plt.title('Accuracy')\n",
    "plt.legend()\n",
    "plt.xlabel('Epochs')\n",
    "\n",
    "plt.show()"
   ]
  },
  {
   "cell_type": "code",
   "execution_count": 176,
   "metadata": {
    "collapsed": true
   },
   "outputs": [],
   "source": [
    "import cv2\n",
    "test_img = cv2.imread('img_png/1.png',0)\n",
    "test_annot = cv2.imread('annot_png/1_annot.png',0)"
   ]
  },
  {
   "cell_type": "code",
   "execution_count": 193,
   "metadata": {
    "collapsed": true
   },
   "outputs": [],
   "source": [
    "test_img, test_annotation = data_reader.get_test_records()"
   ]
  },
  {
   "cell_type": "code",
   "execution_count": 194,
   "metadata": {
    "collapsed": true
   },
   "outputs": [],
   "source": [
    "prediction = np.argmax(model.predict(test_img), axis=-1) # get the argmax of 124 classes"
   ]
  },
  {
   "cell_type": "code",
   "execution_count": 195,
   "metadata": {
    "collapsed": true
   },
   "outputs": [],
   "source": [
    "img_id = 0"
   ]
  },
  {
   "cell_type": "code",
   "execution_count": 196,
   "metadata": {},
   "outputs": [
    {
     "data": {
      "text/plain": [
       "Text(0.5,1,'Semantic Prediction')"
      ]
     },
     "execution_count": 196,
     "metadata": {},
     "output_type": "execute_result"
    },
    {
     "data": {
      "image/png": "[encoded data removed]",
      "text/plain": [
       "<Figure size 1728x2880 with 3 Axes>"
      ]
     },
     "metadata": {},
     "output_type": "display_data"
    }
   ],
   "source": [
    "plt.figure(figsize=(24,40))\n",
    "plt.subplot(1,3,1)\n",
    "plt.imshow(test_img[img_id,:,:,0], cmap='gray')\n",
    "plt.title(\"Input image\")\n",
    "plt.subplot(1,3,2)\n",
    "plt.imshow(test_annotation[img_id,:,:,0], cmap='gray')\n",
    "plt.title(\"Ground Truth annotation\")\n",
    "plt.subplot(1,3,3)\n",
    "plt.imshow(prediction[img_id,:,:], cmap='gray')\n",
    "plt.title(\"Semantic Prediction\")"
   ]
  },
  {
   "cell_type": "code",
   "execution_count": null,
   "metadata": {
    "collapsed": true
   },
   "outputs": [],
   "source": []
  }
 ],
 "metadata": {
  "kernelspec": {
   "display_name": "Python [conda env:py36]",
   "language": "python",
   "name": "conda-env-py36-py"
  },
  "language_info": {
   "codemirror_mode": {
    "name": "ipython",
    "version": 3
   },
   "file_extension": ".py",
   "mimetype": "text/x-python",
   "name": "python",
   "nbconvert_exporter": "python",
   "pygments_lexer": "ipython3",
   "version": "3.6.4"
  },
  "latex_envs": {
   "LaTeX_envs_menu_present": true,
   "autoclose": false,
   "autocomplete": true,
   "bibliofile": "biblio.bib",
   "cite_by": "apalike",
   "current_citInitial": 1,
   "eqLabelWithNumbers": true,
   "eqNumInitial": 1,
   "hotkeys": {
    "equation": "Ctrl-E",
    "itemize": "Ctrl-I"
   },
   "labels_anchors": false,
   "latex_user_defs": false,
   "report_style_numbering": false,
   "user_envs_cfg": false
  },
  "toc": {
   "nav_menu": {},
   "number_sections": true,
   "sideBar": true,
   "skip_h1_title": false,
   "title_cell": "Table of Contents",
   "title_sidebar": "Contents",
   "toc_cell": false,
   "toc_position": {},
   "toc_section_display": true,
   "toc_window_display": false
  },
  "varInspector": {
   "cols": {
    "lenName": 16,
    "lenType": 16,
    "lenVar": 40
   },
   "kernels_config": {
    "python": {
     "delete_cmd_postfix": "",
     "delete_cmd_prefix": "del ",
     "library": "var_list.py",
     "varRefreshCmd": "print(var_dic_list())"
    },
    "r": {
     "delete_cmd_postfix": ") ",
     "delete_cmd_prefix": "rm(",
     "library": "var_list.r",
     "varRefreshCmd": "cat(var_dic_list()) "
    }
   },
   "types_to_exclude": [
    "module",
    "function",
    "builtin_function_or_method",
    "instance",
    "_Feature"
   ],
   "window_display": false
  }
 },
 "nbformat": 4,
 "nbformat_minor": 2
}
