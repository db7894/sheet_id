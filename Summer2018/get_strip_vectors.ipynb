{
 "cells": [
  {
   "cell_type": "code",
   "execution_count": 1,
   "metadata": {
    "collapsed": true
   },
   "outputs": [],
   "source": [
    "import numpy as np\n",
    "from scipy.spatial.distance import cdist\n",
    "from scipy import ndimage\n",
    "from scipy import signal\n",
    "from scipy.stats import linregress\n",
    "from scipy.signal import convolve2d, gaussian, argrelextrema\n",
    "from scipy.interpolate import interp1d\n",
    "from sklearn.preprocessing import normalize\n",
    "from skimage.transform import rotate\n",
    "import matplotlib.pyplot as plt\n",
    "import matplotlib.patches as patches\n",
    "import pickle as cPickle\n",
    "import librosa\n",
    "import glob\n",
    "import re\n",
    "import sys\n",
    "import os\n",
    "import mido\n",
    "from mido import MidiFile\n",
    "import cv2\n",
    "from PIL import Image"
   ]
  },
  {
   "cell_type": "markdown",
   "metadata": {},
   "source": [
    "# Strip Analysis Functions"
   ]
  },
  {
   "cell_type": "code",
   "execution_count": 2,
   "metadata": {
    "collapsed": true
   },
   "outputs": [],
   "source": [
    "def locateStaffLines(s, delta = 3):\n",
    "    medvals = np.median(s, axis=1)\n",
    "    for i, curVal in enumerate(medvals):\n",
    "        if i > delta and i < len(medvals)-delta:\n",
    "            if curVal != np.max(medvals[i-delta:i+delta+1]): # only keep local maxima\n",
    "                medvals[i] = 0\n",
    "    idxs_sorted_val = np.argsort(medvals)[::-1]\n",
    "    idxs_lines = sorted(idxs_sorted_val[0:10])\n",
    "    return np.array(idxs_lines)"
   ]
  },
  {
   "cell_type": "code",
   "execution_count": 3,
   "metadata": {
    "collapsed": true
   },
   "outputs": [],
   "source": [
    "def estimateMidiNum2PixelRowMapping(s, lineIdxs, hand = 'right'):\n",
    "    if hand == 'right':\n",
    "        x = np.array([77, 74, 71, 67, 64]) # midi nums for staff lines\n",
    "    elif hand == 'left':\n",
    "        x = np.array([57, 53, 50, 47, 43])\n",
    "    else:\n",
    "        print('Unrecognized value for hand: %s' % hand)\n",
    "        sys.exit(1)\n",
    "    m, b, _, _, _ = linregress(x, lineIdxs)\n",
    "    return (m,b)"
   ]
  },
  {
   "cell_type": "code",
   "execution_count": 4,
   "metadata": {
    "collapsed": true
   },
   "outputs": [],
   "source": [
    "def estimatePixelRow(midinum, m, b):\n",
    "    return np.int(np.round(midinum * m + b))"
   ]
  },
  {
   "cell_type": "code",
   "execution_count": null,
   "metadata": {
    "collapsed": true
   },
   "outputs": [],
   "source": []
  }
 ],
 "metadata": {
  "kernelspec": {
   "display_name": "Python [conda env:py36]",
   "language": "python",
   "name": "conda-env-py36-py"
  },
  "language_info": {
   "codemirror_mode": {
    "name": "ipython",
    "version": 3
   },
   "file_extension": ".py",
   "mimetype": "text/x-python",
   "name": "python",
   "nbconvert_exporter": "python",
   "pygments_lexer": "ipython3",
   "version": "3.6.4"
  }
 },
 "nbformat": 4,
 "nbformat_minor": 2
}
