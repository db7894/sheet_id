{
 "cells": [
  {
   "cell_type": "code",
   "execution_count": 6,
   "metadata": {
    "collapsed": true
   },
   "outputs": [],
   "source": [
    "import os\n",
    "import sys\n",
    "from glob import glob\n",
    "import numpy as np\n",
    "sys.path.insert(0,'/data1/dbashir/Project/Summer2018/DeepWatershedDetection/data/DeepScores_2017/segmentation_detection/')"
   ]
  },
  {
   "cell_type": "code",
   "execution_count": 2,
   "metadata": {
    "collapsed": true
   },
   "outputs": [],
   "source": [
    "namesList = []"
   ]
  },
  {
   "cell_type": "code",
   "execution_count": 10,
   "metadata": {},
   "outputs": [],
   "source": [
    "g = glob('../segmentation_detection/images_png/*.png')\n",
    "shuf = np.random.permutation(g)\n",
    "for i in range(9000): namesList.append(shuf[i])"
   ]
  },
  {
   "cell_type": "code",
   "execution_count": 11,
   "metadata": {},
   "outputs": [
    {
     "data": {
      "text/plain": [
       "['../segmentation_detection/images_png/lg-107527385-aug-beethoven--page-1.png',\n",
       " '../segmentation_detection/images_png/lg-276783903445570616-aug-gutenberg1939-.png',\n",
       " '../segmentation_detection/images_png/lg-17227827910859879-aug-gonville--page-2.png',\n",
       " '../segmentation_detection/images_png/lg-418689487734764826-aug-gutenberg1939--page-39.png',\n",
       " '../segmentation_detection/images_png/lg-479192489339334588-aug-gonville-.png',\n",
       " '../segmentation_detection/images_png/lg-91665999-aug-beethoven--page-1.png']"
      ]
     },
     "execution_count": 11,
     "metadata": {},
     "output_type": "execute_result"
    }
   ],
   "source": [
    "namesList[0:6]"
   ]
  },
  {
   "cell_type": "code",
   "execution_count": 20,
   "metadata": {},
   "outputs": [
    {
     "data": {
      "text/plain": [
       "'lg-107527385-aug-beethoven--page-1.png'"
      ]
     },
     "execution_count": 20,
     "metadata": {},
     "output_type": "execute_result"
    }
   ],
   "source": [
    "namesList[0][37:]"
   ]
  },
  {
   "cell_type": "code",
   "execution_count": 21,
   "metadata": {
    "collapsed": true
   },
   "outputs": [],
   "source": [
    "for i in range(len(namesList)):\n",
    "    namesList[i] = namesList[i][37:]"
   ]
  },
  {
   "cell_type": "code",
   "execution_count": 22,
   "metadata": {},
   "outputs": [
    {
     "data": {
      "text/plain": [
       "['lg-107527385-aug-beethoven--page-1.png',\n",
       " 'lg-276783903445570616-aug-gutenberg1939-.png',\n",
       " 'lg-17227827910859879-aug-gonville--page-2.png',\n",
       " 'lg-418689487734764826-aug-gutenberg1939--page-39.png',\n",
       " 'lg-479192489339334588-aug-gonville-.png',\n",
       " 'lg-91665999-aug-beethoven--page-1.png']"
      ]
     },
     "execution_count": 22,
     "metadata": {},
     "output_type": "execute_result"
    }
   ],
   "source": [
    "namesList[0:6]"
   ]
  },
  {
   "cell_type": "code",
   "execution_count": 24,
   "metadata": {},
   "outputs": [],
   "source": [
    "trainFile = open('train.txt', 'w')\n",
    "for item in namesList:\n",
    "    trainFile.write(\"%s\\n\" % item)"
   ]
  },
  {
   "cell_type": "code",
   "execution_count": 26,
   "metadata": {},
   "outputs": [],
   "source": [
    "trainFile.close()"
   ]
  },
  {
   "cell_type": "code",
   "execution_count": 27,
   "metadata": {
    "collapsed": true
   },
   "outputs": [],
   "source": [
    "valList = []"
   ]
  },
  {
   "cell_type": "code",
   "execution_count": 28,
   "metadata": {
    "collapsed": true
   },
   "outputs": [],
   "source": [
    "g = glob('../segmentation_detection/images_png/*.png')\n",
    "shuf = np.random.permutation(g)\n",
    "for i in range(len(shuf)): valList.append(shuf[i])"
   ]
  },
  {
   "cell_type": "code",
   "execution_count": 29,
   "metadata": {},
   "outputs": [
    {
     "data": {
      "text/plain": [
       "10000"
      ]
     },
     "execution_count": 29,
     "metadata": {},
     "output_type": "execute_result"
    }
   ],
   "source": [
    "len(valList)"
   ]
  },
  {
   "cell_type": "code",
   "execution_count": 33,
   "metadata": {
    "collapsed": true
   },
   "outputs": [],
   "source": [
    "for i in range(len(valList)):\n",
    "    valList[i] = valList[i][37:]"
   ]
  },
  {
   "cell_type": "code",
   "execution_count": 38,
   "metadata": {},
   "outputs": [
    {
     "data": {
      "text/plain": [
       "['lg-732849629790439689-aug-emmentaler--page-111.png',\n",
       " 'lg-8109487813570995-aug-beethoven--page-126.png',\n",
       " 'lg-181807641-aug-gutenberg1939--page-2.png',\n",
       " 'lg-179132573442985406-aug-gonville--page-3.png',\n",
       " 'lg-202469274-aug-gonville--page-3.png',\n",
       " 'lg-72674210-aug-emmentaler-.png',\n",
       " 'lg-134359867-aug-beethoven--page-1.png',\n",
       " 'lg-91688491-aug-beethoven--page-23.png',\n",
       " 'lg-156462669734787890-aug-gonville--page-4.png',\n",
       " 'lg-103934383-aug-gutenberg1939--page-1.png',\n",
       " 'lg-70419915686205017-aug-lilyjazz--page-6.png',\n",
       " 'lg-35758059-aug-gonville--page-6.png',\n",
       " 'lg-122709843-aug-lilyjazz--page-4.png',\n",
       " 'lg-151280981-aug-beethoven--page-11.png',\n",
       " 'lg-131731863-aug-gutenberg1939-.png',\n",
       " 'lg-214197992-aug-lilyjazz--page-581.png',\n",
       " 'lg-276703905938776562-aug-beethoven--page-15.png',\n",
       " 'lg-618731093531331514-aug-lilyjazz--page-15.png',\n",
       " 'lg-115790975-aug-gutenberg1939--page-398.png',\n",
       " 'lg-87782122060040769-aug-gonville--page-2.png']"
      ]
     },
     "execution_count": 38,
     "metadata": {},
     "output_type": "execute_result"
    }
   ],
   "source": [
    "valList[5000:5020]"
   ]
  },
  {
   "cell_type": "code",
   "execution_count": 53,
   "metadata": {
    "collapsed": true
   },
   "outputs": [],
   "source": [
    "for item in valList:\n",
    "    if item in namesList:\n",
    "        valList.remove(item)"
   ]
  },
  {
   "cell_type": "code",
   "execution_count": 54,
   "metadata": {},
   "outputs": [
    {
     "data": {
      "text/plain": [
       "1000"
      ]
     },
     "execution_count": 54,
     "metadata": {},
     "output_type": "execute_result"
    }
   ],
   "source": [
    "len(valList)"
   ]
  },
  {
   "cell_type": "code",
   "execution_count": 55,
   "metadata": {},
   "outputs": [
    {
     "data": {
      "text/plain": [
       "['lg-169749228-aug-gutenberg1939--page-10.png',\n",
       " 'lg-108788705-aug-gutenberg1939--page-6.png',\n",
       " 'lg-18110940-aug-gutenberg1939--page-21.png',\n",
       " 'lg-135507594-aug-lilyjazz--page-3.png',\n",
       " 'lg-164575485-aug-beethoven--page-1.png',\n",
       " 'lg-526273956179939848-aug-gonville--page-1.png',\n",
       " 'lg-212163241-aug-gutenberg1939--page-10.png',\n",
       " 'lg-41966083-aug-beethoven--page-4.png',\n",
       " 'lg-26350165-aug-gonville--page-29.png',\n",
       " 'lg-87598089371542780-aug-beethoven-.png']"
      ]
     },
     "execution_count": 55,
     "metadata": {},
     "output_type": "execute_result"
    }
   ],
   "source": [
    "valList[0:10]"
   ]
  },
  {
   "cell_type": "code",
   "execution_count": 56,
   "metadata": {
    "collapsed": true
   },
   "outputs": [],
   "source": [
    "valFile = open('debug.txt', 'w')\n",
    "for item in valList:\n",
    "    valFile.write(\"%s\\n\" % item)"
   ]
  },
  {
   "cell_type": "code",
   "execution_count": 57,
   "metadata": {
    "collapsed": true
   },
   "outputs": [],
   "source": [
    "valFile.close()"
   ]
  },
  {
   "cell_type": "code",
   "execution_count": null,
   "metadata": {
    "collapsed": true
   },
   "outputs": [],
   "source": []
  }
 ],
 "metadata": {
  "kernelspec": {
   "display_name": "Python [conda env:py36]",
   "language": "python",
   "name": "conda-env-py36-py"
  },
  "language_info": {
   "codemirror_mode": {
    "name": "ipython",
    "version": 3
   },
   "file_extension": ".py",
   "mimetype": "text/x-python",
   "name": "python",
   "nbconvert_exporter": "python",
   "pygments_lexer": "ipython3",
   "version": "3.6.4"
  }
 },
 "nbformat": 4,
 "nbformat_minor": 2
}
