{
 "cells": [
  {
   "cell_type": "code",
   "execution_count": 1,
   "metadata": {},
   "outputs": [
    {
     "name": "stderr",
     "output_type": "stream",
     "text": [
      "/home/dbashir/anaconda2/envs/py36/lib/python3.6/importlib/_bootstrap.py:219: RuntimeWarning: compiletime version 3.5 of module 'tensorflow.python.framework.fast_tensor_util' does not match runtime version 3.6\n",
      "  return f(*args, **kwds)\n"
     ]
    }
   ],
   "source": [
    "#\n",
    "# Pretrain resnet 50 / 101 / 152 with deepscores-classification\n",
    "#\n",
    "import sys\n",
    "sys.path.insert(0,'/data1/dbashir/Project/Summer2018/DeepWatershedDetection/lib/main/')\n",
    "sys.path.insert(0,'/data1/dbashir/Project/Summer2018/DeepWatershedDetection/lib/datasets/')\n",
    "\n",
    "import argparse\n",
    "from config import cfg\n",
    "#, cfg_from_file, cfg_from_list, get_output_dir, get_output_tb_dir\n",
    "import pprint\n",
    "import numpy as np\n",
    "import deepscores_classification_datareader\n",
    "from imdb import imdb\n",
    "import tensorflow as tf\n",
    "\n",
    "import os\n",
    "\n",
    "import tensorflow.contrib.slim as slim\n",
    "import tensorflow.contrib.slim.nets as nets\n",
    "\n",
    "resnet_v1 = nets.resnet_v1"
   ]
  },
  {
   "cell_type": "code",
   "execution_count": 2,
   "metadata": {
    "collapsed": true
   },
   "outputs": [],
   "source": [
    "def parse_args():\n",
    "  \"\"\"\n",
    "  Parse input arguments\n",
    "  \"\"\"\n",
    "  parser = argparse.ArgumentParser(description='Train ResNets on DeepScores-classification')\n",
    "  parser.add_argument('--cfg', dest='cfg_file',\n",
    "                      help='optional config file',\n",
    "                      default=None, type=str)\n",
    "  parser.add_argument('--weight', dest='weight',\n",
    "                      help='initialize with pretrained model weights if possible',\n",
    "                      default=True, type=bool)\n",
    "  parser.add_argument('--iters', dest='max_iters',\n",
    "                      help='number of iterations to train',\n",
    "                      default=70000, type=int)\n",
    "  parser.add_argument('--tag', dest='tag',\n",
    "                      help='tag of the model',\n",
    "                      default=None, type=str)\n",
    "  parser.add_argument('--net', dest='net',\n",
    "                      help='res50, res101, res152',\n",
    "                      default='res50', type=str)\n",
    "  parser.add_argument('--train', dest='train',\n",
    "                      help=\"set to train mode true/false\",\n",
    "                      default=True, type=bool)\n",
    "  parser.add_argument('--batch_size', dest='batch_size',\n",
    "                      help=\"batchsize\",\n",
    "                      default=200, type=int)\n",
    "  parser.add_argument('--save_iters', dest='save_iters',\n",
    "                      help=\"after how many iterations do we save the model\",\n",
    "                      default=1000, type=int)\n",
    "  parser.add_argument('--continue', dest='continue_training',\n",
    "                      help=\"continue training\",\n",
    "                      default=True, type=bool)\n",
    "  parser.add_argument('--set', dest='set_cfgs',\n",
    "                      help='set config keys', default=None,\n",
    "                      nargs=argparse.REMAINDER)\n",
    "  parser.add_argument('--img_height', dest='img_height',\n",
    "                      help='set config keys',default=220, type=int)\n",
    "  parser.add_argument('--img_with', dest='img_with',\n",
    "                      help='set config keys', default=120, type=int)\n",
    "\n",
    "\n",
    "  # if len(sys.argv) == 1:\n",
    "  #   parser.print_help()\n",
    "  #   sys.exit(1)\n",
    "\n",
    "  args = parser.parse_args()\n",
    "  return args"
   ]
  },
  {
   "cell_type": "code",
   "execution_count": 3,
   "metadata": {},
   "outputs": [
    {
     "name": "stderr",
     "output_type": "stream",
     "text": [
      "usage: __main__.py [-h] [--cfg CFG_FILE] [--weight WEIGHT] [--iters MAX_ITERS]\n",
      "                   [--tag TAG] [--net NET] [--train TRAIN]\n",
      "                   [--batch_size BATCH_SIZE] [--save_iters SAVE_ITERS]\n",
      "                   [--continue CONTINUE_TRAINING] [--set ...]\n",
      "                   [--img_height IMG_HEIGHT] [--img_with IMG_WITH]\n",
      "__main__.py: error: unrecognized arguments: -f /run/user/1009/jupyter/kernel-90483fda-c541-4527-9973-384f9ffec390.json\n"
     ]
    },
    {
     "ename": "SystemExit",
     "evalue": "2",
     "output_type": "error",
     "traceback": [
      "An exception has occurred, use %tb to see the full traceback.\n",
      "\u001b[0;31mSystemExit\u001b[0m\u001b[0;31m:\u001b[0m 2\n"
     ]
    },
    {
     "name": "stderr",
     "output_type": "stream",
     "text": [
      "/home/dbashir/anaconda2/envs/py36/lib/python3.6/site-packages/IPython/core/interactiveshell.py:2918: UserWarning: To exit: use 'exit', 'quit', or Ctrl-D.\n",
      "  warn(\"To exit: use 'exit', 'quit', or Ctrl-D.\", stacklevel=1)\n"
     ]
    }
   ],
   "source": [
    "if __name__ == '__main__':\n",
    "    args = parse_args()\n",
    "\n",
    "    print('Called with args:')\n",
    "    print(args)\n",
    "\n",
    "    if args.cfg_file is not None:\n",
    "        cfg_from_file(args.cfg_file)\n",
    "    if args.set_cfgs is not None:\n",
    "        cfg_from_list(args.set_cfgs)\n",
    "\n",
    "    print('Using config:')\n",
    "    pprint.pprint(cfg)\n",
    "\n",
    "    np.random.seed(cfg.RNG_SEED)\n",
    "\n",
    "    img_size = resnet_v1.resnet_v1.default_image_size\n",
    "\n",
    "    # train set\n",
    "    print(\"Setting up image reader...\")\n",
    "    data_reader = deepscores_classification_datareader.class_dataset_reader(cfg.DATA_DIR + \"/DeepScores_2017/DeepScores_classification\", pad_to=[img_size, img_size])\n",
    "\n",
    "\n",
    "    imdb = imdb(\"DeepScores_2017\")\n",
    "    # output directory where the models are saved\n",
    "    output_dir = get_output_dir(imdb, args.tag)\n",
    "    print('Output will be saved to `{:s}`'.format(output_dir))\n",
    "\n",
    "    # tensorboard directory where the summaries are saved during training\n",
    "    tb_dir = get_output_tb_dir(imdb, args.tag)\n",
    "    print('TensorFlow summaries will be saved to `{:s}`'.format(tb_dir))\n",
    "\n",
    "    num_classes = 124\n",
    "\n",
    "    config = tf.ConfigProto()\n",
    "    config.gpu_options.allow_growth = True\n",
    "    sess = tf.Session(config=config)\n",
    "\n",
    "    # Get the selected model.\n",
    "    # Some of they require pre-trained ResNet\n",
    "    print(\"Preparing the model ...\")\n",
    "    input = tf.placeholder(tf.float32, shape=[None, img_size , img_size, 1])\n",
    "    label = tf.placeholder(tf.int32, shape=[None,num_classes])\n",
    "\n",
    "\n",
    "    network = None\n",
    "    init_fn = None\n",
    "\n",
    "    pretrained_dir = \"pretrain_deepscores\"\n",
    "    # load network\n",
    "    if args.net == 'res50':\n",
    "        with slim.arg_scope(resnet_v1.resnet_arg_scope(weight_decay=0.0005)):\n",
    "            out, end_points = resnet_v1.resnet_v1_50(input, is_training=args.train, scope='resnet_v1_50', num_classes=num_classes)\n",
    "            # RefineNet requires pre-trained ResNet weights\n",
    "            init_fn = slim.assign_from_checkpoint_fn(os.path.join(pretrained_dir, 'resnet_v1_50.ckpt'), slim.get_model_variables('resnet_v1_50'))\n",
    "    elif args.net == 'res101':\n",
    "        with slim.arg_scope(resnet_v1.resnet_arg_scope(weight_decay=0.0005)):\n",
    "            out, end_points = resnet_v1.resnet_v1_101(input, is_training=args.train, scope='resnet_v1_101', num_classes=num_classes)\n",
    "            # RefineNet requires pre-trained ResNet weights\n",
    "            init_fn = slim.assign_from_checkpoint_fn(os.path.join(pretrained_dir, 'resnet_v1_101.ckpt'), slim.get_model_variables('resnet_v1_101'))\n",
    "    elif args.net == 'res152':\n",
    "        with slim.arg_scope(resnet_v1.resnet_arg_scope(weight_decay=0.0005)):\n",
    "            out, end_points = resnet_v1.resnet_v1_152(input, is_training=args.train, scope='resnet_v1_152', num_classes=num_classes)\n",
    "            # RefineNet requires pre-trained ResNet weights\n",
    "            init_fn = slim.assign_from_checkpoint_fn(os.path.join(pretrained_dir, 'resnet_v1_152.ckpt'), slim.get_model_variables('resnet_v1_152'))\n",
    "    else:\n",
    "    \traise ValueError(\"Unsupported ResNet model '%s'. This function only supports ResNet 101 and ResNet 152\" % (args.net))\n",
    "\n",
    "    out = tf.squeeze(out,[1,2])\n",
    "    loss = slim.losses.softmax_cross_entropy(out, label)\n",
    "    tf.summary.scalar('losses/total_loss', loss)\n",
    "\n",
    "\n",
    "    optimizer = tf.train.AdamOptimizer(learning_rate=0.001)\n",
    "    train_op = optimizer.minimize(\n",
    "        loss=loss,\n",
    "        global_step=tf.train.get_global_step())\n",
    "\n",
    "\n",
    "    with tf.name_scope('accuracy'):\n",
    "        correct_prediction = tf.equal(tf.argmax(out, 1), tf.argmax(label, 1))\n",
    "        correct_prediction = tf.cast(correct_prediction, tf.float32)\n",
    "    accuracy = tf.reduce_mean(correct_prediction)\n",
    "\n",
    "\n",
    "    # init variables and savers\n",
    "    saver = tf.train.Saver()\n",
    "    sess.run(tf.global_variables_initializer())\n",
    "\n",
    "    # potentioally load weights\n",
    "    model_checkpoint_name = cfg.PRETRAINED_DIR +\"/DeepScores/resnet_v1\" + args.net.split(\"res\")[1] + \".ckpt\"\n",
    "    if args.weight:\n",
    "        if args.continue_training or not args.is_training:\n",
    "            print('Loaded latest model checkpoint')\n",
    "            saver.restore(sess, model_checkpoint_name)\n",
    "\n",
    "    # pre_train_net(\"asdf\", data_reader, output_dir, tb_dir,\n",
    "    #           pretrained_model=args.weight,\n",
    "    #           max_iters=args.max_iters)\n",
    "\n",
    "    # load data into memory\n",
    "    data_reader.read_images()\n",
    "\n",
    "    for iter in range(0, args.max_iters):\n",
    "        batch = data_reader.next_batch(args.batch_size)\n",
    "        # undo one-hot\n",
    "        #un_onehot = [np.where(r==1)[0][0] for r in batch[1]]\n",
    "        train_op.run(session=sess, feed_dict={input: batch[0], label: batch[1]})\n",
    "        if iter % 10 == 0:\n",
    "            _, loss_act = sess.run([train_op, loss], feed_dict={input: batch[0], label: batch[1]})\n",
    "            print(loss_act)\n",
    "\n",
    "        if iter % args.save_iters == 0:\n",
    "            save_path = saver.save(sess, model_checkpoint_name)"
   ]
  },
  {
   "cell_type": "code",
   "execution_count": 4,
   "metadata": {},
   "outputs": [
    {
     "ename": "SystemExit",
     "evalue": "2",
     "output_type": "error",
     "traceback": [
      "\u001b[0;31m---------------------------------------------------------------------------\u001b[0m",
      "\u001b[0;31mSystemExit\u001b[0m                                Traceback (most recent call last)",
      "\u001b[0;32m<ipython-input-3-11298d243014>\u001b[0m in \u001b[0;36m<module>\u001b[0;34m()\u001b[0m\n\u001b[1;32m      1\u001b[0m \u001b[0;32mif\u001b[0m \u001b[0m__name__\u001b[0m \u001b[0;34m==\u001b[0m \u001b[0;34m'__main__'\u001b[0m\u001b[0;34m:\u001b[0m\u001b[0;34m\u001b[0m\u001b[0m\n\u001b[0;32m----> 2\u001b[0;31m     \u001b[0margs\u001b[0m \u001b[0;34m=\u001b[0m \u001b[0mparse_args\u001b[0m\u001b[0;34m(\u001b[0m\u001b[0;34m)\u001b[0m\u001b[0;34m\u001b[0m\u001b[0m\n\u001b[0m\u001b[1;32m      3\u001b[0m \u001b[0;34m\u001b[0m\u001b[0m\n\u001b[1;32m      4\u001b[0m     \u001b[0mprint\u001b[0m\u001b[0;34m(\u001b[0m\u001b[0;34m'Called with args:'\u001b[0m\u001b[0;34m)\u001b[0m\u001b[0;34m\u001b[0m\u001b[0m\n\u001b[1;32m      5\u001b[0m     \u001b[0mprint\u001b[0m\u001b[0;34m(\u001b[0m\u001b[0margs\u001b[0m\u001b[0;34m)\u001b[0m\u001b[0;34m\u001b[0m\u001b[0m\n",
      "\u001b[0;32m<ipython-input-2-accaf2052c69>\u001b[0m in \u001b[0;36mparse_args\u001b[0;34m()\u001b[0m\n\u001b[1;32m     44\u001b[0m   \u001b[0;31m#   sys.exit(1)\u001b[0m\u001b[0;34m\u001b[0m\u001b[0;34m\u001b[0m\u001b[0m\n\u001b[1;32m     45\u001b[0m \u001b[0;34m\u001b[0m\u001b[0m\n\u001b[0;32m---> 46\u001b[0;31m   \u001b[0margs\u001b[0m \u001b[0;34m=\u001b[0m \u001b[0mparser\u001b[0m\u001b[0;34m.\u001b[0m\u001b[0mparse_args\u001b[0m\u001b[0;34m(\u001b[0m\u001b[0;34m)\u001b[0m\u001b[0;34m\u001b[0m\u001b[0m\n\u001b[0m\u001b[1;32m     47\u001b[0m   \u001b[0;32mreturn\u001b[0m \u001b[0margs\u001b[0m\u001b[0;34m\u001b[0m\u001b[0m\n",
      "\u001b[0;32m~/anaconda2/envs/py36/lib/python3.6/argparse.py\u001b[0m in \u001b[0;36mparse_args\u001b[0;34m(self, args, namespace)\u001b[0m\n\u001b[1;32m   1731\u001b[0m         \u001b[0;32mif\u001b[0m \u001b[0margv\u001b[0m\u001b[0;34m:\u001b[0m\u001b[0;34m\u001b[0m\u001b[0m\n\u001b[1;32m   1732\u001b[0m             \u001b[0mmsg\u001b[0m \u001b[0;34m=\u001b[0m \u001b[0m_\u001b[0m\u001b[0;34m(\u001b[0m\u001b[0;34m'unrecognized arguments: %s'\u001b[0m\u001b[0;34m)\u001b[0m\u001b[0;34m\u001b[0m\u001b[0m\n\u001b[0;32m-> 1733\u001b[0;31m             \u001b[0mself\u001b[0m\u001b[0;34m.\u001b[0m\u001b[0merror\u001b[0m\u001b[0;34m(\u001b[0m\u001b[0mmsg\u001b[0m \u001b[0;34m%\u001b[0m \u001b[0;34m' '\u001b[0m\u001b[0;34m.\u001b[0m\u001b[0mjoin\u001b[0m\u001b[0;34m(\u001b[0m\u001b[0margv\u001b[0m\u001b[0;34m)\u001b[0m\u001b[0;34m)\u001b[0m\u001b[0;34m\u001b[0m\u001b[0m\n\u001b[0m\u001b[1;32m   1734\u001b[0m         \u001b[0;32mreturn\u001b[0m \u001b[0margs\u001b[0m\u001b[0;34m\u001b[0m\u001b[0m\n\u001b[1;32m   1735\u001b[0m \u001b[0;34m\u001b[0m\u001b[0m\n",
      "\u001b[0;32m~/anaconda2/envs/py36/lib/python3.6/argparse.py\u001b[0m in \u001b[0;36merror\u001b[0;34m(self, message)\u001b[0m\n\u001b[1;32m   2387\u001b[0m         \u001b[0mself\u001b[0m\u001b[0;34m.\u001b[0m\u001b[0mprint_usage\u001b[0m\u001b[0;34m(\u001b[0m\u001b[0m_sys\u001b[0m\u001b[0;34m.\u001b[0m\u001b[0mstderr\u001b[0m\u001b[0;34m)\u001b[0m\u001b[0;34m\u001b[0m\u001b[0m\n\u001b[1;32m   2388\u001b[0m         \u001b[0margs\u001b[0m \u001b[0;34m=\u001b[0m \u001b[0;34m{\u001b[0m\u001b[0;34m'prog'\u001b[0m\u001b[0;34m:\u001b[0m \u001b[0mself\u001b[0m\u001b[0;34m.\u001b[0m\u001b[0mprog\u001b[0m\u001b[0;34m,\u001b[0m \u001b[0;34m'message'\u001b[0m\u001b[0;34m:\u001b[0m \u001b[0mmessage\u001b[0m\u001b[0;34m}\u001b[0m\u001b[0;34m\u001b[0m\u001b[0m\n\u001b[0;32m-> 2389\u001b[0;31m         \u001b[0mself\u001b[0m\u001b[0;34m.\u001b[0m\u001b[0mexit\u001b[0m\u001b[0;34m(\u001b[0m\u001b[0;36m2\u001b[0m\u001b[0;34m,\u001b[0m \u001b[0m_\u001b[0m\u001b[0;34m(\u001b[0m\u001b[0;34m'%(prog)s: error: %(message)s\\n'\u001b[0m\u001b[0;34m)\u001b[0m \u001b[0;34m%\u001b[0m \u001b[0margs\u001b[0m\u001b[0;34m)\u001b[0m\u001b[0;34m\u001b[0m\u001b[0m\n\u001b[0m",
      "\u001b[0;32m~/anaconda2/envs/py36/lib/python3.6/argparse.py\u001b[0m in \u001b[0;36mexit\u001b[0;34m(self, status, message)\u001b[0m\n\u001b[1;32m   2374\u001b[0m         \u001b[0;32mif\u001b[0m \u001b[0mmessage\u001b[0m\u001b[0;34m:\u001b[0m\u001b[0;34m\u001b[0m\u001b[0m\n\u001b[1;32m   2375\u001b[0m             \u001b[0mself\u001b[0m\u001b[0;34m.\u001b[0m\u001b[0m_print_message\u001b[0m\u001b[0;34m(\u001b[0m\u001b[0mmessage\u001b[0m\u001b[0;34m,\u001b[0m \u001b[0m_sys\u001b[0m\u001b[0;34m.\u001b[0m\u001b[0mstderr\u001b[0m\u001b[0;34m)\u001b[0m\u001b[0;34m\u001b[0m\u001b[0m\n\u001b[0;32m-> 2376\u001b[0;31m         \u001b[0m_sys\u001b[0m\u001b[0;34m.\u001b[0m\u001b[0mexit\u001b[0m\u001b[0;34m(\u001b[0m\u001b[0mstatus\u001b[0m\u001b[0;34m)\u001b[0m\u001b[0;34m\u001b[0m\u001b[0m\n\u001b[0m\u001b[1;32m   2377\u001b[0m \u001b[0;34m\u001b[0m\u001b[0m\n\u001b[1;32m   2378\u001b[0m     \u001b[0;32mdef\u001b[0m \u001b[0merror\u001b[0m\u001b[0;34m(\u001b[0m\u001b[0mself\u001b[0m\u001b[0;34m,\u001b[0m \u001b[0mmessage\u001b[0m\u001b[0;34m)\u001b[0m\u001b[0;34m:\u001b[0m\u001b[0;34m\u001b[0m\u001b[0m\n",
      "\u001b[0;31mSystemExit\u001b[0m: 2"
     ]
    }
   ],
   "source": [
    "%tb"
   ]
  },
  {
   "cell_type": "code",
   "execution_count": null,
   "metadata": {
    "collapsed": true
   },
   "outputs": [],
   "source": []
  }
 ],
 "metadata": {
  "kernelspec": {
   "display_name": "Python [conda env:py36]",
   "language": "python",
   "name": "conda-env-py36-py"
  },
  "language_info": {
   "codemirror_mode": {
    "name": "ipython",
    "version": 3
   },
   "file_extension": ".py",
   "mimetype": "text/x-python",
   "name": "python",
   "nbconvert_exporter": "python",
   "pygments_lexer": "ipython3",
   "version": "3.6.4"
  }
 },
 "nbformat": 4,
 "nbformat_minor": 2
}
