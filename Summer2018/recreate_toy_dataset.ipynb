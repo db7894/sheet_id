{
 "cells": [
  {
   "cell_type": "markdown",
   "metadata": {},
   "source": [
    "# Objectives"
   ]
  },
  {
   "cell_type": "markdown",
   "metadata": {},
   "source": [
    "-\tIncrease dpi and redo conversion CHECK \n",
    "-\tRequire a publisher (will avoid hand-drawn) CHECK\n",
    "-\tTop 50 composers for now in toy dataset\n",
    "-\tElim orchestral scores\n",
    "-\tMake sure there aren’t cover pages, etc.\n",
    "-\tMake sure data in grayscale—standardize\n",
    "-\tDo as much of this as possible in an automated fashion. Publisher requirement will require some iteration and testing. \n",
    "-\tALSO re-do cell phone pictures, taking into account these constraints.\n"
   ]
  },
  {
   "cell_type": "code",
   "execution_count": 1,
   "metadata": {},
   "outputs": [
    {
     "ename": "ModuleNotFoundError",
     "evalue": "No module named 'librosa'",
     "output_type": "error",
     "traceback": [
      "\u001b[0;31m---------------------------------------------------------------------------\u001b[0m",
      "\u001b[0;31mModuleNotFoundError\u001b[0m                       Traceback (most recent call last)",
      "\u001b[0;32m<ipython-input-1-49500263a974>\u001b[0m in \u001b[0;36m<module>\u001b[0;34m()\u001b[0m\n\u001b[1;32m     13\u001b[0m \u001b[0;32mimport\u001b[0m \u001b[0mpylab\u001b[0m \u001b[0;32mas\u001b[0m \u001b[0mpl\u001b[0m\u001b[0;34m\u001b[0m\u001b[0m\n\u001b[1;32m     14\u001b[0m \u001b[0;32mfrom\u001b[0m \u001b[0mIPython\u001b[0m \u001b[0;32mimport\u001b[0m \u001b[0mdisplay\u001b[0m\u001b[0;34m\u001b[0m\u001b[0m\n\u001b[0;32m---> 15\u001b[0;31m \u001b[0;32mimport\u001b[0m \u001b[0mlibrosa\u001b[0m\u001b[0;34m\u001b[0m\u001b[0m\n\u001b[0m\u001b[1;32m     16\u001b[0m \u001b[0;32mimport\u001b[0m \u001b[0mcPickle\u001b[0m\u001b[0;34m\u001b[0m\u001b[0m\n\u001b[1;32m     17\u001b[0m \u001b[0;32mimport\u001b[0m \u001b[0mpandas\u001b[0m \u001b[0;32mas\u001b[0m \u001b[0mpd\u001b[0m\u001b[0;34m\u001b[0m\u001b[0m\n",
      "\u001b[0;31mModuleNotFoundError\u001b[0m: No module named 'librosa'"
     ]
    }
   ],
   "source": [
    "import glob\n",
    "import os\n",
    "import subprocess\n",
    "import numpy as np\n",
    "from scipy import ndimage\n",
    "from scipy import signal\n",
    "from scipy.misc import imsave\n",
    "from scipy.signal import convolve2d\n",
    "import matplotlib.pyplot as plt\n",
    "import matplotlib.patches as patches\n",
    "from skimage.transform import rotate, resize\n",
    "import time\n",
    "import pylab as pl\n",
    "from IPython import display\n",
    "import librosa\n",
    "import cPickle\n",
    "import pandas as pd"
   ]
  },
  {
   "cell_type": "markdown",
   "metadata": {},
   "source": [
    "## Convert w 300 dpi"
   ]
  },
  {
   "cell_type": "code",
   "execution_count": null,
   "metadata": {
    "collapsed": true
   },
   "outputs": [],
   "source": [
    "root_dir = 'score_data'\n",
    "pdf_dir = root_dir + '/prepped_pdf' # directory containing pdfs of scores\n",
    "png_dir = root_dir + '/prepped_png' # root output directory for png files"
   ]
  },
  {
   "cell_type": "code",
   "execution_count": null,
   "metadata": {
    "collapsed": true
   },
   "outputs": [],
   "source": [
    "#os.mkdir(png_dir)\n",
    "pdf_files = glob(pdf_dir + '/*.pdf')\n",
    "for pdf_file in pdf_files:\n",
    "    basename = os.path.splitext(os.path.basename(pdf_file))[0]\n",
    "    pngout = png_dir + '/' + basename + '.png'\n",
    "    subprocess.call(['convert', '-density', '300', pdf_file, pngout]) # 72 dpi is the default value"
   ]
  },
  {
   "cell_type": "markdown",
   "metadata": {},
   "source": [
    "## Rotate"
   ]
  },
  {
   "cell_type": "code",
   "execution_count": null,
   "metadata": {
    "collapsed": true
   },
   "outputs": [],
   "source": [
    "def importImage(pngfile):\n",
    "    img = ndimage.imread(pngfile, flatten=True)\n",
    "    img = 1 - img/255.0 # make white -> 0, black -> 1\n",
    "    return img"
   ]
  },
  {
   "cell_type": "code",
   "execution_count": null,
   "metadata": {
    "collapsed": true
   },
   "outputs": [],
   "source": [
    "def showImage(X, sz = (12,12)):\n",
    "    plt.figure(figsize=sz)\n",
    "    plt.imshow(1-X, cmap='gray', vmin=0, vmax=1)"
   ]
  },
  {
   "cell_type": "code",
   "execution_count": null,
   "metadata": {
    "collapsed": true
   },
   "outputs": [],
   "source": [
    "def rotateToHorizontal(img, lb=-2, ub=2, incr=.01, topN=40):\n",
    "    bestscore = -np.inf\n",
    "    bestTheta = 0\n",
    "    for theta in np.arange(lb, ub, incr):\n",
    "        imgRot = rotate(img,theta)\n",
    "        rsums = np.sum(imgRot, axis=1)\n",
    "        rsums_sorted = sorted(rsums)[::-1]\n",
    "        curscore = np.sum(rsums_sorted[0:topN])\n",
    "        if curscore > bestscore:\n",
    "            bestscore = curscore\n",
    "            bestTheta = theta\n",
    "    result = rotate(img,bestTheta)\n",
    "    return result, bestTheta"
   ]
  },
  {
   "cell_type": "code",
   "execution_count": null,
   "metadata": {
    "collapsed": true
   },
   "outputs": [],
   "source": [
    "I = importImage('score_data/prepped_png/score17.png')\n",
    "Irot, theta = rotateToHorizontal(I,-1,1)\n",
    "showImage(Irot)"
   ]
  },
  {
   "cell_type": "code",
   "execution_count": null,
   "metadata": {
    "collapsed": true
   },
   "outputs": [],
   "source": [
    "def rotateAllImages(indir, outdir):\n",
    "    png_files = glob.glob(indir + '/*.png')\n",
    "    for png_file in png_files:\n",
    "        I = importImage(png_file)\n",
    "        Irot, theta = rotateToHorizontal(I)\n",
    "        img = 255 - np.uint8(Irot*255)\n",
    "        basename = os.path.basename(png_file)\n",
    "        pngout = outdir + '/' + basename\n",
    "        imsave(pngout,img)"
   ]
  },
  {
   "cell_type": "code",
   "execution_count": null,
   "metadata": {
    "collapsed": true
   },
   "outputs": [],
   "source": [
    "pngrot_dir = root_dir + '/toAnnotate' # rotated png files"
   ]
  },
  {
   "cell_type": "code",
   "execution_count": null,
   "metadata": {
    "collapsed": true
   },
   "outputs": [],
   "source": [
    "os.mkdir(pngrot_dir)\n",
    "rotateAllImages(png_dir, pngrot_dir)"
   ]
  },
  {
   "cell_type": "markdown",
   "metadata": {},
   "source": [
    "Here's an example of something w/o publisher: https://imslp.org/wiki/Acis_and_Galatea%2C_HWV_49_(Handel%2C_George_Frideric)\n",
    "just go to the page parts and it's the first thing w/ id 106106"
   ]
  },
  {
   "cell_type": "markdown",
   "metadata": {},
   "source": [
    "## Get bad (no publisher) names"
   ]
  },
  {
   "cell_type": "markdown",
   "metadata": {},
   "source": [
    "We'll assume that we first loaded our text file as html text so we can parse with beautifulsoup. soup is the name of the object containing html info"
   ]
  },
  {
   "cell_type": "code",
   "execution_count": null,
   "metadata": {
    "collapsed": true
   },
   "outputs": [],
   "source": [
    "# open html text file as a beautifulsoup object\n",
    "with open('html.txt') as f:\n",
    "    soup = BeautifulSoup(f, \"html.parser\")"
   ]
  },
  {
   "cell_type": "code",
   "execution_count": null,
   "metadata": {
    "collapsed": true
   },
   "outputs": [],
   "source": [
    "for div in soup.find_all('div', class_ = 'we'):\n",
    "    # we will contain both an ID and the publisher info for a piece so we can make sure it's not handwritten\n",
    "    div = str(div)\n",
    "    if 'Manuscript' in div or 'manuscript' in div:\n",
    "        value_on = div[div.find('indexes='):] # this is where the ID should show up on a page\n",
    "        bad_name = value_on[8:14] # just get the id, assuming 6 digits\n",
    "        if bad_name[-1] = '/':\n",
    "            # if it's a slash, there's something else after it\n",
    "            bad_name_two = value_on[14:20]\n",
    "            # check if last thing is actually a digit, in case of 5-digit ID\n",
    "            if not bad_name_two[-1].isdigit():\n",
    "                bad_name_two = bad_name_two[:-1]\n",
    "            bad_pdf_two = bad_name_two + '.pdf'\n",
    "            bad_names.append(bad_pdf_two)\n",
    "        if not bad_name[-1].isdigit():\n",
    "            # make could be a 5-digit ID\n",
    "            bad_name = bad_name[:-1]\n",
    "        bad_pdf = bad_name + '.pdf' # add to .pdf so we have the actual filename we want to avoid/delete if it's in our thing\n",
    "        bad_names.append(bad_pdf) # append this to a list of bad names"
   ]
  },
  {
   "cell_type": "markdown",
   "metadata": {},
   "source": [
    "## Check if Orchestral Score"
   ]
  },
  {
   "cell_type": "markdown",
   "metadata": {},
   "source": [
    "Let's see if we can automate checking if smth is an orchestral score or just a part. Let's do a Beethoven Symphony :D"
   ]
  },
  {
   "cell_type": "code",
   "execution_count": null,
   "metadata": {
    "collapsed": true
   },
   "outputs": [],
   "source": [
    "divList = []\n",
    "score_names = []"
   ]
  },
  {
   "cell_type": "code",
   "execution_count": null,
   "metadata": {
    "collapsed": true
   },
   "outputs": [],
   "source": [
    "for div in soup.find_all('div', class_ = 'we'):\n",
    "    # we will contain both an ID and the publisher info for a piece so we can make sure it's not handwritten\n",
    "    div = str(div)\n",
    "    if 'Score' in div or 'score' in div:\n",
    "        divList.append(div)"
   ]
  },
  {
   "cell_type": "code",
   "execution_count": null,
   "metadata": {
    "collapsed": true
   },
   "outputs": [],
   "source": [
    "for div in divList:\n",
    "    value_on = div[div.find('indexes='):]\n",
    "    score_name = value_on[8:14]\n",
    "    if score_name[-1] = '/':\n",
    "            # if it's a slash, there's something else after it\n",
    "            score_name_two = value_on[14:20]\n",
    "            # check if last thing is actually a digit, in case of 5-digit ID\n",
    "            if not score_name_two[-1].isdigit():\n",
    "                score_name_two = score_name_two[:-1]\n",
    "            score_pdf_two = score_name_two + '.pdf'\n",
    "            score_names.append(score_pdf_two)\n",
    "    if not score_name[-1].isdigit():\n",
    "        # make could be a 5-digit ID\n",
    "        score_name = score_name[:-1]\n",
    "    score_pdf = score_name + '.pdf' # add to .pdf so we have the actual filename we want to avoid/delete if it's in our thing\n",
    "    score_names.append(score_pdf) # append this to a list of bad names"
   ]
  },
  {
   "cell_type": "markdown",
   "metadata": {},
   "source": [
    "# Re-create Dataset"
   ]
  },
  {
   "cell_type": "code",
   "execution_count": 2,
   "metadata": {},
   "outputs": [
    {
     "name": "stdout",
     "output_type": "stream",
     "text": [
      "/data1/dbashir/Project/Summer2018/pdf\n"
     ]
    }
   ],
   "source": [
    "current_dir = '/data1/dbashir/Project/Summer2018/'\n",
    "topFolder = 'pdf'\n",
    "resultsFolder = 'results_top50'\n",
    "intermedFolder = 'results_intermediate'\n",
    "pdfMiniFolder = 'mini_dataset_pdf'\n",
    "pngMiniFolder = 'mini_dataset_png'\n",
    "\n",
    "dataSetSize = 70\n",
    "\n",
    "resultsPath = os.path.join(topFolder,resultsFolder)\n",
    "intermedPath = os.path.join(topFolder, intermedFolder)\n",
    "\n",
    "pdfDir = os.path.join(current_dir, topFolder)\n",
    "miniPDFDataset = os.path.join(topFolder, pdfMiniFolder)\n",
    "miniPNGDataset = os.path.join(pdfDir, pngMiniFolder)\n",
    "pngFromTop = os.path.join(topFolder, pngMiniFolder)\n",
    "pdfFromTop = os.path.join(pdfDir, pdfMiniFolder)\n",
    "rotPngFromTop = os.path.join(topFolder, 'mini_dataset_png_rot')\n",
    "\n",
    "fileList = []\n",
    "\n",
    "print(pdfDir)"
   ]
  },
  {
   "cell_type": "code",
   "execution_count": 3,
   "metadata": {
    "collapsed": true
   },
   "outputs": [],
   "source": [
    "if not os.path.exists(intermedPath):\n",
    "    os.makedirs(intermedPath)"
   ]
  },
  {
   "cell_type": "code",
   "execution_count": 4,
   "metadata": {
    "collapsed": true
   },
   "outputs": [],
   "source": [
    "if not os.path.exists(miniPDFDataset):\n",
    "    os.makedirs(miniPDFDataset)"
   ]
  },
  {
   "cell_type": "code",
   "execution_count": 5,
   "metadata": {
    "collapsed": true
   },
   "outputs": [],
   "source": [
    "if not os.path.exists(miniPNGDataset):\n",
    "    os.makedirs(miniPNGDataset)"
   ]
  },
  {
   "cell_type": "code",
   "execution_count": 6,
   "metadata": {
    "collapsed": true
   },
   "outputs": [],
   "source": [
    "if not os.path.exists(rotPngFromTop):\n",
    "    os.makedirs(rotPngFromTop)"
   ]
  },
  {
   "cell_type": "code",
   "execution_count": 10,
   "metadata": {},
   "outputs": [
    {
     "name": "stdout",
     "output_type": "stream",
     "text": [
      "42203.pdf\n",
      "subdirectory: pdf/results_top50/composer/Weber,_Carl_Maria_von/Aufforderung_zum_Tanze,_Op.65_\n"
     ]
    },
    {
     "ename": "NameError",
     "evalue": "name 'bsoup' is not defined",
     "output_type": "error",
     "traceback": [
      "\u001b[0;31m---------------------------------------------------------------------------\u001b[0m",
      "\u001b[0;31mNameError\u001b[0m                                 Traceback (most recent call last)",
      "\u001b[0;32m<ipython-input-10-b0904673a67b>\u001b[0m in \u001b[0;36m<module>\u001b[0;34m()\u001b[0m\n\u001b[1;32m      8\u001b[0m             \u001b[0mhtml_path\u001b[0m \u001b[0;34m=\u001b[0m \u001b[0mos\u001b[0m\u001b[0;34m.\u001b[0m\u001b[0mpath\u001b[0m\u001b[0;34m.\u001b[0m\u001b[0mjoin\u001b[0m\u001b[0;34m(\u001b[0m\u001b[0msubdir\u001b[0m\u001b[0;34m,\u001b[0m \u001b[0;34m'html.txt'\u001b[0m\u001b[0;34m)\u001b[0m\u001b[0;34m\u001b[0m\u001b[0m\n\u001b[1;32m      9\u001b[0m             \u001b[0;32mwith\u001b[0m \u001b[0mopen\u001b[0m\u001b[0;34m(\u001b[0m\u001b[0mhtml_path\u001b[0m\u001b[0;34m)\u001b[0m \u001b[0;32mas\u001b[0m \u001b[0mf\u001b[0m\u001b[0;34m:\u001b[0m\u001b[0;34m\u001b[0m\u001b[0m\n\u001b[0;32m---> 10\u001b[0;31m                 \u001b[0msoup\u001b[0m \u001b[0;34m=\u001b[0m \u001b[0mbsoup\u001b[0m\u001b[0;34m(\u001b[0m\u001b[0mf\u001b[0m\u001b[0;34m,\u001b[0m \u001b[0;34m\"html.parser\"\u001b[0m\u001b[0;34m)\u001b[0m\u001b[0;34m\u001b[0m\u001b[0m\n\u001b[0m\u001b[1;32m     11\u001b[0m                 \u001b[0mresult\u001b[0m \u001b[0;34m=\u001b[0m \u001b[0msoup\u001b[0m\u001b[0;34m.\u001b[0m\u001b[0mfind_all\u001b[0m\u001b[0;34m(\u001b[0m\u001b[0;34m'div'\u001b[0m\u001b[0;34m,\u001b[0m \u001b[0mclass_\u001b[0m\u001b[0;34m=\u001b[0m\u001b[0;34m'we'\u001b[0m\u001b[0;34m)\u001b[0m\u001b[0;34m\u001b[0m\u001b[0m\n\u001b[1;32m     12\u001b[0m                 \u001b[0mprint\u001b[0m\u001b[0;34m(\u001b[0m\u001b[0mresult\u001b[0m\u001b[0;34m)\u001b[0m\u001b[0;34m\u001b[0m\u001b[0m\n",
      "\u001b[0;31mNameError\u001b[0m: name 'bsoup' is not defined"
     ]
    }
   ],
   "source": [
    "#using os.walk, move all the .pdf files to an intermediate folder for EZ access\n",
    "for subdir, dirs, files in os.walk(resultsPath):\n",
    "    for pdf_file in files:\n",
    "        if 'pdf' in pdf_file:\n",
    "            #move it to intermediate file for shuffling\n",
    "            print(pdf_file)\n",
    "            print(\"subdirectory: \" + subdir)\n",
    "            html_path = os.path.join(subdir, 'html.txt')\n",
    "            with open(html_path) as f:\n",
    "                soup = bsoup(f, \"html.parser\")\n",
    "                result = soup.find_all('div', class_='we')\n",
    "                print(result)\n",
    "            #print(\"directory: \" + str(dirs))\n",
    "#             pdf_file_path = os.path.join(subdir, pdf_file)\n",
    "#             final_path = os.path.join(intermedPath, pdf_file)\n",
    "#             shutil.copy(pdf_file_path, final_path)"
   ]
  },
  {
   "cell_type": "code",
   "execution_count": null,
   "metadata": {
    "collapsed": true
   },
   "outputs": [],
   "source": []
  }
 ],
 "metadata": {
  "kernelspec": {
   "display_name": "Python [conda env:py36]",
   "language": "python",
   "name": "conda-env-py36-py"
  },
  "language_info": {
   "codemirror_mode": {
    "name": "ipython",
    "version": 3
   },
   "file_extension": ".py",
   "mimetype": "text/x-python",
   "name": "python",
   "nbconvert_exporter": "python",
   "pygments_lexer": "ipython3",
   "version": "3.6.4"
  }
 },
 "nbformat": 4,
 "nbformat_minor": 2
}
