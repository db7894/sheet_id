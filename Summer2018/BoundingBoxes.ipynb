{
 "cells": [
  {
   "cell_type": "code",
   "execution_count": 1,
   "metadata": {
    "ExecuteTime": {
     "end_time": "2018-06-05T00:12:24.757506Z",
     "start_time": "2018-06-05T00:12:24.571354Z"
    },
    "collapsed": true
   },
   "outputs": [],
   "source": [
    "%matplotlib inline"
   ]
  },
  {
   "cell_type": "code",
   "execution_count": 2,
   "metadata": {
    "ExecuteTime": {
     "end_time": "2018-06-05T00:12:26.080821Z",
     "start_time": "2018-06-05T00:12:24.791765Z"
    }
   },
   "outputs": [
    {
     "name": "stderr",
     "output_type": "stream",
     "text": [
      "/home/mirlab/miniconda3/lib/python3.6/site-packages/h5py/__init__.py:36: FutureWarning: Conversion of the second argument of issubdtype from `float` to `np.floating` is deprecated. In future, it will be treated as `np.float64 == np.dtype(float).type`.\n",
      "  from ._conv import register_converters as _register_converters\n",
      "Using TensorFlow backend.\n"
     ]
    }
   ],
   "source": [
    "import matplotlib.pyplot as plt\n",
    "import numpy as np\n",
    "import pickle\n",
    "from sklearn.linear_model import LogisticRegression\n",
    "from sklearn import tree\n",
    "from sklearn.tree import DecisionTreeClassifier\n",
    "from sklearn.decomposition import PCA\n",
    "from sklearn.ensemble import RandomForestClassifier, AdaBoostClassifier\n",
    "from sklearn.metrics import accuracy_score, log_loss\n",
    "import graphviz\n",
    "import keras\n",
    "from keras.models import Sequential\n",
    "from keras.layers import Dense, Activation, Flatten, Dropout, BatchNormalization, Conv2D, MaxPooling2D, Lambda, Reshape"
   ]
  },
  {
   "cell_type": "code",
   "execution_count": 3,
   "metadata": {
    "ExecuteTime": {
     "end_time": "2018-06-05T00:12:26.134055Z",
     "start_time": "2018-06-05T00:12:26.129630Z"
    }
   },
   "outputs": [
    {
     "data": {
      "text/plain": [
       "'channels_last'"
      ]
     },
     "execution_count": 3,
     "metadata": {},
     "output_type": "execute_result"
    }
   ],
   "source": [
    "keras.backend.image_data_format()"
   ]
  },
  {
   "cell_type": "markdown",
   "metadata": {},
   "source": [
    "### Helper functions"
   ]
  },
  {
   "cell_type": "code",
   "execution_count": 4,
   "metadata": {
    "ExecuteTime": {
     "end_time": "2018-06-05T00:12:26.197084Z",
     "start_time": "2018-06-05T00:12:26.176276Z"
    },
    "collapsed": true
   },
   "outputs": [],
   "source": [
    "def loadData():\n",
    "    with open('pkl_data/notes_pos.pkl', 'rb') as f:\n",
    "        dpos = pickle.load(f, encoding='bytes')\n",
    "    with open('pkl_data/notes_neg.pkl', 'rb') as f:\n",
    "        dneg = pickle.load(f, encoding='bytes')\n",
    "    return (dpos, dneg)"
   ]
  },
  {
   "cell_type": "code",
   "execution_count": 5,
   "metadata": {
    "ExecuteTime": {
     "end_time": "2018-06-05T00:12:26.273825Z",
     "start_time": "2018-06-05T00:12:26.245042Z"
    },
    "collapsed": true
   },
   "outputs": [],
   "source": [
    "def concatFolds(pos, neg, scores):\n",
    "    X_pos = np.concatenate([pos[score] for score in scores], axis=0)\n",
    "    Y_pos = np.ones(X_pos.shape[0])\n",
    "    X_neg = np.concatenate([neg[score] for score in scores], axis=0)\n",
    "    Y_neg = np.zeros(X_neg.shape[0])\n",
    "    X = np.concatenate((X_pos, X_neg), axis=0)\n",
    "    Y = np.concatenate((Y_pos, Y_neg))\n",
    "    return (X, Y)"
   ]
  },
  {
   "cell_type": "code",
   "execution_count": 6,
   "metadata": {
    "ExecuteTime": {
     "end_time": "2018-06-05T00:12:26.324825Z",
     "start_time": "2018-06-05T00:12:26.318448Z"
    },
    "collapsed": true
   },
   "outputs": [],
   "source": [
    "def getTrainTestSplit(pos, neg, test_fold):\n",
    "    all_folds = list(pos.keys())\n",
    "    train_folds = [fold for fold in all_folds if fold != test_fold]\n",
    "    (X_train, Y_train) = concatFolds(pos, neg, train_folds)\n",
    "    (X_test, Y_test) = concatFolds(pos, neg, [test_fold])\n",
    "    return (X_train, Y_train, X_test, Y_test)"
   ]
  },
  {
   "cell_type": "code",
   "execution_count": 7,
   "metadata": {
    "ExecuteTime": {
     "end_time": "2018-06-05T00:12:26.380616Z",
     "start_time": "2018-06-05T00:12:26.363808Z"
    },
    "collapsed": true
   },
   "outputs": [],
   "source": [
    "def flattenImages(tensor):\n",
    "    A = tensor.reshape((tensor.shape[0], -1))\n",
    "    return A"
   ]
  },
  {
   "cell_type": "code",
   "execution_count": 8,
   "metadata": {
    "ExecuteTime": {
     "end_time": "2018-06-05T00:12:26.468612Z",
     "start_time": "2018-06-05T00:12:26.424085Z"
    },
    "collapsed": true
   },
   "outputs": [],
   "source": [
    "def runCrossValidation(clf, dpos, dneg, flatten=True, pca_dims=None):\n",
    "\n",
    "    labels = np.array([])  # ground truth labels\n",
    "    preds = np.array([])  # predicted labels\n",
    "    probs = np.array([])  # predicted probabilities\n",
    "    clfs = []\n",
    "\n",
    "    for score in list(dpos.keys()):\n",
    "\n",
    "        # prep data\n",
    "        (X_train, Y_train, X_test, Y_test) = getTrainTestSplit(dpos, dneg, score)\n",
    "        if flatten:\n",
    "            X_train = flattenImages(X_train)\n",
    "            X_test = flattenImages(X_test)\n",
    "        if pca_dims:\n",
    "            pca = PCA(n_components=pca_dims)\n",
    "            pca = pca.fit(X_train)\n",
    "            X_train = pca.transform(X_train)\n",
    "            X_test = pca.transform(X_test)\n",
    "\n",
    "        # fit model\n",
    "        clf = clf.fit(X_train, Y_train)\n",
    "        clfs.append(clf)\n",
    "\n",
    "        # accumulate across folds\n",
    "        Y_pred = clf.predict(X_test)\n",
    "        Y_prob = clf.predict_proba(X_test)\n",
    "        labels = np.concatenate((labels, Y_test))\n",
    "        preds = np.concatenate((preds, Y_pred))\n",
    "        probs = np.concatenate((probs, Y_prob[:, 1]))\n",
    "\n",
    "    # cumulative metrics\n",
    "    acc = accuracy_score(labels, preds)\n",
    "    logloss = log_loss(labels, probs)\n",
    "\n",
    "    return (acc, logloss, clfs)"
   ]
  },
  {
   "cell_type": "code",
   "execution_count": 9,
   "metadata": {
    "ExecuteTime": {
     "end_time": "2018-06-05T00:12:26.524896Z",
     "start_time": "2018-06-05T00:12:26.503635Z"
    },
    "collapsed": true
   },
   "outputs": [],
   "source": [
    "def showImage(X, sz=(4, 4)):\n",
    "    plt.figure(figsize=sz)\n",
    "    plt.imshow(1-X, cmap='gray', vmin=0, vmax=1)"
   ]
  },
  {
   "cell_type": "markdown",
   "metadata": {},
   "source": [
    "### PCA Analysis"
   ]
  },
  {
   "cell_type": "markdown",
   "metadata": {},
   "source": [
    "Determine number of dimensions to retain 95% of variance"
   ]
  },
  {
   "cell_type": "code",
   "execution_count": null,
   "metadata": {
    "ExecuteTime": {
     "end_time": "2018-06-01T23:25:48.115254Z",
     "start_time": "2018-06-01T23:25:48.102238Z"
    },
    "collapsed": true
   },
   "outputs": [],
   "source": [
    "def calcNumPCADimensions(dpos, dneg, var):\n",
    "    X_pos = np.concatenate([dpos[score] for score in list(dpos.keys())], axis=0)\n",
    "    X_neg = np.concatenate([dneg[score] for score in list(dpos.keys())], axis=0)\n",
    "    X_all = np.concatenate((X_pos, X_neg))\n",
    "    pca = PCA()\n",
    "    pca = pca.fit(flattenImages(X_all))\n",
    "    cumvar = pca.explained_variance_ratio_.cumsum()\n",
    "    nComponents = np.where(cumvar > var)[0][0]\n",
    "    return (nComponents, pca)"
   ]
  },
  {
   "cell_type": "code",
   "execution_count": null,
   "metadata": {
    "ExecuteTime": {
     "end_time": "2018-06-01T23:25:48.754110Z",
     "start_time": "2018-06-01T23:25:48.743986Z"
    },
    "collapsed": true
   },
   "outputs": [],
   "source": [
    "def visualizePCAComponents(comp, rows=4, cols=4):\n",
    "    fig = plt.figure(figsize=(8, 8))\n",
    "    for i in range(0, cols*rows):\n",
    "        fig.add_subplot(rows, cols, i+1)\n",
    "        plt.imshow(comp[i].reshape(15, 15), cmap='gray')\n",
    "        plt.title('Comp %d' % i)\n",
    "    plt.show()"
   ]
  },
  {
   "cell_type": "code",
   "execution_count": null,
   "metadata": {
    "ExecuteTime": {
     "end_time": "2018-06-01T23:25:49.335995Z",
     "start_time": "2018-06-01T23:25:48.917445Z"
    },
    "collapsed": true
   },
   "outputs": [],
   "source": [
    "(dpos, dneg) = loadData()\n",
    "nComponents, pca = calcNumPCADimensions(dpos, dneg, .95)\n",
    "nComponents"
   ]
  },
  {
   "cell_type": "code",
   "execution_count": null,
   "metadata": {
    "ExecuteTime": {
     "end_time": "2018-06-01T23:25:50.337798Z",
     "start_time": "2018-06-01T23:25:49.533844Z"
    },
    "collapsed": true
   },
   "outputs": [],
   "source": [
    "visualizePCAComponents(pca.components_)"
   ]
  },
  {
   "cell_type": "markdown",
   "metadata": {},
   "source": [
    "### Neural Network"
   ]
  },
  {
   "cell_type": "code",
   "execution_count": null,
   "metadata": {
    "ExecuteTime": {
     "end_time": "2018-06-04T22:24:30.309421Z",
     "start_time": "2018-06-04T22:24:30.281220Z"
    },
    "collapsed": true
   },
   "outputs": [],
   "source": [
    "def runCrossValidation_keras(getModel_callback, dpos, dneg, nb_epoch=10, cnn=False):\n",
    "\n",
    "    labels = np.array([])  # ground truth labels\n",
    "    probs = np.array([])  # predicted probabilities\n",
    "    models = []\n",
    "\n",
    "    for score in sorted(dpos.keys()):\n",
    "\n",
    "        print('Test fold %s' % score)\n",
    "        (X_train, Y_train, X_test, Y_test) = getTrainTestSplit(dpos, dneg, score)\n",
    "        if cnn:\n",
    "            X_train = np.expand_dims(X_train, axis=3)\n",
    "            X_test = np.expand_dims(X_test, axis=3)\n",
    "        model = getModel_callback()\n",
    "        model.fit(X_train, Y_train, nb_epoch=nb_epoch,\n",
    "                  validation_data=(X_test, Y_test))\n",
    "        Y_pred = model.predict(X_test)\n",
    "        labels = np.concatenate((labels, Y_test))\n",
    "        probs = np.concatenate((probs, np.squeeze(Y_pred)))\n",
    "        models.append(model)\n",
    "\n",
    "    acc = accuracy_score(labels, np.round(probs))\n",
    "    logloss = log_loss(labels, probs)\n",
    "\n",
    "    return (acc, logloss, models)"
   ]
  },
  {
   "cell_type": "code",
   "execution_count": null,
   "metadata": {
    "ExecuteTime": {
     "end_time": "2018-06-04T22:24:31.566885Z",
     "start_time": "2018-06-04T22:24:31.557426Z"
    },
    "collapsed": true
   },
   "outputs": [],
   "source": [
    "from keras import backend as K\n",
    "\n",
    "\n",
    "def get_activations2(model, layer, X_batch):\n",
    "    get_activations = K.function([model.layers[0].input, K.learning_phase()], [\n",
    "                                 model.layers[layer].output, ])\n",
    "    activations = get_activations([X_batch, 0])\n",
    "    return activations"
   ]
  },
  {
   "cell_type": "markdown",
   "metadata": {},
   "source": [
    "# Logistic Regression (again)"
   ]
  },
  {
   "cell_type": "code",
   "execution_count": null,
   "metadata": {
    "ExecuteTime": {
     "end_time": "2018-06-01T23:26:04.127001Z",
     "start_time": "2018-06-01T23:25:54.115502Z"
    },
    "collapsed": true
   },
   "outputs": [],
   "source": [
    "clf = LogisticRegression()\n",
    "# (X_train, Y_train, X_test, Y_test) = getTrainTestSplit(dpos, dneg, score)\n",
    "# clf.fit(X_train, Y_train)\n",
    "(acc, logloss, clfs) = runCrossValidation(clf, dpos, dneg)\n",
    "(acc, logloss)"
   ]
  },
  {
   "cell_type": "code",
   "execution_count": null,
   "metadata": {
    "ExecuteTime": {
     "end_time": "2018-06-01T23:26:04.248563Z",
     "start_time": "2018-06-01T23:26:04.245387Z"
    },
    "collapsed": true
   },
   "outputs": [],
   "source": [
    "clfs[0]"
   ]
  },
  {
   "cell_type": "code",
   "execution_count": null,
   "metadata": {
    "ExecuteTime": {
     "end_time": "2018-06-01T23:26:04.527278Z",
     "start_time": "2018-06-01T23:26:04.339765Z"
    },
    "collapsed": true
   },
   "outputs": [],
   "source": [
    "from scipy.signal import convolve2d"
   ]
  },
  {
   "cell_type": "code",
   "execution_count": null,
   "metadata": {
    "ExecuteTime": {
     "end_time": "2018-06-01T23:26:04.758889Z",
     "start_time": "2018-06-01T23:26:04.627501Z"
    },
    "collapsed": true
   },
   "outputs": [],
   "source": [
    "#score = list(dpos.keys())[0]\n",
    "for score in list(dpos.keys()):\n",
    "    (X_train, Y_train, X_test, Y_test) = getTrainTestSplit(dpos, dneg, score)"
   ]
  },
  {
   "cell_type": "code",
   "execution_count": null,
   "metadata": {
    "ExecuteTime": {
     "end_time": "2018-06-01T23:26:04.861608Z",
     "start_time": "2018-06-01T23:26:04.859469Z"
    },
    "collapsed": true
   },
   "outputs": [],
   "source": [
    "clf.coef_ = clf.coef_.reshape(15, 15)"
   ]
  },
  {
   "cell_type": "markdown",
   "metadata": {},
   "source": [
    "Visualization is above. All we did was reshape the coefficients from a trained logistic regression to be (15,15) and convolve it together with an input image, then plot the output."
   ]
  },
  {
   "cell_type": "code",
   "execution_count": null,
   "metadata": {
    "ExecuteTime": {
     "end_time": "2018-06-01T23:28:37.707832Z",
     "start_time": "2018-06-01T23:28:37.697222Z"
    },
    "collapsed": true
   },
   "outputs": [],
   "source": [
    "import cv2\n",
    "image = cv2.imread('true_piece.png', cv2.IMREAD_GRAYSCALE)\n",
    "image.shape"
   ]
  },
  {
   "cell_type": "code",
   "execution_count": null,
   "metadata": {
    "ExecuteTime": {
     "end_time": "2018-06-01T23:28:38.543934Z",
     "start_time": "2018-06-01T23:28:38.541087Z"
    },
    "collapsed": true
   },
   "outputs": [],
   "source": [
    "(w_width, w_height) = (15, 15)\n",
    "stepSize = 5"
   ]
  },
  {
   "cell_type": "code",
   "execution_count": null,
   "metadata": {
    "ExecuteTime": {
     "end_time": "2018-06-01T23:28:38.760469Z",
     "start_time": "2018-06-01T23:28:38.756933Z"
    },
    "collapsed": true
   },
   "outputs": [],
   "source": [
    "convolutions = []\n",
    "counter = 0"
   ]
  },
  {
   "cell_type": "code",
   "execution_count": null,
   "metadata": {
    "ExecuteTime": {
     "end_time": "2018-06-01T23:28:39.103614Z",
     "start_time": "2018-06-01T23:28:38.952636Z"
    },
    "collapsed": true
   },
   "outputs": [],
   "source": [
    "plt.imshow(image)"
   ]
  },
  {
   "cell_type": "code",
   "execution_count": null,
   "metadata": {
    "ExecuteTime": {
     "end_time": "2018-06-01T23:28:39.295083Z",
     "start_time": "2018-06-01T23:28:39.210212Z"
    },
    "collapsed": true,
    "scrolled": true
   },
   "outputs": [],
   "source": [
    "plt.imshow(image[50:140, 100:140], cmap='gray')"
   ]
  },
  {
   "cell_type": "code",
   "execution_count": null,
   "metadata": {
    "ExecuteTime": {
     "end_time": "2018-06-01T23:32:29.780979Z",
     "start_time": "2018-06-01T23:28:39.709331Z"
    },
    "collapsed": true
   },
   "outputs": [],
   "source": [
    "convolution = convolve2d(clf.coef_, image)\n",
    "plt.imshow(convolution, cmap='gray')"
   ]
  },
  {
   "cell_type": "code",
   "execution_count": null,
   "metadata": {
    "ExecuteTime": {
     "end_time": "2018-06-01T23:32:29.782047Z",
     "start_time": "2018-06-01T23:28:39.984Z"
    },
    "collapsed": true
   },
   "outputs": [],
   "source": [
    "A = convolution"
   ]
  },
  {
   "cell_type": "code",
   "execution_count": null,
   "metadata": {
    "ExecuteTime": {
     "end_time": "2018-06-01T23:32:29.783097Z",
     "start_time": "2018-06-01T23:28:40.213Z"
    },
    "collapsed": true
   },
   "outputs": [],
   "source": [
    "plt.imshow(convolution[50:140, 100:140], cmap='gray')"
   ]
  },
  {
   "cell_type": "markdown",
   "metadata": {
    "heading_collapsed": true
   },
   "source": [
    "# LR Model, 1 Conv Layer"
   ]
  },
  {
   "cell_type": "code",
   "execution_count": null,
   "metadata": {
    "ExecuteTime": {
     "end_time": "2018-06-01T23:32:29.784148Z",
     "start_time": "2018-06-01T23:28:40.932Z"
    },
    "collapsed": true,
    "hidden": true
   },
   "outputs": [],
   "source": [
    "from read_activations import *"
   ]
  },
  {
   "cell_type": "markdown",
   "metadata": {
    "hidden": true
   },
   "source": [
    "Now we'll load weights from the LR into a 1-layer CNN"
   ]
  },
  {
   "cell_type": "code",
   "execution_count": null,
   "metadata": {
    "ExecuteTime": {
     "end_time": "2018-06-01T23:32:29.785184Z",
     "start_time": "2018-06-01T23:28:50.241Z"
    },
    "collapsed": true,
    "hidden": true
   },
   "outputs": [],
   "source": [
    "def getModel_convLayer():\n",
    "    model = Sequential([\n",
    "        Conv2D(8, 15, 15, activation='relu',\n",
    "               input_shape=(842, 595, 1), name='load_LR'),\n",
    "        Flatten(),\n",
    "        Dense(1, activation='sigmoid')\n",
    "    ])\n",
    "    model.compile(optimizer='rmsprop',\n",
    "                  loss='binary_crossentropy', metrics=['accuracy'])\n",
    "    return model"
   ]
  },
  {
   "cell_type": "code",
   "execution_count": null,
   "metadata": {
    "ExecuteTime": {
     "end_time": "2018-06-01T23:32:29.786413Z",
     "start_time": "2018-06-01T23:28:50.498Z"
    },
    "collapsed": true,
    "hidden": true
   },
   "outputs": [],
   "source": [
    "layerOneWeights = getModel_convLayer().layers[0].get_weights()"
   ]
  },
  {
   "cell_type": "code",
   "execution_count": null,
   "metadata": {
    "ExecuteTime": {
     "end_time": "2018-06-01T23:32:29.787528Z",
     "start_time": "2018-06-01T23:28:50.787Z"
    },
    "collapsed": true,
    "hidden": true
   },
   "outputs": [],
   "source": [
    "convLayer = getModel_convLayer().layers[0]"
   ]
  },
  {
   "cell_type": "code",
   "execution_count": null,
   "metadata": {
    "ExecuteTime": {
     "end_time": "2018-06-01T23:32:29.788550Z",
     "start_time": "2018-06-01T23:28:51.049Z"
    },
    "collapsed": true,
    "hidden": true
   },
   "outputs": [],
   "source": [
    "model = getModel_convLayer()"
   ]
  },
  {
   "cell_type": "code",
   "execution_count": null,
   "metadata": {
    "ExecuteTime": {
     "end_time": "2018-06-01T23:32:29.789621Z",
     "start_time": "2018-06-01T23:28:51.575Z"
    },
    "collapsed": true,
    "hidden": true
   },
   "outputs": [],
   "source": [
    "model.summary()"
   ]
  },
  {
   "cell_type": "code",
   "execution_count": null,
   "metadata": {
    "ExecuteTime": {
     "end_time": "2018-06-01T23:32:29.790667Z",
     "start_time": "2018-06-01T23:28:51.862Z"
    },
    "collapsed": true,
    "hidden": true
   },
   "outputs": [],
   "source": [
    "layerOneWeights = getModel_convLayer().layers[0].get_weights()"
   ]
  },
  {
   "cell_type": "code",
   "execution_count": null,
   "metadata": {
    "ExecuteTime": {
     "end_time": "2018-06-01T23:32:29.791755Z",
     "start_time": "2018-06-01T23:28:52.184Z"
    },
    "collapsed": true,
    "hidden": true
   },
   "outputs": [],
   "source": [
    "layerOneWeights[0].shape"
   ]
  },
  {
   "cell_type": "code",
   "execution_count": null,
   "metadata": {
    "ExecuteTime": {
     "end_time": "2018-06-01T23:32:29.792772Z",
     "start_time": "2018-06-01T23:28:52.491Z"
    },
    "collapsed": true,
    "hidden": true
   },
   "outputs": [],
   "source": [
    "clf.coef_ = clf.coef_.reshape(15, 15)"
   ]
  },
  {
   "cell_type": "code",
   "execution_count": null,
   "metadata": {
    "ExecuteTime": {
     "end_time": "2018-06-01T23:32:29.795205Z",
     "start_time": "2018-06-01T23:28:52.828Z"
    },
    "collapsed": true,
    "hidden": true
   },
   "outputs": [],
   "source": [
    "clf.coef_ = np.expand_dims(clf.coef_, axis=2)"
   ]
  },
  {
   "cell_type": "code",
   "execution_count": null,
   "metadata": {
    "ExecuteTime": {
     "end_time": "2018-06-01T23:32:29.796490Z",
     "start_time": "2018-06-01T23:28:53.112Z"
    },
    "collapsed": true,
    "hidden": true
   },
   "outputs": [],
   "source": [
    "clf.coef_.shape"
   ]
  },
  {
   "cell_type": "code",
   "execution_count": null,
   "metadata": {
    "ExecuteTime": {
     "end_time": "2018-06-01T23:32:29.797846Z",
     "start_time": "2018-06-01T23:28:53.369Z"
    },
    "collapsed": true,
    "hidden": true
   },
   "outputs": [],
   "source": [
    "weights = layerOneWeights[0]"
   ]
  },
  {
   "cell_type": "code",
   "execution_count": null,
   "metadata": {
    "ExecuteTime": {
     "end_time": "2018-06-01T23:32:29.799017Z",
     "start_time": "2018-06-01T23:28:53.716Z"
    },
    "collapsed": true,
    "hidden": true
   },
   "outputs": [],
   "source": [
    "for filter_ in range(weights.shape[-1]):\n",
    "    weights[:, :, :, filter_] = clf.coef_"
   ]
  },
  {
   "cell_type": "code",
   "execution_count": null,
   "metadata": {
    "ExecuteTime": {
     "end_time": "2018-06-01T23:32:29.800145Z",
     "start_time": "2018-06-01T23:28:54.442Z"
    },
    "collapsed": true,
    "hidden": true
   },
   "outputs": [],
   "source": [
    "weightList = []"
   ]
  },
  {
   "cell_type": "code",
   "execution_count": null,
   "metadata": {
    "ExecuteTime": {
     "end_time": "2018-06-01T23:32:29.801321Z",
     "start_time": "2018-06-01T23:28:54.847Z"
    },
    "collapsed": true,
    "hidden": true
   },
   "outputs": [],
   "source": [
    "for filter_id in range(weights.shape[-1]):\n",
    "    new_weight = weights[:, :, :, filter_id].reshape(15, 15)\n",
    "    weightList.append(new_weight)\n",
    "    plt.imshow(new_weight)\n",
    "    plt.show()"
   ]
  },
  {
   "cell_type": "code",
   "execution_count": null,
   "metadata": {
    "ExecuteTime": {
     "end_time": "2018-06-01T23:32:29.802482Z",
     "start_time": "2018-06-01T23:28:55.226Z"
    },
    "collapsed": true,
    "hidden": true
   },
   "outputs": [],
   "source": [
    "plt.imshow(image)"
   ]
  },
  {
   "cell_type": "code",
   "execution_count": null,
   "metadata": {
    "ExecuteTime": {
     "end_time": "2018-06-01T23:32:29.803636Z",
     "start_time": "2018-06-01T23:28:55.560Z"
    },
    "collapsed": true,
    "hidden": true
   },
   "outputs": [],
   "source": [
    "filter1_convolution = convolve2d(image, weightList[0], mode=\"same\")\n",
    "plt.imshow(filter1_convolution, cmap=\"gray\")"
   ]
  },
  {
   "cell_type": "code",
   "execution_count": null,
   "metadata": {
    "ExecuteTime": {
     "end_time": "2018-06-01T23:32:29.804831Z",
     "start_time": "2018-06-01T23:28:55.811Z"
    },
    "collapsed": true,
    "hidden": true
   },
   "outputs": [],
   "source": [
    "plt.imshow(filter1_convolution[200:400, 200:400], cmap='gray')"
   ]
  },
  {
   "cell_type": "code",
   "execution_count": null,
   "metadata": {
    "ExecuteTime": {
     "end_time": "2018-06-01T23:32:29.806019Z",
     "start_time": "2018-06-01T23:28:56.070Z"
    },
    "collapsed": true,
    "hidden": true
   },
   "outputs": [],
   "source": [
    "img = image"
   ]
  },
  {
   "cell_type": "code",
   "execution_count": null,
   "metadata": {
    "ExecuteTime": {
     "end_time": "2018-06-01T23:32:29.807166Z",
     "start_time": "2018-06-01T23:28:56.562Z"
    },
    "collapsed": true,
    "hidden": true
   },
   "outputs": [],
   "source": [
    "for i in range(len(weightList)):\n",
    "    temp = 0\n",
    "    temp = convolve2d(img, weightList[i], mode=\"same\")\n",
    "    plt.imshow(temp, cmap='gray')\n",
    "    plt.show()"
   ]
  },
  {
   "cell_type": "markdown",
   "metadata": {
    "heading_collapsed": true
   },
   "source": [
    "# 1-Layer CNN"
   ]
  },
  {
   "cell_type": "code",
   "execution_count": null,
   "metadata": {
    "ExecuteTime": {
     "end_time": "2018-06-01T23:32:29.808354Z",
     "start_time": "2018-06-01T23:28:56.801Z"
    },
    "collapsed": true,
    "hidden": true
   },
   "outputs": [],
   "source": [
    "def getModel_convLayer():\n",
    "    model = Sequential([\n",
    "        Conv2D(8, 3, 3, activation='relu', input_shape=(15, 15, 1)),\n",
    "        Flatten(),\n",
    "        Dense(1, activation='sigmoid')\n",
    "    ])\n",
    "    model.compile(optimizer='rmsprop',\n",
    "                  loss='binary_crossentropy', metrics=['accuracy'])\n",
    "    return model"
   ]
  },
  {
   "cell_type": "code",
   "execution_count": null,
   "metadata": {
    "ExecuteTime": {
     "end_time": "2018-06-01T23:32:29.809535Z",
     "start_time": "2018-06-01T23:28:56.861Z"
    },
    "collapsed": true,
    "hidden": true
   },
   "outputs": [],
   "source": [
    "model = getModel_convLayer"
   ]
  },
  {
   "cell_type": "code",
   "execution_count": null,
   "metadata": {
    "ExecuteTime": {
     "end_time": "2018-06-01T23:32:29.810113Z",
     "start_time": "2018-06-01T23:28:56.924Z"
    },
    "collapsed": true,
    "hidden": true
   },
   "outputs": [],
   "source": [
    "(acc, logloss, models) = runCrossValidation_keras(\n",
    "    model, dpos, dneg, nb_epoch=5, cnn=True)"
   ]
  },
  {
   "cell_type": "code",
   "execution_count": null,
   "metadata": {
    "ExecuteTime": {
     "end_time": "2018-06-01T23:32:29.811886Z",
     "start_time": "2018-06-01T23:28:56.983Z"
    },
    "collapsed": true,
    "hidden": true
   },
   "outputs": [],
   "source": [
    "getModel_convLayer().summary()"
   ]
  },
  {
   "cell_type": "code",
   "execution_count": null,
   "metadata": {
    "ExecuteTime": {
     "end_time": "2018-06-01T23:32:29.812885Z",
     "start_time": "2018-06-01T23:28:57.081Z"
    },
    "collapsed": true,
    "hidden": true
   },
   "outputs": [],
   "source": [
    "models[0].save('modelTest1.h5')"
   ]
  },
  {
   "cell_type": "code",
   "execution_count": null,
   "metadata": {
    "ExecuteTime": {
     "end_time": "2018-06-01T23:32:29.814048Z",
     "start_time": "2018-06-01T23:28:57.513Z"
    },
    "collapsed": true,
    "hidden": true
   },
   "outputs": [],
   "source": [
    "layerOneWeights = getModel_convLayer().layers[0].get_weights()"
   ]
  },
  {
   "cell_type": "code",
   "execution_count": null,
   "metadata": {
    "ExecuteTime": {
     "end_time": "2018-06-01T23:32:29.815079Z",
     "start_time": "2018-06-01T23:28:57.705Z"
    },
    "collapsed": true,
    "hidden": true
   },
   "outputs": [],
   "source": [
    "weights = layerOneWeights[0]"
   ]
  },
  {
   "cell_type": "code",
   "execution_count": null,
   "metadata": {
    "ExecuteTime": {
     "end_time": "2018-06-01T23:32:29.816226Z",
     "start_time": "2018-06-01T23:28:58.207Z"
    },
    "collapsed": true,
    "hidden": true
   },
   "outputs": [],
   "source": [
    "weightList = []"
   ]
  },
  {
   "cell_type": "code",
   "execution_count": null,
   "metadata": {
    "ExecuteTime": {
     "end_time": "2018-06-01T23:32:29.817298Z",
     "start_time": "2018-06-01T23:28:58.266Z"
    },
    "collapsed": true,
    "hidden": true
   },
   "outputs": [],
   "source": [
    "for filter_id in range(weights.shape[-1]):\n",
    "    new_weight = weights[:, :, :, filter_id].reshape(3, 3)\n",
    "    weightList.append(new_weight)\n",
    "    plt.imshow(new_weight)\n",
    "    plt.show()"
   ]
  },
  {
   "cell_type": "markdown",
   "metadata": {
    "hidden": true
   },
   "source": [
    "Below, we plot the convolution of the first filter with the image."
   ]
  },
  {
   "cell_type": "code",
   "execution_count": null,
   "metadata": {
    "ExecuteTime": {
     "end_time": "2018-06-01T23:32:29.818306Z",
     "start_time": "2018-06-01T23:28:58.475Z"
    },
    "collapsed": true,
    "hidden": true
   },
   "outputs": [],
   "source": [
    "from scipy.signal import convolve2d"
   ]
  },
  {
   "cell_type": "code",
   "execution_count": null,
   "metadata": {
    "ExecuteTime": {
     "end_time": "2018-06-01T23:32:29.819266Z",
     "start_time": "2018-06-01T23:28:58.540Z"
    },
    "collapsed": true,
    "hidden": true
   },
   "outputs": [],
   "source": [
    "filter1_convolution = convolve2d(image, weightList[0], mode=\"same\")\n",
    "plt.imshow(filter1_convolution, cmap=\"gray\")"
   ]
  },
  {
   "cell_type": "code",
   "execution_count": null,
   "metadata": {
    "ExecuteTime": {
     "end_time": "2018-06-01T23:32:29.820226Z",
     "start_time": "2018-06-01T23:28:58.598Z"
    },
    "collapsed": true,
    "hidden": true
   },
   "outputs": [],
   "source": [
    "img = image"
   ]
  },
  {
   "cell_type": "code",
   "execution_count": null,
   "metadata": {
    "ExecuteTime": {
     "end_time": "2018-06-01T23:32:29.820703Z",
     "start_time": "2018-06-01T23:28:58.661Z"
    },
    "collapsed": true,
    "hidden": true
   },
   "outputs": [],
   "source": [
    "for i in range(len(weightList)):\n",
    "    temp = 0\n",
    "    temp = convolve2d(img, weightList[i], mode=\"same\")\n",
    "    plt.imshow(temp, cmap=\"gray\")\n",
    "    plt.show()"
   ]
  },
  {
   "cell_type": "markdown",
   "metadata": {
    "hidden": true
   },
   "source": [
    "Above is (allegedly) the image after all 8 of the filters from the conv2d layer have been applied."
   ]
  },
  {
   "cell_type": "markdown",
   "metadata": {
    "heading_collapsed": true
   },
   "source": [
    "# More complicated CNN"
   ]
  },
  {
   "cell_type": "code",
   "execution_count": null,
   "metadata": {
    "ExecuteTime": {
     "end_time": "2018-06-01T23:32:29.822131Z",
     "start_time": "2018-06-01T23:28:59.418Z"
    },
    "collapsed": true,
    "hidden": true
   },
   "outputs": [],
   "source": [
    "def getModel_twoConvLayer():\n",
    "    model = Sequential([\n",
    "        Conv2D(8, 3, 3, activation='relu', input_shape=(15, 15, 1)),\n",
    "        MaxPooling2D(pool_size=(2, 2)),\n",
    "        Conv2D(8, 3, 3, activation='relu'),\n",
    "        Flatten(),\n",
    "        Dense(1, activation='sigmoid')\n",
    "    ])\n",
    "    model.compile(optimizer='rmsprop',\n",
    "                  loss='binary_crossentropy', metrics=['accuracy'])\n",
    "    return model"
   ]
  },
  {
   "cell_type": "code",
   "execution_count": null,
   "metadata": {
    "ExecuteTime": {
     "end_time": "2018-06-01T23:32:29.823141Z",
     "start_time": "2018-06-01T23:28:59.737Z"
    },
    "collapsed": true,
    "hidden": true
   },
   "outputs": [],
   "source": [
    "newModel = getModel_twoConvLayer"
   ]
  },
  {
   "cell_type": "code",
   "execution_count": null,
   "metadata": {
    "ExecuteTime": {
     "end_time": "2018-06-01T23:32:29.824174Z",
     "start_time": "2018-06-01T23:29:00.241Z"
    },
    "collapsed": true,
    "hidden": true,
    "scrolled": true
   },
   "outputs": [],
   "source": [
    "(acc, logloss, models) = runCrossValidation_keras(\n",
    "    newModel, dpos, dneg, nb_epoch=5, cnn=True)"
   ]
  },
  {
   "cell_type": "code",
   "execution_count": null,
   "metadata": {
    "ExecuteTime": {
     "end_time": "2018-06-01T23:32:29.825299Z",
     "start_time": "2018-06-01T23:29:00.295Z"
    },
    "collapsed": true,
    "hidden": true
   },
   "outputs": [],
   "source": [
    "getModel_twoConvLayer().summary()"
   ]
  },
  {
   "cell_type": "code",
   "execution_count": null,
   "metadata": {
    "ExecuteTime": {
     "end_time": "2018-06-01T23:32:29.825897Z",
     "start_time": "2018-06-01T23:29:00.338Z"
    },
    "collapsed": true,
    "hidden": true
   },
   "outputs": [],
   "source": [
    "models[0].save('models/modelTest2.h5')"
   ]
  },
  {
   "cell_type": "code",
   "execution_count": null,
   "metadata": {
    "ExecuteTime": {
     "end_time": "2018-06-01T23:32:29.827652Z",
     "start_time": "2018-06-01T23:29:00.390Z"
    },
    "collapsed": true,
    "hidden": true
   },
   "outputs": [],
   "source": [
    "layerOneWeights = getModel_twoConvLayer().layers[0].get_weights()"
   ]
  },
  {
   "cell_type": "code",
   "execution_count": null,
   "metadata": {
    "ExecuteTime": {
     "end_time": "2018-06-01T23:32:29.828993Z",
     "start_time": "2018-06-01T23:29:00.447Z"
    },
    "collapsed": true,
    "hidden": true
   },
   "outputs": [],
   "source": [
    "weights = layerOneWeights[0]"
   ]
  },
  {
   "cell_type": "code",
   "execution_count": null,
   "metadata": {
    "ExecuteTime": {
     "end_time": "2018-06-01T23:32:29.829614Z",
     "start_time": "2018-06-01T23:29:00.486Z"
    },
    "collapsed": true,
    "hidden": true
   },
   "outputs": [],
   "source": [
    "weightList = []"
   ]
  },
  {
   "cell_type": "code",
   "execution_count": null,
   "metadata": {
    "ExecuteTime": {
     "end_time": "2018-06-01T23:32:29.831362Z",
     "start_time": "2018-06-01T23:29:00.538Z"
    },
    "collapsed": true,
    "hidden": true
   },
   "outputs": [],
   "source": [
    "for filter_id in range(weights.shape[-1]):\n",
    "    new_weight = weights[:, :, :, filter_id].reshape(3, 3)\n",
    "    weightList.append(new_weight)\n",
    "    plt.imshow(new_weight)\n",
    "    plt.show()"
   ]
  },
  {
   "cell_type": "code",
   "execution_count": null,
   "metadata": {
    "ExecuteTime": {
     "end_time": "2018-06-01T23:32:29.832475Z",
     "start_time": "2018-06-01T23:29:00.598Z"
    },
    "collapsed": true,
    "hidden": true
   },
   "outputs": [],
   "source": [
    "filter1_convolution = convolve2d(image, weightList[0], mode=\"same\")\n",
    "plt.imshow(filter1_convolution, cmap=\"gray\")"
   ]
  },
  {
   "cell_type": "code",
   "execution_count": null,
   "metadata": {
    "ExecuteTime": {
     "end_time": "2018-06-01T23:32:29.833532Z",
     "start_time": "2018-06-01T23:29:00.661Z"
    },
    "collapsed": true,
    "hidden": true
   },
   "outputs": [],
   "source": [
    "img2 = image"
   ]
  },
  {
   "cell_type": "code",
   "execution_count": null,
   "metadata": {
    "ExecuteTime": {
     "end_time": "2018-06-01T23:32:29.834695Z",
     "start_time": "2018-06-01T23:29:00.724Z"
    },
    "collapsed": true,
    "hidden": true
   },
   "outputs": [],
   "source": [
    "for i in range(len(weightList)):\n",
    "    temp = 0\n",
    "    temp = convolve2d(img2, weightList[i], mode=\"same\")\n",
    "    plt.imshow(temp, cmap='gray')\n",
    "    plt.show()"
   ]
  },
  {
   "cell_type": "markdown",
   "metadata": {
    "hidden": true
   },
   "source": [
    "Now for the second conv layer"
   ]
  },
  {
   "cell_type": "code",
   "execution_count": null,
   "metadata": {
    "ExecuteTime": {
     "end_time": "2018-06-01T23:32:29.835845Z",
     "start_time": "2018-06-01T23:29:00.875Z"
    },
    "collapsed": true,
    "hidden": true
   },
   "outputs": [],
   "source": [
    "convLayerTwoWeights = getModel_twoConvLayer().layers[2].get_weights()"
   ]
  },
  {
   "cell_type": "code",
   "execution_count": null,
   "metadata": {
    "ExecuteTime": {
     "end_time": "2018-06-01T23:32:29.836435Z",
     "start_time": "2018-06-01T23:29:00.914Z"
    },
    "collapsed": true,
    "hidden": true
   },
   "outputs": [],
   "source": [
    "convWeights = convLayerTwoWeights[0]"
   ]
  },
  {
   "cell_type": "code",
   "execution_count": null,
   "metadata": {
    "ExecuteTime": {
     "end_time": "2018-06-01T23:32:29.838112Z",
     "start_time": "2018-06-01T23:29:01.084Z"
    },
    "collapsed": true,
    "hidden": true
   },
   "outputs": [],
   "source": [
    "weightListTwo = []"
   ]
  },
  {
   "cell_type": "markdown",
   "metadata": {
    "hidden": true
   },
   "source": [
    "We reshape to (3,3,1,64) and apply to original image since the 64 is now the combinations of applying a layer 1 filter to original image, then a layer 2 filter to that output (8 filters x 8 filters = 64)"
   ]
  },
  {
   "cell_type": "code",
   "execution_count": null,
   "metadata": {
    "ExecuteTime": {
     "end_time": "2018-06-01T23:32:29.839242Z",
     "start_time": "2018-06-01T23:29:01.707Z"
    },
    "collapsed": true,
    "hidden": true
   },
   "outputs": [],
   "source": [
    "convWeights.shape"
   ]
  },
  {
   "cell_type": "code",
   "execution_count": null,
   "metadata": {
    "ExecuteTime": {
     "end_time": "2018-06-01T23:32:29.839864Z",
     "start_time": "2018-06-01T23:29:01.746Z"
    },
    "collapsed": true,
    "hidden": true
   },
   "outputs": [],
   "source": [
    "convWeights = convWeights.reshape(3, 3, 1, 64)"
   ]
  },
  {
   "cell_type": "code",
   "execution_count": null,
   "metadata": {
    "ExecuteTime": {
     "end_time": "2018-06-01T23:32:29.841532Z",
     "start_time": "2018-06-01T23:29:01.800Z"
    },
    "collapsed": true,
    "hidden": true
   },
   "outputs": [],
   "source": [
    "for filter_id in range(convWeights.shape[-1]):\n",
    "    new_weight = convWeights[:, :, :, filter_id].reshape(3, 3)\n",
    "    weightListTwo.append(new_weight)\n",
    "    plt.imshow(new_weight)\n",
    "    plt.show()"
   ]
  },
  {
   "cell_type": "code",
   "execution_count": null,
   "metadata": {
    "ExecuteTime": {
     "end_time": "2018-06-01T23:32:29.842621Z",
     "start_time": "2018-06-01T23:29:01.861Z"
    },
    "collapsed": true,
    "hidden": true
   },
   "outputs": [],
   "source": [
    "filter1_convolution = convolve2d(image, weightListTwo[0], mode=\"same\")\n",
    "plt.imshow(filter1_convolution, cmap=\"gray\")"
   ]
  },
  {
   "cell_type": "code",
   "execution_count": null,
   "metadata": {
    "ExecuteTime": {
     "end_time": "2018-06-01T23:32:29.843726Z",
     "start_time": "2018-06-01T23:29:02.269Z"
    },
    "collapsed": true,
    "hidden": true
   },
   "outputs": [],
   "source": [
    "img3 = image"
   ]
  },
  {
   "cell_type": "code",
   "execution_count": null,
   "metadata": {
    "ExecuteTime": {
     "end_time": "2018-06-01T23:32:29.844871Z",
     "start_time": "2018-06-01T23:29:02.780Z"
    },
    "collapsed": true,
    "hidden": true
   },
   "outputs": [],
   "source": [
    "for i in range(len(weightListTwo)):\n",
    "    temp = 0\n",
    "    temp = convolve2d(img3, weightListTwo[i], mode=\"same\")\n",
    "    plt.imshow(temp, cmap='gray')\n",
    "    plt.show()"
   ]
  },
  {
   "cell_type": "code",
   "execution_count": null,
   "metadata": {
    "ExecuteTime": {
     "end_time": "2018-06-01T23:32:29.846030Z",
     "start_time": "2018-06-01T23:29:02.831Z"
    },
    "collapsed": true,
    "hidden": true
   },
   "outputs": [],
   "source": [
    "plt.imshow(img2, cmap=\"gray\")"
   ]
  },
  {
   "cell_type": "code",
   "execution_count": null,
   "metadata": {
    "ExecuteTime": {
     "end_time": "2018-06-01T23:32:29.847221Z",
     "start_time": "2018-06-01T23:29:02.894Z"
    },
    "collapsed": true,
    "hidden": true
   },
   "outputs": [],
   "source": [
    "oneConv = convolve2d(filter1_convolution, weightListTwo[0], mode=\"same\")\n",
    "plt.imshow(oneConv, cmap=\"gray\")"
   ]
  },
  {
   "cell_type": "markdown",
   "metadata": {
    "heading_collapsed": true
   },
   "source": [
    "# Three Layers"
   ]
  },
  {
   "cell_type": "code",
   "execution_count": null,
   "metadata": {
    "ExecuteTime": {
     "end_time": "2018-06-01T23:32:29.848356Z",
     "start_time": "2018-06-01T23:29:03.078Z"
    },
    "collapsed": true,
    "hidden": true
   },
   "outputs": [],
   "source": [
    "def getModel_threeConvLayer():\n",
    "    model = Sequential([\n",
    "        Conv2D(8, 3, 3, activation='relu', input_shape=(15, 15, 1)),\n",
    "        Conv2D(8, 3, 3, activation='relu'),\n",
    "        MaxPooling2D(pool_size=(2, 2)),\n",
    "        Conv2D(16, 3, 3, activation='relu'),\n",
    "        Flatten(),\n",
    "        Dense(1, activation='sigmoid')\n",
    "    ])\n",
    "    model.compile(optimizer='rmsprop',\n",
    "                  loss='binary_crossentropy', metrics=['accuracy'])\n",
    "    return model"
   ]
  },
  {
   "cell_type": "code",
   "execution_count": null,
   "metadata": {
    "ExecuteTime": {
     "end_time": "2018-06-01T23:32:29.849700Z",
     "start_time": "2018-06-01T23:29:03.138Z"
    },
    "collapsed": true,
    "hidden": true
   },
   "outputs": [],
   "source": [
    "modelThree = getModel_threeConvLayer"
   ]
  },
  {
   "cell_type": "code",
   "execution_count": null,
   "metadata": {
    "ExecuteTime": {
     "end_time": "2018-06-01T23:32:29.850912Z",
     "start_time": "2018-06-01T23:29:03.419Z"
    },
    "collapsed": true,
    "hidden": true,
    "scrolled": true
   },
   "outputs": [],
   "source": [
    "(acc, logloss, models) = runCrossValidation_keras(\n",
    "    modelThree, dpos, dneg, nb_epoch=5, cnn=True)"
   ]
  },
  {
   "cell_type": "code",
   "execution_count": null,
   "metadata": {
    "ExecuteTime": {
     "end_time": "2018-06-01T23:32:29.852074Z",
     "start_time": "2018-06-01T23:29:03.918Z"
    },
    "collapsed": true,
    "hidden": true
   },
   "outputs": [],
   "source": [
    "models[0].save('models/threeLayerModel.h5')"
   ]
  },
  {
   "cell_type": "code",
   "execution_count": null,
   "metadata": {
    "ExecuteTime": {
     "end_time": "2018-06-01T23:32:29.853037Z",
     "start_time": "2018-06-01T23:29:03.975Z"
    },
    "collapsed": true,
    "hidden": true
   },
   "outputs": [],
   "source": [
    "layerOneWeights = getModel_threeConvLayer().layers[0].get_weights()"
   ]
  },
  {
   "cell_type": "code",
   "execution_count": null,
   "metadata": {
    "ExecuteTime": {
     "end_time": "2018-06-01T23:32:29.853973Z",
     "start_time": "2018-06-01T23:29:04.041Z"
    },
    "collapsed": true,
    "hidden": true
   },
   "outputs": [],
   "source": [
    "weights = layerOneWeights[0]"
   ]
  },
  {
   "cell_type": "code",
   "execution_count": null,
   "metadata": {
    "ExecuteTime": {
     "end_time": "2018-06-01T23:32:29.854998Z",
     "start_time": "2018-06-01T23:29:04.103Z"
    },
    "collapsed": true,
    "hidden": true
   },
   "outputs": [],
   "source": [
    "weightList = []"
   ]
  },
  {
   "cell_type": "code",
   "execution_count": null,
   "metadata": {
    "ExecuteTime": {
     "end_time": "2018-06-01T23:32:29.855964Z",
     "start_time": "2018-06-01T23:29:04.159Z"
    },
    "collapsed": true,
    "hidden": true
   },
   "outputs": [],
   "source": [
    "for filter_id in range(weights.shape[-1]):\n",
    "    new_weight = weights[:, :, :, filter_id].reshape(3, 3)\n",
    "    weightList.append(new_weight)\n",
    "    plt.imshow(new_weight)\n",
    "    plt.show()"
   ]
  },
  {
   "cell_type": "code",
   "execution_count": null,
   "metadata": {
    "ExecuteTime": {
     "end_time": "2018-06-01T23:32:29.856454Z",
     "start_time": "2018-06-01T23:29:04.201Z"
    },
    "collapsed": true,
    "hidden": true
   },
   "outputs": [],
   "source": [
    "filter1_convolution = convolve2d(image, weightList[0], mode=\"same\")\n",
    "plt.imshow(filter1_convolution, cmap=\"gray\")"
   ]
  },
  {
   "cell_type": "markdown",
   "metadata": {
    "hidden": true
   },
   "source": [
    "Now we'll apply all the filter of the second conv layer to the ouptut of the first filter from first conv layer."
   ]
  },
  {
   "cell_type": "code",
   "execution_count": null,
   "metadata": {
    "ExecuteTime": {
     "end_time": "2018-06-01T23:32:29.858029Z",
     "start_time": "2018-06-01T23:29:04.696Z"
    },
    "collapsed": true,
    "hidden": true
   },
   "outputs": [],
   "source": [
    "filter4_convolution = convolve2d(image, weightList[3], mode=\"same\")\n",
    "plt.imshow(filter4_convolution, cmap=\"gray\")"
   ]
  },
  {
   "cell_type": "code",
   "execution_count": null,
   "metadata": {
    "ExecuteTime": {
     "end_time": "2018-06-01T23:32:29.859095Z",
     "start_time": "2018-06-01T23:29:05.197Z"
    },
    "collapsed": true,
    "hidden": true
   },
   "outputs": [],
   "source": [
    "filter8_convolution = convolve2d(image, weightList[7], mode=\"same\")\n",
    "plt.imshow(filter8_convolution, cmap=\"gray\")"
   ]
  },
  {
   "cell_type": "code",
   "execution_count": null,
   "metadata": {
    "ExecuteTime": {
     "end_time": "2018-06-01T23:32:29.859577Z",
     "start_time": "2018-06-01T23:29:05.238Z"
    },
    "collapsed": true,
    "hidden": true
   },
   "outputs": [],
   "source": [
    "convLayerTwoWeights = getModel_threeConvLayer().layers[1].get_weights()"
   ]
  },
  {
   "cell_type": "code",
   "execution_count": null,
   "metadata": {
    "ExecuteTime": {
     "end_time": "2018-06-01T23:32:29.861019Z",
     "start_time": "2018-06-01T23:29:05.287Z"
    },
    "collapsed": true,
    "hidden": true
   },
   "outputs": [],
   "source": [
    "convWeights = convLayerTwoWeights[0]"
   ]
  },
  {
   "cell_type": "code",
   "execution_count": null,
   "metadata": {
    "ExecuteTime": {
     "end_time": "2018-06-01T23:32:29.861488Z",
     "start_time": "2018-06-01T23:29:05.326Z"
    },
    "collapsed": true,
    "hidden": true
   },
   "outputs": [],
   "source": [
    "convWeights.shape"
   ]
  },
  {
   "cell_type": "code",
   "execution_count": null,
   "metadata": {
    "ExecuteTime": {
     "end_time": "2018-06-01T23:32:29.863250Z",
     "start_time": "2018-06-01T23:29:05.377Z"
    },
    "collapsed": true,
    "hidden": true
   },
   "outputs": [],
   "source": [
    "convWeights = convWeights.reshape(3, 3, 1, 64)"
   ]
  },
  {
   "cell_type": "code",
   "execution_count": null,
   "metadata": {
    "ExecuteTime": {
     "end_time": "2018-06-01T23:32:29.864920Z",
     "start_time": "2018-06-01T23:29:05.439Z"
    },
    "collapsed": true,
    "hidden": true
   },
   "outputs": [],
   "source": [
    "weightListTwo = []"
   ]
  },
  {
   "cell_type": "code",
   "execution_count": null,
   "metadata": {
    "ExecuteTime": {
     "end_time": "2018-06-01T23:32:29.866474Z",
     "start_time": "2018-06-01T23:29:05.502Z"
    },
    "collapsed": true,
    "hidden": true
   },
   "outputs": [],
   "source": [
    "for filter_id in range(convWeights.shape[-1]):\n",
    "    new_weight = convWeights[:, :, :, filter_id].reshape(3, 3)\n",
    "    weightListTwo.append(new_weight)\n",
    "    plt.imshow(new_weight)\n",
    "    plt.show()"
   ]
  },
  {
   "cell_type": "code",
   "execution_count": null,
   "metadata": {
    "ExecuteTime": {
     "end_time": "2018-06-01T23:32:29.867515Z",
     "start_time": "2018-06-01T23:29:05.558Z"
    },
    "collapsed": true,
    "hidden": true
   },
   "outputs": [],
   "source": [
    "img3 = image"
   ]
  },
  {
   "cell_type": "code",
   "execution_count": null,
   "metadata": {
    "ExecuteTime": {
     "end_time": "2018-06-01T23:32:29.868551Z",
     "start_time": "2018-06-01T23:29:05.622Z"
    },
    "collapsed": true,
    "hidden": true
   },
   "outputs": [],
   "source": [
    "conv2_img = convolve2d(img3, weightListTwo[0], mode=\"same\")\n",
    "plt.imshow(conv2_img, cmap='gray')"
   ]
  },
  {
   "cell_type": "code",
   "execution_count": null,
   "metadata": {
    "ExecuteTime": {
     "end_time": "2018-06-01T23:32:29.869626Z",
     "start_time": "2018-06-01T23:29:05.686Z"
    },
    "collapsed": true,
    "hidden": true
   },
   "outputs": [],
   "source": [
    "for i in range(len(weightListTwo)):\n",
    "    temp = 0\n",
    "    temp = convolve2d(img3, weightListTwo[i], mode=\"same\")\n",
    "    plt.imshow(temp, cmap='gray')\n",
    "    plt.show()"
   ]
  },
  {
   "cell_type": "code",
   "execution_count": null,
   "metadata": {
    "ExecuteTime": {
     "end_time": "2018-06-01T23:32:29.870677Z",
     "start_time": "2018-06-01T23:29:05.743Z"
    },
    "collapsed": true,
    "hidden": true
   },
   "outputs": [],
   "source": [
    "convLayerThreeWeights = getModel_threeConvLayer().layers[3].get_weights()"
   ]
  },
  {
   "cell_type": "code",
   "execution_count": null,
   "metadata": {
    "ExecuteTime": {
     "end_time": "2018-06-01T23:32:29.871259Z",
     "start_time": "2018-06-01T23:29:05.784Z"
    },
    "collapsed": true,
    "hidden": true
   },
   "outputs": [],
   "source": [
    "convWeights3 = convLayerThreeWeights[0]"
   ]
  },
  {
   "cell_type": "code",
   "execution_count": null,
   "metadata": {
    "ExecuteTime": {
     "end_time": "2018-06-01T23:32:29.872954Z",
     "start_time": "2018-06-01T23:29:05.839Z"
    },
    "collapsed": true,
    "hidden": true
   },
   "outputs": [],
   "source": [
    "convWeights3.shape"
   ]
  },
  {
   "cell_type": "code",
   "execution_count": null,
   "metadata": {
    "ExecuteTime": {
     "end_time": "2018-06-01T23:32:29.874020Z",
     "start_time": "2018-06-01T23:29:05.897Z"
    },
    "collapsed": true,
    "hidden": true
   },
   "outputs": [],
   "source": [
    "convWeights3 = convWeights3.reshape(3, 3, 1, 128)"
   ]
  },
  {
   "cell_type": "code",
   "execution_count": null,
   "metadata": {
    "ExecuteTime": {
     "end_time": "2018-06-01T23:32:29.874597Z",
     "start_time": "2018-06-01T23:29:05.935Z"
    },
    "collapsed": true,
    "hidden": true
   },
   "outputs": [],
   "source": [
    "weightListThree = []"
   ]
  },
  {
   "cell_type": "code",
   "execution_count": null,
   "metadata": {
    "ExecuteTime": {
     "end_time": "2018-06-01T23:32:29.876433Z",
     "start_time": "2018-06-01T23:29:05.993Z"
    },
    "collapsed": true,
    "hidden": true
   },
   "outputs": [],
   "source": [
    "for filter_id in range(convWeights3.shape[-1]):\n",
    "    new_weight = convWeights3[:, :, :, filter_id].reshape(3, 3)\n",
    "    weightListThree.append(new_weight)\n",
    "    plt.imshow(new_weight)\n",
    "    plt.show()"
   ]
  },
  {
   "cell_type": "code",
   "execution_count": null,
   "metadata": {
    "ExecuteTime": {
     "end_time": "2018-06-01T23:32:29.877426Z",
     "start_time": "2018-06-01T23:29:06.049Z"
    },
    "collapsed": true,
    "hidden": true
   },
   "outputs": [],
   "source": [
    "imgThree = image"
   ]
  },
  {
   "cell_type": "code",
   "execution_count": null,
   "metadata": {
    "ExecuteTime": {
     "end_time": "2018-06-01T23:32:29.877903Z",
     "start_time": "2018-06-01T23:29:06.118Z"
    },
    "collapsed": true,
    "hidden": true
   },
   "outputs": [],
   "source": [
    "for i in range(len(weightListThree)):\n",
    "    temp = 0\n",
    "    temp = convolve2d(imgThree, weightListThree[i], mode=\"same\")\n",
    "    plt.imshow(temp, cmap='gray')\n",
    "    plt.show()"
   ]
  },
  {
   "cell_type": "markdown",
   "metadata": {},
   "source": [
    "# Full Network"
   ]
  },
  {
   "cell_type": "code",
   "execution_count": null,
   "metadata": {
    "ExecuteTime": {
     "end_time": "2018-06-04T22:24:34.971056Z",
     "start_time": "2018-06-04T22:24:34.951220Z"
    },
    "collapsed": true
   },
   "outputs": [],
   "source": [
    "def getModel_convcommon2():\n",
    "    model = Sequential([\n",
    "        BatchNormalization(input_shape=(15, 15, 1)),\n",
    "        Conv2D(8, 3, 3, activation='relu', name='conv_one'),\n",
    "        Conv2D(8, 3, 3, activation='relu'),\n",
    "        MaxPooling2D(pool_size=(2, 2)),\n",
    "        Conv2D(8, 1, 1, activation='relu'),\n",
    "        Conv2D(8, 1, 1, activation='relu'),\n",
    "        MaxPooling2D(pool_size=(2, 2)),\n",
    "        Conv2D(8, 1, 1, activation='relu'),\n",
    "        Conv2D(8, 1, 1, activation='relu'),\n",
    "        MaxPooling2D(pool_size=(2, 2)),\n",
    "        Flatten(),\n",
    "        Dense(225, activation='relu'),\n",
    "        Dense(225, activation='relu'),\n",
    "        Dense(1, activation='sigmoid')\n",
    "    ])\n",
    "    model.compile(optimizer='rmsprop',\n",
    "                  loss='binary_crossentropy', metrics=['accuracy'])\n",
    "    return model"
   ]
  },
  {
   "cell_type": "code",
   "execution_count": null,
   "metadata": {
    "ExecuteTime": {
     "end_time": "2018-06-04T22:24:35.929624Z",
     "start_time": "2018-06-04T22:24:35.927514Z"
    },
    "collapsed": true
   },
   "outputs": [],
   "source": [
    "fullModel = getModel_convcommon2"
   ]
  },
  {
   "cell_type": "code",
   "execution_count": null,
   "metadata": {
    "ExecuteTime": {
     "end_time": "2018-06-04T22:30:07.059700Z",
     "start_time": "2018-06-04T22:24:36.907438Z"
    },
    "collapsed": true,
    "scrolled": true
   },
   "outputs": [],
   "source": [
    "(acc, logloss, models) = runCrossValidation_keras(\n",
    "    fullModel, dpos, dneg, nb_epoch=15, cnn=True)"
   ]
  },
  {
   "cell_type": "code",
   "execution_count": null,
   "metadata": {
    "ExecuteTime": {
     "end_time": "2018-06-04T22:30:09.769978Z",
     "start_time": "2018-06-04T22:30:09.752527Z"
    },
    "collapsed": true
   },
   "outputs": [],
   "source": [
    "models[0].save('noteheadDetector/models/fullModel.h5')"
   ]
  },
  {
   "cell_type": "code",
   "execution_count": null,
   "metadata": {
    "ExecuteTime": {
     "end_time": "2018-06-01T23:32:29.883870Z",
     "start_time": "2018-06-01T23:29:06.541Z"
    },
    "collapsed": true
   },
   "outputs": [],
   "source": [
    "layerOneWeights = getModel_convcommon2().layers[1].get_weights()"
   ]
  },
  {
   "cell_type": "code",
   "execution_count": null,
   "metadata": {
    "ExecuteTime": {
     "end_time": "2018-06-01T23:32:29.884978Z",
     "start_time": "2018-06-01T23:29:06.990Z"
    },
    "collapsed": true
   },
   "outputs": [],
   "source": [
    "weights1 = layerOneWeights[0]"
   ]
  },
  {
   "cell_type": "code",
   "execution_count": null,
   "metadata": {
    "ExecuteTime": {
     "end_time": "2018-06-01T23:32:29.886006Z",
     "start_time": "2018-06-01T23:29:07.492Z"
    },
    "collapsed": true
   },
   "outputs": [],
   "source": [
    "weightList1 = []"
   ]
  },
  {
   "cell_type": "code",
   "execution_count": null,
   "metadata": {
    "ExecuteTime": {
     "end_time": "2018-06-01T23:32:29.887152Z",
     "start_time": "2018-06-01T23:29:07.551Z"
    },
    "collapsed": true
   },
   "outputs": [],
   "source": [
    "for filter_id in range(weights1.shape[-1]):\n",
    "    new_weight = weights1[:, :, :, filter_id].reshape(3, 3)\n",
    "    weightList1.append(new_weight)\n",
    "    plt.imshow(new_weight)\n",
    "    plt.show()"
   ]
  },
  {
   "cell_type": "code",
   "execution_count": null,
   "metadata": {
    "ExecuteTime": {
     "end_time": "2018-06-01T23:32:29.887702Z",
     "start_time": "2018-06-01T23:29:07.593Z"
    },
    "collapsed": true
   },
   "outputs": [],
   "source": [
    "imCopy = image"
   ]
  },
  {
   "cell_type": "code",
   "execution_count": null,
   "metadata": {
    "ExecuteTime": {
     "end_time": "2018-06-01T23:32:29.889268Z",
     "start_time": "2018-06-01T23:29:07.646Z"
    },
    "collapsed": true
   },
   "outputs": [],
   "source": [
    "for i in range(len(weightList1)):\n",
    "    temp = 0\n",
    "    temp = convolve2d(imCopy, weightList1[i], mode=\"same\")\n",
    "    plt.imshow(temp, cmap='gray')\n",
    "    plt.show()"
   ]
  },
  {
   "cell_type": "code",
   "execution_count": null,
   "metadata": {
    "ExecuteTime": {
     "end_time": "2018-06-01T23:32:29.890250Z",
     "start_time": "2018-06-01T23:29:07.701Z"
    },
    "collapsed": true
   },
   "outputs": [],
   "source": [
    "layerTwoWeights = getModel_convcommon2().layers[2].get_weights()"
   ]
  },
  {
   "cell_type": "code",
   "execution_count": null,
   "metadata": {
    "ExecuteTime": {
     "end_time": "2018-06-01T23:32:29.891343Z",
     "start_time": "2018-06-01T23:29:07.767Z"
    },
    "collapsed": true
   },
   "outputs": [],
   "source": [
    "weights2 = layerTwoWeights[0]"
   ]
  },
  {
   "cell_type": "code",
   "execution_count": null,
   "metadata": {
    "ExecuteTime": {
     "end_time": "2018-06-01T23:32:29.892511Z",
     "start_time": "2018-06-01T23:29:07.827Z"
    },
    "collapsed": true
   },
   "outputs": [],
   "source": [
    "weights2.shape"
   ]
  },
  {
   "cell_type": "code",
   "execution_count": null,
   "metadata": {
    "ExecuteTime": {
     "end_time": "2018-06-01T23:32:29.893631Z",
     "start_time": "2018-06-01T23:29:07.889Z"
    },
    "collapsed": true
   },
   "outputs": [],
   "source": [
    "weights2 = weights2.reshape(3, 3, 1, 64)"
   ]
  },
  {
   "cell_type": "code",
   "execution_count": null,
   "metadata": {
    "ExecuteTime": {
     "end_time": "2018-06-01T23:32:29.894817Z",
     "start_time": "2018-06-01T23:29:07.949Z"
    },
    "collapsed": true
   },
   "outputs": [],
   "source": [
    "weightList2 = []"
   ]
  },
  {
   "cell_type": "code",
   "execution_count": null,
   "metadata": {
    "ExecuteTime": {
     "end_time": "2018-06-01T23:32:29.895864Z",
     "start_time": "2018-06-01T23:29:08.012Z"
    },
    "collapsed": true
   },
   "outputs": [],
   "source": [
    "for filter_id in range(weights2.shape[-1]):\n",
    "    new_weight = weights2[:, :, :, filter_id].reshape(3, 3)\n",
    "    weightList2.append(new_weight)\n",
    "    plt.imshow(new_weight)\n",
    "    plt.show()"
   ]
  },
  {
   "cell_type": "code",
   "execution_count": null,
   "metadata": {
    "ExecuteTime": {
     "end_time": "2018-06-01T23:32:29.897006Z",
     "start_time": "2018-06-01T23:29:08.071Z"
    },
    "collapsed": true
   },
   "outputs": [],
   "source": [
    "for i in range(len(weightList2)):\n",
    "    temp = 0\n",
    "    temp = convolve2d(imCopy, weightList2[i], mode=\"same\")\n",
    "    plt.imshow(temp, cmap='gray')\n",
    "    plt.show()"
   ]
  },
  {
   "cell_type": "code",
   "execution_count": null,
   "metadata": {
    "ExecuteTime": {
     "end_time": "2018-06-01T23:32:29.897574Z",
     "start_time": "2018-06-01T23:29:08.112Z"
    },
    "collapsed": true
   },
   "outputs": [],
   "source": [
    "layerThreeWeights = getModel_convcommon2().layers[4].get_weights()"
   ]
  },
  {
   "cell_type": "code",
   "execution_count": null,
   "metadata": {
    "ExecuteTime": {
     "end_time": "2018-06-01T23:32:29.899232Z",
     "start_time": "2018-06-01T23:29:08.166Z"
    },
    "collapsed": true
   },
   "outputs": [],
   "source": [
    "weights3 = layerThreeWeights[0]"
   ]
  },
  {
   "cell_type": "code",
   "execution_count": null,
   "metadata": {
    "ExecuteTime": {
     "end_time": "2018-06-01T23:32:29.899806Z",
     "start_time": "2018-06-01T23:29:08.205Z"
    },
    "collapsed": true
   },
   "outputs": [],
   "source": [
    "weights3.shape"
   ]
  },
  {
   "cell_type": "code",
   "execution_count": null,
   "metadata": {
    "ExecuteTime": {
     "end_time": "2018-06-01T23:32:29.901440Z",
     "start_time": "2018-06-01T23:29:08.259Z"
    },
    "collapsed": true
   },
   "outputs": [],
   "source": [
    "weights3 = weights3.reshape(1, 1, 1, 64)"
   ]
  },
  {
   "cell_type": "code",
   "execution_count": null,
   "metadata": {
    "ExecuteTime": {
     "end_time": "2018-06-01T23:32:29.902500Z",
     "start_time": "2018-06-01T23:29:08.318Z"
    },
    "collapsed": true
   },
   "outputs": [],
   "source": [
    "weightList3 = []"
   ]
  },
  {
   "cell_type": "code",
   "execution_count": null,
   "metadata": {
    "ExecuteTime": {
     "end_time": "2018-06-01T23:32:29.903558Z",
     "start_time": "2018-06-01T23:29:08.382Z"
    },
    "collapsed": true
   },
   "outputs": [],
   "source": [
    "for filter_id in range(weights3.shape[-1]):\n",
    "    new_weight = weights3[:, :, :, filter_id].reshape(1, 1)\n",
    "    weightList3.append(new_weight)\n",
    "    plt.imshow(new_weight)\n",
    "    plt.show()"
   ]
  },
  {
   "cell_type": "code",
   "execution_count": null,
   "metadata": {
    "ExecuteTime": {
     "end_time": "2018-06-01T23:32:29.904643Z",
     "start_time": "2018-06-01T23:29:08.440Z"
    },
    "collapsed": true
   },
   "outputs": [],
   "source": [
    "for i in range(len(weightList3)):\n",
    "    temp = 0\n",
    "    temp = convolve2d(imCopy, weightList3[i], mode=\"same\")\n",
    "    plt.imshow(temp, cmap='gray')\n",
    "    plt.show()"
   ]
  },
  {
   "cell_type": "code",
   "execution_count": null,
   "metadata": {
    "ExecuteTime": {
     "end_time": "2018-06-01T23:32:29.905147Z",
     "start_time": "2018-06-01T23:29:08.483Z"
    },
    "collapsed": true
   },
   "outputs": [],
   "source": [
    "layerFourWeights = getModel_convcommon2().layers[5].get_weights()"
   ]
  },
  {
   "cell_type": "code",
   "execution_count": null,
   "metadata": {
    "ExecuteTime": {
     "end_time": "2018-06-01T23:32:29.906704Z",
     "start_time": "2018-06-01T23:29:08.532Z"
    },
    "collapsed": true
   },
   "outputs": [],
   "source": [
    "weights4 = layerFourWeights[0]"
   ]
  },
  {
   "cell_type": "code",
   "execution_count": null,
   "metadata": {
    "ExecuteTime": {
     "end_time": "2018-06-01T23:32:29.907809Z",
     "start_time": "2018-06-01T23:29:08.592Z"
    },
    "collapsed": true
   },
   "outputs": [],
   "source": [
    "weights4.shape"
   ]
  },
  {
   "cell_type": "code",
   "execution_count": null,
   "metadata": {
    "ExecuteTime": {
     "end_time": "2018-06-01T23:32:29.908309Z",
     "start_time": "2018-06-01T23:29:08.632Z"
    },
    "collapsed": true
   },
   "outputs": [],
   "source": [
    "weights4 = weights4.reshape(1, 1, 1, 64)"
   ]
  },
  {
   "cell_type": "code",
   "execution_count": null,
   "metadata": {
    "ExecuteTime": {
     "end_time": "2018-06-01T23:32:29.909923Z",
     "start_time": "2018-06-01T23:29:08.683Z"
    },
    "collapsed": true
   },
   "outputs": [],
   "source": [
    "weightList4 = []"
   ]
  },
  {
   "cell_type": "code",
   "execution_count": null,
   "metadata": {
    "ExecuteTime": {
     "end_time": "2018-06-01T23:32:29.910933Z",
     "start_time": "2018-06-01T23:29:08.954Z"
    },
    "collapsed": true
   },
   "outputs": [],
   "source": [
    "for filter_id in range(weights4.shape[-1]):\n",
    "    new_weight = weights4[:, :, :, filter_id].reshape(1, 1)\n",
    "    weightList4.append(new_weight)\n",
    "    plt.imshow(new_weight)\n",
    "    plt.show()"
   ]
  },
  {
   "cell_type": "code",
   "execution_count": null,
   "metadata": {
    "ExecuteTime": {
     "end_time": "2018-06-01T23:32:29.912008Z",
     "start_time": "2018-06-01T23:29:09.457Z"
    },
    "collapsed": true
   },
   "outputs": [],
   "source": [
    "for i in range(len(weightList4)):\n",
    "    temp = 0\n",
    "    temp = convolve2d(imCopy, weightList4[i], mode=\"same\")\n",
    "    plt.imshow(temp, cmap='gray')\n",
    "    plt.show()"
   ]
  },
  {
   "cell_type": "code",
   "execution_count": null,
   "metadata": {
    "ExecuteTime": {
     "end_time": "2018-06-01T23:32:29.913026Z",
     "start_time": "2018-06-01T23:29:09.511Z"
    },
    "collapsed": true
   },
   "outputs": [],
   "source": [
    "lastLayerWeights = getModel_convcommon2().layers[8].get_weights()"
   ]
  },
  {
   "cell_type": "code",
   "execution_count": null,
   "metadata": {
    "ExecuteTime": {
     "end_time": "2018-06-01T23:32:29.914178Z",
     "start_time": "2018-06-01T23:29:09.572Z"
    },
    "collapsed": true
   },
   "outputs": [],
   "source": [
    "weights6 = lastLayerWeights[0]"
   ]
  },
  {
   "cell_type": "code",
   "execution_count": null,
   "metadata": {
    "ExecuteTime": {
     "end_time": "2018-06-01T23:32:29.914712Z",
     "start_time": "2018-06-01T23:29:09.609Z"
    },
    "collapsed": true
   },
   "outputs": [],
   "source": [
    "weights6.shape"
   ]
  },
  {
   "cell_type": "code",
   "execution_count": null,
   "metadata": {
    "ExecuteTime": {
     "end_time": "2018-06-01T23:32:29.916349Z",
     "start_time": "2018-06-01T23:29:09.662Z"
    },
    "collapsed": true
   },
   "outputs": [],
   "source": [
    "weights6 = weights6.reshape(1, 1, 1, 64)"
   ]
  },
  {
   "cell_type": "code",
   "execution_count": null,
   "metadata": {
    "ExecuteTime": {
     "end_time": "2018-06-01T23:32:29.916896Z",
     "start_time": "2018-06-01T23:29:09.702Z"
    },
    "collapsed": true
   },
   "outputs": [],
   "source": [
    "weightList6 = []"
   ]
  },
  {
   "cell_type": "code",
   "execution_count": null,
   "metadata": {
    "ExecuteTime": {
     "end_time": "2018-06-01T23:32:29.918586Z",
     "start_time": "2018-06-01T23:29:09.756Z"
    },
    "collapsed": true
   },
   "outputs": [],
   "source": [
    "for filter_id in range(weights6.shape[-1]):\n",
    "    new_weight = weights6[:, :, :, filter_id].reshape(1, 1)\n",
    "    weightList6.append(new_weight)\n",
    "    plt.imshow(new_weight)\n",
    "    plt.show()"
   ]
  },
  {
   "cell_type": "code",
   "execution_count": null,
   "metadata": {
    "ExecuteTime": {
     "end_time": "2018-06-01T23:32:29.919677Z",
     "start_time": "2018-06-01T23:29:09.817Z"
    },
    "collapsed": true
   },
   "outputs": [],
   "source": [
    "for i in range(len(weightList6)):\n",
    "    temp = 0\n",
    "    temp = convolve2d(imCopy, weightList6[i], mode=\"same\")\n",
    "    plt.imshow(temp, cmap='gray')\n",
    "    plt.show()"
   ]
  },
  {
   "cell_type": "code",
   "execution_count": null,
   "metadata": {
    "collapsed": true
   },
   "outputs": [],
   "source": []
  },
  {
   "cell_type": "markdown",
   "metadata": {},
   "source": [
    "# Mek's experiment"
   ]
  },
  {
   "cell_type": "markdown",
   "metadata": {},
   "source": [
    "## Setup the model\n",
    "Manually checked the model has been loaded correctly."
   ]
  },
  {
   "cell_type": "code",
   "execution_count": 10,
   "metadata": {
    "ExecuteTime": {
     "end_time": "2018-06-05T00:12:30.728866Z",
     "start_time": "2018-06-05T00:12:29.032465Z"
    },
    "collapsed": true
   },
   "outputs": [],
   "source": [
    "model = keras.models.load_model('noteheadDetector/models/cnn8.h5')"
   ]
  },
  {
   "cell_type": "markdown",
   "metadata": {},
   "source": [
    "## Get the full sheet music"
   ]
  },
  {
   "cell_type": "code",
   "execution_count": 11,
   "metadata": {
    "ExecuteTime": {
     "end_time": "2018-06-05T00:12:30.971411Z",
     "start_time": "2018-06-05T00:12:30.774887Z"
    },
    "collapsed": true
   },
   "outputs": [],
   "source": [
    "import cv2"
   ]
  },
  {
   "cell_type": "code",
   "execution_count": 12,
   "metadata": {
    "ExecuteTime": {
     "end_time": "2018-06-05T00:12:31.433650Z",
     "start_time": "2018-06-05T00:12:31.024142Z"
    }
   },
   "outputs": [
    {
     "name": "stdout",
     "output_type": "stream",
     "text": [
      "(842, 595)\n"
     ]
    },
    {
     "data": {
      "image/png": "[encoded data removed]",
      "text/plain": [
       "<matplotlib.figure.Figure at 0x7f191c080860>"
      ]
     },
     "metadata": {},
     "output_type": "display_data"
    }
   ],
   "source": [
    "image = cv2.imread('true_piece.png', cv2.IMREAD_GRAYSCALE)\n",
    "plt.figure(figsize=(20,20))\n",
    "plt.imshow(image, cmap='gray')\n",
    "print(image.shape)"
   ]
  },
  {
   "cell_type": "markdown",
   "metadata": {},
   "source": [
    "## Check Training data"
   ]
  },
  {
   "cell_type": "code",
   "execution_count": 35,
   "metadata": {
    "ExecuteTime": {
     "end_time": "2018-06-05T00:15:44.788945Z",
     "start_time": "2018-06-05T00:15:44.676268Z"
    },
    "collapsed": true
   },
   "outputs": [],
   "source": [
    "with open('noteheadDetector/pkl_data/notes_pos.pkl','rb') as f:\n",
    "    dpos = pickle.load(f, encoding='bytes')\n",
    "with open('noteheadDetector/pkl_data/notes_neg.pkl','rb') as f:\n",
    "    dneg = pickle.load(f, encoding='bytes')"
   ]
  },
  {
   "cell_type": "code",
   "execution_count": 36,
   "metadata": {
    "ExecuteTime": {
     "end_time": "2018-06-05T00:15:45.947690Z",
     "start_time": "2018-06-05T00:15:45.856256Z"
    }
   },
   "outputs": [
    {
     "data": {
      "text/plain": [
       "<matplotlib.image.AxesImage at 0x7f191c03cf60>"
      ]
     },
     "execution_count": 36,
     "metadata": {},
     "output_type": "execute_result"
    },
    {
     "data": {
      "image/png": "[encoded data removed]",
      "text/plain": [
       "<matplotlib.figure.Figure at 0x7f1937ad5ba8>"
      ]
     },
     "metadata": {},
     "output_type": "display_data"
    }
   ],
   "source": [
    "plt.imshow(dneg[b'score1'][1])"
   ]
  },
  {
   "cell_type": "code",
   "execution_count": 37,
   "metadata": {
    "ExecuteTime": {
     "end_time": "2018-06-05T00:15:47.007135Z",
     "start_time": "2018-06-05T00:15:46.913097Z"
    }
   },
   "outputs": [
    {
     "data": {
      "text/plain": [
       "<matplotlib.image.AxesImage at 0x7f15d0444320>"
      ]
     },
     "execution_count": 37,
     "metadata": {},
     "output_type": "execute_result"
    },
    {
     "data": {
      "image/png": "[encoded data removed]",
      "text/plain": [
       "<matplotlib.figure.Figure at 0x7f15d1398a58>"
      ]
     },
     "metadata": {},
     "output_type": "display_data"
    }
   ],
   "source": [
    "plt.imshow(dpos[b'score1'][100])"
   ]
  },
  {
   "cell_type": "code",
   "execution_count": 38,
   "metadata": {
    "ExecuteTime": {
     "end_time": "2018-06-05T00:15:48.067181Z",
     "start_time": "2018-06-05T00:15:47.997710Z"
    }
   },
   "outputs": [
    {
     "data": {
      "text/plain": [
       "array([[0.9473098]], dtype=float32)"
      ]
     },
     "execution_count": 38,
     "metadata": {},
     "output_type": "execute_result"
    }
   ],
   "source": [
    "model.predict(dpos[b'score1'][100].reshape(1,15,15,1))"
   ]
  },
  {
   "cell_type": "markdown",
   "metadata": {},
   "source": [
    "## Modified model"
   ]
  },
  {
   "cell_type": "code",
   "execution_count": 13,
   "metadata": {
    "ExecuteTime": {
     "end_time": "2018-06-05T00:12:31.482554Z",
     "start_time": "2018-06-05T00:12:31.479777Z"
    },
    "collapsed": true
   },
   "outputs": [],
   "source": [
    "import tensorflow as tf\n",
    "from keras import backend as K"
   ]
  },
  {
   "cell_type": "code",
   "execution_count": 14,
   "metadata": {
    "ExecuteTime": {
     "end_time": "2018-06-05T00:12:31.538373Z",
     "start_time": "2018-06-05T00:12:31.532592Z"
    },
    "collapsed": true
   },
   "outputs": [],
   "source": [
    "config = tf.ConfigProto()\n",
    "config.gpu_options.per_process_gpu_memory_fraction = 0.5"
   ]
  },
  {
   "cell_type": "code",
   "execution_count": 15,
   "metadata": {
    "ExecuteTime": {
     "end_time": "2018-06-05T00:12:31.829081Z",
     "start_time": "2018-06-05T00:12:31.583859Z"
    },
    "collapsed": true
   },
   "outputs": [],
   "source": [
    "img = tf.placeholder(tf.float32, shape=(1, None, None, 1))\n",
    "img_slides = tf.extract_image_patches(img,\n",
    "                                      [1,15,15,1], \n",
    "                                      [1,1,1,1], \n",
    "                                      [1,1,1,1], \n",
    "                                      'VALID')\n",
    "\n",
    "x = K.reshape(img_slides, [-1,15,15,1])\n",
    "y = model(x)"
   ]
  },
  {
   "cell_type": "code",
   "execution_count": 114,
   "metadata": {
    "ExecuteTime": {
     "end_time": "2018-06-05T00:39:38.817092Z",
     "start_time": "2018-06-05T00:39:38.799391Z"
    },
    "collapsed": true
   },
   "outputs": [],
   "source": [
    "image = 255 - cv2.imread('true_piece.png', cv2.IMREAD_GRAYSCALE)\n",
    "image = cv2.resize(image, None, fx=2, fy=2, interpolation=cv2.INTER_CUBIC)\n",
    "image = image[0:500,0:500]"
   ]
  },
  {
   "cell_type": "code",
   "execution_count": 115,
   "metadata": {
    "ExecuteTime": {
     "end_time": "2018-06-05T00:39:42.350908Z",
     "start_time": "2018-06-05T00:39:42.201659Z"
    }
   },
   "outputs": [
    {
     "data": {
      "text/plain": [
       "<matplotlib.image.AxesImage at 0x7f1578655c50>"
      ]
     },
     "execution_count": 115,
     "metadata": {},
     "output_type": "execute_result"
    },
    {
     "data": {
      "image/png": "[encoded data removed]",
      "text/plain": [
       "<matplotlib.figure.Figure at 0x7f1578ac8c88>"
      ]
     },
     "metadata": {},
     "output_type": "display_data"
    }
   ],
   "source": [
    "plt.imshow(image)"
   ]
  },
  {
   "cell_type": "code",
   "execution_count": 116,
   "metadata": {
    "ExecuteTime": {
     "end_time": "2018-06-05T00:39:43.600874Z",
     "start_time": "2018-06-05T00:39:43.297590Z"
    },
    "collapsed": true,
    "scrolled": false
   },
   "outputs": [],
   "source": [
    "img_shape = image.shape\n",
    "img_reshaped = image.reshape(1, img_shape[0], img_shape[1], 1)\n",
    "\n",
    "with tf.Session(config=config).as_default() as sess:\n",
    "#     run_opts = tf.RunOptions(report_tensor_allocations_upon_oom = True)\n",
    "#     sess = tf_debug.TensorBoardDebugWrapperSession(sess, \"mirlab:6000\")model\n",
    "    model.load_weights('noteheadDetector/models/cnn8.h5')\n",
    "    output_vals = sess.run(y, {img: img_reshaped,\n",
    "                               K.learning_phase(): 0})"
   ]
  },
  {
   "cell_type": "code",
   "execution_count": 117,
   "metadata": {
    "ExecuteTime": {
     "end_time": "2018-06-05T00:39:44.541977Z",
     "start_time": "2018-06-05T00:39:44.539619Z"
    },
    "collapsed": true
   },
   "outputs": [],
   "source": [
    "output_vals = output_vals.reshape((image.shape[0]-14, image.shape[1]-14))"
   ]
  },
  {
   "cell_type": "code",
   "execution_count": 118,
   "metadata": {
    "ExecuteTime": {
     "end_time": "2018-06-05T00:39:45.450035Z",
     "start_time": "2018-06-05T00:39:45.447253Z"
    }
   },
   "outputs": [
    {
     "data": {
      "text/plain": [
       "array([[0.00037366, 0.00037366, 0.00037366, ..., 0.00037366, 0.00037366,\n",
       "        0.00037366],\n",
       "       [0.00037366, 0.00037366, 0.00037366, ..., 0.00037366, 0.00037366,\n",
       "        0.00037366],\n",
       "       [0.00037366, 0.00037366, 0.00037366, ..., 0.00037366, 0.00037366,\n",
       "        0.00037366],\n",
       "       ...,\n",
       "       [0.00037366, 0.00037366, 0.00037366, ..., 0.        , 0.        ,\n",
       "        0.        ],\n",
       "       [0.00037366, 0.00037366, 0.00037366, ..., 0.        , 0.        ,\n",
       "        0.        ],\n",
       "       [0.00037366, 0.00037366, 0.00037366, ..., 0.        , 0.        ,\n",
       "        0.        ]], dtype=float32)"
      ]
     },
     "execution_count": 118,
     "metadata": {},
     "output_type": "execute_result"
    }
   ],
   "source": [
    "output_vals"
   ]
  },
  {
   "cell_type": "code",
   "execution_count": 119,
   "metadata": {
    "ExecuteTime": {
     "end_time": "2018-06-05T00:39:46.387215Z",
     "start_time": "2018-06-05T00:39:46.385097Z"
    },
    "collapsed": true
   },
   "outputs": [],
   "source": [
    "from matplotlib.patches import Rectangle\n",
    "from matplotlib.collections import PatchCollection"
   ]
  },
  {
   "cell_type": "code",
   "execution_count": 121,
   "metadata": {
    "ExecuteTime": {
     "end_time": "2018-06-05T00:41:38.565840Z",
     "start_time": "2018-06-05T00:41:36.827063Z"
    }
   },
   "outputs": [
    {
     "data": {
      "image/png": "[encoded data removed]",
      "text/plain": [
       "<matplotlib.figure.Figure at 0x7f15782a5128>"
      ]
     },
     "metadata": {},
     "output_type": "display_data"
    }
   ],
   "source": [
    "fig = plt.figure(figsize=(20,20))\n",
    "ax = fig.add_subplot(1,1,1)\n",
    "plt.imshow(image, cmap='gray', alpha=1.0)\n",
    "boxes = []\n",
    "for row in range(output_vals.shape[0]):\n",
    "    for col in range(output_vals.shape[1]):\n",
    "        if output_vals[row,col] > 0.95:\n",
    "            boxes.append(Rectangle((col,row), 15, 15, color='red', alpha=0.5))\n",
    "\n",
    "pc = PatchCollection(boxes, alpha=1.0, facecolor='None', edgecolor='red')\n",
    "ax.add_collection(pc)\n",
    "plt.colorbar()\n",
    "plt.show()"
   ]
  },
  {
   "cell_type": "markdown",
   "metadata": {},
   "source": []
  },
  {
   "cell_type": "code",
   "execution_count": 122,
   "metadata": {
    "ExecuteTime": {
     "end_time": "2018-06-05T17:12:05.822701Z",
     "start_time": "2018-06-05T17:12:05.814111Z"
    }
   },
   "outputs": [
    {
     "data": {
      "text/plain": [
       "[<keras.layers.normalization.BatchNormalization at 0x7f1937a92b00>,\n",
       " <keras.layers.convolutional.Conv2D at 0x7f1937a92e80>,\n",
       " <keras.layers.convolutional.Conv2D at 0x7f1937a92e48>,\n",
       " <keras.layers.pooling.MaxPooling2D at 0x7f1937a7f048>,\n",
       " <keras.layers.core.Dropout at 0x7f1934723e80>,\n",
       " <keras.layers.normalization.BatchNormalization at 0x7f1934723cf8>,\n",
       " <keras.layers.convolutional.Conv2D at 0x7f19347600b8>,\n",
       " <keras.layers.core.Flatten at 0x7f1934711be0>,\n",
       " <keras.layers.core.Dense at 0x7f19347386d8>]"
      ]
     },
     "execution_count": 122,
     "metadata": {},
     "output_type": "execute_result"
    }
   ],
   "source": [
    "model.layers"
   ]
  },
  {
   "cell_type": "code",
   "execution_count": null,
   "metadata": {
    "collapsed": true
   },
   "outputs": [],
   "source": []
  }
 ],
 "metadata": {
  "kernelspec": {
   "display_name": "Python [conda env:py36]",
   "language": "python",
   "name": "conda-env-py36-py"
  },
  "language_info": {
   "codemirror_mode": {
    "name": "ipython",
    "version": 3
   },
   "file_extension": ".py",
   "mimetype": "text/x-python",
   "name": "python",
   "nbconvert_exporter": "python",
   "pygments_lexer": "ipython3",
   "version": "3.6.4"
  },
  "latex_envs": {
   "LaTeX_envs_menu_present": true,
   "autoclose": false,
   "autocomplete": true,
   "bibliofile": "biblio.bib",
   "cite_by": "apalike",
   "current_citInitial": 1,
   "eqLabelWithNumbers": true,
   "eqNumInitial": 1,
   "hotkeys": {
    "equation": "Ctrl-E",
    "itemize": "Ctrl-I"
   },
   "labels_anchors": false,
   "latex_user_defs": false,
   "report_style_numbering": false,
   "user_envs_cfg": false
  },
  "toc": {
   "nav_menu": {},
   "number_sections": true,
   "sideBar": true,
   "skip_h1_title": false,
   "title_cell": "Table of Contents",
   "title_sidebar": "Contents",
   "toc_cell": false,
   "toc_position": {
    "height": "calc(100% - 180px)",
    "left": "10px",
    "top": "150px",
    "width": "371px"
   },
   "toc_section_display": true,
   "toc_window_display": true
  },
  "varInspector": {
   "cols": {
    "lenName": 16,
    "lenType": 16,
    "lenVar": 40
   },
   "kernels_config": {
    "python": {
     "delete_cmd_postfix": "",
     "delete_cmd_prefix": "del ",
     "library": "var_list.py",
     "varRefreshCmd": "print(var_dic_list())"
    },
    "r": {
     "delete_cmd_postfix": ") ",
     "delete_cmd_prefix": "rm(",
     "library": "var_list.r",
     "varRefreshCmd": "cat(var_dic_list()) "
    }
   },
   "types_to_exclude": [
    "module",
    "function",
    "builtin_function_or_method",
    "instance",
    "_Feature"
   ],
   "window_display": false
  }
 },
 "nbformat": 4,
 "nbformat_minor": 2
}
